{
 "cells": [
  {
   "cell_type": "markdown",
   "id": "44380953",
   "metadata": {},
   "source": [
    "문제1_1113: 문자열 \"The cat in the hat.\"에서 \"cat\"과 \"hat\"을 찾으세요."
   ]
  },
  {
   "cell_type": "code",
   "execution_count": 7,
   "id": "3f9c5508",
   "metadata": {},
   "outputs": [
    {
     "name": "stdout",
     "output_type": "stream",
     "text": [
      "['cat', 'hat']\n"
     ]
    }
   ],
   "source": [
    "import re\n",
    "\n",
    "print(re.findall(\"[ch]*at\",\"The cat in the hat.\"))"
   ]
  },
  {
   "cell_type": "markdown",
   "id": "b1f2234a",
   "metadata": {},
   "source": [
    "문제2_1113: 문자열 \"bat, cat, rat, fat\"에서 \"bat\", \"cat\", \"rat\"을 찾되, \"fat\"은 제외하세요."
   ]
  },
  {
   "cell_type": "code",
   "execution_count": 9,
   "id": "28363e39",
   "metadata": {},
   "outputs": [
    {
     "name": "stdout",
     "output_type": "stream",
     "text": [
      "['bat', 'cat', 'rat']\n"
     ]
    }
   ],
   "source": [
    "import re\n",
    "\n",
    "print(re.findall(\"[bcr]+at\",\"bat, cat, rat, fat\"))"
   ]
  },
  {
   "cell_type": "code",
   "execution_count": 17,
   "id": "7f003b94",
   "metadata": {},
   "outputs": [
    {
     "name": "stdout",
     "output_type": "stream",
     "text": [
      "['bat', 'cat', 'rat']\n"
     ]
    }
   ],
   "source": [
    "import re\n",
    "\n",
    "p2 = r\"[^f]at\" # 대괄호 안에 ^이 있으면 제외한다는 말\n",
    "t2 = \"bat, cat, rat, fat\"\n",
    "s2 = re.findall(p2, t2)\n",
    "\n",
    "print(s2)"
   ]
  },
  {
   "cell_type": "markdown",
   "id": "b215f6ae",
   "metadata": {},
   "source": [
    "문제3_1113: 문자열 \"123 abc 456\"에서 모든 숫자를 찾으세요."
   ]
  },
  {
   "cell_type": "code",
   "execution_count": 2,
   "id": "0605bb75",
   "metadata": {},
   "outputs": [
    {
     "name": "stdout",
     "output_type": "stream",
     "text": [
      "['1', '2', '3', '4', '5', '6']\n"
     ]
    }
   ],
   "source": [
    "import re\n",
    "\n",
    "t = \"123 abc 456\"\n",
    "print(re.findall('\\d', t)) #  원래는 r을 앞에 붙여야 한다. 역슬래시 있을 때는 그래서 밑에것으로 참조."
   ]
  },
  {
   "cell_type": "code",
   "execution_count": 18,
   "id": "fe124607",
   "metadata": {},
   "outputs": [
    {
     "name": "stdout",
     "output_type": "stream",
     "text": [
      "['123', '456']\n"
     ]
    }
   ],
   "source": [
    "import re\n",
    "\n",
    "text = '123 abc 456'\n",
    "pattern = r'\\d+'\n",
    "matches = re.findall(pattern, text)\n",
    "print(matches) #['123','456']"
   ]
  },
  {
   "cell_type": "markdown",
   "id": "6720bc23",
   "metadata": {},
   "source": [
    "문제4_1113: 문자열 \"Hello, my name is John.\"에서 첫 단어 \"Hello\"를 찾으세요."
   ]
  },
  {
   "cell_type": "code",
   "execution_count": 13,
   "id": "618b0048",
   "metadata": {},
   "outputs": [
    {
     "name": "stdout",
     "output_type": "stream",
     "text": [
      "Hello\n"
     ]
    }
   ],
   "source": [
    "import re\n",
    "\n",
    "print(re.match(\"Hello\",\"Hello, my name is John.\").group())"
   ]
  },
  {
   "cell_type": "code",
   "execution_count": 19,
   "id": "cd05401a",
   "metadata": {
    "scrolled": true
   },
   "outputs": [
    {
     "name": "stdout",
     "output_type": "stream",
     "text": [
      "Hello\n"
     ]
    }
   ],
   "source": [
    "import re\n",
    "\n",
    "text = \"Hello, my name is John.\"\n",
    "pattern = r\"^Hello\"\n",
    "matches = re.match(pattern, text)\n",
    "if matches:\n",
    "    print(matches.group()) # 'Hello'"
   ]
  },
  {
   "cell_type": "markdown",
   "id": "2aa2a912",
   "metadata": {},
   "source": [
    "문제5_1113: 문자열 \"The car parked in the garage #42.\"에서 문장의 마지막 단어 \"garage\"를 찾으세요."
   ]
  },
  {
   "cell_type": "code",
   "execution_count": 21,
   "id": "b9e9b320",
   "metadata": {},
   "outputs": [
    {
     "name": "stdout",
     "output_type": "stream",
     "text": [
      "garage\n"
     ]
    }
   ],
   "source": [
    "print(re.search(\"garage\",\"The car parked in the garage #42.\").group())"
   ]
  },
  {
   "cell_type": "code",
   "execution_count": null,
   "id": "f72286c5",
   "metadata": {},
   "outputs": [],
   "source": [
    "문제6_1113: 이메일 주소 찾기\n",
    "- 조건: user@example.com과 같은 이메일 주소를 찾는 정규 표현식을 작성하세요."
   ]
  },
  {
   "cell_type": "code",
   "execution_count": 42,
   "id": "4f575089",
   "metadata": {
    "scrolled": true
   },
   "outputs": [
    {
     "name": "stdout",
     "output_type": "stream",
     "text": [
      "user@example.com\n"
     ]
    }
   ],
   "source": [
    "import re\n",
    "email = 'user@example.com'\n",
    "p = r'\\S+@+[a-z]+.com'\n",
    "m = re.match(p,email)\n",
    "print(m.group())\n",
    "\n",
    "\n",
    "#p = r'\\S+.com'"
   ]
  },
  {
   "cell_type": "code",
   "execution_count": 59,
   "id": "abc7a0e5",
   "metadata": {},
   "outputs": [
    {
     "name": "stdout",
     "output_type": "stream",
     "text": [
      "['user@example.com']\n"
     ]
    }
   ],
   "source": [
    "import re \n",
    "text = \"user@example.com\"\n",
    "pattern = r\"[a-zA-Z0-9._+-]+@[a-zA-Z0-9]+\\.[a-zA-Z]{2,4}\"\n",
    "email = re.findall(pattern, text)\n",
    "print(email)"
   ]
  },
  {
   "cell_type": "code",
   "execution_count": 61,
   "id": "bc6271ce",
   "metadata": {},
   "outputs": [
    {
     "name": "stdout",
     "output_type": "stream",
     "text": [
      "['user@example.com']\n"
     ]
    }
   ],
   "source": [
    "import re \n",
    "text = \"user@example.com\"\n",
    "pattern = r\"\\b[a-zA-Z0-9._+-]+@[a-zA-Z0-9]+\\.[a-zA-Z]{2,4}\\b\" # \\b는 블락을 주는 것 다른 것이 안들어가게.\n",
    "email = re.findall(pattern, text)\n",
    "print(email)"
   ]
  },
  {
   "cell_type": "code",
   "execution_count": null,
   "id": "20225859",
   "metadata": {},
   "outputs": [],
   "source": [
    "문제7_1113: 전화번호 검증\n",
    "- 조건: 010-1234-5678 형태의 대한민국 전화번호와 일치하는 정규 표현식을 작성하세요."
   ]
  },
  {
   "cell_type": "code",
   "execution_count": 43,
   "id": "d6192f71",
   "metadata": {},
   "outputs": [
    {
     "name": "stdout",
     "output_type": "stream",
     "text": [
      "010-1234-5678\n"
     ]
    }
   ],
   "source": [
    "phone = '010-1234-5678'\n",
    "p = r'\\d{3}-\\d{4}-\\d{4}'\n",
    "m = re.match(p,phone)\n",
    "print(m.group())"
   ]
  },
  {
   "cell_type": "code",
   "execution_count": null,
   "id": "98fbd9a5",
   "metadata": {},
   "outputs": [],
   "source": [
    "문제8_1113: 웹사이트 URL 검증\n",
    "- 조건: http://www.example.com 형태의 웹사이트 주소와 일치하는 정규 표현식을 작성하세요."
   ]
  },
  {
   "cell_type": "code",
   "execution_count": 44,
   "id": "dae1d850",
   "metadata": {},
   "outputs": [
    {
     "name": "stdout",
     "output_type": "stream",
     "text": [
      "http://www.example.com\n"
     ]
    }
   ],
   "source": [
    "web = 'http://www.example.com'\n",
    "p = r'http://www.+\\S+.com'\n",
    "m = re.match(p,web)\n",
    "print(m.group())"
   ]
  },
  {
   "cell_type": "code",
   "execution_count": null,
   "id": "cca0d0fe",
   "metadata": {},
   "outputs": [],
   "source": [
    "import re\n",
    "pattern = r'http://www\\.[a-zA-Z0-9]+\\.[a-zA-Z]+'\n",
    "\n",
    "text = 'asdzxv http://www.example.com'\n",
    "\n",
    "print(re.findall(pattern, text))"
   ]
  },
  {
   "cell_type": "code",
   "execution_count": null,
   "id": "39ba73c2",
   "metadata": {},
   "outputs": [],
   "source": [
    "url_pattern = r'http[s]?://www\\.[a-zA-Z0-9-]+\\.[a-zA-Z]+/?' # 강사님이 하신 것."
   ]
  },
  {
   "cell_type": "code",
   "execution_count": 73,
   "id": "e56e0b6d",
   "metadata": {},
   "outputs": [
    {
     "name": "stdout",
     "output_type": "stream",
     "text": [
      "유효한 URL입니다.\n"
     ]
    }
   ],
   "source": [
    "url_example = \"http://www.example.com\"\n",
    "url_pattern = r'http[s]?://www\\.[a-zA-Z0-9-]+\\.[a-zA-Z]+/?'\n",
    "if re.match(url_pattern, url_example):\n",
    "    print(\"유효한 URL입니다.\")\n",
    "else:\n",
    "    print(\"유효하지 않은 URL입니다.\")"
   ]
  },
  {
   "cell_type": "code",
   "execution_count": null,
   "id": "f742f7af",
   "metadata": {},
   "outputs": [],
   "source": [
    "문제9_1113: 날짜 형식 검증\n",
    "- 조건: YYYY-MM-DD 형식의 날짜와 일치하는 정규 표현식을 작성하세요 (예: 2023-11-09)."
   ]
  },
  {
   "cell_type": "code",
   "execution_count": 45,
   "id": "84403fe7",
   "metadata": {},
   "outputs": [
    {
     "name": "stdout",
     "output_type": "stream",
     "text": [
      "2023-11-09\n"
     ]
    }
   ],
   "source": [
    "dateform = '2023-11-09'\n",
    "p = r'\\d{4}-\\d{2}-\\d{2}'\n",
    "m = re.match(p,dateform)\n",
    "print(m.group())"
   ]
  },
  {
   "cell_type": "code",
   "execution_count": null,
   "id": "e4ff0746",
   "metadata": {},
   "outputs": [],
   "source": [
    "문제10_1113: HTML 태그 제거\n",
    "- 조건: <p>Hello World</p>와 같은 HTML 태그를 찾아 제거하는 정규 표현식을 작성하세요."
   ]
  },
  {
   "cell_type": "code",
   "execution_count": null,
   "id": "5774e2bf",
   "metadata": {},
   "outputs": [],
   "source": [
    "p = re.compile(r'\\W+\\w\\W')\n",
    "print(p.sub('', '<p>Hello World</p>'))"
   ]
  },
  {
   "cell_type": "code",
   "execution_count": null,
   "id": "699cf172",
   "metadata": {},
   "outputs": [],
   "source": [
    "html_pattern = r'<[^>]+>'"
   ]
  },
  {
   "cell_type": "markdown",
   "id": "321c5905",
   "metadata": {},
   "source": [
    "문제11_1113: 숫자만 추출\n",
    "- 조건: 문자열에서 숫자만 추출하는 정규 표현식을 작성하세요 (예: abc1234d5e에서 12345 추출)."
   ]
  },
  {
   "cell_type": "code",
   "execution_count": 108,
   "id": "3f3b016b",
   "metadata": {},
   "outputs": [
    {
     "data": {
      "text/plain": [
       "['1', '2', '3', '4', '5']"
      ]
     },
     "execution_count": 108,
     "metadata": {},
     "output_type": "execute_result"
    }
   ],
   "source": [
    "import re\n",
    "text = 'abc1234d5e'\n",
    "re.findall(r'\\d',text)"
   ]
  },
  {
   "cell_type": "code",
   "execution_count": 3,
   "id": "08f2c7a9",
   "metadata": {},
   "outputs": [
    {
     "name": "stdout",
     "output_type": "stream",
     "text": [
      "추출된 숫자: 1 2 3 4 5\n"
     ]
    }
   ],
   "source": [
    "import re\n",
    "string_with_numbers = \"abc1234d5e\"\n",
    "numbers_pattern = r'\\d'\n",
    "numbers = ' '.join(re.findall(numbers_pattern, string_with_numbers))\n",
    "print(f\"추출된 숫자: {numbers}\")"
   ]
  },
  {
   "cell_type": "markdown",
   "id": "92b9751e",
   "metadata": {},
   "source": [
    "문제12_1113: 대문자로 시작하는 단어 찾기\n",
    "- 조건: 각 단어가 대문자로 시작하는 경우와 일치하는 정규 표현식을 작성하세요 (예: Hello World에서 Hello와 World 추출)."
   ]
  },
  {
   "cell_type": "code",
   "execution_count": 18,
   "id": "c44948ff",
   "metadata": {
    "scrolled": true
   },
   "outputs": [
    {
     "data": {
      "text/plain": [
       "['Hello', 'World']"
      ]
     },
     "execution_count": 18,
     "metadata": {},
     "output_type": "execute_result"
    }
   ],
   "source": [
    "import re\n",
    "p = r'\\b[A-Z][a-z]*\\b'\n",
    "text = 'Hello World'\n",
    "re.findall(p, text)"
   ]
  },
  {
   "cell_type": "markdown",
   "id": "66e8fb48",
   "metadata": {},
   "source": [
    "문제13_1113: 이메일 유효성 검사\n",
    "- 조건: 이메일 주소가 유효한 형식인지 검사하는 정규 표현식을 작성하세요. 유효한 이메일 형식은 username@domain.extension과 같습니다."
   ]
  },
  {
   "cell_type": "code",
   "execution_count": 94,
   "id": "fc36670c",
   "metadata": {},
   "outputs": [
    {
     "name": "stdout",
     "output_type": "stream",
     "text": [
      "유효하지 않은 이메일 형식입니다.\n"
     ]
    }
   ],
   "source": [
    "email = 'username@domain.extension'\n",
    "p = r'\\w+@+domain.extension'\n",
    "if re.match(p, email):\n",
    "    print(\"유효한 이메일 형식입니다.\")\n",
    "else:\n",
    "    print(\"유효하지 않은 이메일 형식입니다.\")"
   ]
  },
  {
   "cell_type": "code",
   "execution_count": 26,
   "id": "b993fb0f",
   "metadata": {},
   "outputs": [
    {
     "name": "stdout",
     "output_type": "stream",
     "text": [
      "유효한 이메일 형식입니다.\n"
     ]
    }
   ],
   "source": [
    "import re\n",
    "email_example2 = \"username@domain.extension\"\n",
    "email_pattern2 = r'^[a-zA-Z0-9._%+-]+@[a-zA-Z0-9.-]+\\.[A-Za-z]{2,10}$'\n",
    "if re.match(email_pattern2, email_example2):\n",
    "    print(\"유효한 이메일 형식입니다.\")\n",
    "else:\n",
    "    print(\"유효하지 않은 이메일 형식입니다.\")"
   ]
  },
  {
   "cell_type": "markdown",
   "id": "e06403f3",
   "metadata": {},
   "source": [
    "문제13_1113: IP 주소 검증\n",
    "- 조건: 192.168.1.1과 같은 IPv4 주소와 일치하는 정규 표현식을 작성하세요."
   ]
  },
  {
   "cell_type": "code",
   "execution_count": 21,
   "id": "dfce514e",
   "metadata": {},
   "outputs": [
    {
     "data": {
      "text/plain": [
       "'192.168.1.1'"
      ]
     },
     "execution_count": 21,
     "metadata": {},
     "output_type": "execute_result"
    }
   ],
   "source": [
    "ip = '192.168.1.1'\n",
    "p = r'\\d{3}\\.\\d{3}\\.\\d{1,3}\\.\\d{1,3}'\n",
    "re.match(p,ip).group()\n",
    "\n",
    "# 아하 \\.을 해주지 않으면 192 168 1 1도 부합한 표현식이 된다. .이 메타문자로 인식해버려서 그렇다."
   ]
  },
  {
   "cell_type": "code",
   "execution_count": 23,
   "id": "0aea3812",
   "metadata": {
    "scrolled": true
   },
   "outputs": [
    {
     "data": {
      "text/plain": [
       "{'192.168.1.1': True,\n",
       " '255.255.255.255': True,\n",
       " '0.0.0.0': True,\n",
       " '256.1.1.1': False,\n",
       " '1.1.1.1.1': False,\n",
       " '123.456.78.90': False}"
      ]
     },
     "execution_count": 23,
     "metadata": {},
     "output_type": "execute_result"
    }
   ],
   "source": [
    "import re\n",
    "\n",
    "ip_examples = [\"192.168.1.1\", \"255.255.255.255\", \"0.0.0.0\", \n",
    "               \"256.1.1.1\", \"1.1.1.1.1\", \"123.456.78.90\"]\n",
    "\n",
    "pattern = r'^((25[0-5]|2[0-4]\\d|1\\d{2}|[1-9]?\\d)\\.){3}(25[0-5]|2[0-4]\\d|1\\d{2}|[1-9]?\\d)$'\n",
    "\n",
    "checks = {ip: bool(re.match(pattern, ip)) for ip in ip_examples}\n",
    "checks"
   ]
  },
  {
   "cell_type": "code",
   "execution_count": 25,
   "id": "52ee3fbd",
   "metadata": {},
   "outputs": [
    {
     "name": "stdout",
     "output_type": "stream",
     "text": [
      "유효한 IP 주소입니다.\n"
     ]
    }
   ],
   "source": [
    "ip_example = \"192.168.1.1\"\n",
    "ip_pattern = r'\\b(?:[0-9]{1,3}\\.){3}[0-9]{1,3}\\b' # ?: 는 비캡쳐그룹. 저장을 안한다.\n",
    "if re.match(ip_pattern, ip_example):\n",
    "    print(\"유효한 IP 주소입니다.\")\n",
    "else:\n",
    "    print(\"유효하지 않은 IP 주소입니다.\")"
   ]
  },
  {
   "cell_type": "code",
   "execution_count": null,
   "id": "bfd18c56",
   "metadata": {},
   "outputs": [],
   "source": [
    "ip_example = \"192.168.1.1\"\n",
    "ip_pattern = r'\\b(?:[0-9]{1,3}\\.){3}([0-9]{1,3}\\b') # ?: 는 비캡쳐그룹. 저장을 안한다. 불러와야하거나 관심대상인 부분만 그룹으로 지정해서 저장해서 불러오는 형식이다.\n",
    "if re.match(ip_pattern, ip_example):\n",
    "    print(\"유효한 IP 주소입니다.\")\n",
    "else:\n",
    "    print(\"유효하지 않은 IP 주소입니다.\")\n"
   ]
  },
  {
   "cell_type": "markdown",
   "id": "62fef1e7",
   "metadata": {},
   "source": [
    "문제15_1113: 코드 주석 찾기\n",
    "- 조건: # This is a comment와 같은 파이썬 코드 내의 주석과 일치하는 정규 표현식을 작성하세요."
   ]
  },
  {
   "cell_type": "code",
   "execution_count": 106,
   "id": "bf32cf81",
   "metadata": {},
   "outputs": [
    {
     "data": {
      "text/plain": [
       "'# This is a comment'"
      ]
     },
     "execution_count": 106,
     "metadata": {},
     "output_type": "execute_result"
    }
   ],
   "source": [
    "comment = \"# This is a comment\"\n",
    "p = r'#.*' # .이 모든 문자. *이 0번 이상 반복\n",
    "re.match(p,comment).group()"
   ]
  }
 ],
 "metadata": {
  "kernelspec": {
   "display_name": "Python 3 (ipykernel)",
   "language": "python",
   "name": "python3"
  },
  "language_info": {
   "codemirror_mode": {
    "name": "ipython",
    "version": 3
   },
   "file_extension": ".py",
   "mimetype": "text/x-python",
   "name": "python",
   "nbconvert_exporter": "python",
   "pygments_lexer": "ipython3",
   "version": "3.11.5"
  }
 },
 "nbformat": 4,
 "nbformat_minor": 5
}
