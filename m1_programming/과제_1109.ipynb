{
 "cells": [
  {
   "cell_type": "markdown",
   "id": "947e5dc7",
   "metadata": {},
   "source": [
    "#### [과제1_1109] : 파이썬 오버라이딩, 오버로딩, 다형성의 사례를 만들어 보세요."
   ]
  },
  {
   "cell_type": "code",
   "execution_count": 2,
   "id": "49f246d3",
   "metadata": {},
   "outputs": [
    {
     "name": "stdout",
     "output_type": "stream",
     "text": [
      "안녕! 나는 robobo이야\n",
      "안녕! 나는 roboti이야\n",
      "음식을 가져다 드릴 수 있습니다.\n",
      "물걸레로 청소를합니다.\n",
      "음식을 가져다 드릴 수 있습니다.\n",
      "청소기로 청소를합니다.\n"
     ]
    }
   ],
   "source": [
    "class Robot:\n",
    "\n",
    "    def __init__(self, name):\n",
    "        self.name = name\n",
    "        print(f\"안녕! 나는 {self.name}이야\")\n",
    "    \n",
    "    def helping(self):\n",
    "        print(\"도움을 드릴 수 있습니다.\")\n",
    "\n",
    "class ServingRobot(Robot):\n",
    "    # 오버라이딩\n",
    "    def helping(self):\n",
    "        print(\"음식을 가져다 드릴 수 있습니다.\")\n",
    "    \n",
    "    def move(self, table):\n",
    "        print(f\"{table}번 테이블로 음식을 가져다드렸습니다.\")\n",
    "        \n",
    "class CleaningRobot(Robot):\n",
    "    # 유사 오버로딩\n",
    "    def helping(self, how = \"청소기\"):\n",
    "        print(f\"{how}로 청소를 합니다.\")\n",
    "\n",
    "# 다형성\n",
    "def robot_mode(robot):\n",
    "    robot.helping()\n",
    "\n",
    "# 객체 생성\n",
    "robobo = ServingRobot('robobo')\n",
    "roboti = CleaningRobot('roboti')\n",
    "\n",
    "# 오버라이딩 사용\n",
    "robobo.helping()\n",
    "\n",
    "# 오버로딩 사용\n",
    "roboti.helping('물걸레')\n",
    "\n",
    "# 다형성을 통한 메서드 호출\n",
    "robot_mode(robobo)\n",
    "robot_mode(roboti)"
   ]
  },
  {
   "cell_type": "markdown",
   "id": "7c77cf99",
   "metadata": {},
   "source": [
    "#### [과제2 ~ 6]: 구조지향 방식과 객체지향 방식으로 장식 "
   ]
  },
  {
   "cell_type": "markdown",
   "id": "24e64f3f",
   "metadata": {},
   "source": [
    "#### [과제2_1109]: 은행 계좌 클래스 만들기<br>\n",
    "은행 계좌를 나타내는 BankAccount 클래스를 만들고, 입금, 출금, 잔액 확인 기능을 가지게 하세요. 출금 시 잔액이 부족할 경우 오류 메시지를 출력하는 예외 처리를 포함하세요."
   ]
  },
  {
   "cell_type": "code",
   "execution_count": 10,
   "id": "df2098aa",
   "metadata": {
    "scrolled": false
   },
   "outputs": [
    {
     "name": "stdout",
     "output_type": "stream",
     "text": [
      "안녕하세요. 은행에 오신 것을 환영합니다.\n",
      "입금을 원하시면 1, 출금을 원하시면 2, 잔액 확인을 원하시면 3을 입력하세요 >>2\n",
      "얼마를 인출하실지 금액을 입력하세요 >> 3000\n",
      "출금처리되었습니다. 출금 후 잔액은 22000원 입니다.\n",
      "추가적인 업무를 원하시면 y를 아니면 n을 입력하세요 >> n\n",
      "이용해주셔서 감사합니다.\n"
     ]
    }
   ],
   "source": [
    "#구조지향\n",
    "def deposit (balance, money):\n",
    "    return balance + money\n",
    "\n",
    "def withdrawal (balance, money):\n",
    "    return balance - money\n",
    "\n",
    "def balance_check (balance):\n",
    "    return balance\n",
    "\n",
    "balance = 25000\n",
    "while 1:\n",
    "    mode_select = input(\"안녕하세요. 은행에 오신 것을 환영합니다.\\n입금을 원하시면 1, 출금을 원하시면 2, 잔액 확인을 원하시면 3 을 입력하세요 >>\")\n",
    "    if mode_select == '1':\n",
    "        try:\n",
    "            money_deposit = int(input(\"얼마를 입금하실지 금액을 입력하세요 >> \"))\n",
    "            if money_deposit > 0:\n",
    "                balance = deposit(balance, money_deposit)\n",
    "            else:\n",
    "                print(\"입금 금액이 올바르지 않습니다. 메인메뉴로 돌아갑니다.\")\n",
    "                break\n",
    "            print(f\"입금처리되었습니다. 입금 후 잔액은 {balance}원 입니다.\")\n",
    "        except:\n",
    "            print(\"잘못 입력하셨습니다. 메인 메뉴로 돌아갑니다.\")\n",
    "            continue\n",
    "    elif mode_select == '2': \n",
    "        try:\n",
    "            money_withdrawal = int(input(\"얼마를 인출하실지 금액을 입력하세요 >> \"))\n",
    "            if money_withdrawal > balance:\n",
    "                print(\"출금 금액이 올바르지 않습니다. 메인메뉴로 돌아갑니다.\")\n",
    "                break\n",
    "            balance = withdrawal(balance, money_withdrawal)\n",
    "            print(f\"출금처리되었습니다. 출금 후 잔액은 {balance}원 입니다.\")\n",
    "        except:\n",
    "            print(\"잘못 입력하셨습니다. 메인 메뉴로 돌아갑니다.\")\n",
    "            continue\n",
    "    elif mode_select == '3':\n",
    "        print(f\"잔액은 {balance_check(balance)}입니다.\")\n",
    "    else:\n",
    "        print(\"잘못 입력하셨습니다. 1,2,3 중 하나를 입력해주세요. 메인메뉴로 돌아갑니다.\")\n",
    "        continue\n",
    "    again_select = input(\"추가적인 업무를 원하시면 y를 아니면 n을 입력하세요 >> \")\n",
    "    if again_select == \"y\":\n",
    "        print(\"메인 메뉴로 돌아갑니다.\")\n",
    "    elif again_select ==\"n\":\n",
    "        print(\"이용해주셔서 감사합니다.\")\n",
    "        break\n",
    "    else:\n",
    "        print(\"잘못 입력하셨습니다. 프로그램을 종료합니다. 이용해주셔서 감사합니다.\")\n",
    "        break\n",
    "    "
   ]
  },
  {
   "cell_type": "code",
   "execution_count": 21,
   "id": "9fdbebaa",
   "metadata": {},
   "outputs": [
    {
     "name": "stdout",
     "output_type": "stream",
     "text": [
      "안녕하세요. 은행에 오신 것을 환영합니다.\n",
      "입금을 원하시면 1, 출금을 원하시면 2, 잔액 확인을 원하시면 3, 을 프로그램을 종료하려면 0 을 입력하세요 >>2\n",
      "얼마를 인출하실지 금액을 입력하세요 >> 3000\n",
      "출금 금액이 올바르지 않습니다.\n",
      "메인 화면으로 돌아갑니다.\n",
      "안녕하세요. 은행에 오신 것을 환영합니다.\n",
      "입금을 원하시면 1, 출금을 원하시면 2, 잔액 확인을 원하시면 3, 을 프로그램을 종료하려면 0 을 입력하세요 >>1\n",
      "얼마를 입금하실지 금액을 입력하세요 >> 50000\n",
      "입금처리되었습니다. 입금 후 잔액은 50000원 입니다.\n",
      "메인 화면으로 돌아갑니다.\n",
      "안녕하세요. 은행에 오신 것을 환영합니다.\n",
      "입금을 원하시면 1, 출금을 원하시면 2, 잔액 확인을 원하시면 3, 을 프로그램을 종료하려면 0 을 입력하세요 >>2\n",
      "얼마를 인출하실지 금액을 입력하세요 >> 3000\n",
      "출금처리되었습니다. 출금 후 잔액은 47000원 입니다.\n",
      "메인 화면으로 돌아갑니다.\n",
      "안녕하세요. 은행에 오신 것을 환영합니다.\n",
      "입금을 원하시면 1, 출금을 원하시면 2, 잔액 확인을 원하시면 3, 을 프로그램을 종료하려면 0 을 입력하세요 >>3\n",
      "잔액은 47000입니다.\n",
      "안녕하세요. 은행에 오신 것을 환영합니다.\n",
      "입금을 원하시면 1, 출금을 원하시면 2, 잔액 확인을 원하시면 3, 을 프로그램을 종료하려면 0 을 입력하세요 >>0\n",
      "이용해주셔서 감사합니다.\n"
     ]
    }
   ],
   "source": [
    "# 객체지향\n",
    "class BankAccount:\n",
    "    def __init__(self,name):\n",
    "        self.name = name\n",
    "        self.balance = 0\n",
    "        \n",
    "    def deposit(self):\n",
    "        try:\n",
    "            self.money_deposit = int(input(\"얼마를 입금하실지 금액을 입력하세요 >> \"))\n",
    "            if self.money_deposit > 0:\n",
    "                self.balance += self.money_deposit\n",
    "                print(f\"입금처리되었습니다. 입금 후 잔액은 {self.balance}원 입니다.\")\n",
    "            else:\n",
    "                print(\"입금 금액이 올바르지 않습니다.\")\n",
    "        except:\n",
    "            print(\"잘못 입력하셨습니다.\")\n",
    "    \n",
    "    def withdrawal(self):\n",
    "        try:\n",
    "            self.money_withdrawal = int(input(\"얼마를 인출하실지 금액을 입력하세요 >> \"))\n",
    "            if self.money_withdrawal > self.balance:\n",
    "                print(\"출금 금액이 올바르지 않습니다.\")\n",
    "            else:\n",
    "                self.balance -= self.money_withdrawal\n",
    "                print(f\"출금처리되었습니다. 출금 후 잔액은 {self.balance}원 입니다.\")\n",
    "        except:\n",
    "            print(\"잘못 입력하셨습니다.\")\n",
    "    \n",
    "    def balance_check(self):\n",
    "        return self.balance\n",
    "\n",
    "a = BankAccount('a')\n",
    "\n",
    "while 1:\n",
    "    mode_select = input(\"안녕하세요. 은행에 오신 것을 환영합니다.\\n입금을 원하시면 1, 출금을 원하시면 2, 잔액 확인을 원하시면 3, 을 프로그램을 종료하려면 0 을 입력하세요 >>\")\n",
    "    if mode_select == '1':\n",
    "        a.deposit()\n",
    "        print(\"메인 화면으로 돌아갑니다.\")\n",
    "        continue\n",
    "        \n",
    "    elif mode_select == '2': \n",
    "        a.withdrawal()\n",
    "        print(\"메인 화면으로 돌아갑니다.\")\n",
    "        continue\n",
    "    elif mode_select == '3':\n",
    "        print(f\"잔액은 {a.balance_check()}입니다.\")\n",
    "    elif mode_select == '0':\n",
    "        print(\"이용해주셔서 감사합니다.\")\n",
    "        break\n",
    "    else:\n",
    "        print(\"잘못 입력하셨습니다. 1,2,3,0 중 하나를 입력해주세요. 메인메뉴로 돌아갑니다.\")\n",
    "        continue"
   ]
  },
  {
   "cell_type": "code",
   "execution_count": 17,
   "id": "baba9182",
   "metadata": {
    "scrolled": true
   },
   "outputs": [
    {
     "name": "stdout",
     "output_type": "stream",
     "text": [
      "{'owner': '홍길동', 'balance': 1000}\n",
      "500원이 입금되었습니다.\n",
      "200원이 출금되었습니다.\n",
      "현재 잔액은 1300원입니다.\n"
     ]
    }
   ],
   "source": [
    "def create_account(owner, balance=0):\n",
    "    return {\"owner\": owner, \"balance\": balance}\n",
    "\n",
    "def deposit(account, amount):\n",
    "    if amount > 0:\n",
    "        account['balance'] += amount\n",
    "        print(f\"{amount}원이 입금되었습니다.\")\n",
    "    else:\n",
    "        print(\"금액은 양수여야 합니다.\")\n",
    "\n",
    "def withdraw(account, amount):\n",
    "    if amount > account['balance']:\n",
    "        print(\"잔액이 부족합니다.\")\n",
    "    else:\n",
    "        account['balance'] -= amount\n",
    "        print(f\"{amount}원이 출금되었습니다.\")\n",
    "\n",
    "def get_balance(account):\n",
    "    return f\"현재 잔액은 {account['balance']}원입니다.\"\n",
    "\n",
    "# 사용 예\n",
    "account = create_account(\"홍길동\", 1000)\n",
    "print(account)\n",
    "deposit(account, 500)\n",
    "withdraw(account, 200)\n",
    "print(get_balance(account))"
   ]
  },
  {
   "cell_type": "code",
   "execution_count": 18,
   "id": "04b7dde2",
   "metadata": {},
   "outputs": [
    {
     "name": "stdout",
     "output_type": "stream",
     "text": [
      "500원이 입금되었습니다.\n",
      "200원이 출금되었습니다.\n",
      "현재 잔액은 1300원입니다.\n"
     ]
    }
   ],
   "source": [
    "class BankAccount:\n",
    "    def __init__(self, owner, balance=0):\n",
    "        self.owner = owner\n",
    "        self.balance = balance\n",
    "\n",
    "    def deposit(self, amount):\n",
    "        if amount > 0:\n",
    "            self.balance += amount\n",
    "            print(f\"{amount}원이 입금되었습니다.\")\n",
    "        else:\n",
    "            print(\"금액은 양수여야 합니다.\")\n",
    "\n",
    "    def withdraw(self, amount):\n",
    "        if amount > self.balance:\n",
    "            print(\"잔액이 부족합니다.\")\n",
    "        else:\n",
    "            self.balance -= amount\n",
    "            print(f\"{amount}원이 출금되었습니다.\")\n",
    "\n",
    "    def get_balance(self):\n",
    "        return f\"현재 잔액은 {self.balance}원입니다.\"\n",
    "\n",
    "# 사용 예\n",
    "account = BankAccount(\"홍길동\", 1000)\n",
    "account.deposit(500)\n",
    "account.withdraw(200)\n",
    "print(account.get_balance())"
   ]
  },
  {
   "cell_type": "markdown",
   "id": "94064025",
   "metadata": {},
   "source": [
    "#### [과제3_1109]: 책 클래스 만들기\n",
    "책을 나타내는 Book 클래스를 만들고, 제목, 저자, ISBN, 가격을 속성으로 가지게 하세요. 또한 책의 정보를 출력하는 메서드를 만드세요."
   ]
  },
  {
   "cell_type": "code",
   "execution_count": 23,
   "id": "8172d8bd",
   "metadata": {},
   "outputs": [
    {
     "name": "stdout",
     "output_type": "stream",
     "text": [
      "책 제목: 어린왕자, 저자: 생텍쥐페리, ISBN: 9791186634684, 가격: 15000\n"
     ]
    }
   ],
   "source": [
    "class Book:\n",
    "    def __init__(self, title, author, isbn, price):\n",
    "        self.title = title\n",
    "        self.author = author\n",
    "        self.isbn = isbn\n",
    "        self.price = price\n",
    "        \n",
    "    def print_info(self):\n",
    "        print(f\"책 제목: {self.title}, 저자: {self.author}, ISBN: {self.isbn}, 가격: {self.price}\")\n",
    "\n",
    "little_prince = Book('어린왕자','생텍쥐페리', 9791186634684, 15000)\n",
    "little_prince.print_info()"
   ]
  },
  {
   "cell_type": "code",
   "execution_count": 12,
   "id": "cb422ec1",
   "metadata": {},
   "outputs": [
    {
     "name": "stdout",
     "output_type": "stream",
     "text": [
      "책 제목: 어린왕자, 저자: 생텍쥐페리, ISBN: 9791186634684, 가격: 15000\n"
     ]
    }
   ],
   "source": [
    "def print_info(title, author, isbn, price):\n",
    "    print(f\"책 제목: {title}, 저자: {author}, ISBN: {isbn}, 가격: {price}\")\n",
    "\n",
    "print_info('어린왕자','생텍쥐페리', 9791186634684, 15000)"
   ]
  },
  {
   "cell_type": "markdown",
   "id": "afacda87",
   "metadata": {},
   "source": [
    "#### [과제4_1109]: 도형 계산 클래스 만들기\n",
    "Rectangle 및 Circle 클래스를 만들고 각각 너비, 높이, 반지름을 속성으로 가지게 하세요. 각 클래스에 면적을 계산하는 메서드를 추가하고, 두 도형의 면적을 비교하는 외부 함수를 작성하세요."
   ]
  },
  {
   "cell_type": "code",
   "execution_count": 16,
   "id": "db539b39",
   "metadata": {},
   "outputs": [
    {
     "name": "stdout",
     "output_type": "stream",
     "text": [
      "20\n",
      "circle이 rectangle보다 더 큽니다.\n"
     ]
    }
   ],
   "source": [
    "import math\n",
    "class Circle:\n",
    "    def __init__(self, radius):\n",
    "        self.radius = radius\n",
    "        self.area = 0\n",
    "    \n",
    "    def cal_area(self):\n",
    "        self.area = math.pi * self.radius * self.radius\n",
    "        return self.area\n",
    "    \n",
    "class Rectangle:\n",
    "    def __init__(self, width, height):\n",
    "        self.width = width\n",
    "        self.height = height\n",
    "        self.area = 0\n",
    "    \n",
    "    def cal_area(self):\n",
    "        self.area = self.width * self.height\n",
    "        return self.area\n",
    "\n",
    "def compare(circle,rectangle):\n",
    "    c.area = circle.cal_area()\n",
    "    r.area = rectangle.cal_area()\n",
    "    if c.area > r.area:\n",
    "        print(\"circle이 rectangle의 면적 보다 더 큽니다.\")\n",
    "    elif c.area < r.area:\n",
    "        print(\"rectangle이 circle의 면적 보다 더 큽니다.\")\n",
    "    else:\n",
    "        print(\"circle과 rectangle의 면적이 같습니다.\")\n",
    "        \n",
    "c1 = Circle(4)\n",
    "r1 = Rectangle(4,5)\n",
    "print(r1.cal_area())\n",
    "compare(c1,r1)"
   ]
  },
  {
   "cell_type": "code",
   "execution_count": null,
   "id": "b07820ac",
   "metadata": {},
   "outputs": [],
   "source": [
    "import math\n",
    "\n",
    "def circle_area(radius):\n",
    "    area = math.pi * radius * radius\n",
    "    return area\n",
    "\n",
    "def rectangle_area(width, height):\n",
    "    area = width * height\n",
    "    return area\n",
    "\n",
    "def compare(c_area,r_area):\n",
    "    if c_area > r_area:\n",
    "        print(\"circle이 rectangle의 면적 보다 더 큽니다.\")\n",
    "    elif c_area < r_area:\n",
    "        print(\"rectangle이 circle의 면적 보다 더 큽니다.\")\n",
    "    else:\n",
    "        print(\"circle과 rectangle의 면적이 같습니다.\")\n",
    "        "
   ]
  },
  {
   "cell_type": "markdown",
   "id": "840087af",
   "metadata": {},
   "source": [
    "#### [과제5_1109]: 차량 클래스 만들기\n",
    "Vehicle 클래스를 만들고, 이를 상속받아 Car와 Truck 클래스를 만드세요. 각 차량에는 제조사, 모델, 연료 타입 속성이 있어야 하고, 각 클래스에 고유한 메서드를 추가하세요 (예: Car에는 honk 메서드, Truck에는 load_cargo 메서드)."
   ]
  },
  {
   "cell_type": "code",
   "execution_count": 5,
   "id": "99947b51",
   "metadata": {},
   "outputs": [
    {
     "name": "stdout",
     "output_type": "stream",
     "text": [
      "제조사: BMW, 모델: X7, 연료 타입: 휘발유\n",
      "제조사: 현대, 모델: PorterII, 연료 타입: 디젤\n",
      "BMW\n",
      "빵빵\n",
      "짐을 실었습니다.\n"
     ]
    }
   ],
   "source": [
    "class Vehicle:\n",
    "    def __init__(self, manufacturer, model, fuel):\n",
    "        self.manufacturer = manufacturer\n",
    "        self.model = model\n",
    "        self.fuel = fuel\n",
    "        print(f\"제조사: {self.manufacturer}, 모델: {self.model}, 연료 타입: {fuel}\")\n",
    "\n",
    "class Car(Vehicle):\n",
    "    def honk (self):\n",
    "        print(\"빵빵\")\n",
    "\n",
    "class Truck(Vehicle):\n",
    "    def load_cargo(self):\n",
    "        print(\"짐을 실었습니다.\")\n",
    "\n",
    "car_a = Car('BMW','X7','휘발유')\n",
    "truck_a = Truck('현대','PorterII','디젤')\n",
    "print(car_a.manufacturer)\n",
    "car_a.honk()\n",
    "truck_a.load_cargo()"
   ]
  },
  {
   "cell_type": "markdown",
   "id": "cde2bdb3",
   "metadata": {},
   "source": [
    "#### [과제6_1109]: 학생과 교수 클래스 만들기\n",
    "Person 클래스를 만들고 이를 상속받아 Student와 Professor 클래스를 구현하세요. Person 클래스에는 이름과 나이가 있어야 하고, Student 클래스에는 학번과 전공, Professor 클래스에는 직원번호와 연구분야를 추가하세요. 각 클래스에 적합한 메서드도 추가해보세요."
   ]
  },
  {
   "cell_type": "code",
   "execution_count": 5,
   "id": "b40e4d07",
   "metadata": {},
   "outputs": [
    {
     "name": "stdout",
     "output_type": "stream",
     "text": [
      "Alice 학생은 경제학 공부를 합니다.\n",
      "Chris 교수님은 통계 연구를 합니다.\n"
     ]
    }
   ],
   "source": [
    "class Person:\n",
    "    def __init__(self, name, age):\n",
    "        self.name = name\n",
    "        self.age = age\n",
    "        \n",
    "class Student(Person):\n",
    "    def __init__(self, name, age, student_no, major):\n",
    "        super().__init__(name, age)\n",
    "        self.student_no = student_no\n",
    "        self.major = major\n",
    "    \n",
    "    def studying(self):\n",
    "        print(f\"{self.name} 학생은 {self.major} 공부를 합니다.\")\n",
    "        \n",
    "class Professor(Person):\n",
    "    \n",
    "    def __init__(self, name, age, employee_no, research):\n",
    "        super().__init__(name, age)\n",
    "        self.employee_no = employee_no\n",
    "        self.research = research\n",
    "    \n",
    "    def researching(self):\n",
    "        print(f\"{self.name} 교수님은 {self.research} 연구를 합니다.\")\n",
    "\n",
    "alice = Student('Alice',23, 35803, '경제학')\n",
    "chris = Professor('Chris',45, 57823, '통계')\n",
    "alice.studying()\n",
    "chris.researching()\n",
    "    "
   ]
  },
  {
   "cell_type": "code",
   "execution_count": 2,
   "id": "029957b7",
   "metadata": {},
   "outputs": [
    {
     "name": "stdout",
     "output_type": "stream",
     "text": [
      "***** [ 학생 정보 확인 ] ******\n",
      "  이름 : 강하나\n",
      "  나이 : 25\n",
      "  학번 : 07230123\n",
      "  전공 : 정보통신\n",
      "\n",
      "***** [ 교수 정보 확인 ] *****\n",
      "  이    름 : 김교수\n",
      "  나    이 : 52\n",
      "  직원번호 : 20190723032\n",
      "  연구분야 : 정보통신\n"
     ]
    }
   ],
   "source": [
    "class Person:\n",
    "    def __init__(self, name, age):\n",
    "        self.name = name\n",
    "        self.age = age\n",
    "\n",
    "    \n",
    "class Student(Person):\n",
    "    def __init__(self, name, age, number, major):      # 상속받고자 하는 변수들도 입력받을 수 있게 추가 후\n",
    "        super().__init__(name, age)                          # Person 클래스의 생성자 호출하여 초기화 해야 함.\n",
    "        self.number = number\n",
    "        self.major = major\n",
    "        \n",
    "    def viewInfo(self):\n",
    "        print(\"***** [ 학생 정보 확인 ] ******\")\n",
    "        print(f\"  이름 : {self.name}\")\n",
    "        print(f\"  나이 : {self.age}\")\n",
    "        print(f\"  학번 : {self.number}\")\n",
    "        print(f\"  전공 : {self.major}\")\n",
    "\n",
    "\n",
    "    \n",
    "class Professor(Person):\n",
    "    def __init__(self, name, age, number, major):      # 상속받고자 하는 변수들도 입력받을 수 있게 추가 후\n",
    "        super().__init__(name, age)                          # Person 클래스의 생성자 호출하여 초기화 해야 함.\n",
    "        self.number = number\n",
    "        self.major = major\n",
    "        \n",
    "    def viewInfo(self):\n",
    "        print(\"***** [ 교수 정보 확인 ] *****\")\n",
    "        print(f\"  이    름 : {self.name}\")\n",
    "        print(f\"  나    이 : {self.age}\")\n",
    "        print(f\"  직원번호 : {self.number}\")\n",
    "        print(f\"  연구분야 : {self.major}\")\n",
    "    \n",
    "\n",
    "student = Student(\"강하나\", 25, \"07230123\", \"정보통신\")\n",
    "student.viewInfo()\n",
    "\n",
    "print()\n",
    "professor = Professor(\"김교수\", 52, \"20190723032\", \"정보통신\")\n",
    "professor.viewInfo()"
   ]
  }
 ],
 "metadata": {
  "kernelspec": {
   "display_name": "Python 3 (ipykernel)",
   "language": "python",
   "name": "python3"
  },
  "language_info": {
   "codemirror_mode": {
    "name": "ipython",
    "version": 3
   },
   "file_extension": ".py",
   "mimetype": "text/x-python",
   "name": "python",
   "nbconvert_exporter": "python",
   "pygments_lexer": "ipython3",
   "version": "3.11.5"
  }
 },
 "nbformat": 4,
 "nbformat_minor": 5
}
