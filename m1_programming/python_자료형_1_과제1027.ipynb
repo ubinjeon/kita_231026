{
 "cells": [
  {
   "cell_type": "markdown",
   "metadata": {},
   "source": [
    "#### [과제1] 다른 타입의 숫자 2개를 입력받아 큰 수를 출력하세요."
   ]
  },
  {
   "cell_type": "code",
   "execution_count": 22,
   "metadata": {},
   "outputs": [
    {
     "name": "stdout",
     "output_type": "stream",
     "text": [
      "첫번째 숫자를 입력하세요.5\n",
      "두번째 숫자를 입력하세요.5\n",
      "큰 수가 없습니다.\n"
     ]
    }
   ],
   "source": [
    "num1 = int(input(\"첫번째 숫자를 입력하세요.\"))\n",
    "num2 = int(input(\"두번째 숫자를 입력하세요.\"))\n",
    "msg = \"\"\n",
    "if num1>num2:\n",
    "    msg = num1\n",
    "elif num2>num1:\n",
    "    msg = num2\n",
    "else:\n",
    "    msg = \"큰 수가 없습니다.\"\n",
    "print(msg)"
   ]
  },
  {
   "cell_type": "markdown",
   "metadata": {},
   "source": [
    "#### [과제2] 아래와 같이 출력할 수 있는 string을 만드세요."
   ]
  },
  {
   "cell_type": "code",
   "execution_count": 24,
   "metadata": {},
   "outputs": [
    {
     "name": "stdout",
     "output_type": "stream",
     "text": [
      "\"what a wonderful world!\"\n",
      "he said loudly\n"
     ]
    }
   ],
   "source": [
    "#\"what a wonderful world!\"\n",
    "#he said loudly\n",
    "string = \"\\\"what a wonderful world!\\\"\\nhe said loudly\"\n",
    "print(string)"
   ]
  },
  {
   "cell_type": "code",
   "execution_count": 23,
   "metadata": {},
   "outputs": [
    {
     "name": "stdout",
     "output_type": "stream",
     "text": [
      "\n",
      "\"what a wonderful world!\"\n",
      "he said loudly\n",
      "\n"
     ]
    }
   ],
   "source": [
    "string = \"\"\"\n",
    "\"what a wonderful world!\"\n",
    "he said loudly\n",
    "\"\"\"\n",
    "print(string)"
   ]
  },
  {
   "cell_type": "markdown",
   "metadata": {},
   "source": [
    "#### [과제3] list1에서 다음을 수행하세요\n",
    "- 33을 출력\n",
    "- 82를 리스트에 추가\n",
    "- 87의 인덱스 구하기\n",
    "- 인덱스 3에서 10까지의 값을 출력하고 list2에 저장한 후 내림차순 정렬하기 - 도전\n",
    "- 39를 11로 변경\n",
    "- [69,45,58] 출력\n",
    "- 짝수 인덱스의 값으로 구성된 리스트 출력하기\n",
    "- 인덱스가 가장 큰수를 삭제하기\n",
    "- 인덱스 3, 5인 값으로 4칙 연산하기\n",
    "\n",
    "list1 = [58, 45, 69, 19,  4, 87, 29, 13, 39, 15, 54, [8, 33, 11], 27, 49, 63, 98, 22, 82]"
   ]
  },
  {
   "cell_type": "code",
   "execution_count": 25,
   "metadata": {},
   "outputs": [
    {
     "name": "stdout",
     "output_type": "stream",
     "text": [
      "33\n"
     ]
    }
   ],
   "source": [
    "#33을 출력\n",
    "list1 = [58, 45, 69, 19, 4, 87, 29, 13, 39, 15, 54, [8, 33, 11], 27, 49, 63, 98, 22, 82]\n",
    "print(list1[11][1])"
   ]
  },
  {
   "cell_type": "code",
   "execution_count": 30,
   "metadata": {},
   "outputs": [
    {
     "name": "stdout",
     "output_type": "stream",
     "text": [
      "[58, 45, 69, 19, 4, 87, 29, 13, 39, 15, 54, [8, 33, 11], 27, 49, 63, 98, 22, 82, 82]\n",
      "[58, 45, 69, 19, 4, 87, 29, 13, 39, 15, 54, [8, 33, 11], 27, 49, 63, 98, 22, 82, 82, 82]\n",
      "[58, 45, 69, 19, 4, 87, 29, 13, 39, 15, 54, [8, 33, 11], 27, 49, 63, 98, 22, 82, 82, 82, 82]\n"
     ]
    }
   ],
   "source": [
    "#82를 리스트에 추가\n",
    "list1 = [58, 45, 69, 19, 4, 87, 29, 13, 39, 15, 54, [8, 33, 11], 27, 49, 63, 98, 22, 82]\n",
    "list1.append(82)\n",
    "print(list1)\n",
    "list1.insert(list1[len(list1)-1],82)\n",
    "print(list1)\n",
    "list1.extend([82])\n",
    "print(list1)"
   ]
  },
  {
   "cell_type": "code",
   "execution_count": 31,
   "metadata": {},
   "outputs": [
    {
     "data": {
      "text/plain": [
       "5"
      ]
     },
     "execution_count": 31,
     "metadata": {},
     "output_type": "execute_result"
    }
   ],
   "source": [
    "#87의 인덱스 구하기\n",
    "list1 = [58, 45, 69, 19, 4, 87, 29, 13, 39, 15, 54, [8, 33, 11], 27, 49, 63, 98, 22, 82]\n",
    "list1.index(87)"
   ]
  },
  {
   "cell_type": "code",
   "execution_count": 37,
   "metadata": {},
   "outputs": [
    {
     "name": "stdout",
     "output_type": "stream",
     "text": [
      "[87, 54, 39, 29, 19, 15, 13, 4]\n"
     ]
    }
   ],
   "source": [
    "#인덱스 3에서 10까지의 값을 출력하고 list2에 저장한 후 내림차순 정렬하기 - 도전\n",
    "list1 = [58, 45, 69, 19, 4, 87, 29, 13, 39, 15, 54, [8, 33, 11], 27, 49, 63, 98, 22, 82]\n",
    "#list2 = list1[3:11]\n",
    "#list2.sort(reverse = True)\n",
    "#print(list2)\n",
    "list2 = sorted(list1[3:11], reverse = True)\n",
    "print(list2)\n"
   ]
  },
  {
   "cell_type": "code",
   "execution_count": 38,
   "metadata": {},
   "outputs": [
    {
     "name": "stdout",
     "output_type": "stream",
     "text": [
      "[58, 45, 69, 19, 4, 87, 29, 13, 11, 15, 54, [8, 33, 11], 27, 49, 63, 98, 22, 82]\n"
     ]
    }
   ],
   "source": [
    "#39를 11로 변경\n",
    "list1 = [58, 45, 69, 19, 4, 87, 29, 13, 39, 15, 54, [8, 33, 11], 27, 49, 63, 98, 22, 82]\n",
    "list1[list1.index(39)] = 11\n",
    "print(list1)"
   ]
  },
  {
   "cell_type": "code",
   "execution_count": 39,
   "metadata": {},
   "outputs": [
    {
     "name": "stdout",
     "output_type": "stream",
     "text": [
      "[69, 45, 58]\n"
     ]
    }
   ],
   "source": [
    "#[69,45,58] 출력\n",
    "list1 = [58, 45, 69, 19, 4, 87, 29, 13, 39, 15, 54, [8, 33, 11], 27, 49, 63, 98, 22, 82]\n",
    "print(list1[2::-1])"
   ]
  },
  {
   "cell_type": "code",
   "execution_count": 40,
   "metadata": {},
   "outputs": [
    {
     "name": "stdout",
     "output_type": "stream",
     "text": [
      "[58, 69, 4, 29, 39, 54, 27, 63, 22]\n"
     ]
    }
   ],
   "source": [
    "#짝수 인덱스의 값으로 구성된 리스트 출력하기\n",
    "list1 = [58, 45, 69, 19, 4, 87, 29, 13, 39, 15, 54, [8, 33, 11], 27, 49, 63, 98, 22, 82]\n",
    "print(list1[::2])"
   ]
  },
  {
   "cell_type": "code",
   "execution_count": 41,
   "metadata": {},
   "outputs": [
    {
     "name": "stdout",
     "output_type": "stream",
     "text": [
      "[58, 45, 69, 19, 4, 87, 29, 13, 39, 15, 54, [8, 33, 11], 27, 49, 63, 98, 22]\n"
     ]
    }
   ],
   "source": [
    "#인덱스가 가장 큰수를 삭제하기\n",
    "list1 = [58, 45, 69, 19, 4, 87, 29, 13, 39, 15, 54, [8, 33, 11], 27, 49, 63, 98, 22, 82]\n",
    "del list1[-1]\n",
    "print(list1)"
   ]
  },
  {
   "cell_type": "code",
   "execution_count": 42,
   "metadata": {},
   "outputs": [
    {
     "name": "stdout",
     "output_type": "stream",
     "text": [
      "106\n",
      "-68\n",
      "1653\n",
      "0.21839080459770116\n",
      "0\n",
      "19\n",
      "1784692024660069843400588950089820848205359612815447007430736376271289420707549395931423768497105136108949665339\n"
     ]
    }
   ],
   "source": [
    "#인덱스 3, 5인 값으로 4칙 연산하기\n",
    "list1 = [58, 45, 69, 19, 4, 87, 29, 13, 39, 15, 54, [8, 33, 11], 27, 49, 63, 98, 22, 82]\n",
    "a = list1[3]\n",
    "b = list1[5]\n",
    "print(a+b)\n",
    "print(a-b)\n",
    "print(a*b)\n",
    "print(a/b)\n",
    "print(a//b)\n",
    "print(a%b)\n",
    "print(a**b)"
   ]
  },
  {
   "cell_type": "code",
   "execution_count": 1,
   "metadata": {},
   "outputs": [
    {
     "name": "stdout",
     "output_type": "stream",
     "text": [
      "33\n",
      "[58, 45, 69, 19, 4, 87, 29, 13, 39, 15, 54, [8, 33, 11], 27, 49, 63, 98, 22, 82, 82]\n",
      "5\n",
      "[87, 54, 39, 29, 19, 15, 13, 4]\n",
      "[58, 45, 69, 19, 4, 87, 29, 13, 11, 15, 54, [8, 33, 11], 27, 49, 63, 98, 22, 82]\n"
     ]
    }
   ],
   "source": [
    "#33을 출력\n",
    "list1 = [58, 45, 69, 19, 4, 87, 29, 13, 39, 15, 54, [8, 33, 11], 27, 49, 63, 98, 22, 82]\n",
    "print(list1[11][1])\n",
    "\n",
    "#82를 리스트에 추가\n",
    "list1.append(82)\n",
    "print(list1)\n",
    "\n",
    "#87의 인덱스 구하기\n",
    "print(list1.index(87))\n",
    "\n",
    "#인덱스 3에서 10까지의 값을 출력하고 list2에 저장한 후 내림차순 정렬하기 - 도전\n",
    "list1 = [58, 45, 69, 19, 4, 87, 29, 13, 39, 15, 54, [8, 33, 11], 27, 49, 63, 98, 22, 82]\n",
    "list2 = sorted(list1[3:11],reverse=True)\n",
    "print(list2)\n",
    "    \n",
    "#39를 11로 변경\n",
    "list1[8] = 11\n",
    "print(list1)\n"
   ]
  },
  {
   "cell_type": "code",
   "execution_count": 105,
   "metadata": {},
   "outputs": [
    {
     "name": "stdout",
     "output_type": "stream",
     "text": [
      "[0, 0, 0]\n",
      "[69, 45, 58]\n"
     ]
    }
   ],
   "source": [
    "#[69,45,58] 출력\n",
    "list1 = [58, 45, 69, 19, 4, 87, 29, 13, 39, 15, 54, [8, 33, 11], 27, 49, 63, 98, 22, 82]\n",
    "temp = [0]*3\n",
    "for i in range (3):\n",
    "    temp[i] = list1[2-i]\n",
    "print(temp)"
   ]
  },
  {
   "cell_type": "code",
   "execution_count": 91,
   "metadata": {},
   "outputs": [
    {
     "name": "stdout",
     "output_type": "stream",
     "text": [
      "[58, 69, 4, 29, 39, 54, 27, 63, 22]\n"
     ]
    }
   ],
   "source": [
    "#짝수 인덱스의 값으로 구성된 리스트 출력하기\n",
    "list1 = [58, 45, 69, 19, 4, 87, 29, 13, 39, 15, 54, [8, 33, 11], 27, 49, 63, 98, 22, 82]\n",
    "temp = []\n",
    "for i in range (0,len(list1),2):\n",
    "    temp.append(list1[i])\n",
    "print(temp)"
   ]
  },
  {
   "cell_type": "code",
   "execution_count": 93,
   "metadata": {},
   "outputs": [
    {
     "name": "stdout",
     "output_type": "stream",
     "text": [
      "[58, 45, 69, 19, 4, 87, 29, 13, 39, 15, 54, [8, 33, 11], 27, 49, 63, 98, 22]\n"
     ]
    }
   ],
   "source": [
    "#인덱스가 가장 큰수를 삭제하기\n",
    "list1 = [58, 45, 69, 19, 4, 87, 29, 13, 39, 15, 54, [8, 33, 11], 27, 49, 63, 98, 22, 82]\n",
    "del list1[-1]\n",
    "print(list1)"
   ]
  },
  {
   "cell_type": "code",
   "execution_count": 100,
   "metadata": {
    "scrolled": true
   },
   "outputs": [
    {
     "name": "stdout",
     "output_type": "stream",
     "text": [
      "106\n",
      "-68\n",
      "1653\n",
      "0.21839080459770116\n",
      "0\n",
      "19\n",
      "1784692024660069843400588950089820848205359612815447007430736376271289420707549395931423768497105136108949665339\n"
     ]
    }
   ],
   "source": [
    "#인덱스 3, 5인 값으로 4칙 연산하기\n",
    "list1 = [58, 45, 69, 19, 4, 87, 29, 13, 39, 15, 54, [8, 33, 11], 27, 49, 63, 98, 22, 82]\n",
    "a = list1[3]\n",
    "b = list1[5]\n",
    "\n",
    "print(a+b)\n",
    "print(a-b)\n",
    "print(a*b)\n",
    "print(a/b)\n",
    "print(a//b)\n",
    "print(a%b)\n",
    "print(a**b)"
   ]
  },
  {
   "cell_type": "markdown",
   "metadata": {},
   "source": [
    "#### [과제4] 아래 list를 sort, sorted를 이용해서 올림차순, 내림차순으로 각각 출력하세요."
   ]
  },
  {
   "cell_type": "code",
   "execution_count": 2,
   "metadata": {},
   "outputs": [],
   "source": [
    "list1 = [5, 8, 11, 14, 17, 20, 23, 26, 29, 32, 35, 38, 41, 44, 47, 3, 5, 7, 9, 11, 13, 15, 17]"
   ]
  },
  {
   "cell_type": "code",
   "execution_count": 44,
   "metadata": {},
   "outputs": [
    {
     "name": "stdout",
     "output_type": "stream",
     "text": [
      "[3, 5, 5, 7, 8, 9, 11, 11, 13, 14, 15, 17, 17, 20, 23, 26, 29, 32, 35, 38, 41, 44, 47]\n",
      "[47, 44, 41, 38, 35, 32, 29, 26, 23, 20, 17, 17, 15, 14, 13, 11, 11, 9, 8, 7, 5, 5, 3]\n",
      "[3, 5, 5, 7, 8, 9, 11, 11, 13, 14, 15, 17, 17, 20, 23, 26, 29, 32, 35, 38, 41, 44, 47]\n",
      "[47, 44, 41, 38, 35, 32, 29, 26, 23, 20, 17, 17, 15, 14, 13, 11, 11, 9, 8, 7, 5, 5, 3]\n"
     ]
    }
   ],
   "source": [
    "list1 = [5, 8, 11, 14, 17, 20, 23, 26, 29, 32, 35, 38, 41, 44, 47, 3, 5, 7, 9, 11, 13, 15, 17]\n",
    "list2 = sorted(list1)\n",
    "print(list2)\n",
    "list3 = sorted(list1, reverse = True)\n",
    "print(list3)\n",
    "list1.sort()\n",
    "print(list1)\n",
    "list1.sort(reverse = True)\n",
    "print(list1)"
   ]
  },
  {
   "cell_type": "code",
   "execution_count": 7,
   "metadata": {},
   "outputs": [
    {
     "name": "stdout",
     "output_type": "stream",
     "text": [
      "[3, 5, 5, 7, 8, 9, 11, 11, 13, 14, 15, 17, 17, 20, 23, 26, 29, 32, 35, 38, 41, 44, 47]\n",
      "[47, 44, 41, 38, 35, 32, 29, 26, 23, 20, 17, 17, 15, 14, 13, 11, 11, 9, 8, 7, 5, 5, 3]\n",
      "[3, 5, 5, 7, 8, 9, 11, 11, 13, 14, 15, 17, 17, 20, 23, 26, 29, 32, 35, 38, 41, 44, 47]\n",
      "[47, 44, 41, 38, 35, 32, 29, 26, 23, 20, 17, 17, 15, 14, 13, 11, 11, 9, 8, 7, 5, 5, 3]\n"
     ]
    }
   ],
   "source": [
    "list1 = [5, 8, 11, 14, 17, 20, 23, 26, 29, 32, 35, 38, 41, 44, 47, 3, 5, 7, 9, 11, 13, 15, 17]\n",
    "\n",
    "list1.sort()\n",
    "print(list1)\n",
    "list1.sort(reverse=True)\n",
    "print(list1)\n",
    "\n",
    "list1 = [5, 8, 11, 14, 17, 20, 23, 26, 29, 32, 35, 38, 41, 44, 47, 3, 5, 7, 9, 11, 13, 15, 17]\n",
    "\n",
    "list2 = sorted(list1)\n",
    "print(list2)\n",
    "list3 = sorted(list1,reverse = True)\n",
    "print(list3)"
   ]
  },
  {
   "cell_type": "markdown",
   "metadata": {},
   "source": [
    "#### [과제5] 복합 대입연산자를 이용해서 4칙연산을 수행하세요"
   ]
  },
  {
   "cell_type": "code",
   "execution_count": 10,
   "metadata": {},
   "outputs": [
    {
     "name": "stdout",
     "output_type": "stream",
     "text": [
      "20\n",
      "10\n",
      "100\n",
      "10\n"
     ]
    }
   ],
   "source": [
    "num = 10\n",
    "num+= 10\n",
    "print(num)\n",
    "num-=10\n",
    "print(num)\n",
    "num*=10\n",
    "print(num)\n",
    "num//=10\n",
    "print(num)"
   ]
  },
  {
   "cell_type": "markdown",
   "metadata": {},
   "source": [
    "#### [과제6] 다음 과제를 수행하세요.\n",
    "- 사용자로부터 텍스트를 입력 받는다.\n",
    "- 문장을 단어 단위로 분리\n",
    "- 단어의 빈도수를 저장할 딕셔너리를 생성\n",
    "- 각 단어의 빈도 수를 계산(for 문 / if else문)\n",
    "- 결과 출력"
   ]
  },
  {
   "cell_type": "code",
   "execution_count": 17,
   "metadata": {},
   "outputs": [
    {
     "name": "stdout",
     "output_type": "stream",
     "text": [
      "텍스트를 입력하세요. : 고객과 주문 엔터티 관계를 살펴보자. 3명의 손님의 가게에 들어왔다. 하지만 2명의 손님만 주문을 시킬 경우도 있다.  주문은 꼭 손님에 의해서 수행이 되지만, 손님은 주문을 시킬수도 있고 안 시킬수도 있다.  이처럼 주문은 손님에의해 수행이 될수도 있고 안 될수도 있어서 선택참여 관계이고 주문된 항목은 꼭 손님에 의해서 수행이 되어져야 하므로 필수참여 관계이다. \n",
      "['고객과', '주문', '엔터티', '관계를', '살펴보자.', '3명의', '손님의', '가게에', '들어왔다.', '하지만', '2명의', '손님만', '주문을', '시킬', '경우도', '있다.', '주문은', '꼭', '손님에', '의해서', '수행이', '되지만,', '손님은', '주문을', '시킬수도', '있고', '안', '시킬수도', '있다.', '이처럼', '주문은', '손님에의해', '수행이', '될수도', '있고', '안', '될수도', '있어서', '선택참여', '관계이고', '주문된', '항목은', '꼭', '손님에', '의해서', '수행이', '되어져야', '하므로', '필수참여', '관계이다.']\n",
      "{'고객과': 1, '주문': 1, '엔터티': 1, '관계를': 1, '살펴보자.': 1, '3명의': 1, '손님의': 1, '가게에': 1, '들어왔다.': 1, '하지만': 1, '2명의': 1, '손님만': 1, '주문을': 2, '시킬': 1, '경우도': 1, '있다.': 2, '주문은': 2, '꼭': 2, '손님에': 2, '의해서': 2, '수행이': 3, '되지만,': 1, '손님은': 1, '시킬수도': 2, '있고': 2, '안': 2, '이처럼': 1, '손님에의해': 1, '될수도': 2, '있어서': 1, '선택참여': 1, '관계이고': 1, '주문된': 1, '항목은': 1, '되어져야': 1, '하므로': 1, '필수참여': 1, '관계이다.': 1}\n"
     ]
    }
   ],
   "source": [
    "text1=input(\"텍스트를 입력하세요. : \")\n",
    "words_list=text1.split()\n",
    "print(words_list)\n",
    "word_frequency = {}\n",
    "for word in words_list:\n",
    "    if word in word_frequency:\n",
    "        word_frequency[word] += 1\n",
    "    else:\n",
    "        word_frequency[word] = 1\n",
    "print(word_frequency)"
   ]
  }
 ],
 "metadata": {
  "kernelspec": {
   "display_name": "Python 3 (ipykernel)",
   "language": "python",
   "name": "python3"
  },
  "language_info": {
   "codemirror_mode": {
    "name": "ipython",
    "version": 3
   },
   "file_extension": ".py",
   "mimetype": "text/x-python",
   "name": "python",
   "nbconvert_exporter": "python",
   "pygments_lexer": "ipython3",
   "version": "3.11.5"
  }
 },
 "nbformat": 4,
 "nbformat_minor": 4
}
