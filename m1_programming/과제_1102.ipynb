{
 "cells": [
  {
   "cell_type": "markdown",
   "id": "38ee055d",
   "metadata": {},
   "source": [
    "#### [과제1_1102]: 실행 가능한 숫자를 문자열 ('5+5') 입력으로 받아 문자열을 실행한 결과값을 출력하세요."
   ]
  },
  {
   "cell_type": "code",
   "execution_count": 30,
   "id": "2d9c2b6c",
   "metadata": {},
   "outputs": [
    {
     "name": "stdout",
     "output_type": "stream",
     "text": [
      "연산을 입력하세요.: 10*8/5\n",
      "16.0\n"
     ]
    }
   ],
   "source": [
    "print(eval(input('연산을 입력하세요.: ')))"
   ]
  },
  {
   "cell_type": "code",
   "execution_count": 41,
   "id": "e20b0a36",
   "metadata": {
    "scrolled": true
   },
   "outputs": [
    {
     "name": "stdout",
     "output_type": "stream",
     "text": [
      "5+5 : 5+5\n",
      "10\n"
     ]
    }
   ],
   "source": [
    "num = input('5+5 : ')\n",
    "maths = ['+','-','/','*']\n",
    "math = {'+':lambda a,b:a+b,'-':lambda a,b:a-b,'/':lambda a,b:a/b,'*':lambda a,b:a*b}\n",
    "\n",
    "num_list = list(num)\n",
    "for i in num_list:\n",
    "    if i in maths:\n",
    "        num = num.split(i)\n",
    "        print(math[i](int(num[0]),int(num[1])))"
   ]
  },
  {
   "cell_type": "markdown",
   "id": "ddb2676b",
   "metadata": {},
   "source": [
    "#### [과제2_1102]: enumerate와 f-string을 사용해서 특정 리스트에서 원하는 형태로 출력하세요. (인덱스와 내용을 믹스하여)"
   ]
  },
  {
   "cell_type": "code",
   "execution_count": 5,
   "id": "eded1064",
   "metadata": {},
   "outputs": [
    {
     "name": "stdout",
     "output_type": "stream",
     "text": [
      "내가 제일 좋아하는 과일 순서\n",
      "1번째 사과\n",
      "2번째 배\n",
      "3번째 샤인머스캣\n",
      "4번째 키위\n",
      "5번째 망고\n",
      "6번째 귤\n",
      "7번째 수박\n"
     ]
    }
   ],
   "source": [
    "list1 = ['사과','배','샤인머스캣','키위','망고','귤','수박']\n",
    "print('내가 제일 좋아하는 과일 순서')\n",
    "for i, fruit in enumerate (list1):\n",
    "    print(f'{i+1}번째 {fruit}')"
   ]
  },
  {
   "cell_type": "markdown",
   "id": "e217f13b",
   "metadata": {},
   "source": [
    "#### [과제3_1102] : 내장함수를 이용해서 list = [0,1,2,3,4,5,6]에서 2를 삭제 후 출력하세요.(3가지 방법)"
   ]
  },
  {
   "cell_type": "code",
   "execution_count": 27,
   "id": "cb3bf04e",
   "metadata": {},
   "outputs": [
    {
     "name": "stdout",
     "output_type": "stream",
     "text": [
      "[0, 1, 3, 4, 5, 6]\n",
      "[0, 1, 3, 4, 5, 6]\n",
      "[0, 1, 3, 4, 5, 6]\n"
     ]
    }
   ],
   "source": [
    "#1번째 방법\n",
    "list1 = [0,1,2,3,4,5,6]\n",
    "del list1[2]\n",
    "print(list1)\n",
    "\n",
    "#2번째 방법\n",
    "list1 = [0,1,2,3,4,5,6]\n",
    "list1.remove(2)\n",
    "print(list1)\n",
    "\n",
    "#3번째 방법\n",
    "list1 = [0,1,2,3,4,5,6]\n",
    "list1.pop(2)\n",
    "print(list1)"
   ]
  },
  {
   "cell_type": "markdown",
   "id": "0b93e868",
   "metadata": {},
   "source": [
    "#### [과제4_1102] :  내장함수를 이용해서 list = [0,1,2,3,4,5,6]에서 모든 원소를 삭제 후 출력하세요."
   ]
  },
  {
   "cell_type": "code",
   "execution_count": 5,
   "id": "46ca45af",
   "metadata": {
    "scrolled": true
   },
   "outputs": [
    {
     "name": "stdout",
     "output_type": "stream",
     "text": [
      "[]\n"
     ]
    }
   ],
   "source": [
    "list2 = [0,1,2,3,4,5,6]\n",
    "list2.clear()\n",
    "print(list2)"
   ]
  },
  {
   "cell_type": "code",
   "execution_count": 42,
   "id": "aa0917cb",
   "metadata": {},
   "outputs": [
    {
     "name": "stdout",
     "output_type": "stream",
     "text": [
      "[]\n"
     ]
    }
   ],
   "source": [
    "my_list = [0, 1, 2, 3, 4, 5, 6]\n",
    "del my_list[:] #끝에서 끝까지는 :로 하면 된다.\n",
    "print(my_list)"
   ]
  },
  {
   "cell_type": "markdown",
   "id": "761645c0",
   "metadata": {},
   "source": [
    "#### [과제5_1102] :  람다함수와 적합한 내장함수를 사용하여 아래와 같이 출력하세요\n",
    "\n",
    "[1,2,3,4,5] -> [1,4,9,16,25]\n",
    "\n",
    "[1,2,3,4,5] -> [1,2]"
   ]
  },
  {
   "cell_type": "code",
   "execution_count": 10,
   "id": "14fe5442",
   "metadata": {
    "scrolled": true
   },
   "outputs": [
    {
     "name": "stdout",
     "output_type": "stream",
     "text": [
      "[1, 4, 9, 16, 25]\n",
      "[1, 2]\n"
     ]
    }
   ],
   "source": [
    "list3 = [1,2,3,4,5]\n",
    "sqr = map(lambda x: x*x, list3)\n",
    "print(list(sqr))\n",
    "\n",
    "#del list3[:2]\n",
    "filtered = filter(lambda x: x<3, list3)\n",
    "print(list(filtered))"
   ]
  },
  {
   "cell_type": "markdown",
   "id": "3e8d12e7",
   "metadata": {},
   "source": [
    "#### [과제6_1102]:  [1,-3,2,0,-5,6] 에서 양수만 필터링해서 출력하세요(내장함수, 사용자함수 각각 이용)"
   ]
  },
  {
   "cell_type": "code",
   "execution_count": 50,
   "id": "37adb367",
   "metadata": {},
   "outputs": [
    {
     "name": "stdout",
     "output_type": "stream",
     "text": [
      "[1, 2, 6]\n",
      "[1, 2, 6]\n",
      "[1, 2, 6]\n"
     ]
    }
   ],
   "source": [
    "list4 = [1,-3,2,0,-5,6]\n",
    "#내장함수\n",
    "positive = list(filter(lambda x: x>0, list4))\n",
    "print(positive)\n",
    "\n",
    "#사용자함수\n",
    "def positive_num (a):\n",
    "    result = []\n",
    "    for n in a:\n",
    "        if n >0:\n",
    "            result.append(n)\n",
    "    return result\n",
    "\n",
    "\n",
    "#간편한 for문을 사용해서 리턴한 것.\n",
    "def positive_num2 (a):\n",
    "    result = [n for n in a if n > 0] ###################\n",
    "    return result\n",
    "\n",
    "print(positive_num(list4))\n",
    "print(positive_num2(list4))"
   ]
  },
  {
   "cell_type": "markdown",
   "id": "4dbb1b6f",
   "metadata": {},
   "source": [
    "#### [과제7_1102] : 내장함수를 이용하여 동일한 개수로 이루어진 자료형을 화살표 좌측에서 우측으로 변환하세요\n",
    "\n",
    "[1,2,3],[4,5,6] -> [(1,4),(2,5),(3,6)]\n",
    "\n",
    "[1,2,3],[4,5,6] [7,8,9] -> [(1,4,7),(2,5,8),(3,6,9)]\n",
    "\n",
    "('abc','def') -> [('a','d'),('b','e'),('c','f')]"
   ]
  },
  {
   "cell_type": "code",
   "execution_count": 21,
   "id": "14330a12",
   "metadata": {},
   "outputs": [
    {
     "name": "stdout",
     "output_type": "stream",
     "text": [
      "[(1, 4), (2, 5), (3, 6)]\n",
      "[(1, 4, 7), (2, 5, 8), (3, 6, 9)]\n",
      "[('a', 'd'), ('b', 'e'), ('c', 'f')]\n"
     ]
    }
   ],
   "source": [
    "print(list(zip([1,2,3],[4,5,6])))\n",
    "print(list(zip([1,2,3],[4,5,6],[7,8,9])))\n",
    "print(list(zip('abc','def')))"
   ]
  },
  {
   "cell_type": "markdown",
   "id": "f68b9213",
   "metadata": {},
   "source": [
    "#### [과제8_1102] : 입력으로 들어오는 모든 수의 평균 값을 계산해 주는 함수를 작성한 후 1,2,3을 입력한 결과를 출력하세요."
   ]
  },
  {
   "cell_type": "code",
   "execution_count": 70,
   "id": "c2612d7f",
   "metadata": {},
   "outputs": [
    {
     "name": "stdout",
     "output_type": "stream",
     "text": [
      "평균값을 구할 숫자를 모두 입력해주세요(콤마로 구분): 1,2,3\n",
      "2.0\n"
     ]
    }
   ],
   "source": [
    "def average (*args):\n",
    "    return sum(args)/len(args)\n",
    "\n",
    "\n",
    "def cal_avg(mun):\n",
    "    print(f'합: {eval(mun)}')\n",
    "    print(f\"평균: {eval(mun)/len(mun.split('+')): 0.2f}\")\n",
    "\n",
    "# mun = input('평균값을 구할 숫자를 모두 입력해주세요(콤마로 구분): ')\n",
    "# mun_str = mun.replace(',','+')\n",
    "# print(eval(mun_str)/(mun_str.count('+')+1))\n",
    "\n",
    "def str_average(str):\n",
    "    mun_str = str.replace(',','+')\n",
    "    print(eval(mun_str)/(mun_str.count('+')+1))\n",
    "    \n",
    "mun = input('평균값을 구할 숫자를 모두 입력해주세요(콤마로 구분): ')\n",
    "str_average(mun)"
   ]
  },
  {
   "cell_type": "code",
   "execution_count": null,
   "id": "959bb52c",
   "metadata": {},
   "outputs": [],
   "source": [
    "#용규님 답안\n",
    "def cal_list_avg(avgList):\n",
    "    y = avgList.split(',')\n",
    "    x = [int(i) for i in y]\n",
    "    return sum(x) / len(x)\n",
    "\n",
    "ans = input('평균값을 구할 숫자(콤마로 구분하여 입력): ')\n",
    "print(cal_list_avg(ans))"
   ]
  },
  {
   "cell_type": "markdown",
   "id": "2d5a5a68",
   "metadata": {},
   "source": [
    "#### [과제9_1102]: 동일한 사용자 함수를 만들어서 1 ~ 100의 합과 200 ~ 300의 합을 구하세요."
   ]
  },
  {
   "cell_type": "code",
   "execution_count": 76,
   "id": "1a864785",
   "metadata": {},
   "outputs": [
    {
     "data": {
      "text/plain": [
       "5050"
      ]
     },
     "execution_count": 76,
     "metadata": {},
     "output_type": "execute_result"
    }
   ],
   "source": [
    "def sum_range(start,end):\n",
    "    return sum(range(start,end+1))\n",
    "\n",
    "sum_range(200,300)\n",
    "sum_range(1,100)"
   ]
  },
  {
   "cell_type": "markdown",
   "id": "2e8a101d",
   "metadata": {},
   "source": [
    "#### [과제10_1102] : url에서 쿼리문을 추출하여 출력하세요.\n",
    "\n",
    "url에서 '?'뒤에 표시되는 문자열을 쿼리 문자열이라고 하며 변수=값 사이 &로 구분되어 나열된다.\n",
    "\n",
    "url = 'http://news.naver.com/main/read.nhn?mode=LSD&mid=shm&sid1=105&oid=028&aid=0002334601'"
   ]
  },
  {
   "cell_type": "code",
   "execution_count": null,
   "id": "b9201c5a",
   "metadata": {},
   "outputs": [],
   "source": [
    "출력은 2가지 형태\n",
    "['mode=LSD', 'mid=shm', 'sid1=105', 'oid=028', 'aid=0002334601']\n",
    "mode=LSD\n",
    "mid=shm\n",
    "sid1=105\n",
    "oid=028\n",
    "aid=0002334601"
   ]
  },
  {
   "cell_type": "code",
   "execution_count": 87,
   "id": "e0fdacf2",
   "metadata": {
    "scrolled": false
   },
   "outputs": [
    {
     "name": "stdout",
     "output_type": "stream",
     "text": [
      "['mode=LSD', 'mid=shm', 'sid1=105', 'oid=028', 'aid=0002334601']\n",
      "mode=LSD\n",
      "mid=shm\n",
      "sid1=105\n",
      "oid=028\n",
      "aid=0002334601\n"
     ]
    }
   ],
   "source": [
    "url = 'http://news.naver.com/main/read.nhn?mode=LSD&mid=shm&sid1=105&oid=028&aid=0002334601'\n",
    "\n",
    "query_txt = url.split('?')[1].split('&')\n",
    "\n",
    "print(query_txt)\n",
    "for i in query_txt:\n",
    "    print(i)"
   ]
  },
  {
   "cell_type": "markdown",
   "id": "19195183",
   "metadata": {},
   "source": [
    "#### [과제11_1102] : 영어 이름을 적으면 앞에 글자를 대문자로 바꾸어 주는 프로그램\n",
    "(단 중간에 한칸씩 띄어주어야 함 ex)kim dong wan\n",
    "\n",
    "이름을 영어로 입력하세요.kim dong wan\n",
    "당신의 이름을 바꾸면 Kim Dong Wan 입니다."
   ]
  },
  {
   "cell_type": "code",
   "execution_count": 90,
   "id": "314d5cad",
   "metadata": {},
   "outputs": [
    {
     "name": "stdout",
     "output_type": "stream",
     "text": [
      "이름을 영어로 입력하세요.: noh eun mi\n",
      "당신의 이름을 바꾸면 Noh Eun Mi 입니다.\n"
     ]
    }
   ],
   "source": [
    "name = input(\"이름을 영어로 입력하세요.: \")\n",
    "print(f\"당신의 이름을 바꾸면 {name.title()} 입니다.\")"
   ]
  },
  {
   "cell_type": "markdown",
   "id": "0ea26bb2",
   "metadata": {},
   "source": [
    "#### [과제12_1102] : 문자 코드값 구하기(ord)\n",
    "\n",
    "문자를 1개 입력하세요: a\n",
    "\n",
    "문자: a, 코드값: 97"
   ]
  },
  {
   "cell_type": "code",
   "execution_count": 91,
   "id": "2b2ef302",
   "metadata": {},
   "outputs": [
    {
     "name": "stdout",
     "output_type": "stream",
     "text": [
      "문자를 1개 입력하세요: a\n",
      "문자: a, 코드값: 97\n"
     ]
    }
   ],
   "source": [
    "char_input = input(\"문자를 1개 입력하세요: \")\n",
    "print(f'문자: {char_input}, 코드값: {ord(char_input)}')"
   ]
  },
  {
   "cell_type": "markdown",
   "id": "0f2226e5",
   "metadata": {},
   "source": [
    "#### [과제13_1102] : numbers 내부에 들어 있는 숫자가 몇 번 등장하는지를 출력하는 코드를 작성하세요."
   ]
  },
  {
   "cell_type": "code",
   "execution_count": 95,
   "id": "261735ee",
   "metadata": {
    "scrolled": true
   },
   "outputs": [
    {
     "name": "stdout",
     "output_type": "stream",
     "text": [
      "3: 4번\n",
      "6: 2번\n",
      "5: 2번\n",
      "8: 2번\n",
      "2: 2번\n",
      "9: 2번\n",
      "7: 2번\n",
      "4: 2번\n",
      "18\n"
     ]
    },
    {
     "data": {
      "text/plain": [
       "18"
      ]
     },
     "execution_count": 95,
     "metadata": {},
     "output_type": "execute_result"
    }
   ],
   "source": [
    "numbers = [3,6,3,5,8,2,9,7,4,3,6,3,5,8,2,9,7,4]\n",
    "num_dict = {}\n",
    "\n",
    "for n in numbers:\n",
    "    if n in num_dict:\n",
    "        num_dict[n] += 1\n",
    "    else:\n",
    "        num_dict[n] = 1\n",
    "        \n",
    "for key, value in num_dict.items():\n",
    "    print(f'{key}: {value}번')"
   ]
  },
  {
   "cell_type": "markdown",
   "id": "d298ab79",
   "metadata": {},
   "source": [
    "#### [과제14_1102] :코딩을 한줄로 작성해서 동일한 결과를 출력하세요"
   ]
  },
  {
   "cell_type": "code",
   "execution_count": 97,
   "id": "0cd40293",
   "metadata": {},
   "outputs": [
    {
     "name": "stdout",
     "output_type": "stream",
     "text": [
      "[0, 4, 16, 36, 64, 100, 144, 196, 256, 324]\n"
     ]
    }
   ],
   "source": [
    "list = []\n",
    "for i in range(0,20,2):\n",
    "    list.append(i*i)\n",
    "print(list)"
   ]
  },
  {
   "cell_type": "code",
   "execution_count": 96,
   "id": "82a073a6",
   "metadata": {},
   "outputs": [
    {
     "name": "stdout",
     "output_type": "stream",
     "text": [
      "[0, 4, 16, 36, 64, 100, 144, 196, 256, 324]\n"
     ]
    }
   ],
   "source": [
    "print([i*i for i in range(0,20,2)])"
   ]
  },
  {
   "cell_type": "markdown",
   "id": "167f59ce",
   "metadata": {},
   "source": [
    "#### [과제15_1102] : 반복문으로 팩토리얼을 구하는 사용자 함수를 작성하고 5!, 10!를 구하세요."
   ]
  },
  {
   "cell_type": "code",
   "execution_count": 100,
   "id": "03ec6c81",
   "metadata": {},
   "outputs": [
    {
     "name": "stdout",
     "output_type": "stream",
     "text": [
      "120\n",
      "3628800\n"
     ]
    },
    {
     "data": {
      "text/plain": [
       "3628800"
      ]
     },
     "execution_count": 100,
     "metadata": {},
     "output_type": "execute_result"
    }
   ],
   "source": [
    "def factorial (a):\n",
    "    result = 1\n",
    "    while a > 0:\n",
    "        result *= a\n",
    "        a -= 1\n",
    "    return result\n",
    "\n",
    "print(factorial(5))\n",
    "print(factorial(10))"
   ]
  },
  {
   "cell_type": "markdown",
   "id": "a8099a27",
   "metadata": {},
   "source": [
    "#### [과제16_1102] : list a의 모든 원소를 실수형으로 바꾸어 출력하세요"
   ]
  },
  {
   "cell_type": "code",
   "execution_count": 1,
   "id": "ed691391",
   "metadata": {},
   "outputs": [
    {
     "name": "stdout",
     "output_type": "stream",
     "text": [
      "[1.0, 2.0, 3.0, 4.0, 5.0]\n"
     ]
    }
   ],
   "source": [
    "a = [1,2,3,4,5]\n",
    "\n",
    "print(list(map(lambda x: float(x), a)))"
   ]
  },
  {
   "cell_type": "code",
   "execution_count": 17,
   "id": "e46f4467",
   "metadata": {},
   "outputs": [
    {
     "name": "stdout",
     "output_type": "stream",
     "text": [
      "[1.0, 2.0, 3.0, 4.0, 5.0]\n"
     ]
    }
   ],
   "source": [
    "a = [1,2,3,4,5]\n",
    "a_float = list(map(float,a)) #float 자체가 함수이니깐 mapping을 바로 할 수 있음. map 함수 상당히 유용.\n",
    "\n",
    "print(a_float)"
   ]
  },
  {
   "cell_type": "markdown",
   "id": "4f20f3f2",
   "metadata": {},
   "source": [
    "#### [도전과제17_1102] : 문자열 리스트 states를 정형화하여 아래와 같이 출력하세요.\n",
    "\n",
    "states = ['   Alabama ', 'Georgia!', 'Georgia', 'georgia', 'FlOrIda',\n",
    "          'south   carolina##', 'West virginia?']\n",
    "          \n",
    "[출력]\n",
    "['Alabama',\n",
    " 'Georgia',\n",
    " 'Georgia',\n",
    " 'Georgia',\n",
    " 'Florida',\n",
    " 'South   Carolina',\n",
    " 'West Virginia']"
   ]
  },
  {
   "cell_type": "code",
   "execution_count": 15,
   "id": "48177c9b",
   "metadata": {},
   "outputs": [
    {
     "name": "stdout",
     "output_type": "stream",
     "text": [
      "['Alabama',\n",
      "'Georgia',\n",
      "'Georgia',\n",
      "'Georgia',\n",
      "'Florida',\n",
      "'South Carolina',\n",
      "'West Virginia']\n"
     ]
    }
   ],
   "source": [
    "# [출력]\n",
    "# ['Alabama',\n",
    "#  'Georgia',\n",
    "#  'Georgia',\n",
    "#  'Georgia',\n",
    "#  'Florida',\n",
    "#  'South   Carolina',\n",
    "#  'West Virginia']\n",
    "\n",
    "states = ['   Alabama ', 'Georgia!', 'Georgia', 'georgia', 'FlOrIda',\n",
    "          'south   carolina##', 'West virginia?']\n",
    "\n",
    "#양 옆 스페이스 먼저 지우기\n",
    "n_states = [state.strip() for state in states]\n",
    "\n",
    "result_states = []\n",
    "\n",
    "for state in n_states:\n",
    "    if state.isalpha()==False:\n",
    "        space_index = state.find(' ')\n",
    "        temp_state = list(state)\n",
    "        new_state = \"\"\n",
    "        for i in range(len(temp_state)):\n",
    "            if temp_state[i].isalpha():\n",
    "                new_state += temp_state[i]\n",
    "            if i == space_index:\n",
    "                new_state += temp_state[i]\n",
    "        result_states.append(new_state.title())\n",
    "    else:\n",
    "        result_states.append(state.title())\n",
    "\n",
    "#리스트 형식에 맞게 세로로 출력\n",
    "separate = '\\',\\n\\''\n",
    "separate_result = separate.join(result_states)\n",
    "print(f'[\\'{separate_result}\\']')"
   ]
  },
  {
   "cell_type": "code",
   "execution_count": 18,
   "id": "ebc2719e",
   "metadata": {},
   "outputs": [
    {
     "name": "stdout",
     "output_type": "stream",
     "text": [
      "['Alabama', 'Georgia', 'Georgia', 'Georgia', 'Florida', 'South   Carolina', 'West Virginia']\n"
     ]
    }
   ],
   "source": [
    "states = ['   Alabama ', 'Georgia!', 'Georgia', 'georgia', 'FlOrIda',\n",
    "          'south   carolina##', 'West virginia?']\n",
    "\n",
    "def cleaning(text):\n",
    "    cleaned_text = ''.join([x for x in text if x.isalnum() or x.isspace()])\n",
    "    return cleaned_text\n",
    "\n",
    "f_list = [cleaning(i).strip().title() for i in states]\n",
    "\n",
    "print(f_list)"
   ]
  },
  {
   "cell_type": "code",
   "execution_count": 19,
   "id": "44d20053",
   "metadata": {},
   "outputs": [
    {
     "name": "stdout",
     "output_type": "stream",
     "text": [
      "['Alabama', 'Georgia', 'Georgia', 'Georgia', 'Florida', 'South   Carolina', 'West Virginia']\n"
     ]
    }
   ],
   "source": [
    "print(list(map(lambda x: x.replace('#','').replace('!','').replace('?','').strip().title(), states)))"
   ]
  }
 ],
 "metadata": {
  "kernelspec": {
   "display_name": "Python 3 (ipykernel)",
   "language": "python",
   "name": "python3"
  },
  "language_info": {
   "codemirror_mode": {
    "name": "ipython",
    "version": 3
   },
   "file_extension": ".py",
   "mimetype": "text/x-python",
   "name": "python",
   "nbconvert_exporter": "python",
   "pygments_lexer": "ipython3",
   "version": "3.11.5"
  }
 },
 "nbformat": 4,
 "nbformat_minor": 5
}
