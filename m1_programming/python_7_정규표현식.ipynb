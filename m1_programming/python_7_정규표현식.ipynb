{
 "cells": [
  {
   "cell_type": "markdown",
   "id": "2ce6de81",
   "metadata": {},
   "source": [
    "파이썬에서 정규 표현식(Regular Expressions)은 문자열을 처리할 때 매우 강력하고 유연한 도구\n",
    "\n",
    "기본 개념:\n",
    "- 패턴 매칭 (Pattern Matching): 특정 패턴이 문자열에 존재하는지 확인. 예를 들어, 이메일 주소나 전화번호와 같은 특정 형식을 갖는 문자열을 찾을 때 사용\n",
    "\n",
    "- 메타 문자 (Meta Characters): 정규 표현식의 핵심 요소로, 특별한 의미를 가진 문자들. 예를 들어, ^, $, *, +, ?, {}, [], \\, |, () 등이 있습니다.\n",
    "\n",
    "- 리터럴 (Literal): 일반 텍스트 문자. 특별한 의미 없이 문자 그대로를 의미\n",
    "\n",
    "re 모듈 : 파이썬은 정규표현식을 지원하기 위해 기본으로 제공 -> import해서 쓰면 됨\n",
    "- re.compile의 결과로 리턴되는 객체를 이용하여 그 이후 작업 수행\n",
    "\n",
    "주요 기능:\n",
    "- re.match(pattern, string): 문자열 내에서 시작 부분부터 정규표현식과 일치하는지 확인\n",
    "- re.search(pattern, string): 문자열의 전체를 검색하여 주어진 정규표현식과 일치하는 첫번째 위치를 확인\n",
    "- re.findall(pattern, string): 문자열 내에서 주어진 패턴과 일치하는 모든 부분을 찾아 리스트로 반환\n",
    "- re.finditer(): 정규식과 매치되는 모든 문자열을 반복 가능한 객체로 리턴\n",
    "- re.sub(pattern, repl, string): 문자열 내에서 주어진 패턴과 일치하는 부분을 다른 문자열로 대체\n",
    "- re.compile(pattern): 주어진 패턴을 컴파일하여 재사용 가능한 정규 표현식 객체를 생성"
   ]
  },
  {
   "cell_type": "markdown",
   "id": "70e9976b",
   "metadata": {},
   "source": [
    "re.match에서 반환되는 match 객체는 클래스의 인스턴스\n",
    "- Python의 re 모듈에서 match 객체는 re.Match 클래스의 인스턴스로, 정규 표현식과의 일치에 대한 정보를 담고 있다.\n",
    "\n",
    "- re.Match 클래스의 인스턴스는 다음과 같은 중요한 메소드와 속성을 가지고 있다:\n",
    "  - group(): 일치하는 문자열을 반환. group(0) 또는 group()은 전체 일치를 반환\n",
    "  - start() 및 end(): 일치하는 부분의 시작과 끝 인덱스를 반환.\n",
    "  - span(): 일치하는 부분의 시작과 끝 인덱스를 포함하는 튜플을 반환."
   ]
  },
  {
   "cell_type": "code",
   "execution_count": 4,
   "id": "33b33933",
   "metadata": {},
   "outputs": [
    {
     "name": "stdout",
     "output_type": "stream",
     "text": [
      "apple\n",
      "apple\n",
      "0\n",
      "5\n",
      "(0, 5)\n"
     ]
    }
   ],
   "source": [
    "import re\n",
    "\n",
    "match = re.match('apple','apple pie')\n",
    "print(match.group())\n",
    "print(match.group(0))\n",
    "print(match.start())\n",
    "print(match.end())\n",
    "print(match.span())"
   ]
  },
  {
   "cell_type": "code",
   "execution_count": 12,
   "id": "b7a61593",
   "metadata": {},
   "outputs": [
    {
     "name": "stdout",
     "output_type": "stream",
     "text": [
      "apple\n"
     ]
    }
   ],
   "source": [
    "# 그룹 선택\n",
    "p = r'(apple) pie'\n",
    "t = 'apple pie'\n",
    "\n",
    "match = re.match(p,t)\n",
    "print(match.group(1))"
   ]
  },
  {
   "cell_type": "code",
   "execution_count": 18,
   "id": "edf4f286",
   "metadata": {},
   "outputs": [
    {
     "name": "stdout",
     "output_type": "stream",
     "text": [
      "pie\n"
     ]
    }
   ],
   "source": [
    "# Q. 위의 예제를 수정해서  group(2)를 출력해보세요.\n",
    "p = r'(apple) (pie)'\n",
    "t = 'apple pie'\n",
    "\n",
    "match = re.match(p,t)\n",
    "print(match.group(2))"
   ]
  },
  {
   "cell_type": "code",
   "execution_count": 11,
   "id": "915536d3",
   "metadata": {},
   "outputs": [
    {
     "name": "stdout",
     "output_type": "stream",
     "text": [
      "apple\n",
      "apple\n",
      "6\n",
      "11\n",
      "(6, 11)\n"
     ]
    }
   ],
   "source": [
    "import re\n",
    "\n",
    "search = re.search('apple','sweet apple pie')\n",
    "print(search.group())\n",
    "print(search.group(0))\n",
    "print(search.start())\n",
    "print(search.end())\n",
    "print(search.span())"
   ]
  },
  {
   "cell_type": "code",
   "execution_count": 2,
   "id": "254437ef",
   "metadata": {
    "scrolled": true
   },
   "outputs": [
    {
     "name": "stdout",
     "output_type": "stream",
     "text": [
      "Found an apple!\n",
      "['a', 'a', 'a']\n",
      "red sky and red ocean\n",
      "['e', 'd']\n"
     ]
    }
   ],
   "source": [
    "import re\n",
    "\n",
    "# 검색하기\n",
    "if re.search('apple','apple pie'):\n",
    "    print(\"Found an apple!\")\n",
    "\n",
    "# 모든 일치 항목 찾기\n",
    "print(re.findall('a','ab ac ad')) # 어떤 한 문자와 일치\n",
    "\n",
    "# 문자열 대체하기\n",
    "print(re.sub('blue', 'red', 'blue sky and blue ocean'))\n",
    "\n",
    "# 패턴 컴파일하기\n",
    "pattern = re.compile('[a-e]')\n",
    "print(pattern.findall('hello world'))"
   ]
  },
  {
   "cell_type": "markdown",
   "id": "adf7b91f",
   "metadata": {},
   "source": [
    "#### 정규 표현식의 기본 구성 요소\n",
    "1. 리터럴(Literals): 일반 텍스트 문자(예: a, b, 1, 2)\n",
    "\n",
    "2. 메타 문자(Meta Characters): 특별한 의미를 지닌 문자들 <- 메타문자는 외워야 한다.\n",
    "- `.`: 어떤 한 문자와 일치 (\\n 제외)\n",
    "- ^: 문자열의 시작과 일치\n",
    "- $: 문자열의 끝과 일치\n",
    "- *: 0번 이상 반복되는 경우와 일치\n",
    "- +: 1번 이상 반복되는 경우와 일치\n",
    "- ?: 0번 또는 1번 등장하는 경우와 일치\n",
    "- {m,n}: 최소 m번, 최대 n번 반복 -> {m} 은 m번 반복\n",
    "- []: 문자 집합 중 하나와 일치 (예: [abc]는 a, b, c 중 하나와 일치) -> [0-9] 0에서 9까지 중 하나와 일치 혹은 숫자니깐 \\d로 표현할 수 있음\n",
    "- |: OR 조건 (예: a|b는 a 또는 b)\n",
    "- (...): 그룹화\n",
    "\n",
    "3. 특수 시퀀스(Special Sequences):\n",
    "- \\d: 숫자와 일치\n",
    "- \\D: 숫자가 아닌 문자와 일치\n",
    "- \\s: 공백 문자와 일치 <-즉 \\n \\t 같은 것\n",
    "- \\S: 공백이 아닌 문자와 일치\n",
    "- \\w: 단어 문자(문자, 숫자, 밑줄)와 일치\n",
    "- \\W: 단어 문자가 아닌 것과 일치"
   ]
  },
  {
   "cell_type": "markdown",
   "id": "3c3a1aa6",
   "metadata": {},
   "source": [
    "1. `.` (마침표)\n",
    "- 의미: 어떤 한 문자와 일치(줄바꿈 문자 제외)\n",
    "- 예시:\n",
    "  - 패턴: a.b\n",
    "  - 매칭 예시: \"acb\", \"a*b\", \"a3b\"\n",
    "  - 불일치 예시: \"ab\", \"a\\nb\"\n",
    "2. ^ (캐럿)\n",
    "- 의미: 문자열의 시작과 일치\n",
    "- 예시:\n",
    "  - 패턴: ^Hello\n",
    "  - 매칭 예시: \"Hello world\"\n",
    "  - 불일치 예시: \"world, Hello\"\n",
    "3. \\$ (달러 기호)\n",
    "- 의미: 문자열의 끝과 일치\n",
    "- 예시:\n",
    "  - 패턴: end$\n",
    "  - 매칭 예시: \"It's the end\"\n",
    "  - 불일치 예시: \"end of the story\"\n",
    "4. \\* (별표)\n",
    "- 의미: 앞의 문자가 0번 이상 반복\n",
    "- 예시:\n",
    "  - 패턴: a*b\n",
    "  - 매칭 예시: \"b\", \"ab\", \"aaab\"\n",
    "  - 불일치 예시: \"a\" <-뒤에 b가 없어서\n",
    "5. \\+ (플러스)\n",
    "- 의미: 앞의 문자가 1번 이상 반복\n",
    "- 예시:\n",
    "  - 패턴: a+b\n",
    "  - 매칭 예시: \"ab\", \"aaab\"\n",
    "  - 불일치 예시: \"b\", \"a\" <-b 같은 경우는 앞에 a 가 하나도 없어서 안되는 것.\n",
    "6. ? (물음표)\n",
    "- 의미: 앞의 문자가 0번 또는 1번 등장\n",
    "- 예시:\n",
    "  - 패턴: a?b\n",
    "  - 매칭 예시: \"ab\", \"b\"\n",
    "  - 불일치 예시: \"aab\"\n",
    "7. {m,n} (중괄호)\n",
    "- 의미: 앞의 문자가 최소 m번, 최대 n번 반복\n",
    "- 예시:\n",
    "  - 패턴: a{2,3}\n",
    "  - 매칭 예시: \"aa\", \"aaa\"\n",
    "  - 불일치 예시: \"a\", \"aaaa\"\n",
    "8. `[]` (대괄호)\n",
    "- 의미: 대괄호 안의 문자 중 하나와 일치\n",
    "- 예시:\n",
    "  - 패턴: [abc]\n",
    "  - 매칭 예시: \"a\", \"b\", \"c\"\n",
    "  - 불일치 예시: \"d\"\n",
    "9. | (파이프)\n",
    "- 의미: OR 조건\n",
    "- 예시:\n",
    "  - 패턴: a|b\n",
    "  - 매칭 예시: \"a\", \"b\"\n",
    "  - 불일치 예시: \"c\"\n",
    "10. (...) (괄호)\n",
    "- 의미: 그룹화, 캡처 그룹\n",
    "- 예시:\n",
    "  - 패턴: (a|b)c\n",
    "  - 매칭 예시: \"ac\", \"bc\""
   ]
  },
  {
   "cell_type": "markdown",
   "id": "cfaa5c86",
   "metadata": {},
   "source": [
    "Python에서 로우 스트링\n",
    "- 문자열 앞에 r이나 R을 붙여 정의\n",
    "- 주요 목적은 문자열 내의 백슬래시(\\)를 이스케이프 시퀀스로 처리하지 않도록 하는 것이다.\n",
    "- 예를 들어:\n",
    "    - 일반 문자열: \"\\\\\\d\" (정규 표현식에서 숫자를 의미하는 \\d를 나타내려면 두 개의 백슬래시가 필요)\n",
    "    - 로우 스트링: r\"\\d\" (한 개의 백슬래시만으로도 정규 표현식에서 \\d를 나타낼 수 있음)"
   ]
  },
  {
   "cell_type": "code",
   "execution_count": 19,
   "id": "1d36f57f",
   "metadata": {},
   "outputs": [
    {
     "name": "stdout",
     "output_type": "stream",
     "text": [
      "전체 날짜:  2023-04-30\n",
      "연도:  2023\n",
      "월:  04\n",
      "일:  30\n"
     ]
    }
   ],
   "source": [
    "import re\n",
    "\n",
    "# 정규 표현식 태편: YYYY-MM-DD 형식의 날짜 (예: 2023-04-30)\n",
    "pattern = r'(\\d{4})-(\\d{2})-(\\d{2})' #r은 rowstring 이라는 의미로 이스케이프 문자로서의 기능이 아닌 역슬래시 그대로 쓰려고 쓰임.\n",
    "\n",
    "# 검색할 문자열\n",
    "text = \"오늘의 날짜는 2023-04-30입니다.\"\n",
    "\n",
    "# 패턴 검색\n",
    "match = re.search(pattern, text)\n",
    "\n",
    "# 매치 결과 확인\n",
    "if match:\n",
    "    print(\"전체 날짜: \", match.group()) #전체 매치 ('2023-04-30')\n",
    "    print(\"연도: \", match.group(1)) # 첫 번째 그룹 ('2023')\n",
    "    print(\"월: \", match.group(2)) # 두 번째 그룹('04')\n",
    "    print(\"일: \", match.group(3)) # 세 번째 그룹('30')\n",
    "else:\n",
    "    print(\"매치되는 날짜가 없습니다.\")"
   ]
  },
  {
   "cell_type": "code",
   "execution_count": 22,
   "id": "0f66d17a",
   "metadata": {},
   "outputs": [
    {
     "data": {
      "text/plain": [
       "'python '"
      ]
     },
     "execution_count": 22,
     "metadata": {},
     "output_type": "execute_result"
    }
   ],
   "source": [
    "import re\n",
    "p = re.compile('[a-z]+\\s')\n",
    "m = p.match('python python')\n",
    "m.group()"
   ]
  },
  {
   "cell_type": "code",
   "execution_count": 23,
   "id": "6d699332",
   "metadata": {},
   "outputs": [
    {
     "data": {
      "text/plain": [
       "'python '"
      ]
     },
     "execution_count": 23,
     "metadata": {},
     "output_type": "execute_result"
    }
   ],
   "source": [
    "re.match('[a-z]+\\s','python python').group()"
   ]
  },
  {
   "cell_type": "code",
   "execution_count": 24,
   "id": "c5536e02",
   "metadata": {},
   "outputs": [
    {
     "data": {
      "text/plain": [
       "['python ', 'python ']"
      ]
     },
     "execution_count": 24,
     "metadata": {},
     "output_type": "execute_result"
    }
   ],
   "source": [
    "p.findall('python python ')"
   ]
  },
  {
   "cell_type": "code",
   "execution_count": 25,
   "id": "8026c140",
   "metadata": {},
   "outputs": [
    {
     "name": "stdout",
     "output_type": "stream",
     "text": [
      "None\n"
     ]
    }
   ],
   "source": [
    "m = p.match('3python ')\n",
    "print(m)"
   ]
  },
  {
   "cell_type": "code",
   "execution_count": 26,
   "id": "e557ef08",
   "metadata": {},
   "outputs": [
    {
     "name": "stdout",
     "output_type": "stream",
     "text": [
      "<re.Match object; span=(1, 8), match='python '>\n"
     ]
    }
   ],
   "source": [
    "m = p.search('3python ')\n",
    "print(m)"
   ]
  },
  {
   "cell_type": "code",
   "execution_count": 30,
   "id": "e7b1eb57",
   "metadata": {},
   "outputs": [
    {
     "name": "stdout",
     "output_type": "stream",
     "text": [
      "<re.Match object; span=(1, 6), match='anker'>\n",
      "<re.Match object; span=(0, 6), match='banker'>\n"
     ]
    }
   ],
   "source": [
    "# 문자 클래스 : []\n",
    "pattern = re.compile('[a-z]+')\n",
    "#pattern = re.compile('[a-zA-Z]+') #알파벳 전부다\n",
    "#pattern = re.compile('[a-zA-Z0-9]+') #알파벳 숫자 전부다\n",
    "p1 = pattern.search('Banker')\n",
    "p2 = pattern.search('banker')\n",
    "print(p1)\n",
    "print(p2)"
   ]
  },
  {
   "cell_type": "code",
   "execution_count": 31,
   "id": "0dbe06c7",
   "metadata": {},
   "outputs": [
    {
     "data": {
      "text/plain": [
       "'a'"
      ]
     },
     "execution_count": 31,
     "metadata": {},
     "output_type": "execute_result"
    }
   ],
   "source": [
    "# group() 매치된 문자열을 리턴\n",
    "# Q. '12345abc'에서 'a'만 출력하세요.\n",
    "import re\n",
    "regex = re.compile('[a]')\n",
    "text = '12345abc'\n",
    "m = regex.search(text)\n",
    "m.group()"
   ]
  },
  {
   "cell_type": "code",
   "execution_count": 32,
   "id": "f2d2d018",
   "metadata": {},
   "outputs": [
    {
     "data": {
      "text/plain": [
       "'A'"
      ]
     },
     "execution_count": 32,
     "metadata": {},
     "output_type": "execute_result"
    }
   ],
   "source": [
    "#Q. 'abc12345Abc'에서 'A'만 출력하세요.\n",
    "import re\n",
    "regex = re.compile('[A-Z]')\n",
    "text = 'abc12345Abc'\n",
    "m = regex.search(text)\n",
    "m.group()"
   ]
  },
  {
   "cell_type": "code",
   "execution_count": 34,
   "id": "3c3416b2",
   "metadata": {},
   "outputs": [
    {
     "data": {
      "text/plain": [
       "'아'"
      ]
     },
     "execution_count": 34,
     "metadata": {},
     "output_type": "execute_result"
    }
   ],
   "source": [
    "# Q. 'KOREA 대한민국'에서 대'만 출력하세요.\n",
    "import re\n",
    "regex = re.compile('[가-힣]')\n",
    "text = 'KOREA 아대한민국'\n",
    "m = regex.search(text)\n",
    "m.group()"
   ]
  },
  {
   "cell_type": "code",
   "execution_count": 35,
   "id": "f5a80c6c",
   "metadata": {},
   "outputs": [
    {
     "data": {
      "text/plain": [
       "'122333c'"
      ]
     },
     "execution_count": 35,
     "metadata": {},
     "output_type": "execute_result"
    }
   ],
   "source": [
    "# search는 문자열 전체를 검색하여 정규식과 매칭되는 패턴을 찾는다.\n",
    "# a{2}는 a를 2회 반복하여 사용\n",
    "# Q.'122333c'를 모두 출력하세요.\n",
    "import re\n",
    "regex = re.compile('12{2}3{3}c')\n",
    "text = '122333c'\n",
    "m = regex.search(text)\n",
    "m.group()"
   ]
  },
  {
   "cell_type": "code",
   "execution_count": 36,
   "id": "068bb34c",
   "metadata": {},
   "outputs": [
    {
     "data": {
      "text/plain": [
       "'aaaaBBBcccDDDeee'"
      ]
     },
     "execution_count": 36,
     "metadata": {},
     "output_type": "execute_result"
    }
   ],
   "source": [
    "# Q. 'aaaaBBBcccDDDeee'을 모두 출력하세요.\n",
    "import re\n",
    "regex = re.compile('a{4}B{3}c{3}D{3}e{3}')\n",
    "text = 'aaaaBBBcccDDDeee'\n",
    "m = regex.search(text)\n",
    "m.group()"
   ]
  },
  {
   "cell_type": "code",
   "execution_count": 40,
   "id": "b5f4145c",
   "metadata": {},
   "outputs": [
    {
     "name": "stdout",
     "output_type": "stream",
     "text": [
      "<re.Match object; span=(1, 2), match='C'>\n",
      "<re.Match object; span=(1, 2), match='C'>\n",
      "<re.Match object; span=(2, 3), match='C'>\n"
     ]
    }
   ],
   "source": [
    "# Q. BC, CC, ABC 모두 C가 출력되는 정규 표현식을 ()에 작성하세요.\n",
    "pattern = re.compile('C')\n",
    "text1 = 'BC'\n",
    "text2 = 'CC'\n",
    "text3 = 'ABC'\n",
    "p1 = pattern.search(text1)\n",
    "p2 = pattern.search(text2)\n",
    "p3 = pattern.search(text3)\n",
    "print(p1)\n",
    "print(p2)\n",
    "print(p3)"
   ]
  },
  {
   "cell_type": "code",
   "execution_count": 42,
   "id": "11dea413",
   "metadata": {},
   "outputs": [
    {
     "name": "stdout",
     "output_type": "stream",
     "text": [
      "life\n",
      "is\n",
      "too\n",
      "short\n"
     ]
    }
   ],
   "source": [
    "# finditer는 findall과 동일하지만 그 결과로 반복 가능한 객체(iterator object)를 돌려준다.\n",
    "# 반복 가능한 객체가 포함하는 각각의 요소는 match 객체이다.\n",
    "p = re.compile('[a-z]+')\n",
    "result = p.finditer('life is too short')\n",
    "for r in result: print(r.group())"
   ]
  },
  {
   "cell_type": "code",
   "execution_count": 43,
   "id": "534b19eb",
   "metadata": {},
   "outputs": [
    {
     "data": {
      "text/plain": [
       "['1', '2', '3', '4', '1', '2', '3', '4']"
      ]
     },
     "execution_count": 43,
     "metadata": {},
     "output_type": "execute_result"
    }
   ],
   "source": [
    "# Q. '1234a1234'에서 '1','2','3','4'를 모두 출력하세요.\n",
    "import re\n",
    "regex = re.compile('[1234]')\n",
    "text = '1234a1234'\n",
    "\n",
    "regex.findall(text)"
   ]
  },
  {
   "cell_type": "code",
   "execution_count": 44,
   "id": "bbbdc30d",
   "metadata": {},
   "outputs": [
    {
     "data": {
      "text/plain": [
       "['Python', 'is', 'very', 'good', 'programming', 'language']"
      ]
     },
     "execution_count": 44,
     "metadata": {},
     "output_type": "execute_result"
    }
   ],
   "source": [
    "# Q. ' Python3 is very good programming language!'에서 ['Python', 'is', 'very', 'good', 'programming', 'language']를\n",
    "# 모두 출력하세요.\n",
    "pattern = re.compile('[a-zA-Z]+')\n",
    "pattern.findall(' Python3 is very good programming language!')"
   ]
  },
  {
   "cell_type": "code",
   "execution_count": 45,
   "id": "6e57f756",
   "metadata": {},
   "outputs": [
    {
     "name": "stdout",
     "output_type": "stream",
     "text": [
      "None\n",
      "<re.Match object; span=(0, 3), match='acb'>\n",
      "<re.Match object; span=(0, 6), match='a12?Ab'>\n"
     ]
    }
   ],
   "source": [
    "# Dot(.) 메타 문자는 줄바꿈 문자 (\\n)을 제외한 모든 문자와 매치\n",
    "import re\n",
    "p = re.compile('a.+b')\n",
    "m1 = p.match('a\\nb')\n",
    "m2 = p.match('acb')\n",
    "m3 = p.match('a12?Ab')\n",
    "print(m1)\n",
    "print(m2)\n",
    "print(m3)"
   ]
  },
  {
   "cell_type": "code",
   "execution_count": 47,
   "id": "200b1716",
   "metadata": {},
   "outputs": [
    {
     "name": "stdout",
     "output_type": "stream",
     "text": [
      "<re.Match object; span=(0, 3), match='a\\nb'>\n"
     ]
    }
   ],
   "source": [
    "# re.DOTALL 옵션은 여러 줄로 이루어진 문자열에서 \\n에 상관없이 검색시 사용\n",
    "p = re.compile('a.b', re.DOTALL)\n",
    "m = p.match('a\\nb')\n",
    "print(m)"
   ]
  },
  {
   "cell_type": "code",
   "execution_count": 58,
   "id": "42d3b81c",
   "metadata": {},
   "outputs": [
    {
     "name": "stdout",
     "output_type": "stream",
     "text": [
      "<re.Match object; span=(0, 19), match='what are you doing?'>\n"
     ]
    }
   ],
   "source": [
    "# Q. text에서 what are you doing?만 출력하세요\n",
    "text = 'what are you doing?\\nit is going to be late for school\\nwe need to hurry up'\n",
    "p = re.compile('.*') # 줄바꿈은 되지 않기 때문에 .*는 전부\n",
    "\n",
    "print(p.search(text).group())"
   ]
  },
  {
   "cell_type": "code",
   "execution_count": 59,
   "id": "96f93478",
   "metadata": {},
   "outputs": [
    {
     "name": "stdout",
     "output_type": "stream",
     "text": [
      "what are you doing?\n",
      "it is going to be late for school\n",
      "we need to hurry up\n"
     ]
    }
   ],
   "source": [
    "# Q. text에서 전체문장 모두 출력하세요.\n",
    "text = 'what are you doing?\\nit is going to be late for school\\nwe need to hurry up'\n",
    "p = re.compile('.*', re.DOTALL) \n",
    "print(p.search(text).group())"
   ]
  },
  {
   "cell_type": "code",
   "execution_count": 60,
   "id": "032c4079",
   "metadata": {},
   "outputs": [
    {
     "name": "stdout",
     "output_type": "stream",
     "text": [
      "<re.Match object; span=(0, 6), match='python'>\n",
      "<re.Match object; span=(0, 6), match='Python'>\n",
      "<re.Match object; span=(0, 6), match='PYTHON'>\n"
     ]
    }
   ],
   "source": [
    "# re.IGNORECASE 또는 re.I 옵션은 대소문자 구분 없이 매치를 수행시 사용\n",
    "p = re.compile('[a-z]+',re.I)\n",
    "print(p.match('python'))\n",
    "print(p.match('Python'))\n",
    "print(p.match('PYTHON'))"
   ]
  },
  {
   "cell_type": "code",
   "execution_count": 80,
   "id": "44758538",
   "metadata": {},
   "outputs": [
    {
     "name": "stdout",
     "output_type": "stream",
     "text": [
      "Friend fRiend friEnd FRIEND\n"
     ]
    }
   ],
   "source": [
    "# Q. text에서 대소문자 구분없이 전체문장 모두 출력하세요\n",
    "text = 'Friend fRiend friEnd FRIEND'\n",
    "p = re.compile(r'friend.+',re.I)\n",
    "print(p.match(text).group())"
   ]
  },
  {
   "cell_type": "code",
   "execution_count": 79,
   "id": "fc2f7f27",
   "metadata": {},
   "outputs": [
    {
     "name": "stdout",
     "output_type": "stream",
     "text": [
      "['Friend', 'fRiend', 'friEnd', 'FRIEND']\n"
     ]
    }
   ],
   "source": [
    "# Q. text에서 대소문자 구분없이 전체문장 모두 출력하세요\n",
    "text = 'Friend fRiend friEnd FRIEND'\n",
    "p = re.compile(r'friend',re.I)\n",
    "print(p.findall(text))"
   ]
  },
  {
   "cell_type": "code",
   "execution_count": 81,
   "id": "991d5ee0",
   "metadata": {},
   "outputs": [
    {
     "name": "stdout",
     "output_type": "stream",
     "text": [
      "['python one']\n"
     ]
    }
   ],
   "source": [
    "# python이라는 문자열로 시작하고 그 뒤에 whitespace, 그 뒤에 단어가 오는 경우\n",
    "import re\n",
    "p = re.compile('^python\\s\\w+')\n",
    "\n",
    "data = \"\"\"python one\n",
    "life is too short\n",
    "python two\n",
    "you need python\n",
    "python three\"\"\"\n",
    "print(p.findall(data))"
   ]
  },
  {
   "cell_type": "code",
   "execution_count": 82,
   "id": "a937109f",
   "metadata": {},
   "outputs": [
    {
     "name": "stdout",
     "output_type": "stream",
     "text": [
      "['python one', 'python two', 'python three']\n"
     ]
    }
   ],
   "source": [
    "# re.MULTILINE 또는 re.M옵션으로 ^메타 문자를 각 라인의 처음으로 인식시킴\n",
    "import re\n",
    "p = re.compile(\"^python\\s\\w+\", re.M)\n",
    "\n",
    "data = \"\"\"python one\n",
    "life is too short\n",
    "python two\n",
    "you need python\n",
    "python three\"\"\"\n",
    "print(p.findall(data))"
   ]
  },
  {
   "cell_type": "code",
   "execution_count": 83,
   "id": "392dc39a",
   "metadata": {},
   "outputs": [
    {
     "name": "stdout",
     "output_type": "stream",
     "text": [
      "<re.Match object; span=(0, 4), match='Crow'>\n",
      "\n",
      "<re.Match object; span=(0, 4), match='Life'>\n",
      "None\n",
      "<re.Match object; span=(3, 7), match='Life'>\n"
     ]
    }
   ],
   "source": [
    "# 메타 문자\n",
    "# |(or와 동일한 의미), ^(문자열의 맨처음), $(문자열의 끝과 매치)\n",
    "import re\n",
    "p = re.compile('Crow|Servo')\n",
    "m = p.match('CrowHello')\n",
    "print(m)\n",
    "print()\n",
    "print(re.search('^Life','Life is too short'))\n",
    "print(re.search('^Life$','Life is too short'))\n",
    "print(re.search('Life$','My Life'))"
   ]
  },
  {
   "cell_type": "code",
   "execution_count": 85,
   "id": "b3649518",
   "metadata": {},
   "outputs": [
    {
     "name": "stdout",
     "output_type": "stream",
     "text": [
      "home\n"
     ]
    }
   ],
   "source": [
    "# Q. 'we are going home'에서 home만 출력하세요.\n",
    "text = 'we are going home'\n",
    "print(re.search(r'home$',text).group())"
   ]
  },
  {
   "cell_type": "code",
   "execution_count": 87,
   "id": "397bfa43",
   "metadata": {
    "scrolled": false
   },
   "outputs": [
    {
     "name": "stdout",
     "output_type": "stream",
     "text": [
      "199305\n"
     ]
    }
   ],
   "source": [
    "# Q. '199305, 1923A, a93247'에서 '199305'만 출력하세요.\n",
    "text = '199305, 1923A, a93247'\n",
    "print(re.search(r'\\d{6}',text).group())"
   ]
  },
  {
   "cell_type": "code",
   "execution_count": 89,
   "id": "5efbc974",
   "metadata": {},
   "outputs": [
    {
     "data": {
      "text/plain": [
       "'199305'"
      ]
     },
     "execution_count": 89,
     "metadata": {},
     "output_type": "execute_result"
    }
   ],
   "source": [
    "regrex = re.compile(r'\\d+')\n",
    "mo = regrex.search('199305,1923A,a93247')\n",
    "mo.group()"
   ]
  },
  {
   "cell_type": "code",
   "execution_count": 92,
   "id": "72594c5a",
   "metadata": {},
   "outputs": [
    {
     "data": {
      "text/plain": [
       "['99food234']"
      ]
     },
     "execution_count": 92,
     "metadata": {},
     "output_type": "execute_result"
    }
   ],
   "source": [
    "# Q. '99food234, a93456\\n, a9356ba' 에서 '99food234'만 출력하세요.\n",
    "regex = re.compile(r'^\\w+\\d')\n",
    "regex.findall('99food234, a93456\\n, a9356ba ')"
   ]
  },
  {
   "cell_type": "code",
   "execution_count": 93,
   "id": "b3c494df",
   "metadata": {
    "scrolled": true
   },
   "outputs": [
    {
     "name": "stdout",
     "output_type": "stream",
     "text": [
      "<re.Match object; span=(3, 8), match='class'>\n",
      "None\n",
      "\n",
      "None\n",
      "<re.Match object; span=(6, 11), match='class'>\n"
     ]
    }
   ],
   "source": [
    "# \\b whitespace에 의해 구분\n",
    "# \\B whitespace로 구분된 단어가 아닌 경우에만 매치\n",
    "p = re.compile(r'\\bclass\\b')\n",
    "print(p.search('no class at all'))\n",
    "print(p.search('the declassified algorithm'))\n",
    "print()\n",
    "q = re.compile(r'\\Bclass\\B')\n",
    "print(q.search('no class at all'))\n",
    "print(q.search('the declassified algorithm'))"
   ]
  },
  {
   "cell_type": "code",
   "execution_count": 94,
   "id": "232bac6b",
   "metadata": {},
   "outputs": [
    {
     "name": "stdout",
     "output_type": "stream",
     "text": [
      "중복 중복\n"
     ]
    }
   ],
   "source": [
    "# \\1은 첫 번째 캡처 그룹 ((\\b\\w+))이 매치한 텍스트와 동일한 텍스트를 다시 찾는다.\n",
    "# Capturing Group ((\\b\\w+)): 괄호는 캡처 그룹을 만듭니다. 이 경우 \\b\\w+는 단어 경계로 시작하는 하나 이상의 단어 문자로 이루어진\n",
    "# 시퀀스를 캡처\n",
    "import re\n",
    "\n",
    "pattern = r'(\\b\\w+)\\s+\\1'\n",
    "text = \"이것은 중복 중복 단어입니다.\"\n",
    "\n",
    "match = re.search(pattern, text)\n",
    "\n",
    "if match:\n",
    "    print(match.group())"
   ]
  },
  {
   "cell_type": "code",
   "execution_count": 95,
   "id": "26ca2eac",
   "metadata": {},
   "outputs": [
    {
     "name": "stdout",
     "output_type": "stream",
     "text": [
      "월:  04\n",
      "일:  30\n",
      "2023-04-30\n"
     ]
    }
   ],
   "source": [
    "# 첫 번째 숫자 그룹은 비캡처 그룹 (?:\\d{4})로 설정되어 있어, 매치 결과는 저장되지 않고 '월'과 '일'만 캡처된다.\n",
    "import re\n",
    "\n",
    "pattern = r'(?:\\d{4})-(\\d{2})-(\\d{2})'\n",
    "text = \"오늘의 날짜는 2023-04-30입니다.\"\n",
    "\n",
    "match = re.search(pattern, text)\n",
    "\n",
    "if match:\n",
    "    print(\"월: \", match.group(1)) #'04'\n",
    "    print(\"일: \", match.group(2)) # '30'\n",
    "    print(match.group(0))"
   ]
  },
  {
   "cell_type": "code",
   "execution_count": 96,
   "id": "b0aaa7f0",
   "metadata": {},
   "outputs": [
    {
     "name": "stdout",
     "output_type": "stream",
     "text": [
      "<re.Match object; span=(3, 9), match='ABCDEF'>\n",
      "ABCDEF\n",
      "ABCDEF\n",
      "AB\n",
      "CD\n",
      "EF\n"
     ]
    }
   ],
   "source": [
    "p = re.compile('((AB)(CD)(EF))+')\n",
    "m = p.search('DEFABCDEFDEF OK?')\n",
    "print(m)\n",
    "print(m.group(0))\n",
    "print(m.group(1))\n",
    "print(m.group(2))\n",
    "print(m.group(3))\n",
    "print(m.group(4))"
   ]
  },
  {
   "cell_type": "code",
   "execution_count": 98,
   "id": "e47ade5c",
   "metadata": {},
   "outputs": [
    {
     "name": "stdout",
     "output_type": "stream",
     "text": [
      "032\n"
     ]
    }
   ],
   "source": [
    "# Q. 정규표현식을 사용하여 text에서 지역코드만 출력하세요.\n",
    "import re\n",
    "\n",
    "text = \"문의사항이 있으면 032-232-3245 으로 연락주시기 바랍니다.\"\n",
    "pattern = r'(\\d{3})-(\\d{3})-(\\d{4})'\n",
    "print(re.search(pattern,text).group(1))"
   ]
  },
  {
   "cell_type": "code",
   "execution_count": 99,
   "id": "a8162f52",
   "metadata": {},
   "outputs": [
    {
     "name": "stdout",
     "output_type": "stream",
     "text": [
      "032\n"
     ]
    }
   ],
   "source": [
    "text = '문의사항이 있으면 032-232-3245 으로 연락주시기 바랍니다.'\n",
    "p = re.compile('(\\d{3})-(\\d{3})-(\\d{4})')\n",
    "print(p.search(text).group(1))"
   ]
  },
  {
   "cell_type": "code",
   "execution_count": 100,
   "id": "557a8744",
   "metadata": {
    "scrolled": false
   },
   "outputs": [
    {
     "name": "stdout",
     "output_type": "stream",
     "text": [
      "<re.Match object; span=(0, 18), match='park 010-1234-1234'>\n",
      "park\n",
      "010-1234-1234\n",
      "010\n",
      "park 010-1234-1234\n"
     ]
    }
   ],
   "source": [
    "# 그룹이 중첩되어 있는 경우는 바깥쪽부터 시작하여 안쪽으로 들어갈수록 인덱스 증가\n",
    "# Q. 정규표현식을 사용하여 'park 010-1234-1234'에서 지역코드만 출력하세요.\n",
    "\n",
    "p = re.compile(r'(\\w+)\\s+((\\d+)[-]\\d+[-]\\d+)')\n",
    "m = p.search('park 010-1234-1234')\n",
    "print(m)\n",
    "print(m.group(1))\n",
    "print(m.group(2))\n",
    "print(m.group(3))\n",
    "print(m.group())"
   ]
  },
  {
   "cell_type": "markdown",
   "id": "bcd69b6f",
   "metadata": {},
   "source": [
    "괄호 ()는 '그룹화'를 위해 사용 : 주로 여러 문자열 패턴을 하나의 단위로 묶거나, 특정 부분의 문자열을 추출하는 데 사용\n",
    "\n",
    "그룹화의 주요 용도:\n",
    "- 패턴의 일부를 하나의 단위로 묶기 : 괄호는 여러 문자 또는 문자 집합을 하나의 단위로 묶어서, 그 전체에 대해 수량자 (예: *, +, ?, {m,n} 등)를 적용할 수 있게 한다.\n",
    "\n",
    "- 텍스트 캡처 : 괄호로 묶인 부분은 '캡처 그룹'이 되어, 매칭된 텍스트를 나중에 사용하기 위해 저장. 예를 들어, re.search()나 re.match() 등의 함수로 매치 객체를 얻은 후, group() 메서드를 사용하여 이 텍스트를 추출할 수 있다.\n",
    "\n",
    "- 백레퍼런스(backreferences): 정규 표현식 내에서 앞서 정의된 그룹을 다시 참조할 수 있다. 이는 패턴이 이전에 매치된 동일한 텍스트와 일치해야 할 때 유용.\n",
    "\n",
    "- 비캡처 그룹(non-capturing groups): 때로는 괄호를 사용하여 그룹을 만들지만, 매치된 내용을 나중에 사용하고 싶지 않을 때가 있다. 이 경우 (?:...) 형태를 사용하여 그룹을 만든다. 이 그룹은 매칭에는 영향을 주지만, 결과를 저장하지는 않는다."
   ]
  },
  {
   "cell_type": "code",
   "execution_count": 3,
   "id": "03fb1bc3",
   "metadata": {},
   "outputs": [
    {
     "name": "stdout",
     "output_type": "stream",
     "text": [
      "park\n",
      "park\n",
      "010-1234-1234\n",
      "010\n"
     ]
    }
   ],
   "source": [
    "import re\n",
    "# 그룹핑된 문자열에 이름 붙이기 : 확장 구문 (?P<name>\\w+)\n",
    "p = re.compile(r'(?P<name>\\w+)\\s+((\\d+)[-]\\d+[-]\\d+)')\n",
    "m = p.search('park 010-1234-1234')\n",
    "print(m.group('name'))\n",
    "print(m.group(1))\n",
    "print(m.group(2))\n",
    "print(m.group(3))"
   ]
  },
  {
   "cell_type": "code",
   "execution_count": 4,
   "id": "7790dc2a",
   "metadata": {},
   "outputs": [
    {
     "data": {
      "text/plain": [
       "'the the'"
      ]
     },
     "execution_count": 4,
     "metadata": {},
     "output_type": "execute_result"
    }
   ],
   "source": [
    "# 그룹명을 이용하여 정규식 내에서 재참조 ?P=그룹명\n",
    "p = re.compile(r'(?P<word>\\w+)\\s+(?P=word)')\n",
    "p.search('Paris in the the spring').group()"
   ]
  },
  {
   "cell_type": "code",
   "execution_count": 5,
   "id": "bc624de4",
   "metadata": {},
   "outputs": [
    {
     "data": {
      "text/plain": [
       "<re.Match object; span=(4, 8), match='Lots'>"
      ]
     },
     "execution_count": 5,
     "metadata": {},
     "output_type": "execute_result"
    }
   ],
   "source": [
    "# Q. 이름으로 그룹을 참조하여 'Lots of punctuation' 에서 Lots를 출력하세요.\n",
    "p = re.compile(r'(\\b\\w+\\b)')\n",
    "m = p.search('((((Lots of punctuation))))')\n",
    "m"
   ]
  },
  {
   "cell_type": "markdown",
   "id": "63389ee0",
   "metadata": {},
   "source": [
    "정규 표현식에서 전방탐색(Lookahead)\n",
    "- 특정 패턴 뒤에 오는 문자열을 확인하는 방법으로, 긍정 전방탐색과 부정 전방탐색 두 가지 형태가 있다. \n",
    "- 이들은 매칭을 결정하는 조건을 설정하지만, 실제로 해당 문자열을 결과에 포함시키지는 않는다. 즉, 문자열을 '소모(consume)'하지 않는다..\n",
    "\n",
    "- 긍정 전방탐색 (Positive Lookahead)\n",
    "    - 형식: (?=...)\n",
    "    - 설명: 긍정 전방탐색은 ...에 해당하는 정규식 패턴이 일치해야 하지만, 해당 부분은 결과에 포함되지 않는다.\n",
    "    - 예시: X(?=Y)는 'Y'가 뒤따르는 'X'에 일치합니다. 'X'는 결과에 포함되지만, 'Y'는 포함되지 않는다.\n",
    "- 부정 전방탐색 (Negative Lookahead)\n",
    "    - 형식: (?!...)\n",
    "    - 설명: 부정 전방탐색은 ...에 해당하는 정규식 패턴이 일치하지 않아야 합니다. 여기서도 일치하는 부분은 결과에 포함되지 않는다.\n",
    "    - 예시: X(?!Y)는 'Y'가 뒤따르지 않는 'X'에 일치합니다. 'X'는 결과에 포함되지만, 'Y'는 검사 대상이지 결과에 포함되지 않는다."
   ]
  },
  {
   "cell_type": "code",
   "execution_count": 6,
   "id": "3e273170",
   "metadata": {},
   "outputs": [
    {
     "name": "stdout",
     "output_type": "stream",
     "text": [
      "http:\n",
      "\n",
      "http\n",
      "\n"
     ]
    }
   ],
   "source": [
    "# 전방 탐색\n",
    "# 긍정(?=...) ...에 해당되는 정규식과 매치되어야 하며 조건이 통과되어도 문자열이 소모되지 않음\n",
    "# 부정(?!...)...에 해당되는 정규식과 매치되지 않아야 하며 조건이 통과되어도 문자열이 소모되지 않음\n",
    "\n",
    "p = re.compile(r'.+:')\n",
    "m = p.search('http://google.com')\n",
    "print(m.group())\n",
    "print()\n",
    "p = re.compile(r'.+(?=:)') # :에 해당되는 문자열이 정규식 엔진에 의해 소모되지 않음(검색에는 포함되지만 결과에는 제외)\n",
    "m = p.search('http://google.com')\n",
    "print(m.group())\n",
    "print()"
   ]
  },
  {
   "cell_type": "code",
   "execution_count": 7,
   "id": "ad464235",
   "metadata": {},
   "outputs": [
    {
     "name": "stdout",
     "output_type": "stream",
     "text": [
      "colour socks and colour shoes\n",
      "colour socks and red shoes\n",
      "('colour socks and colour shoes', 2)\n"
     ]
    }
   ],
   "source": [
    "# 문자열 바꾸기\n",
    "# sub 메서드를 사용하면 정규식과 매치되는 부분을 다른 문자로 쉽게 바꿀 수 있음\n",
    "# 바꾸기 횟수를 제어하려면 세 번째 매개변수로 count 값을 넘기면 됨\n",
    "# subn 역시 sub와 동일한 기능을 하지만 반환 결과를 튜플로 돌려줌. 두 번째 요소는 바꾸기 발생 횟수\n",
    "p = re.compile('(blue|white|red)')\n",
    "print(p.sub('colour','blue socks and red shoes'))\n",
    "print(p.sub('colour','blue socks and red shoes', count=1)) # 바꾸기 횟수를 제어\n",
    "print(p.subn('colour', 'blue socks and red shoes'))"
   ]
  },
  {
   "cell_type": "code",
   "execution_count": 8,
   "id": "a6529718",
   "metadata": {},
   "outputs": [
    {
     "data": {
      "text/plain": [
       "'abc'"
      ]
     },
     "execution_count": 8,
     "metadata": {},
     "output_type": "execute_result"
    }
   ],
   "source": [
    "import re\n",
    "p = re.compile('\\d')\n",
    "p.sub('','12345abc')"
   ]
  },
  {
   "cell_type": "code",
   "execution_count": 10,
   "id": "aa6b975d",
   "metadata": {},
   "outputs": [
    {
     "data": {
      "text/plain": [
       "'12345'"
      ]
     },
     "execution_count": 10,
     "metadata": {},
     "output_type": "execute_result"
    }
   ],
   "source": [
    "# Q. '12345abc'에서 '12345'만 출력하세요.\n",
    "import re\n",
    "str = '12345abc'\n",
    "# p1 = re.compile('[abc]')\n",
    "# p1.sub('',str)\n",
    "re.sub('[^0-9]','',str)"
   ]
  },
  {
   "cell_type": "code",
   "execution_count": 13,
   "id": "b94c2a2d",
   "metadata": {},
   "outputs": [
    {
     "name": "stdout",
     "output_type": "stream",
     "text": [
      "010-1234-1234 park\n"
     ]
    }
   ],
   "source": [
    "# sub 메서드를 사용할 때 참조 구문을 사용\n",
    "# 이름 + 전화번호의 문자열을 전화번호 + 이름으로 바꾸는 예\n",
    "# sub의 바꿀 문자열 부분에 \\g<그룹이름>을 사용하면 정규식의 그룹 이름을 참조\n",
    "p = re.compile(r\"(?P<name>\\w+)\\s+(?P<phone>(\\d+)[-]\\d+[-]\\d+)\")\n",
    "print(p.sub(\"\\g<phone> \\g<name>\", \"park 010-1234-1234\"))"
   ]
  },
  {
   "cell_type": "code",
   "execution_count": 14,
   "id": "8966860c",
   "metadata": {},
   "outputs": [
    {
     "name": "stdout",
     "output_type": "stream",
     "text": [
      "010-1234-1234 park\n"
     ]
    }
   ],
   "source": [
    "# 그룹 이름 대신 참조 번호를 사용할 수 있음\n",
    "p = re.compile(r\"(?P<name>\\w+)\\s+(?P<phone>(\\d+)[-]\\d+[-]\\d+)\")\n",
    "print(p.sub(\"\\g<2> \\g<1>\", \"park 010-1234-1234\"))"
   ]
  },
  {
   "cell_type": "code",
   "execution_count": 15,
   "id": "8ef9a5b9",
   "metadata": {},
   "outputs": [
    {
     "data": {
      "text/plain": [
       "'Call 0xffd2 for printing, 0xc000 for user code.'"
      ]
     },
     "execution_count": 15,
     "metadata": {},
     "output_type": "execute_result"
    }
   ],
   "source": [
    "# sub 메서드의 매개변수로 함수 넣기\n",
    "# hexrepl 함수는 match 객체(위에서 숫자에 매치되는)를 입력으로 받아 16진수로 변환하여 돌려주는 함수\n",
    "# sub의 첫 번째 매개변수로 함수를 사용할 경우 해당 함수의 첫 번째 매개변수에는 정규식과 매치된 match 객체가 입력\n",
    "# 매치되는 문자열은 함수의 반환 값으로 변환\n",
    "\n",
    "def hexrepl(match):\n",
    "    value = int(match.group())\n",
    "    return hex(value)\n",
    "\n",
    "p = re.compile(r'\\d+')\n",
    "p.sub(hexrepl, 'Call 65490 for printing, 49152 for user code.')"
   ]
  },
  {
   "cell_type": "markdown",
   "id": "d4beb7eb",
   "metadata": {},
   "source": [
    "Greedy (탐욕스러운) 매칭\n",
    "- Greedy 매칭은 가능한 한 많은 문자와 일치하려고 한다. 즉, 주어진 패턴과 일치하는 문자열 중 가장 긴 것을 찾는다.\n",
    "- 예를 들어, 정규 표현식 a.*b는 a로 시작하고 b로 끝나는 가장 긴 문자열 부분과 일치한다.\n",
    "\n",
    "Non-Greedy (비탐욕스러운) 매칭\n",
    "- Non-Greedy 매칭은 가능한 한 적은 문자와 일치하려고 한다. 즉, 주어진 패턴과 일치하는 문자열 중 가장 짧은 것을 찾는다.\n",
    "- 예를 들어, 정규 표현식 a.*?b는 a로 시작하고 b로 끝나는 가장 짧은 문자열 부분과 일치합니다."
   ]
  },
  {
   "cell_type": "code",
   "execution_count": 16,
   "id": "721e3ec1",
   "metadata": {},
   "outputs": [
    {
     "name": "stdout",
     "output_type": "stream",
     "text": [
      "['<div>Hello</div><div>World</div>']\n"
     ]
    }
   ],
   "source": [
    "import re\n",
    "\n",
    "text = \"<div>Hello</div><div>World</div>\"\n",
    "pattern = r'<div>.*</div>'\n",
    "matches = re.findall(pattern, text)\n",
    "print(matches)"
   ]
  },
  {
   "cell_type": "code",
   "execution_count": 18,
   "id": "a445c0a6",
   "metadata": {},
   "outputs": [
    {
     "name": "stdout",
     "output_type": "stream",
     "text": [
      "['<div>Hello</div>', '<div>World</div>']\n"
     ]
    }
   ],
   "source": [
    "pattern_ng = r'<div>.*?</div>'\n",
    "matches_ng = re.findall(pattern_ng, text)\n",
    "print(matches_ng)"
   ]
  },
  {
   "cell_type": "markdown",
   "id": "405cee0c",
   "metadata": {},
   "source": [
    "1. *? (Non-Greedy Kleene Star)\n",
    "- Greedy: *는 0회 이상 반복하는 가장 긴 문자열을 찾는다.\n",
    "- Non-Greedy: *?는 0회 이상 반복하는 가장 짧은 문자열을 찾는다.\n",
    "2. +? (Non-Greedy Plus)\n",
    "- Greedy: +는 1회 이상 반복하는 가장 긴 문자열을 찾는다.\n",
    "- Non-Greedy: +?는 1회 이상 반복하는 가장 짧은 문자열을 찾는다.\n",
    "3. ?? (Non-Greedy Question Mark)\n",
    "- Greedy: ?는 0회 또는 1회 반복하는 가장 긴 문자열을 찾는다.\n",
    "- Non-Greedy: ??는 0회 또는 1회 반복하는 가장 짧은 문자열을 찾는다.\n",
    "4. {m,n}? (Non-Greedy 범위 반복자)\n",
    "- Greedy: {m,n}은 m회에서 n회까지 반복하는 가장 긴 문자열을 찾는다.\n",
    "- Non-Greedy: {m,n}?은 m회에서 n회까지 반복하는 가장 짧은 문자열을 찾는다."
   ]
  },
  {
   "cell_type": "code",
   "execution_count": 19,
   "id": "a0767438",
   "metadata": {},
   "outputs": [
    {
     "name": "stdout",
     "output_type": "stream",
     "text": [
      "['<div>First</div><div>Second</div>']\n",
      "['<div>First</div>', '<div>Second</div>']\n",
      "['ooooo']\n",
      "['o', 'o', 'o', 'o', 'o']\n",
      "['', '', '', '', 'o', '', '']\n",
      "['', '', '', '', '', 'o', '', '']\n",
      "['oooo']\n",
      "['oo', 'oo']\n"
     ]
    }
   ],
   "source": [
    "import re\n",
    "\n",
    "text = \"<div>First</div><div>Second</div>\"\n",
    "# Greedy 매칭\n",
    "print(re.findall(r'<div>.*</div>', text))\n",
    "# Non-Greedy 매칭\n",
    "print(re.findall(r'<div>.*?</div>', text))\n",
    "\n",
    "text = \"Hellooooo\"\n",
    "# Greedy 매칭\n",
    "print(re.findall(r'o+', text))\n",
    "# Non-Greedy 매칭\n",
    "print(re.findall(r'o+?', text))\n",
    "\n",
    "text = \"Hello?\"\n",
    "# Greedy 매칭\n",
    "print(re.findall(r'o?', text))\n",
    "# Non-Greedy 매칭\n",
    "print(re.findall(r'o??', text))\n",
    "\n",
    "text = \"Helloooo\"\n",
    "# Greedy 매칭\n",
    "print(re.findall(r'o{2,4}', text))\n",
    "# Non-Greedy 매칭\n",
    "print(re.findall(r'o{2,4}?', text))"
   ]
  },
  {
   "cell_type": "code",
   "execution_count": null,
   "id": "8d2e40ae",
   "metadata": {},
   "outputs": [],
   "source": []
  },
  {
   "cell_type": "code",
   "execution_count": null,
   "id": "83ae4681",
   "metadata": {},
   "outputs": [],
   "source": []
  },
  {
   "cell_type": "code",
   "execution_count": null,
   "id": "6cc20f0b",
   "metadata": {},
   "outputs": [],
   "source": []
  },
  {
   "cell_type": "code",
   "execution_count": null,
   "id": "2d6024f7",
   "metadata": {},
   "outputs": [],
   "source": []
  },
  {
   "cell_type": "code",
   "execution_count": null,
   "id": "981fcd28",
   "metadata": {},
   "outputs": [],
   "source": []
  },
  {
   "cell_type": "code",
   "execution_count": null,
   "id": "7e566d4a",
   "metadata": {},
   "outputs": [],
   "source": []
  },
  {
   "cell_type": "code",
   "execution_count": null,
   "id": "8a9b59c5",
   "metadata": {},
   "outputs": [],
   "source": []
  },
  {
   "cell_type": "code",
   "execution_count": null,
   "id": "4904ccab",
   "metadata": {},
   "outputs": [],
   "source": []
  },
  {
   "cell_type": "code",
   "execution_count": null,
   "id": "7f8ef266",
   "metadata": {},
   "outputs": [],
   "source": []
  },
  {
   "cell_type": "code",
   "execution_count": null,
   "id": "31bf6aa2",
   "metadata": {},
   "outputs": [],
   "source": []
  },
  {
   "cell_type": "code",
   "execution_count": null,
   "id": "9267983c",
   "metadata": {},
   "outputs": [],
   "source": []
  }
 ],
 "metadata": {
  "kernelspec": {
   "display_name": "Python 3 (ipykernel)",
   "language": "python",
   "name": "python3"
  },
  "language_info": {
   "codemirror_mode": {
    "name": "ipython",
    "version": 3
   },
   "file_extension": ".py",
   "mimetype": "text/x-python",
   "name": "python",
   "nbconvert_exporter": "python",
   "pygments_lexer": "ipython3",
   "version": "3.11.5"
  }
 },
 "nbformat": 4,
 "nbformat_minor": 5
}
