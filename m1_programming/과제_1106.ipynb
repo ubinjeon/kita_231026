{
 "cells": [
  {
   "cell_type": "markdown",
   "id": "72a7b5f2",
   "metadata": {},
   "source": [
    "#### [과제1_1106] : 1에서 백만까지 더하는데 걸리는 프로그램 실행 시간을 밀리초(ms) 단위로 구하세요"
   ]
  },
  {
   "cell_type": "code",
   "execution_count": 6,
   "id": "5ba4add1",
   "metadata": {},
   "outputs": [
    {
     "name": "stdout",
     "output_type": "stream",
     "text": [
      "프로그램 실행시간: 286.0 ms\n"
     ]
    }
   ],
   "source": [
    "import time\n",
    "\n",
    "timestamp1 = time.time()\n",
    "sum(range(1,10000001))\n",
    "timestamp2 = time.time()\n",
    "print(f'프로그램 실행시간: {round((timestamp2 - timestamp1)*1000,0)} ms')"
   ]
  },
  {
   "cell_type": "code",
   "execution_count": null,
   "id": "8198431a",
   "metadata": {},
   "outputs": [],
   "source": [
    "import time\n",
    "\n",
    "t1 = time.time()\n",
    "t2 = 0\n",
    "result = 0\n",
    "\n",
    "for i in range(1000000):\n",
    "    result += i+1\n",
    "else:\n",
    "    t2 = time.time()\n",
    "    \n",
    "print(f'백만까지 더한 값: {result}\\n걸린 시간: {round((t2-t1)*1000)} (ms)'"
   ]
  }
 ],
 "metadata": {
  "kernelspec": {
   "display_name": "Python 3 (ipykernel)",
   "language": "python",
   "name": "python3"
  },
  "language_info": {
   "codemirror_mode": {
    "name": "ipython",
    "version": 3
   },
   "file_extension": ".py",
   "mimetype": "text/x-python",
   "name": "python",
   "nbconvert_exporter": "python",
   "pygments_lexer": "ipython3",
   "version": "3.11.5"
  }
 },
 "nbformat": 4,
 "nbformat_minor": 5
}
