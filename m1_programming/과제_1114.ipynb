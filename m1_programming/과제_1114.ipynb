{
 "cells": [
  {
   "cell_type": "markdown",
   "id": "b2ef98fb",
   "metadata": {},
   "source": [
    "긍정 전방탐색 사용\n",
    "\n",
    "문제1_1114: 문자열 \"I love cats but I hate catching colds\"에서 'cat' 다음에 's'가 오는 단어만 찾으세요."
   ]
  },
  {
   "cell_type": "code",
   "execution_count": 2,
   "id": "5e2f0246",
   "metadata": {},
   "outputs": [
    {
     "name": "stdout",
     "output_type": "stream",
     "text": [
      "cat\n"
     ]
    }
   ],
   "source": [
    "import re\n",
    "p = re.compile(r'cat(?=s)')\n",
    "m = p.search('I love cats but I hate catching colds')\n",
    "print(m.group())"
   ]
  },
  {
   "cell_type": "markdown",
   "id": "e569bc3d",
   "metadata": {},
   "source": [
    "부정 전방탐색 사용\n",
    "\n",
    "문제2_1114: 문자열 \"7UP, Cherry7UP, 7Down\"에서 '7' 뒤에 'UP'이 오지 않는 숫자 7을 찾으세요."
   ]
  },
  {
   "cell_type": "code",
   "execution_count": 4,
   "id": "6f190561",
   "metadata": {},
   "outputs": [
    {
     "name": "stdout",
     "output_type": "stream",
     "text": [
      "7\n"
     ]
    }
   ],
   "source": [
    "p = re.compile(r'7(?!UP)')\n",
    "m = p.search('7UP, Cherry7UP, 7Down')\n",
    "print(m.group())"
   ]
  },
  {
   "cell_type": "markdown",
   "id": "4acc2aa3",
   "metadata": {},
   "source": [
    "문제3_1114: 다음 텍스트에서 화폐 단위('€')가 붙어 있는 숫자만 찾으세요.\n",
    "\n",
    "\"Prices are 30€ for adults, 20 for children and 25€ for seniors.\""
   ]
  },
  {
   "cell_type": "code",
   "execution_count": 8,
   "id": "fbaeff2c",
   "metadata": {},
   "outputs": [
    {
     "name": "stdout",
     "output_type": "stream",
     "text": [
      "['30', '25']\n"
     ]
    }
   ],
   "source": [
    "import re\n",
    "p = r'\\d+(?=€)'\n",
    "print(re.findall(p,\"Prices are 30€ for adults, 20 for children and 25€ for seniors.\"))"
   ]
  },
  {
   "cell_type": "markdown",
   "id": "f76747b7",
   "metadata": {},
   "source": [
    "문제4_1114: 다음 텍스트에서 'com'으로 끝나는 이메일 주소의 도메인 부분만 추출하세요. (예: 'example@domain.com'에서 'domain')"
   ]
  },
  {
   "cell_type": "code",
   "execution_count": 15,
   "id": "72f919dc",
   "metadata": {
    "scrolled": true
   },
   "outputs": [
    {
     "name": "stdout",
     "output_type": "stream",
     "text": [
      "domain\n"
     ]
    }
   ],
   "source": [
    "example = 'example@domain.com'\n",
    "p = r'[a-zA-Z0-9.-]+(?=.com)'\n",
    "m = re.search(p,example)\n",
    "print(m.group())"
   ]
  },
  {
   "cell_type": "code",
   "execution_count": 2,
   "id": "c498c88b",
   "metadata": {},
   "outputs": [
    {
     "name": "stdout",
     "output_type": "stream",
     "text": [
      "['company', 'enterprise']\n"
     ]
    }
   ],
   "source": [
    "import re\n",
    "text2 = \"Contact us at support@company.com, sales@enterprise.com or info@organization.org.\"\n",
    "pattern2 = r'(?<=@)[a-zA-Z0-9.-]+(?=\\.com)' #(?<=@) 후방탐색\n",
    "matches2 = re.findall(pattern2, text2)\n",
    "print(matches2)"
   ]
  },
  {
   "cell_type": "markdown",
   "id": "efd21cfa",
   "metadata": {},
   "source": [
    "문제5_1114: 텍스트에서 모든 이메일 주소를 'email'로 대체하세요.\n",
    "    \n",
    "text = \"Contact: john.doe@example.com, jane.smith@workplace.org\""
   ]
  },
  {
   "cell_type": "code",
   "execution_count": 30,
   "id": "a1cae8f5",
   "metadata": {
    "scrolled": false
   },
   "outputs": [
    {
     "name": "stdout",
     "output_type": "stream",
     "text": [
      "Contact: email, email\n"
     ]
    }
   ],
   "source": [
    "import re\n",
    "text = \"Contact: john.doe@example.com, jane.smith@workplace.org\"\n",
    "p = re.compile(r'[a-zA-Z0-9._%+-]+@[a-zA-Z0-9.-]+\\.[a-zA-Z]{2,10}')\n",
    "print(p.sub('email',text))"
   ]
  },
  {
   "cell_type": "markdown",
   "id": "1bd81118",
   "metadata": {},
   "source": [
    "문제6_1114: 텍스트에서 모든 전화번호를 'phone'으로 대체하세요. 전화번호는 다음과 같은 형식으로 가정합니다: '123-456-7890'."
   ]
  },
  {
   "cell_type": "code",
   "execution_count": 3,
   "id": "346ee5bb",
   "metadata": {
    "scrolled": false
   },
   "outputs": [
    {
     "name": "stdout",
     "output_type": "stream",
     "text": [
      "Our office numbers are phone and phone.\n"
     ]
    }
   ],
   "source": [
    "text = \"Our office numbers are 123-456-7890 and 987-654-3210.\"\n",
    "p = re.compile(r'\\d{3}-\\d{3}-\\d{4}')\n",
    "print(p.sub('phone',text))"
   ]
  },
  {
   "cell_type": "markdown",
   "id": "89d53dce",
   "metadata": {},
   "source": [
    "문제7_1114: HTML 텍스트에서 \\<p> 태그로 둘러싸인 전체 부분을 찾으세요 (Greedy 방식 사용)."
   ]
  },
  {
   "cell_type": "code",
   "execution_count": 36,
   "id": "6ca496a8",
   "metadata": {},
   "outputs": [
    {
     "name": "stdout",
     "output_type": "stream",
     "text": [
      "['<p>world</p> this is <p>a test</p>']\n"
     ]
    }
   ],
   "source": [
    "import re\n",
    "html = \"<div>Hello <p>world</p> this is <p>a test</p></div>\"\n",
    "print(re.findall(r'<p>.*</p>',html))"
   ]
  },
  {
   "cell_type": "markdown",
   "id": "d7db3369",
   "metadata": {},
   "source": [
    "문제8_1114: 같은 HTML 텍스트에서 각 <p> 태그로 둘러싸인 부분을 별도로 찾으세요 (Non-Greedy 방식 사용)."
   ]
  },
  {
   "cell_type": "code",
   "execution_count": 4,
   "id": "67f9b21f",
   "metadata": {},
   "outputs": [
    {
     "name": "stdout",
     "output_type": "stream",
     "text": [
      "['<p>world</p>', '<p>a test</p>']\n"
     ]
    }
   ],
   "source": [
    "html = \"<div>Hello <p>world</p> this is <p>a test</p></div>\"\n",
    "print(re.findall(r'<p>.*?</p>',html))"
   ]
  }
 ],
 "metadata": {
  "kernelspec": {
   "display_name": "Python 3 (ipykernel)",
   "language": "python",
   "name": "python3"
  },
  "language_info": {
   "codemirror_mode": {
    "name": "ipython",
    "version": 3
   },
   "file_extension": ".py",
   "mimetype": "text/x-python",
   "name": "python",
   "nbconvert_exporter": "python",
   "pygments_lexer": "ipython3",
   "version": "3.11.5"
  }
 },
 "nbformat": 4,
 "nbformat_minor": 5
}
