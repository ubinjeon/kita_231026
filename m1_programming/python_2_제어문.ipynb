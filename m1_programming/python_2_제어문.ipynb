{
 "cells": [
  {
   "cell_type": "markdown",
   "id": "ae841299",
   "metadata": {},
   "source": [
    "제어문(control statement)은 프로그램의 흐름을 제어하는데 사용\n",
    "\n",
    "#### 조건문 (Conditional Statements):\n",
    "- if: 특정 조건이 참(True)일 때 코드 블록을 실행\n",
    "    - 조건은 비교 연산자(==, !=, <, >, <=, >=)와 논리 연산자(and, or, not)를 사용하여 표현할 수 있다\n",
    "- elif: 이전의 if 또는 elif 조건이 거짓(False)일 때 다른 조건을 검사\n",
    "    - elif는 'else if'의 축약형으로, 이전 if 또는 elif 문의 조건이 거짓(False)일 때 다른 조건을 검사\n",
    "    - 여러 elif 문을 사용하여 다양한 조건을 검사할 수 있다\n",
    "- else: \n",
    "    - 이전의 if 또는 elif 문의 조건이 모두 거짓일 때 실행할 코드 블록을 지정"
   ]
  },
  {
   "cell_type": "code",
   "execution_count": 3,
   "id": "3ba949e8",
   "metadata": {
    "scrolled": true
   },
   "outputs": [
    {
     "name": "stdout",
     "output_type": "stream",
     "text": [
      "x는 5보다 큽니다.\n"
     ]
    }
   ],
   "source": [
    "x = 10\n",
    "if x > 5:\n",
    "    print(\"x는 5보다 큽니다.\")\n",
    "elif x == 5:\n",
    "    print(\"x는 5입니다.\")\n",
    "else:\n",
    "    print(\"x는 5보다 작습니다.\")"
   ]
  },
  {
   "cell_type": "code",
   "execution_count": 4,
   "id": "a8a6cbc9",
   "metadata": {},
   "outputs": [
    {
     "name": "stdout",
     "output_type": "stream",
     "text": [
      "x는 5보다 같거나 큽니다.\n"
     ]
    }
   ],
   "source": [
    "x = 10\n",
    "if x >= 5:\n",
    "    print(\"x는 5보다 같거나 큽니다.\")\n",
    "else:\n",
    "    print(\"x는 5보다 작습니다.\")"
   ]
  },
  {
   "cell_type": "code",
   "execution_count": 7,
   "id": "8ac901e7",
   "metadata": {},
   "outputs": [
    {
     "name": "stdout",
     "output_type": "stream",
     "text": [
      "x는 5보다 큽니다.\n",
      "y는 10보다 작습니다.\n",
      "x는 y보다 큽니다.\n"
     ]
    }
   ],
   "source": [
    "# 각 조건이 서로 독립적일때 if문을 연속해서 사용\n",
    "x = 10\n",
    "y = 5\n",
    "if x > 5:\n",
    "    print(\"x는 5보다 큽니다.\")\n",
    "\n",
    "if y < 10:\n",
    "    print(\"y는 10보다 작습니다.\")\n",
    "\n",
    "if x > y:\n",
    "     print(\"x는 y보다 큽니다.\")"
   ]
  },
  {
   "cell_type": "code",
   "execution_count": 11,
   "id": "054ecc5b",
   "metadata": {},
   "outputs": [
    {
     "name": "stdout",
     "output_type": "stream",
     "text": [
      "x는 5보다 크고 y는 3보다 크거나 같습니다.\n"
     ]
    }
   ],
   "source": [
    "# 조건문 내에 다른 조건문을 중첩하여 사용\n",
    "x = 10\n",
    "y = 5\n",
    "if x > 5:\n",
    "    if y >= 3:\n",
    "        print('x는 5보다 크고 y는 3보다 크거나 같습니다.')\n",
    "    else:\n",
    "        print('x는 5보다 크고 y는 3보다 작습니다.')\n",
    "else:\n",
    "    print('x는 5보다 작거나 같습니다.')"
   ]
  },
  {
   "cell_type": "markdown",
   "id": "3f9a47bf",
   "metadata": {},
   "source": [
    "#### 반복문 (Loop Statements):\n",
    "- for: 시퀀스(리스트, 튜플, 문자열 등)의 아이템을 순회하면서 코드 블록을 실행합니다.\n",
    "- while: 특정 조건이 참인 동안 코드 블록을 반복하여 실행합니다."
   ]
  },
  {
   "cell_type": "code",
   "execution_count": 17,
   "id": "e3cd0d14",
   "metadata": {},
   "outputs": [
    {
     "name": "stdout",
     "output_type": "stream",
     "text": [
      "0 1 2 3 4 \n",
      "\n",
      "0\n",
      "1\n",
      "2\n",
      "3\n",
      "4\n"
     ]
    }
   ],
   "source": [
    "for i in range(5):\n",
    "#     print(i) #줄바꿈으로 출력됨.\n",
    "    print(i, end = ' ') #같은 행으로 한칸씩 띄고 출력하는 것.\n",
    "print('\\n')\n",
    "count = 0\n",
    "while count < 5:\n",
    "    print(count)\n",
    "    count += 1"
   ]
  },
  {
   "cell_type": "code",
   "execution_count": 2,
   "id": "c87b7a85",
   "metadata": {},
   "outputs": [
    {
     "name": "stdout",
     "output_type": "stream",
     "text": [
      "1 2 3 4 5 \n",
      "\n",
      "h e l l o "
     ]
    }
   ],
   "source": [
    "# 리스트를 순회하는 예\n",
    "for i in [1,2,3,4,5]:\n",
    "    print(i, end = ' ')\n",
    "print('\\n')\n",
    "#문자열을 순회하는 예\n",
    "for char in \"hello\":\n",
    "    print(char, end = ' ')"
   ]
  },
  {
   "cell_type": "code",
   "execution_count": 4,
   "id": "d2f8e475",
   "metadata": {},
   "outputs": [
    {
     "name": "stdout",
     "output_type": "stream",
     "text": [
      "0 1 2 3 4 "
     ]
    }
   ],
   "source": [
    "# while  루프는 주어진 조건이 참(True)인 동안 코드 블록을 반복\n",
    "# 조건이 거짓(False)이 되면 루프가 종료\n",
    "count = 0\n",
    "while count < 5:\n",
    "    print(count, end = ' ')\n",
    "    count += 1 # count를 1 증가시킵니다."
   ]
  },
  {
   "cell_type": "code",
   "execution_count": 6,
   "id": "88be0f9a",
   "metadata": {},
   "outputs": [
    {
     "name": "stdout",
     "output_type": "stream",
     "text": [
      "97 98 99 "
     ]
    }
   ],
   "source": [
    "#Q. 97 98 99을 출력하세요.\n",
    "d = {'a': 97, 'b': 98, 'c': 99}\n",
    "for key in d:\n",
    "    print(d[key], end=' ')"
   ]
  },
  {
   "cell_type": "markdown",
   "id": "ddbc32c0",
   "metadata": {},
   "source": [
    "#### 제어문 관련 키워드:\n",
    "- break: 현재의 반복문을 중단하고, 반복문 바깥의 코드를 실행\n",
    "- continue: 반복문의 나머지 부분을 건너뛰고, 다음 반복을 시작"
   ]
  },
  {
   "cell_type": "code",
   "execution_count": 8,
   "id": "5d8b950e",
   "metadata": {},
   "outputs": [
    {
     "name": "stdout",
     "output_type": "stream",
     "text": [
      "0 1 2 \n",
      "\n",
      "0 1 2 4 "
     ]
    }
   ],
   "source": [
    "for i in range(5):\n",
    "    if i == 3:\n",
    "        break\n",
    "    print(i,end=' ')\n",
    "print('\\n')\n",
    "    \n",
    "for i in range(5):\n",
    "    if i == 3:\n",
    "        continue\n",
    "    print(i, end = ' ')"
   ]
  },
  {
   "cell_type": "code",
   "execution_count": 10,
   "id": "d3b7dee3",
   "metadata": {},
   "outputs": [
    {
     "name": "stdout",
     "output_type": "stream",
     "text": [
      "0 1 2 3 4 \n",
      "\n",
      "1 3 5 7 9 "
     ]
    }
   ],
   "source": [
    "for i in range(10):\n",
    "    if i == 5:\n",
    "        break  #i가 5일 때 루프를 종료합니다.\n",
    "    print(i,end=' ')\n",
    "print('\\n')\n",
    "for i in range(10):\n",
    "    if i % 2 == 0:\n",
    "        continue #i 가 짝수일 때 나머지 부분을 건너뛰고 다음 반복을 시작합니다.\n",
    "    print(i, end =' ')"
   ]
  },
  {
   "cell_type": "code",
   "execution_count": 12,
   "id": "b3652d91",
   "metadata": {},
   "outputs": [
    {
     "name": "stdout",
     "output_type": "stream",
     "text": [
      "0\n",
      "1\n",
      "2\n",
      "3\n",
      "4\n",
      "루프가 완료되었습니다. \n",
      "\n",
      "0\n",
      "1\n",
      "2\n",
      "3\n",
      "4\n",
      "루프가 완료되었습니다.\n"
     ]
    }
   ],
   "source": [
    "# for 또는 while 루프에 else 절을 사용하면, 루프가 정상적으로 완료된 후에 실행할 코드를 지정\n",
    "for i in range(5):\n",
    "    print(i)\n",
    "# else:\n",
    "#     print(\"루프가 완료되었습니다.\",'\\n')\n",
    "print(\"루프가 완료되었습니다.\",'\\n')\n",
    "\n",
    "count = 0\n",
    "while count < 5:\n",
    "    print(count)\n",
    "    count += 1\n",
    "else:\n",
    "    print(\"루프가 완료되었습니다.\")\n",
    "#print(\"루프가 완료되었습니다.\")"
   ]
  },
  {
   "cell_type": "code",
   "execution_count": 13,
   "id": "205cf975",
   "metadata": {},
   "outputs": [
    {
     "name": "stdout",
     "output_type": "stream",
     "text": [
      "3에서 루프를 중단합니다.\n"
     ]
    }
   ],
   "source": [
    "# break 문을 사용하여 루프를 중단하면 else 절은 실행되지 않음\n",
    "for i in range(5):\n",
    "    if i == 3:\n",
    "        print(f'{i}에서 루프를 중단합니다.')\n",
    "        break\n",
    "else:\n",
    "    print(\"루프가 정상적으로 완료되었습니다.\")\n",
    "\n",
    "# 출력:\n",
    "# 3에서 루프를 중단합니다."
   ]
  },
  {
   "cell_type": "markdown",
   "id": "e9df303c",
   "metadata": {},
   "source": [
    "#### 조건과 반복을 결합"
   ]
  },
  {
   "cell_type": "code",
   "execution_count": 14,
   "id": "bf20bcb3",
   "metadata": {},
   "outputs": [
    {
     "name": "stdout",
     "output_type": "stream",
     "text": [
      "1\n",
      "3\n",
      "5\n",
      "7\n",
      "9\n"
     ]
    }
   ],
   "source": [
    "# 홀수만 출력\n",
    "for i in range(10):\n",
    "    if i % 2 != 0:\n",
    "        print(i)"
   ]
  },
  {
   "cell_type": "code",
   "execution_count": 16,
   "id": "23adbc7e",
   "metadata": {},
   "outputs": [
    {
     "name": "stdout",
     "output_type": "stream",
     "text": [
      "1\n",
      "2\n",
      "3\n",
      "4\n",
      "5\n",
      "루프가 종료됨\n"
     ]
    }
   ],
   "source": [
    "#특정 조건을 만족할 때까지 반복\n",
    "count = 0\n",
    "while True:      #무한 루프\n",
    "    count += 1\n",
    "    if count > 5:\n",
    "        break     #count가 5보다 클 때 루프를 종료합니다.\n",
    "    print(count)\n",
    "print('루프가 종료됨')"
   ]
  },
  {
   "cell_type": "code",
   "execution_count": 17,
   "id": "e9e57240",
   "metadata": {},
   "outputs": [
    {
     "name": "stdout",
     "output_type": "stream",
     "text": [
      "3을(를) 찾았습니다!\n"
     ]
    }
   ],
   "source": [
    "# 리스트에서 특정값 찾기\n",
    "numbers = [1,2,3,4,5]\n",
    "target = 3\n",
    "for num in numbers:\n",
    "    if num == target:\n",
    "        print(f\"{target}을(를) 찾았습니다!\")\n",
    "        break\n",
    "else:\n",
    "    print(f\"{target}을(를) 찾지 못했습니다.\")"
   ]
  },
  {
   "cell_type": "code",
   "execution_count": 20,
   "id": "0172929f",
   "metadata": {},
   "outputs": [
    {
     "name": "stdout",
     "output_type": "stream",
     "text": [
      "1 3 5 7 9 "
     ]
    }
   ],
   "source": [
    "# Q. 1~20 사이의 정수에서 10보다 작은 홀수만 출력\n",
    "for i in range(1,21):\n",
    "    if i < 10:\n",
    "        if i % 2 !=0:\n",
    "            print(i, end = ' ')\n",
    "    else:\n",
    "        break"
   ]
  },
  {
   "cell_type": "code",
   "execution_count": 3,
   "id": "0edf37cc",
   "metadata": {},
   "outputs": [
    {
     "name": "stdout",
     "output_type": "stream",
     "text": [
      "1 3 5 7 9 "
     ]
    }
   ],
   "source": [
    "# while ~ continue ~ break\n",
    "count = 0\n",
    "while count < 21:\n",
    "    count += 1\n",
    "    if count % 2 == 0:\n",
    "        continue\n",
    "    if count >= 10:\n",
    "        break\n",
    "    print(count, end = ' ')"
   ]
  },
  {
   "cell_type": "code",
   "execution_count": 7,
   "id": "61c07e20",
   "metadata": {},
   "outputs": [
    {
     "name": "stdout",
     "output_type": "stream",
     "text": [
      "n은 45, 합은 1035입니다.\n"
     ]
    }
   ],
   "source": [
    "#Q. 정수 1부더 n까지 더할 때 그 합이 1000보다 커지게 되는 n과 합을 구하세요.\n",
    "sum = 0\n",
    "count = 0\n",
    "while sum <=1000:\n",
    "    count += 1\n",
    "    sum += count\n",
    "print(f\"n은 {count}, 합은 {sum}입니다.\")"
   ]
  },
  {
   "cell_type": "code",
   "execution_count": 11,
   "id": "0f1df90b",
   "metadata": {},
   "outputs": [
    {
     "name": "stdout",
     "output_type": "stream",
     "text": [
      "166833\n"
     ]
    }
   ],
   "source": [
    "#Q. while문을 사용해 1부터 1000까지의 정수 중 3의 배수의 합을 구해보세요.\n",
    "count = 1\n",
    "multiple_sum = 0\n",
    "while count <=1000:\n",
    "    if count % 3 == 0:\n",
    "        multiple_sum += count\n",
    "    count += 1\n",
    "print(multiple_sum)"
   ]
  },
  {
   "cell_type": "code",
   "execution_count": 14,
   "id": "b740c957",
   "metadata": {},
   "outputs": [
    {
     "name": "stdout",
     "output_type": "stream",
     "text": [
      "정수를 입력하세요: 11024\n",
      "짝수입니다.\n"
     ]
    }
   ],
   "source": [
    "#Q. 정수를 입력하면 홀수 짝수를 판별하는 프로그램 작성\n",
    "num = int(input(\"정수를 입력하세요: \"))\n",
    "msg = \"\"\n",
    "if num % 2 == 0:\n",
    "    msg = \"짝수입니다.\"\n",
    "else:\n",
    "    msg = \"홀수입니다.\"\n",
    "print(msg)"
   ]
  },
  {
   "cell_type": "code",
   "execution_count": 26,
   "id": "fc24b7d6",
   "metadata": {},
   "outputs": [
    {
     "name": "stdout",
     "output_type": "stream",
     "text": [
      "문자열을 입력 : dfwdf\n",
      "fwdfd\n"
     ]
    }
   ],
   "source": [
    "#Q. 입력받은 문자열의 각 문자를 그 다음 문자로 변경하여 출력하세요. (ABC -> BCA)\n",
    "\n",
    "data = input('문자열을 입력 : ')\n",
    "for i in range(len(data)):\n",
    "    if i == 0:\n",
    "        continue\n",
    "    print(data[i], end='')\n",
    "else:\n",
    "    print(data[0])"
   ]
  },
  {
   "cell_type": "code",
   "execution_count": 15,
   "id": "71e88d0b",
   "metadata": {},
   "outputs": [
    {
     "name": "stdout",
     "output_type": "stream",
     "text": [
      "[(1, 'a'), (2, 'b'), (3, 'c'), (4, 'd')]\n"
     ]
    }
   ],
   "source": [
    "# zip 함수는 여러 개의 반복 가능한 객체(iterables)를 인수로 받아, 각 객체의 같은 인덱스에 위치한\n",
    "# 요소들을 묶어 튜플로 반환하는 이터레이터를 생성\n",
    "list1 = [1,2,3,4]\n",
    "list2 = ['a','b','c','d']\n",
    "zipped = zip(list1, list2)\n",
    "print(list(zipped))"
   ]
  },
  {
   "cell_type": "markdown",
   "id": "639238ae",
   "metadata": {},
   "source": [
    "Q. 남녀 파트너 정해주기 프로그램(zip)\n",
    "\n",
    "같은 수의 남녀 모임에서 파트너를 랜덤하게 정해주는 프로그램을 만들어 보세요\n",
    "\n",
    "male = ['철수','갑돌','로미오','이몽룡','온돌']\n",
    "\n",
    "female = ['미미','갑순','줄리엣','성춘향','평강']"
   ]
  },
  {
   "cell_type": "code",
   "execution_count": 36,
   "id": "bedd23b3",
   "metadata": {},
   "outputs": [
    {
     "name": "stdout",
     "output_type": "stream",
     "text": [
      "커플1: 갑돌, 줄리엣\n",
      "커플2: 온돌, 평강\n",
      "커플3: 로미오, 갑순\n",
      "커플4: 이몽룡, 미미\n",
      "커플5: 철수, 성춘향\n"
     ]
    }
   ],
   "source": [
    "from random import shuffle\n",
    "male = ['철수','갑돌','로미오','이몽룡','온돌']\n",
    "female = ['미미','갑순','줄리엣','성춘향','평강']\n",
    "shuffle(male)\n",
    "shuffle(female)\n",
    "couples = zip(male, female)\n",
    "\n",
    "for i, couple in enumerate(couples): #enumerate 는 index랑 리스트의 각 요소도 같이 뽑아준다.\n",
    "    print(f'커플{i+1}: {couple[0]}, {couple[1]}')"
   ]
  },
  {
   "cell_type": "code",
   "execution_count": 39,
   "id": "34b493bd",
   "metadata": {},
   "outputs": [
    {
     "name": "stdout",
     "output_type": "stream",
     "text": [
      "[1, 2, 3, 4, 5, 6, 7, 8, 9, 10, 11, 12, 13, 14, 15, 16, 17, 18, 19, 20, 21, 22, 23, 24, 25, 26, 27, 28, 29, 30, 31, 32, 33, 34, 35, 36, 37, 38, 39, 40, 41, 42, 43, 44, 45] \n",
      "\n",
      "[39, 45, 25, 8, 13, 26]\n",
      "[41, 45, 36, 33, 8, 26]\n",
      "[38, 15, 16, 35, 7, 11]\n",
      "[3, 21, 31, 11, 23, 18]\n",
      "[32, 24, 41, 26, 10, 9]\n",
      "[33, 43, 24, 9, 11, 30]\n"
     ]
    }
   ],
   "source": [
    "import random\n",
    "r = list(range(1,46))\n",
    "print(r,'\\n')\n",
    "for i in range(6):\n",
    "    lotto = random.sample(r,6) #sample 함수 잘 알아두기. unique한 원소 6개.\n",
    "    print(lotto)"
   ]
  },
  {
   "cell_type": "code",
   "execution_count": 45,
   "id": "90fa1835",
   "metadata": {},
   "outputs": [
    {
     "name": "stdout",
     "output_type": "stream",
     "text": [
      "발표자 수를 입력하세요.: 2\n",
      "['주용규', '윤성민']\n"
     ]
    }
   ],
   "source": [
    "# Q. 발표자수를 랜덤하게 출력하는 프로그램을 작성하세요.\n",
    "import random\n",
    "kita = ['김신미','김학준','서영우','심주승','윤성민','이민지','전유빈','주용규','최재빈','한정현','황인서']\n",
    "num = int(input(\"발표자 수를 입력하세요.: \"))\n",
    "presenters = random.sample(kita,num)\n",
    "print(presenters)"
   ]
  },
  {
   "cell_type": "code",
   "execution_count": 4,
   "id": "0df70337",
   "metadata": {},
   "outputs": [
    {
     "name": "stdout",
     "output_type": "stream",
     "text": [
      "첫번째 숫자를 입력하세요.1\n",
      "두번째 숫자를 입력하세요.4\n",
      "다시 입력하세요.\n",
      "첫번째 숫자를 입력하세요.5\n",
      "두번째 숫자를 입력하세요.9\n",
      "14\n"
     ]
    }
   ],
   "source": [
    "# 짝수와 짝수를 입력하면 곱한 값을 출력하고  홀수와 홀수를 입력하면 덧셈 값을 출력하고 그 외는 다시 입력하라는 메시지를 출력하세요.\n",
    "\n",
    "while 1:\n",
    "    x = int(input(\"첫번째 숫자를 입력하세요.\"))\n",
    "    y = int(input(\"두번째 숫자를 입력하세요.\"))\n",
    "    if (x % 2 == 0 and y % 2 == 0):\n",
    "        print(x*y)\n",
    "        break\n",
    "    elif (x % 2 == 1 and y % 2 == 1):\n",
    "        print(x+y)\n",
    "        break\n",
    "    else:\n",
    "        print(\"다시 입력하세요.\")"
   ]
  },
  {
   "cell_type": "markdown",
   "id": "b91ce7aa",
   "metadata": {},
   "source": [
    "pop 함수\n",
    "- 리스트와 같은 자료 구조에서 주로 사용되는 함수\n",
    "- 이 함수는 특정 인덱스에 위치한 요소를 리스트에서 제거하고 해당 요소를 반환"
   ]
  },
  {
   "cell_type": "code",
   "execution_count": 5,
   "id": "ee5149f0",
   "metadata": {},
   "outputs": [
    {
     "name": "stdout",
     "output_type": "stream",
     "text": [
      "cherry\n",
      "['apple', 'banana', 'date']\n",
      "date\n",
      "['apple', 'banana']\n"
     ]
    }
   ],
   "source": [
    "fruits = [\"apple\",\"banana\",\"cherry\",\"date\"]\n",
    "\n",
    "# 인덱스 2의 요소 (cherry)를 제거하고 반환\n",
    "removed_fruit = fruits.pop(2)\n",
    "print(removed_fruit)\n",
    "print(fruits)\n",
    "\n",
    "# 리스트의 마지막 요소 (date)를 제거하고 반환\n",
    "last_fruit = fruits.pop()\n",
    "print(last_fruit)\n",
    "print(fruits)"
   ]
  }
 ],
 "metadata": {
  "kernelspec": {
   "display_name": "Python 3 (ipykernel)",
   "language": "python",
   "name": "python3"
  },
  "language_info": {
   "codemirror_mode": {
    "name": "ipython",
    "version": 3
   },
   "file_extension": ".py",
   "mimetype": "text/x-python",
   "name": "python",
   "nbconvert_exporter": "python",
   "pygments_lexer": "ipython3",
   "version": "3.11.5"
  }
 },
 "nbformat": 4,
 "nbformat_minor": 5
}
