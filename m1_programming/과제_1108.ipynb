{
 "cells": [
  {
   "cell_type": "markdown",
   "id": "137266d8",
   "metadata": {},
   "source": [
    "#### [과제1_1108] : 클래스 구성 요소와 관련 아래 사항에 대한 사례를 작성하세요.\n",
    "- 클래스 선언\n",
    "- 생성자 \n",
    "- 속성(attributes)\n",
    "- 메서드\n",
    "- 상속\n",
    "- 인스턴스화(객체 만들기)\n",
    "- 클래스 변수\n",
    "- 매직 메서드(특수 메서드) "
   ]
  },
  {
   "cell_type": "code",
   "execution_count": 13,
   "id": "3e39fd02",
   "metadata": {},
   "outputs": [
    {
     "name": "stdout",
     "output_type": "stream",
     "text": [
      "안녕! 나는 robobo이야\n",
      "음식을 가져다 드릴 수 있습니다.\n",
      "3번 테이블로 음식을 가져다드렸습니다.\n"
     ]
    }
   ],
   "source": [
    "class Robot: # 클래스 선언\n",
    "    identity = 'Robot' #클래스 변수\n",
    "    def __init__(self, name): # 생성자\n",
    "        self.name = name # 속성\n",
    "        print(f\"안녕! 나는 {self.name}이야\")\n",
    "    \n",
    "    def helping(self): #  메서드\n",
    "        print(\"도움을 드릴 수 있습니다.\")\n",
    "    \n",
    "    def __str__(self): # 매직 메서드\n",
    "        return f\"{self.name}는 {self.identity}\"\n",
    "\n",
    "class ServingRobot(Robot): #상속\n",
    "    def helping(self):\n",
    "        print(\"음식을 가져다 드릴 수 있습니다.\")\n",
    "    \n",
    "    def move(self, table):\n",
    "        print(f\"{table}번 테이블로 음식을 가져다드렸습니다.\")\n",
    "\n",
    "robobo = ServingRobot('robobo') # 인스턴스 화\n",
    "robobo.helping()\n",
    "robobo.move(3)"
   ]
  },
  {
   "cell_type": "markdown",
   "id": "c2046176",
   "metadata": {},
   "source": [
    "#### [과제2_1108] : 업무미팅이 2시임을 알려주는 자동 이메일을 클래스 AutoEmail을 작성하여 아래와 같이 출력하세요.(세가지 방식으로 작성 : 생성자, 메서드, 생성자/메서드)\n",
    "\n",
    "안녕하세요. kevin님, 업무미팅은 2시입니다."
   ]
  },
  {
   "cell_type": "code",
   "execution_count": 8,
   "id": "7ab06743",
   "metadata": {},
   "outputs": [
    {
     "name": "stdout",
     "output_type": "stream",
     "text": [
      "안녕하세요. kevin님, 업무미팅은 2시 입니다.\n"
     ]
    }
   ],
   "source": [
    "class AutoEmail:\n",
    "    def __init__(self,name,time):\n",
    "        self.name = name\n",
    "        self.time = time\n",
    "        print(f\"안녕하세요. {self.name}님, 업무미팅은 {self.time}시 입니다.\")\n",
    "\n",
    "meeting2 = AutoEmail('kevin',2)"
   ]
  },
  {
   "cell_type": "code",
   "execution_count": 9,
   "id": "bd227747",
   "metadata": {},
   "outputs": [
    {
     "name": "stdout",
     "output_type": "stream",
     "text": [
      "안녕하세요. kevin님, 업무미팅은 2시 입니다.\n"
     ]
    }
   ],
   "source": [
    "class AutoEmail:\n",
    "    def print_email(self,name,time):\n",
    "        print(f\"안녕하세요. {name}님, 업무미팅은 {time}시 입니다.\")\n",
    "        \n",
    "meeting2 = AutoEmail()\n",
    "meeting2.print_email('kevin',2)"
   ]
  },
  {
   "cell_type": "code",
   "execution_count": 11,
   "id": "a72e68ce",
   "metadata": {},
   "outputs": [
    {
     "name": "stdout",
     "output_type": "stream",
     "text": [
      "안녕하세요. kevin님, 업무미팅은 2시 입니다.\n"
     ]
    }
   ],
   "source": [
    "class AutoEmail:\n",
    "    def __init__(self,name,time):\n",
    "        self.name = name\n",
    "        self.time = time\n",
    "    def print_email(self):\n",
    "        print(f\"안녕하세요. {self.name}님, 업무미팅은 {self.time}시 입니다.\")\n",
    "\n",
    "meeting2 = AutoEmail('kevin',2)\n",
    "meeting2.print_email()\n",
    "        "
   ]
  },
  {
   "cell_type": "code",
   "execution_count": null,
   "id": "5c2aac22",
   "metadata": {},
   "outputs": [],
   "source": [
    "class AutoEmail:\n",
    "    def __init__(self,name,time):\n",
    "        self.name = name\n",
    "        self.time = time\n",
    "        print(f\"안녕하세요. {self.name}님, 업무미팅은 {self.time}시 입니다.\")\n",
    "\n",
    "meeting2 = AutoEmail('kevin',2)\n",
    "\n",
    "class AutoEmail:\n",
    "    def print_email(self,name,time):\n",
    "        print(f\"안녕하세요. {name}님, 업무미팅은 {time}시 입니다.\")\n",
    "        \n",
    "meeting2 = AutoEmail()\n",
    "meeting2.print_email('kevin',2)\n",
    "\n",
    "class AutoEmail:\n",
    "    def __init__(self,name,time):\n",
    "        self.name = name\n",
    "        self.time = time\n",
    "    def print_email(self):\n",
    "        print(f\"안녕하세요. {self.name}님, 업무미팅은 {self.time}시 입니다.\")\n",
    "\n",
    "meeting2 = AutoEmail('kevin',2)\n",
    "meeting2.print_email()\n",
    "        "
   ]
  },
  {
   "cell_type": "markdown",
   "id": "20bb0549",
   "metadata": {},
   "source": [
    "#### [과제3_1108] : 사용자 함수를 작성하여 기본가격 1000에 입력 받은 값을 추가한 가격을 산출하세요. \n",
    "- (지역변수, 전역변수 2가지 방법) \n",
    "- return 사용, global 변수 사용 두가지 경우로 수행"
   ]
  },
  {
   "cell_type": "code",
   "execution_count": 22,
   "id": "8e7c24f0",
   "metadata": {},
   "outputs": [
    {
     "name": "stdout",
     "output_type": "stream",
     "text": [
      "1500\n",
      "1500\n"
     ]
    }
   ],
   "source": [
    "# 지역변수 사용\n",
    "def price_add1(add):\n",
    "    basic_price = 1000\n",
    "    return basic_price+add\n",
    "\n",
    "print(price_add1(500))\n",
    "\n",
    "# 전역변수 사용\n",
    "basic_price = 1000\n",
    "def price_add2(add):\n",
    "    global basic_price\n",
    "    basic_price+= add\n",
    " \n",
    "price_add2(500)\n",
    "print(basic_price)"
   ]
  },
  {
   "cell_type": "markdown",
   "id": "344b4aca",
   "metadata": {},
   "source": [
    "#### [과제4_1108] : \n",
    "4칙 연산 기능을 포함한 Cal4 클래스(생성자 이용)를 작성하고 이 클래스를 이용하여 cal 계산기 객체를 \n",
    "만든 후 두개의 수  1000, 200에 대한 사칙연산을 수행하세요."
   ]
  },
  {
   "cell_type": "code",
   "execution_count": 15,
   "id": "ba131d4b",
   "metadata": {
    "scrolled": false
   },
   "outputs": [
    {
     "name": "stdout",
     "output_type": "stream",
     "text": [
      "1000 + 200 = 1200\n",
      "1000 - 200 = 800\n",
      "1000 * 200 = 200000\n",
      "1000 / 200 = 5.0\n"
     ]
    }
   ],
   "source": [
    "class Cal4:\n",
    "    def __init__(self,num1,num2):\n",
    "        self.num1 = num1\n",
    "        self.num2 = num2\n",
    "        print(f\"{self.num1} + {self.num2} = {self.num1+self.num2}\")\n",
    "        print(f\"{self.num1} - {self.num2} = {self.num1-self.num2}\")\n",
    "        print(f\"{self.num1} * {self.num2} = {self.num1*self.num2}\")\n",
    "        print(f\"{self.num1} / {self.num2} = {self.num1/self.num2}\")\n",
    "\n",
    "a = Cal4(1000,200)"
   ]
  },
  {
   "cell_type": "code",
   "execution_count": 3,
   "id": "dceaf17c",
   "metadata": {
    "scrolled": true
   },
   "outputs": [
    {
     "name": "stdout",
     "output_type": "stream",
     "text": [
      "1000 + 200 = 1200\n",
      "1000 - 200 = 800\n",
      "1000 * 200 = 200000\n",
      "1000 / 200 = 5.0\n"
     ]
    }
   ],
   "source": [
    "class Cal4:\n",
    "    def __init__(self,num1,num2):\n",
    "        self.num1 = num1\n",
    "        self.num2 = num2\n",
    "    \n",
    "    def sum(self):\n",
    "        print(f\"{self.num1} + {self.num2} = {self.num1+self.num2}\")\n",
    "    \n",
    "    def subtract(self):\n",
    "        print(f\"{self.num1} - {self.num2} = {self.num1-self.num2}\")\n",
    "        \n",
    "    def multiply(self):\n",
    "         print(f\"{self.num1} * {self.num2} = {self.num1*self.num2}\")\n",
    "            \n",
    "    def divide(self):\n",
    "        print(f\"{self.num1} / {self.num2} = {self.num1/self.num2}\")\n",
    "\n",
    "a = Cal4(1000,200)\n",
    "a.sum()\n",
    "a.subtract()\n",
    "a.multiply()\n",
    "a.divide()"
   ]
  },
  {
   "cell_type": "markdown",
   "id": "72bd4a49",
   "metadata": {},
   "source": [
    "#### [과제5_1108]: 직원 채용, 직원 퇴직 관리를 하는 프로그래밍을 구조지향, 객체지향으로 각각 작성하세요.\n",
    "- def add_employee(employees, name, position):\n",
    "- def remove_employee(employees, name):"
   ]
  },
  {
   "cell_type": "code",
   "execution_count": 4,
   "id": "4858e6a5",
   "metadata": {},
   "outputs": [
    {
     "name": "stdout",
     "output_type": "stream",
     "text": [
      "추가할 직원 이름을 입력하세요: David\n",
      "추가할 직원의 직급을 입력하세요: 대리\n",
      "David 대리 추가되었습니다.\n",
      "{'Alice': '과장', 'Bob': '차장', 'Chris': '대리', 'David': '대리'}\n"
     ]
    },
    {
     "ename": "KeyboardInterrupt",
     "evalue": "Interrupted by user",
     "output_type": "error",
     "traceback": [
      "\u001b[1;31m---------------------------------------------------------------------------\u001b[0m",
      "\u001b[1;31mKeyboardInterrupt\u001b[0m                         Traceback (most recent call last)",
      "Cell \u001b[1;32mIn[4], line 52\u001b[0m\n\u001b[0;32m     49\u001b[0m             \u001b[38;5;28mprint\u001b[39m(\u001b[38;5;124m\"\u001b[39m\u001b[38;5;124m잘못입력하셨습니다. 프로그램을 종료합니다.\u001b[39m\u001b[38;5;124m\"\u001b[39m)\n\u001b[0;32m     50\u001b[0m             \u001b[38;5;28;01mbreak\u001b[39;00m\n\u001b[1;32m---> 52\u001b[0m main()\n",
      "Cell \u001b[1;32mIn[4], line 28\u001b[0m, in \u001b[0;36mmain\u001b[1;34m()\u001b[0m\n\u001b[0;32m     26\u001b[0m add_employee(employees, name, position)\n\u001b[0;32m     27\u001b[0m \u001b[38;5;28mprint\u001b[39m(employees)\n\u001b[1;32m---> 28\u001b[0m addmore \u001b[38;5;241m=\u001b[39m \u001b[38;5;28minput\u001b[39m(\u001b[38;5;124m\"\u001b[39m\u001b[38;5;124m더 추가하시겠습니까? (y,n): \u001b[39m\u001b[38;5;124m\"\u001b[39m)\n\u001b[0;32m     29\u001b[0m \u001b[38;5;28;01mif\u001b[39;00m addmore \u001b[38;5;241m==\u001b[39m\u001b[38;5;124m\"\u001b[39m\u001b[38;5;124my\u001b[39m\u001b[38;5;124m\"\u001b[39m:\n\u001b[0;32m     30\u001b[0m     \u001b[38;5;28;01mcontinue\u001b[39;00m\n",
      "File \u001b[1;32mC:\\kita\\anaconda\\envs\\kita\\Lib\\site-packages\\ipykernel\\kernelbase.py:1202\u001b[0m, in \u001b[0;36mKernel.raw_input\u001b[1;34m(self, prompt)\u001b[0m\n\u001b[0;32m   1200\u001b[0m     msg \u001b[38;5;241m=\u001b[39m \u001b[38;5;124m\"\u001b[39m\u001b[38;5;124mraw_input was called, but this frontend does not support input requests.\u001b[39m\u001b[38;5;124m\"\u001b[39m\n\u001b[0;32m   1201\u001b[0m     \u001b[38;5;28;01mraise\u001b[39;00m StdinNotImplementedError(msg)\n\u001b[1;32m-> 1202\u001b[0m \u001b[38;5;28;01mreturn\u001b[39;00m \u001b[38;5;28mself\u001b[39m\u001b[38;5;241m.\u001b[39m_input_request(\n\u001b[0;32m   1203\u001b[0m     \u001b[38;5;28mstr\u001b[39m(prompt),\n\u001b[0;32m   1204\u001b[0m     \u001b[38;5;28mself\u001b[39m\u001b[38;5;241m.\u001b[39m_parent_ident[\u001b[38;5;124m\"\u001b[39m\u001b[38;5;124mshell\u001b[39m\u001b[38;5;124m\"\u001b[39m],\n\u001b[0;32m   1205\u001b[0m     \u001b[38;5;28mself\u001b[39m\u001b[38;5;241m.\u001b[39mget_parent(\u001b[38;5;124m\"\u001b[39m\u001b[38;5;124mshell\u001b[39m\u001b[38;5;124m\"\u001b[39m),\n\u001b[0;32m   1206\u001b[0m     password\u001b[38;5;241m=\u001b[39m\u001b[38;5;28;01mFalse\u001b[39;00m,\n\u001b[0;32m   1207\u001b[0m )\n",
      "File \u001b[1;32mC:\\kita\\anaconda\\envs\\kita\\Lib\\site-packages\\ipykernel\\kernelbase.py:1245\u001b[0m, in \u001b[0;36mKernel._input_request\u001b[1;34m(self, prompt, ident, parent, password)\u001b[0m\n\u001b[0;32m   1242\u001b[0m \u001b[38;5;28;01mexcept\u001b[39;00m \u001b[38;5;167;01mKeyboardInterrupt\u001b[39;00m:\n\u001b[0;32m   1243\u001b[0m     \u001b[38;5;66;03m# re-raise KeyboardInterrupt, to truncate traceback\u001b[39;00m\n\u001b[0;32m   1244\u001b[0m     msg \u001b[38;5;241m=\u001b[39m \u001b[38;5;124m\"\u001b[39m\u001b[38;5;124mInterrupted by user\u001b[39m\u001b[38;5;124m\"\u001b[39m\n\u001b[1;32m-> 1245\u001b[0m     \u001b[38;5;28;01mraise\u001b[39;00m \u001b[38;5;167;01mKeyboardInterrupt\u001b[39;00m(msg) \u001b[38;5;28;01mfrom\u001b[39;00m \u001b[38;5;28;01mNone\u001b[39;00m\n\u001b[0;32m   1246\u001b[0m \u001b[38;5;28;01mexcept\u001b[39;00m \u001b[38;5;167;01mException\u001b[39;00m:\n\u001b[0;32m   1247\u001b[0m     \u001b[38;5;28mself\u001b[39m\u001b[38;5;241m.\u001b[39mlog\u001b[38;5;241m.\u001b[39mwarning(\u001b[38;5;124m\"\u001b[39m\u001b[38;5;124mInvalid Message:\u001b[39m\u001b[38;5;124m\"\u001b[39m, exc_info\u001b[38;5;241m=\u001b[39m\u001b[38;5;28;01mTrue\u001b[39;00m)\n",
      "\u001b[1;31mKeyboardInterrupt\u001b[0m: Interrupted by user"
     ]
    }
   ],
   "source": [
    "# 구조지향\n",
    "def add_employee(employees, name, position):\n",
    "    if name in employees:\n",
    "        print(\"이미 리스트에 존재하는 직원입니다.\")\n",
    "    else:\n",
    "        employees[name] = position\n",
    "        print(f\"{name} {position} 추가되었습니다.\")\n",
    "    return employees\n",
    "\n",
    "def remove_employee(employees,name):\n",
    "    try:\n",
    "        del employees[name]\n",
    "        print(f\"{name} 삭제되었습니다.\")\n",
    "    except:\n",
    "        print(\"존재하지 않는 이름입니다.\")\n",
    "    return employees\n",
    "\n",
    "# employees = {'Alice': '과장', 'Bob':'차장', 'Chris': '대리'}\n",
    "# add_employee(employees,'David','사원')\n",
    "\n",
    "def main():\n",
    "    employees = {'Alice': '과장', 'Bob':'차장', 'Chris': '대리'}  \n",
    "    while 1:\n",
    "        name = input(\"추가할 직원 이름을 입력하세요: \")\n",
    "        position = input(\"추가할 직원의 직급을 입력하세요: \")\n",
    "        add_employee(employees, name, position)\n",
    "        print(employees)\n",
    "        addmore = input(\"더 추가하시겠습니까? (y,n): \")\n",
    "        if addmore ==\"y\":\n",
    "            continue\n",
    "        elif addmore ==\"n\":\n",
    "            print(\"사용해주셔서 감사합니다. 프로그램을 종료합니다.\")\n",
    "            break\n",
    "        else:\n",
    "            print(\"잘못입력하셨습니다. 프로그램을 종료합니다.\")\n",
    "            break\n",
    "\n",
    "    while 1:\n",
    "        name = input(\"삭제할 직원 이름을 입력하세요: \")\n",
    "        remove_employee(employees, name)\n",
    "        print(employees)\n",
    "        removemore = input(\"더 삭제하시겠습니까? (y,n): \")\n",
    "        if removemore ==\"y\":\n",
    "            continue\n",
    "        elif removemore ==\"n\":\n",
    "            print(\"사용해주셔서 감사합니다. 프로그램을 종료합니다.\")\n",
    "            break\n",
    "        else:\n",
    "            print(\"잘못입력하셨습니다. 프로그램을 종료합니다.\")\n",
    "            break\n",
    "\n",
    "main()"
   ]
  },
  {
   "cell_type": "code",
   "execution_count": 2,
   "id": "8b122260",
   "metadata": {},
   "outputs": [
    {
     "name": "stdout",
     "output_type": "stream",
     "text": [
      "삭제할 직원 이름을 입력하세요: david\n",
      "존재하지 않는 이름입니다.\n",
      "삭제할 직원 이름을 입력하세요: chris\n",
      "존재하지 않는 이름입니다.\n",
      "삭제할 직원 이름을 입력하세요: Chris\n",
      "Chris 삭제되었습니다.\n",
      "{'Alice': '과장', 'Bob': '차장'}\n",
      "더 삭제하시겠습니까? (y,n): n\n",
      "사용해주셔서 감사합니다. 프로그램을 종료합니다.\n"
     ]
    }
   ],
   "source": [
    "class Employees:\n",
    "    def __init__(self, employees):\n",
    "        self.employees = employees\n",
    "    \n",
    "    def add_employee(self):\n",
    "        while 1:\n",
    "            name = input(\"추가할 직원 이름을 입력하세요: \")\n",
    "            position = input(\"추가할 직원의 직급을 입력하세요: \")\n",
    "            if name in self.employees:\n",
    "                print(\"이미 리스트에 존재하는 직원입니다.\")\n",
    "                break\n",
    "            else:\n",
    "                self.employees[name] = position\n",
    "                print(f\"{name} {position} 추가되었습니다.\")\n",
    "            print(self.employees)\n",
    "            addmore = input(\"더 추가하시겠습니까? (y,n): \")\n",
    "            if addmore ==\"y\":\n",
    "                continue\n",
    "            elif addmore ==\"n\":\n",
    "                print(\"사용해주셔서 감사합니다. 프로그램을 종료합니다.\")\n",
    "                break\n",
    "            else:\n",
    "                print(\"잘못입력하셨습니다. 프로그램을 종료합니다.\")\n",
    "                break\n",
    "    def remove_employee(self):\n",
    "        while 1:\n",
    "            name = input(\"삭제할 직원 이름을 입력하세요: \")\n",
    "            try:\n",
    "                del self.employees[name]\n",
    "                print(f\"{name} 삭제되었습니다.\")\n",
    "            except:\n",
    "                print(\"존재하지 않는 이름입니다.\")\n",
    "                continue\n",
    "            print(self.employees)\n",
    "            removemore = input(\"더 삭제하시겠습니까? (y,n): \")\n",
    "            if removemore ==\"y\":\n",
    "                continue\n",
    "            elif removemore ==\"n\":\n",
    "                print(\"사용해주셔서 감사합니다. 프로그램을 종료합니다.\")\n",
    "                break\n",
    "            else:\n",
    "                print(\"잘못입력하셨습니다. 프로그램을 종료합니다.\")\n",
    "                break\n",
    "\n",
    "    # employees = {'Alice': '과장', 'Bob':'차장', 'Chris': '대리'}\n",
    "    # add_employee(employees,'David','사원')\n",
    "\n",
    "a_company = Employees({'Alice': '과장', 'Bob':'차장', 'Chris': '대리'})\n",
    "a_company.remove_employee()"
   ]
  },
  {
   "cell_type": "code",
   "execution_count": null,
   "id": "c5dbf615",
   "metadata": {},
   "outputs": [],
   "source": []
  },
  {
   "cell_type": "code",
   "execution_count": null,
   "id": "fc636531",
   "metadata": {},
   "outputs": [],
   "source": []
  },
  {
   "cell_type": "code",
   "execution_count": null,
   "id": "a13a3bb8",
   "metadata": {},
   "outputs": [],
   "source": []
  },
  {
   "cell_type": "code",
   "execution_count": null,
   "id": "43d03a7d",
   "metadata": {},
   "outputs": [],
   "source": []
  },
  {
   "cell_type": "code",
   "execution_count": null,
   "id": "63f4089a",
   "metadata": {},
   "outputs": [],
   "source": []
  },
  {
   "cell_type": "code",
   "execution_count": null,
   "id": "a55e46ec",
   "metadata": {},
   "outputs": [],
   "source": []
  },
  {
   "cell_type": "code",
   "execution_count": null,
   "id": "c23aa102",
   "metadata": {},
   "outputs": [],
   "source": []
  },
  {
   "cell_type": "code",
   "execution_count": null,
   "id": "23e3cd6c",
   "metadata": {},
   "outputs": [],
   "source": []
  },
  {
   "cell_type": "code",
   "execution_count": null,
   "id": "7eebb0e0",
   "metadata": {},
   "outputs": [],
   "source": []
  }
 ],
 "metadata": {
  "kernelspec": {
   "display_name": "Python 3 (ipykernel)",
   "language": "python",
   "name": "python3"
  },
  "language_info": {
   "codemirror_mode": {
    "name": "ipython",
    "version": 3
   },
   "file_extension": ".py",
   "mimetype": "text/x-python",
   "name": "python",
   "nbconvert_exporter": "python",
   "pygments_lexer": "ipython3",
   "version": "3.11.5"
  }
 },
 "nbformat": 4,
 "nbformat_minor": 5
}
