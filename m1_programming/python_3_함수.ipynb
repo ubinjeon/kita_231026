{
 "cells": [
  {
   "cell_type": "markdown",
   "id": "29d5b1cc",
   "metadata": {},
   "source": [
    "파이썬에서 함수는 크게 내장 함수(Built-in Functions)와 외장 함수(External Functions)로 나뉩니다.\n",
    "\n",
    "1. 내장 함수 (Built-in Functions):\n",
    "- 내장 함수는 파이썬 인터프리터에 포함되어 있어, 별도의 모듈을 임포트(import)하지 않고도 사용 예를 들어, print(), len(), type(), range(), zip() 등이 내장 함수입니다.\n",
    "- 이러한 함수들은 기본적인 작업을 수행하며, 파이썬 프로그래밍의 기본적인 빌딩 블록(building blocks)으로 작동\n",
    "\n",
    "2. 외장 함수 (External Functions):\n",
    "- 표준 라이브러리에 포함된 모듈과 함수를 가리키는 것으로 모듈을 임포트하여 사용\n",
    "- 파이썬 표준 라이브러리의 os, sys, math, random, datetime 등의 모듈에는 다양한 외장 함수가 포함\n",
    "\n",
    "3. 외부 라이브러리나 패키지\n",
    "- 표준 라이브러리에 포함되지 않아 기본 설치에는 포함되지 않는다. \n",
    "- 이를 사용하려면 먼저 해당 라이브러리나 패키지를 설치\n",
    "- 외부 라이브러리는 통상적으로 파이썬의 패키지 관리자인 pip를 사용하여 설치\n",
    "- 설치 후에는 외장 함수와 마찬가지로 필요한 모듈을 임포트하여 사용\n",
    "- 예: numpy, pandas, requests 등의 외부 라이브러리에 포함된 함수들.\n",
    "\n",
    "3. 사용자 정의 함수(User-Defined Functions):\n",
    "- 사용자가 직접 정의하여 사용하는 함수\n",
    "- def 키워드를 사용하여 함수를 정의하며, 필요에 따라 매개변수와 반환 값을 지정\n",
    "\n",
    "4. 람다 함수(Lambda Functions):\n",
    "- 이름 없는 간단한 함수를 정의할 때 사용하는 익명 함수\n",
    "- lambda 키워드를 사용하여 한 줄로 함수를 정의하며, 주로 간단한 연산이 필요할 때 사용"
   ]
  },
  {
   "cell_type": "code",
   "execution_count": 2,
   "id": "445e7ed6",
   "metadata": {},
   "outputs": [
    {
     "name": "stdout",
     "output_type": "stream",
     "text": [
      "Requirement already satisfied: pandas in c:\\kita\\anaconda\\envs\\kita\\lib\\site-packages (2.1.1)\n",
      "Requirement already satisfied: numpy>=1.23.2 in c:\\kita\\anaconda\\envs\\kita\\lib\\site-packages (from pandas) (1.26.0)\n",
      "Requirement already satisfied: python-dateutil>=2.8.2 in c:\\kita\\anaconda\\envs\\kita\\lib\\site-packages (from pandas) (2.8.2)\n",
      "Requirement already satisfied: pytz>=2020.1 in c:\\kita\\anaconda\\envs\\kita\\lib\\site-packages (from pandas) (2023.3.post1)\n",
      "Requirement already satisfied: tzdata>=2022.1 in c:\\kita\\anaconda\\envs\\kita\\lib\\site-packages (from pandas) (2023.3)\n",
      "Requirement already satisfied: six>=1.5 in c:\\kita\\anaconda\\envs\\kita\\lib\\site-packages (from python-dateutil>=2.8.2->pandas) (1.16.0)\n"
     ]
    }
   ],
   "source": [
    "!pip install pandas  #쓸 때는 import pandas as pd <- 별칭 이라던지 이렇게 씀."
   ]
  },
  {
   "cell_type": "code",
   "execution_count": 3,
   "id": "56303001",
   "metadata": {},
   "outputs": [
    {
     "name": "stdout",
     "output_type": "stream",
     "text": [
      "Hello, World!\n",
      "4\n",
      "<class 'int'>\n"
     ]
    }
   ],
   "source": [
    "# 내장 함수 예제\n",
    "print(\"Hello, World!\") # 출력 함수\n",
    "print(len([1,2,3,4])) # 길이 계산 함수\n",
    "print(type(10)) # 타입 확인 함수"
   ]
  },
  {
   "cell_type": "code",
   "execution_count": 15,
   "id": "5884c40d",
   "metadata": {},
   "outputs": [
    {
     "name": "stdout",
     "output_type": "stream",
     "text": [
      "4.0\n",
      "10\n",
      "2023-10-31 15:11:02.283736\n"
     ]
    }
   ],
   "source": [
    "# 외장 함수 예제\n",
    "import math # 수학 모듈 임포트\n",
    "print(math.sqrt(16)) # 제곱근 계산 함수\n",
    "\n",
    "import random # 랜덤 모듈 임포트\n",
    "print(random.randint(1,10)) # 랜덤 정수 생성 함수 randint는 레인지가 양 끝 포함이다. 즉 예제에서는 1에서 10까지.\n",
    "\n",
    "import datetime # 날짜와 시간 모듈 임포트\n",
    "print(datetime.datetime.now()) # 현재 날짜와 시간 출력 함수"
   ]
  },
  {
   "cell_type": "code",
   "execution_count": 17,
   "id": "4a3fc698",
   "metadata": {},
   "outputs": [
    {
     "name": "stdout",
     "output_type": "stream",
     "text": [
      "    Name  Age\n",
      "0  Alice   25\n",
      "1    Bob   30\n"
     ]
    }
   ],
   "source": [
    "# 외부 라이브러리 예제\n",
    "# 먼저 pip를 사용하여 requests 라이브러리를 설치합니다.\n",
    "#!pip install pandas\n",
    "\n",
    "import pandas as pd\n",
    "\n",
    "# pandas의 DataFrame 객체 생성 #pandas 는 데이터 전처리에 대한 것.\n",
    "data = {'Name':['Alice','Bob','Charlie'],'Age':[25,30,35]}\n",
    "df = pd.DataFrame(data)\n",
    "\n",
    "# pandas의 head() 함수 사용하여 DataFrame의 처음 5행 출력 (여기서는 3행만 존재) head() 빈칸이면 5행 그리고 head(2) 이렇게 지정해주면 2행.\n",
    "print(df.head(2))"
   ]
  },
  {
   "cell_type": "code",
   "execution_count": 3,
   "id": "405e6dff",
   "metadata": {
    "scrolled": true
   },
   "outputs": [
    {
     "data": {
      "text/html": [
       "<div>\n",
       "<style scoped>\n",
       "    .dataframe tbody tr th:only-of-type {\n",
       "        vertical-align: middle;\n",
       "    }\n",
       "\n",
       "    .dataframe tbody tr th {\n",
       "        vertical-align: top;\n",
       "    }\n",
       "\n",
       "    .dataframe thead th {\n",
       "        text-align: right;\n",
       "    }\n",
       "</style>\n",
       "<table border=\"1\" class=\"dataframe\">\n",
       "  <thead>\n",
       "    <tr style=\"text-align: right;\">\n",
       "      <th></th>\n",
       "      <th>survived</th>\n",
       "      <th>pclass</th>\n",
       "      <th>sex</th>\n",
       "      <th>age</th>\n",
       "      <th>sibsp</th>\n",
       "      <th>parch</th>\n",
       "      <th>fare</th>\n",
       "      <th>embarked</th>\n",
       "      <th>class</th>\n",
       "      <th>who</th>\n",
       "      <th>adult_male</th>\n",
       "      <th>deck</th>\n",
       "      <th>embark_town</th>\n",
       "      <th>alive</th>\n",
       "      <th>alone</th>\n",
       "    </tr>\n",
       "  </thead>\n",
       "  <tbody>\n",
       "    <tr>\n",
       "      <th>0</th>\n",
       "      <td>0</td>\n",
       "      <td>3</td>\n",
       "      <td>male</td>\n",
       "      <td>22.0</td>\n",
       "      <td>1</td>\n",
       "      <td>0</td>\n",
       "      <td>7.2500</td>\n",
       "      <td>S</td>\n",
       "      <td>Third</td>\n",
       "      <td>man</td>\n",
       "      <td>True</td>\n",
       "      <td>NaN</td>\n",
       "      <td>Southampton</td>\n",
       "      <td>no</td>\n",
       "      <td>False</td>\n",
       "    </tr>\n",
       "    <tr>\n",
       "      <th>1</th>\n",
       "      <td>1</td>\n",
       "      <td>1</td>\n",
       "      <td>female</td>\n",
       "      <td>38.0</td>\n",
       "      <td>1</td>\n",
       "      <td>0</td>\n",
       "      <td>71.2833</td>\n",
       "      <td>C</td>\n",
       "      <td>First</td>\n",
       "      <td>woman</td>\n",
       "      <td>False</td>\n",
       "      <td>C</td>\n",
       "      <td>Cherbourg</td>\n",
       "      <td>yes</td>\n",
       "      <td>False</td>\n",
       "    </tr>\n",
       "    <tr>\n",
       "      <th>2</th>\n",
       "      <td>1</td>\n",
       "      <td>3</td>\n",
       "      <td>female</td>\n",
       "      <td>26.0</td>\n",
       "      <td>0</td>\n",
       "      <td>0</td>\n",
       "      <td>7.9250</td>\n",
       "      <td>S</td>\n",
       "      <td>Third</td>\n",
       "      <td>woman</td>\n",
       "      <td>False</td>\n",
       "      <td>NaN</td>\n",
       "      <td>Southampton</td>\n",
       "      <td>yes</td>\n",
       "      <td>True</td>\n",
       "    </tr>\n",
       "    <tr>\n",
       "      <th>3</th>\n",
       "      <td>1</td>\n",
       "      <td>1</td>\n",
       "      <td>female</td>\n",
       "      <td>35.0</td>\n",
       "      <td>1</td>\n",
       "      <td>0</td>\n",
       "      <td>53.1000</td>\n",
       "      <td>S</td>\n",
       "      <td>First</td>\n",
       "      <td>woman</td>\n",
       "      <td>False</td>\n",
       "      <td>C</td>\n",
       "      <td>Southampton</td>\n",
       "      <td>yes</td>\n",
       "      <td>False</td>\n",
       "    </tr>\n",
       "    <tr>\n",
       "      <th>4</th>\n",
       "      <td>0</td>\n",
       "      <td>3</td>\n",
       "      <td>male</td>\n",
       "      <td>35.0</td>\n",
       "      <td>0</td>\n",
       "      <td>0</td>\n",
       "      <td>8.0500</td>\n",
       "      <td>S</td>\n",
       "      <td>Third</td>\n",
       "      <td>man</td>\n",
       "      <td>True</td>\n",
       "      <td>NaN</td>\n",
       "      <td>Southampton</td>\n",
       "      <td>no</td>\n",
       "      <td>True</td>\n",
       "    </tr>\n",
       "  </tbody>\n",
       "</table>\n",
       "</div>"
      ],
      "text/plain": [
       "   survived  pclass     sex   age  sibsp  parch     fare embarked  class  \\\n",
       "0         0       3    male  22.0      1      0   7.2500        S  Third   \n",
       "1         1       1  female  38.0      1      0  71.2833        C  First   \n",
       "2         1       3  female  26.0      0      0   7.9250        S  Third   \n",
       "3         1       1  female  35.0      1      0  53.1000        S  First   \n",
       "4         0       3    male  35.0      0      0   8.0500        S  Third   \n",
       "\n",
       "     who  adult_male deck  embark_town alive  alone  \n",
       "0    man        True  NaN  Southampton    no  False  \n",
       "1  woman       False    C    Cherbourg   yes  False  \n",
       "2  woman       False  NaN  Southampton   yes   True  \n",
       "3  woman       False    C  Southampton   yes  False  \n",
       "4    man        True  NaN  Southampton    no   True  "
      ]
     },
     "execution_count": 3,
     "metadata": {},
     "output_type": "execute_result"
    }
   ],
   "source": [
    "import pandas as pd\n",
    "import seaborn as sns #seaborn에서 데이터도 제공해준다. 그리고 데이터에서 어떤 변수를 선택할지. 그리고 시각화.\n",
    "\n",
    "titanic = sns.load_dataset('titanic')\n",
    "\n",
    "titanic.head()"
   ]
  },
  {
   "cell_type": "code",
   "execution_count": 19,
   "id": "af7ec86f",
   "metadata": {},
   "outputs": [
    {
     "name": "stdout",
     "output_type": "stream",
     "text": [
      "Hello, 전유빈!\n"
     ]
    }
   ],
   "source": [
    "# 사용자 함수 예제\n",
    "def greet(name):\n",
    "    return f\"Hello, {name}!\"\n",
    "\n",
    "print(greet(\"전유빈\")) # 출력: Hello, Alice!"
   ]
  },
  {
   "cell_type": "markdown",
   "id": "c5a427a2",
   "metadata": {},
   "source": [
    "#### 람다함수"
   ]
  },
  {
   "cell_type": "code",
   "execution_count": 20,
   "id": "b9e35d3f",
   "metadata": {},
   "outputs": [
    {
     "name": "stdout",
     "output_type": "stream",
     "text": [
      "12\n"
     ]
    }
   ],
   "source": [
    "# 람다 함수는 간단한 한 줄의 함수를 작성할 때 유용\n",
    "multiply = lambda x, y: x * y\n",
    "print(multiply(3, 4)) # 출력: 12"
   ]
  },
  {
   "cell_type": "code",
   "execution_count": 21,
   "id": "56453a49",
   "metadata": {},
   "outputs": [
    {
     "name": "stdout",
     "output_type": "stream",
     "text": [
      "True\n",
      "False\n"
     ]
    }
   ],
   "source": [
    "# 조건 사용:\n",
    "is_even = lambda x: True if x % 2 == 0 else False\n",
    "print(is_even(4)) #출력: True\n",
    "print(is_even(5)) #출력: False"
   ]
  },
  {
   "cell_type": "code",
   "execution_count": 22,
   "id": "3b74af39",
   "metadata": {},
   "outputs": [
    {
     "name": "stdout",
     "output_type": "stream",
     "text": [
      "[1, 4, 9, 16, 25]\n"
     ]
    }
   ],
   "source": [
    "# map() 함수와 함께 사용:\n",
    "numbers = [1,2,3,4,5]\n",
    "squared_numbers = map(lambda x: x * x, numbers)\n",
    "print(list(squared_numbers)) # 출력: [1,4,9,16,25]"
   ]
  },
  {
   "cell_type": "code",
   "execution_count": 23,
   "id": "97e43f13",
   "metadata": {},
   "outputs": [
    {
     "name": "stdout",
     "output_type": "stream",
     "text": [
      "[2, 4]\n"
     ]
    }
   ],
   "source": [
    "# filter() 함수와 함께 사용:\n",
    "numbers = [1,2,3,4,5]\n",
    "even_numbers = filter(lambda x:x % 2 == 0, numbers)\n",
    "print(list(even_numbers)) #출력: [2, 4]"
   ]
  },
  {
   "cell_type": "code",
   "execution_count": 2,
   "id": "8c6e8f72",
   "metadata": {},
   "outputs": [
    {
     "name": "stdout",
     "output_type": "stream",
     "text": [
      "[('Alice', 90), ('Charlie', 88), ('Bob', 85)]\n"
     ]
    }
   ],
   "source": [
    "# sorted() 함수와 함께 사용:\n",
    "students = [('Alice', 90), ('Bob', 85), ('Charlie', 88)]\n",
    "#sorted_students = sorted(students, key = lambda x: x[1]) # sorted 함수 안에 key = 는 sorted 하는 기준을 의미한다.\n",
    "sorted_students = sorted(students, key = lambda x: x[1], reverse=True) #내림차순\n",
    "print(sorted_students)"
   ]
  },
  {
   "cell_type": "markdown",
   "id": "9aa5783f",
   "metadata": {},
   "source": [
    "#### 함수 vs 메소드 \n",
    "- 함수 (Function)\n",
    "    - 함수는 특정 작업을 수행하거나 값을 계산하기 위해 정의된 코드의 블록\n",
    "    - 함수는 def 키워드를 사용하여 정의\n",
    "    - 함수는 전역적으로 호출할 수 있거나 다른 함수 내부에서 호출할 수 있다.\n",
    "    - 예: print(), len(), max()\n",
    "- 메소드 (Method)\n",
    "    - 메소드는 객체에 속한 함수즉, 메소드는 특정 객체의 속성이거나 기능으로 정의\n",
    "    - 메소드는 객체와 연결되어 있으며, . (점) 표기법을 사용하여 해당 객체에 대한 메소드를 호출\n",
    "    - 메소드는 첫 번째 매개변수로 self를 사용하여 객체 자체를 참조 (클래스 내부에서 메소드를 정의할 때)\n",
    "- 주요 차이점\n",
    "    - 정의: 함수는 독립적으로 정의되지만, 메소드는 클래스 내부에서 정의\n",
    "    - 호출: 함수는 이름만으로 호출될 수 있지만, 메소드는 객체를 통해 호출\n",
    "    - 참조: 메소드는 첫 번째 매개변수로 객체 자신을 참조(self), 반면 함수는 이런 자체 참조 매개변수를 갖지 않는다."
   ]
  },
  {
   "cell_type": "code",
   "execution_count": 4,
   "id": "9e7f31db",
   "metadata": {},
   "outputs": [
    {
     "name": "stdout",
     "output_type": "stream",
     "text": [
      "Hello from a function\n"
     ]
    }
   ],
   "source": [
    "def my_function(): #인풋도 없고 아웃풋도 없는 사용자함수 예제.\n",
    "    print(\"Hello from a function\")\n",
    "\n",
    "my_function() # 함수 호출"
   ]
  },
  {
   "cell_type": "code",
   "execution_count": 6,
   "id": "17e2a680",
   "metadata": {},
   "outputs": [
    {
     "name": "stdout",
     "output_type": "stream",
     "text": [
      "Hello from a method\n"
     ]
    }
   ],
   "source": [
    "class MyClass:\n",
    "    def my_method(self):\n",
    "        print(\"Hello from a method\")\n",
    "    \n",
    "obj = MyClass()\n",
    "obj.my_method() # 메소드 호출"
   ]
  },
  {
   "cell_type": "code",
   "execution_count": 7,
   "id": "380b4470",
   "metadata": {},
   "outputs": [
    {
     "data": {
      "text/plain": [
       "[1, 2, 3, 4, 5, 6]"
      ]
     },
     "execution_count": 7,
     "metadata": {},
     "output_type": "execute_result"
    }
   ],
   "source": [
    "# 메소드 사례. 파이썬에서는 모든 자료형을 객체로 부를 수 있음. 아래 예제에서는 리스트의 객체의 메소드를 썼음.\n",
    "my_list = [1,2,3,4,5]\n",
    "\n",
    "my_list.append(6) #리스트에 요소 추가\n",
    "my_list"
   ]
  },
  {
   "cell_type": "code",
   "execution_count": 9,
   "id": "a9581923",
   "metadata": {},
   "outputs": [
    {
     "name": "stdout",
     "output_type": "stream",
     "text": [
      "HELLO\n"
     ]
    }
   ],
   "source": [
    "my_string = \"hello\"\n",
    "\n",
    "upper_string = my_string.upper() #문자열을 대문자로 변환\n",
    "print(upper_string)"
   ]
  },
  {
   "cell_type": "code",
   "execution_count": 10,
   "id": "45246890",
   "metadata": {},
   "outputs": [
    {
     "data": {
      "text/plain": [
       "'value1'"
      ]
     },
     "execution_count": 10,
     "metadata": {},
     "output_type": "execute_result"
    }
   ],
   "source": [
    "my_dict = {'key1': 'value1', 'key2': 'value2'}\n",
    "\n",
    "value = my_dict.get('key1') #key1에 해당하는 값을 가져옴\n",
    "value"
   ]
  },
  {
   "cell_type": "code",
   "execution_count": 11,
   "id": "928fc44c",
   "metadata": {},
   "outputs": [
    {
     "data": {
      "text/plain": [
       "{1, 2, 3, 4}"
      ]
     },
     "execution_count": 11,
     "metadata": {},
     "output_type": "execute_result"
    }
   ],
   "source": [
    "my_set = {1,2,3}\n",
    "\n",
    "my_set.add(4) #집합에 요소 추가\n",
    "my_set"
   ]
  },
  {
   "cell_type": "code",
   "execution_count": 12,
   "id": "2bfcaf7c",
   "metadata": {},
   "outputs": [
    {
     "data": {
      "text/plain": [
       "2"
      ]
     },
     "execution_count": 12,
     "metadata": {},
     "output_type": "execute_result"
    }
   ],
   "source": [
    "my_list = [1,2,3,4,5]\n",
    "\n",
    "index = my_list.index(3) # 리스트에서 3이라는 값의 인덱스 반환\n",
    "index"
   ]
  },
  {
   "cell_type": "markdown",
   "id": "e6e89ced",
   "metadata": {},
   "source": [
    "#### 사용자 함수"
   ]
  },
  {
   "cell_type": "code",
   "execution_count": 28,
   "id": "3e4ea246",
   "metadata": {},
   "outputs": [
    {
     "name": "stdout",
     "output_type": "stream",
     "text": [
      "25\n",
      "45\n",
      "대한민국~만세!!\n"
     ]
    }
   ],
   "source": [
    "def add_number(n1, n2): #인풋 값와 아웃풋이 있는 경우.\n",
    "    ret = n1 + n2\n",
    "    return ret #결과값 반환할 때는 항상 return\n",
    "\n",
    "def add_txt(t1, t2): #인풋 값은 있으나 아웃풋은 없는. 결과값이 없는 형태.\n",
    "    print(t1+t2) \n",
    "\n",
    "ans1 = add_number(10, 15)\n",
    "print(ans1)                # 25가 출력됨\n",
    "ans2 = add_number(20, 25)\n",
    "print(ans2)\n",
    "text1 = '대한민국~'\n",
    "text2 = '만세!!'\n",
    "add_txt(text1, text2)    # '대한민국~만세!!'가 출력됨"
   ]
  },
  {
   "cell_type": "code",
   "execution_count": 14,
   "id": "f6941e5c",
   "metadata": {},
   "outputs": [
    {
     "name": "stdout",
     "output_type": "stream",
     "text": [
      "베스트 : 파이썬\n",
      "1등 : 대한민국\n",
      "()\n",
      "(3, 5, 1, 5, 8)\n",
      "{}\n",
      "{'depth': 50, 'color': 'blue'}\n"
     ]
    }
   ],
   "source": [
    "# 함수 인자: 기본적으로 인자 순서에 대응되는 값을 함수 코드에 대입\n",
    "def add_txt(t1, t2 = '파이썬'): # t2 기본값을 대입한 기본 인자는 마지막에 위치해야 함.\n",
    "    print(t1+' : '+t2)\n",
    "    \n",
    "add_txt('베스트')                  #'베스트: 파이썬' 이 출력됨. t1은 베스트, t2는 기본값이 대입\n",
    "add_txt(t2 = '대한민국', t1 = '1등') #'1등: 대한민국'이 출력됨. 키워드 인자에 의한 값 전달. 인자의 순서는\n",
    "\n",
    "def func1(*args): # 인자의 개수가 불명확한 경우 가변 인자 사용. args는 함수 내부에서 튜플로 처리\n",
    "    print(args)\n",
    "    \n",
    "def func2(width, height, **kwargs): # 키워드 인자가 불명확한 경우 **kwargs를 사용. 함수 내부에서 사전으로 처리\n",
    "    print(kwargs)\n",
    "    \n",
    "func1()\n",
    "func1(3,5,1,5,8)\n",
    "func2(10,20) \n",
    "func2(10,20, depth=50, color='blue')"
   ]
  },
  {
   "cell_type": "code",
   "execution_count": 15,
   "id": "76e2af22",
   "metadata": {},
   "outputs": [
    {
     "data": {
      "text/plain": [
       "15"
      ]
     },
     "execution_count": 15,
     "metadata": {},
     "output_type": "execute_result"
    }
   ],
   "source": [
    "# Q. 1~10까지 가변적으로 연산을 할 수 있는 사용자 함수를 작성 (매개변수가 가변적)\n",
    "def add_multiple(*args):\n",
    "    return sum(args)\n",
    "\n",
    "add_multiple(1,2,3,4,5)"
   ]
  },
  {
   "cell_type": "code",
   "execution_count": 19,
   "id": "63f98512",
   "metadata": {},
   "outputs": [
    {
     "name": "stdout",
     "output_type": "stream",
     "text": [
      "Width: 100\n",
      "Height: 200\n",
      "Other arguments: {'color': 'red', 'thickness': 5}\n"
     ]
    }
   ],
   "source": [
    "# Q. **args를 이용하여 아래와 같이 출력할 수 있는 사용자 함수 func2를 작성하세요\n",
    "# 출력:\n",
    "# Width: 100\n",
    "# Height: 200\n",
    "# Other arguments: {'color':'red','thickness': 5}\n",
    "\n",
    "def func2 (width, height, **kwargs):\n",
    "    print(f'Width: {width}')\n",
    "    print(f'Height: {height}')\n",
    "    print(f'Other arguments: {kwargs}')\n",
    "\n",
    "func2(100,200,color='red', thickness=5)\n",
    "func2(100,200,color='red', thickness=5, type='large') #딥러닝이나 이런 것에 **kwargs 많이 쓰인다고 함."
   ]
  },
  {
   "cell_type": "markdown",
   "id": "461ad1c0",
   "metadata": {},
   "source": [
    "#### 인자와 리턴값 여부에 따른 함수 유형"
   ]
  },
  {
   "cell_type": "code",
   "execution_count": 20,
   "id": "5e252b4a",
   "metadata": {},
   "outputs": [
    {
     "name": "stdout",
     "output_type": "stream",
     "text": [
      "Hi\n"
     ]
    }
   ],
   "source": [
    "# 입력값이 없고 결과값만 있는 함수\n",
    "def say():\n",
    "    return 'Hi'\n",
    "\n",
    "a = say()\n",
    "print(a)"
   ]
  },
  {
   "cell_type": "code",
   "execution_count": 22,
   "id": "601091d2",
   "metadata": {},
   "outputs": [
    {
     "name": "stdout",
     "output_type": "stream",
     "text": [
      "3, 4의 합은 7입니다.\n",
      "None\n"
     ]
    }
   ],
   "source": [
    "# 입력값은 있고 결과값이 없는 함수\n",
    "# 결과값은 오직 return 명령어로만 돌려 받을 수 있음\n",
    "def add(a,b):\n",
    "    print('%d, %d의 합은 %d입니다.' %(a,b,a+b))\n",
    "# add(3,4)\n",
    "a = add(3,4)\n",
    "print(a)"
   ]
  },
  {
   "cell_type": "code",
   "execution_count": 24,
   "id": "455e3022",
   "metadata": {},
   "outputs": [
    {
     "name": "stdout",
     "output_type": "stream",
     "text": [
      "Hi\n",
      "None\n"
     ]
    }
   ],
   "source": [
    "# 입력값도 결과값도 없는 함수\n",
    "\n",
    "def say():\n",
    "    print('Hi')\n",
    "\n",
    "a = say()\n",
    "print(a)"
   ]
  },
  {
   "cell_type": "code",
   "execution_count": 23,
   "id": "df125ab3",
   "metadata": {},
   "outputs": [
    {
     "name": "stdout",
     "output_type": "stream",
     "text": [
      "7\n"
     ]
    }
   ],
   "source": [
    "# 입력값도 결과값도 없는 함수\n",
    "def add(a,b):\n",
    "    return a+b\n",
    "a = add(3,4)\n",
    "print(a)\n",
    "# add(3,4)"
   ]
  },
  {
   "cell_type": "code",
   "execution_count": 26,
   "id": "9c0a5389",
   "metadata": {},
   "outputs": [
    {
     "name": "stdout",
     "output_type": "stream",
     "text": [
      "가장 큰 수는 30입니다.\n"
     ]
    },
    {
     "data": {
      "text/plain": [
       "30"
      ]
     },
     "execution_count": 26,
     "metadata": {},
     "output_type": "execute_result"
    }
   ],
   "source": [
    "# 입력값, 결과값이 모두 있는 함수\n",
    "def max(a,b,c):\n",
    "    if a>b:\n",
    "        if a>c:\n",
    "            return a\n",
    "        elif a<c:\n",
    "            return c\n",
    "    if a<b:\n",
    "        if b>c:\n",
    "            return b\n",
    "        else:\n",
    "            return c\n",
    "\n",
    "print(\"가장 큰 수는 %d입니다.\" %(max(20,1,30)))\n",
    "max(10,20,30)"
   ]
  },
  {
   "cell_type": "code",
   "execution_count": 31,
   "id": "1c84273a",
   "metadata": {},
   "outputs": [
    {
     "name": "stdout",
     "output_type": "stream",
     "text": [
      "8\n",
      "-2\n",
      "15\n",
      "0.6\n",
      "0\n",
      "3\n",
      "243\n",
      "숫자1: 3\n",
      "숫자2: 5\n",
      "기호: *\n",
      "15\n"
     ]
    }
   ],
   "source": [
    "def math(x, y, z):\n",
    "    if z == '+':\n",
    "        return x+y\n",
    "    elif z == '-':\n",
    "        return x-y\n",
    "    elif z == '*':\n",
    "        return x*y\n",
    "    elif z == '/':\n",
    "        return x/y\n",
    "    elif z == '//':\n",
    "        return x//y\n",
    "    elif z == '%':\n",
    "        return x%y\n",
    "    elif z == '**':\n",
    "        return x**y\n",
    "    else:\n",
    "        return\n",
    "\n",
    "print(math(3,5,'+'))\n",
    "print(math(3,5,'-'))\n",
    "print(math(3,5,'*'))\n",
    "print(math(3,5,'/'))\n",
    "print(math(3,5,'//'))\n",
    "print(math(3,5,'%'))\n",
    "print(math(3,5,'**'))\n",
    "print(math(int(input(\"숫자1: \")), int(input(\"숫자2: \")), input(\"기호: \")))"
   ]
  },
  {
   "cell_type": "code",
   "execution_count": 33,
   "id": "9108d839",
   "metadata": {},
   "outputs": [
    {
     "data": {
      "text/plain": [
       "'5 bigger than 3'"
      ]
     },
     "execution_count": 33,
     "metadata": {},
     "output_type": "execute_result"
    }
   ],
   "source": [
    "def com(a,b):\n",
    "    if a>b:\n",
    "        return f'{a} bigger than {b}'\n",
    "    elif a<b:\n",
    "        return f'{a} smaller than {b}'\n",
    "    else:\n",
    "        return f'{a} equal {b}'\n",
    "com(5,3)"
   ]
  },
  {
   "cell_type": "code",
   "execution_count": null,
   "id": "0a6339f3",
   "metadata": {},
   "outputs": [],
   "source": [
    "# 여러 개의 입력값을 받는 함수 만들기\n",
    "# *args 처럼 입력 변수명 앞에 *를 붙이면 입력값들을 전부 모아서 튜플로 만들어 줌"
   ]
  },
  {
   "cell_type": "code",
   "execution_count": 35,
   "id": "c38b5caf",
   "metadata": {},
   "outputs": [
    {
     "name": "stdout",
     "output_type": "stream",
     "text": [
      "(7, 12)\n"
     ]
    }
   ],
   "source": [
    "# 함수의 반환 값은 언제나 하나임 - 결과 값으로 튜플 값 하나를 갖게 됨\n",
    "def add_and_mul(a,b):\n",
    "    return a+b, a*b\n",
    "\n",
    "result = add_and_mul(3,4)\n",
    "print(result)"
   ]
  },
  {
   "cell_type": "code",
   "execution_count": 39,
   "id": "476ed2b3",
   "metadata": {},
   "outputs": [
    {
     "name": "stdout",
     "output_type": "stream",
     "text": [
      "15\n",
      "120\n"
     ]
    }
   ],
   "source": [
    "# add_mul() 함수를 정의하여 1,2,3,4,5를 입력 값으로 적용하여 덧셈, 곱셈 연산을 수행하세요.\n",
    "def add_mul(choice, *args):\n",
    "    if choice == '+':\n",
    "        result = 0\n",
    "        for i in args:\n",
    "            result += i\n",
    "        return result\n",
    "    elif choice == '*':\n",
    "        result = 1\n",
    "        for i in args:\n",
    "            result *= i\n",
    "        return result\n",
    "    else:\n",
    "        print('수행할 수 없는 연산입니다.')\n",
    "\n",
    "print(add_mul('+', 1,2,3,4,5))\n",
    "print(add_mul('*', 1,2,3,4,5))"
   ]
  },
  {
   "cell_type": "markdown",
   "id": "6c750608",
   "metadata": {},
   "source": [
    "#### 지역변수와 전역변수\n",
    "- 지역변수는 함수 내부에서만 유효하고 \n",
    "- 전역변수는 코드 전반에 걸쳐 유효\n",
    "- 함수의 인자는 지역변수"
   ]
  },
  {
   "cell_type": "code",
   "execution_count": 41,
   "id": "761b3de9",
   "metadata": {},
   "outputs": [
    {
     "name": "stdout",
     "output_type": "stream",
     "text": [
      "지역변수\n"
     ]
    }
   ],
   "source": [
    "strdata = '전역변수'\n",
    "\n",
    "def func1():\n",
    "    strdata = '지역변수'\n",
    "    print(strdata)\n",
    "    \n",
    "func1()                 #'지역변수' 가 출력됨"
   ]
  },
  {
   "cell_type": "code",
   "execution_count": 42,
   "id": "494efe0f",
   "metadata": {},
   "outputs": [
    {
     "name": "stdout",
     "output_type": "stream",
     "text": [
      "전역변수\n"
     ]
    }
   ],
   "source": [
    "print(strdata) # '전역변수' 가 출력됨"
   ]
  },
  {
   "cell_type": "code",
   "execution_count": 43,
   "id": "fa96bffd",
   "metadata": {},
   "outputs": [
    {
     "name": "stdout",
     "output_type": "stream",
     "text": [
      "10\n"
     ]
    }
   ],
   "source": [
    "param = 10\n",
    "def func2(param):\n",
    "    param = 1\n",
    "\n",
    "print(param)           #  전역변수 10이 출력됨"
   ]
  },
  {
   "cell_type": "code",
   "execution_count": null,
   "id": "e0ef2dfa",
   "metadata": {},
   "outputs": [],
   "source": [
    "param = 10\n",
    "def func3():\n",
    "    global param      # 함수 내부에서 전역변수를 사용하려면 'global' 키워드를 이용해 전역변수를 사용한다고 명시\n",
    "    param = 50\n",
    "print(func3())\n",
    "print(param)          # 50이 출력됨"
   ]
  },
  {
   "cell_type": "code",
   "execution_count": 45,
   "id": "25f83c7d",
   "metadata": {},
   "outputs": [
    {
     "name": "stdout",
     "output_type": "stream",
     "text": [
      "지역변수\n",
      "전역변수\n",
      "10\n",
      "\n",
      "10\n",
      "50\n"
     ]
    }
   ],
   "source": [
    "param = 10\n",
    "strdata = '전역변수'\n",
    "\n",
    "def func1():\n",
    "    strdata = '지역변수'\n",
    "    print(strdata)\n",
    "\n",
    "def func2(param):\n",
    "    param = 1\n",
    "    \n",
    "def func3():\n",
    "    global param\n",
    "    param = 50\n",
    "    \n",
    "func1()\n",
    "print(strdata)\n",
    "print(param)\n",
    "func2(param)\n",
    "print()\n",
    "print(param)\n",
    "func3()\n",
    "print(param)"
   ]
  },
  {
   "cell_type": "code",
   "execution_count": 46,
   "id": "bede3b86",
   "metadata": {},
   "outputs": [
    {
     "name": "stdout",
     "output_type": "stream",
     "text": [
      "None\n",
      "1\n"
     ]
    }
   ],
   "source": [
    "# 함수 안에서 선언된 변수의 효력 범위\n",
    "a = 1\n",
    "def vartest(a):\n",
    "    a = a + 1\n",
    "\n",
    "print(vartest(a))\n",
    "print(a)"
   ]
  },
  {
   "cell_type": "code",
   "execution_count": 47,
   "id": "b7e33ee1",
   "metadata": {},
   "outputs": [
    {
     "name": "stdout",
     "output_type": "stream",
     "text": [
      "2\n"
     ]
    }
   ],
   "source": [
    "# 함수 안에서 함수 밖의 변수를 변경하는 방법 - return 이용\n",
    "\n",
    "a = 1\n",
    "def vartest(a):\n",
    "    a = a+1\n",
    "    return a\n",
    "a = vartest(a)\n",
    "print(a)"
   ]
  },
  {
   "cell_type": "code",
   "execution_count": 48,
   "id": "55f8a32a",
   "metadata": {},
   "outputs": [
    {
     "name": "stdout",
     "output_type": "stream",
     "text": [
      "2\n"
     ]
    }
   ],
   "source": [
    "# global 명령을 이용하는 방법 #####################\n",
    "a = 1\n",
    "def vartest():\n",
    "    global a\n",
    "    a = a + 1\n",
    "\n",
    "vartest()\n",
    "print(a)"
   ]
  },
  {
   "cell_type": "markdown",
   "id": "c6a14bce",
   "metadata": {},
   "source": [
    "#### 함수 리턴값 : return\n",
    "- 함수는 한 개 이상의 값을 리턴할 수 있으며 리턴값이 없을 수도 있다.\n",
    "- 리턴 값이 여러 개인 경우에는 튜플로 리턴값을 만들어 리턴"
   ]
  },
  {
   "cell_type": "code",
   "execution_count": 49,
   "id": "b13d3bc6",
   "metadata": {},
   "outputs": [
    {
     "name": "stdout",
     "output_type": "stream",
     "text": [
      "(3, 2, 1)\n",
      "c b a\n",
      "c\n",
      "b\n",
      "a\n"
     ]
    }
   ],
   "source": [
    "def reverse(x,y,z):\n",
    "    return z, y, x\n",
    "\n",
    "ret = reverse(1,2,3)\n",
    "print(ret)\n",
    "\n",
    "r1, r2, r3 = reverse('a','b','c') ########################\n",
    "print(r1,r2,r3)\n",
    "print(r1); print(r2); print(r3) #튜플의 요소 개수만큼 나누어서 리턴값을 개별적으로 받을 수 있음"
   ]
  },
  {
   "cell_type": "code",
   "execution_count": 50,
   "id": "71c4a998",
   "metadata": {},
   "outputs": [
    {
     "data": {
      "text/plain": [
       "'D:\\\\kdt_231026\\\\workspace\\\\m1_programming'"
      ]
     },
     "execution_count": 50,
     "metadata": {},
     "output_type": "execute_result"
    }
   ],
   "source": [
    "# 현재 작업 폴더 ############주피터 노트북 매직워드\n",
    "%pwd"
   ]
  },
  {
   "cell_type": "code",
   "execution_count": 60,
   "id": "0561ed42",
   "metadata": {},
   "outputs": [
    {
     "name": "stdout",
     "output_type": "stream",
     "text": [
      " D 드라이브의 볼륨: 새 볼륨\n",
      " 볼륨 일련 번호: 02B1-19A2\n",
      "\n",
      " D:\\kdt_231026\\workspace\\m1_programming 디렉터리\n",
      "\n",
      "2023-11-01  오후 02:20    <DIR>          .\n",
      "2023-11-01  오후 02:20    <DIR>          ..\n",
      "2023-11-01  오전 11:32    <DIR>          .ipynb_checkpoints\n",
      "2023-10-30  오후 06:13            52,993 python_1_자료형.ipynb\n",
      "2023-10-31  오후 02:39            19,870 python_2_제어문.ipynb\n",
      "2023-11-01  오후 02:19            37,136 python_3_함수.ipynb\n",
      "2023-10-30  오전 09:21            17,055 python_자료형_1_과제1027.ipynb\n",
      "2023-10-31  오전 11:51            19,485 과제_1030.ipynb\n",
      "2023-11-01  오전 11:46            28,232 과제_1031.ipynb\n",
      "2023-11-01  오후 02:08             4,075 과제_1101.ipynb\n",
      "               7개 파일             178,846 바이트\n",
      "               3개 디렉터리  472,372,944,896 바이트 남음\n"
     ]
    }
   ],
   "source": [
    "#################\n",
    "ls"
   ]
  },
  {
   "cell_type": "code",
   "execution_count": 59,
   "id": "796ab75e",
   "metadata": {},
   "outputs": [
    {
     "name": "stdout",
     "output_type": "stream",
     "text": [
      " D 드라이브의 볼륨: 새 볼륨\n",
      " 볼륨 일련 번호: 02B1-19A2\n",
      "\n",
      " D:\\kdt_231026\\workspace\\m1_programming 디렉터리\n",
      "\n",
      "2023-11-01  오후 02:20    <DIR>          .\n",
      "2023-11-01  오후 02:20    <DIR>          ..\n",
      "2023-11-01  오전 11:32    <DIR>          .ipynb_checkpoints\n",
      "2023-10-30  오후 06:13            52,993 python_1_자료형.ipynb\n",
      "2023-10-31  오후 02:39            19,870 python_2_제어문.ipynb\n",
      "2023-11-01  오후 02:19            37,136 python_3_함수.ipynb\n",
      "2023-10-30  오전 09:21            17,055 python_자료형_1_과제1027.ipynb\n",
      "2023-10-31  오전 11:51            19,485 과제_1030.ipynb\n",
      "2023-11-01  오전 11:46            28,232 과제_1031.ipynb\n",
      "2023-11-01  오후 02:08             4,075 과제_1101.ipynb\n",
      "               7개 파일             178,846 바이트\n",
      "               3개 디렉터리  472,372,944,896 바이트 남음\n"
     ]
    }
   ],
   "source": [
    "#################\n",
    "!dir"
   ]
  },
  {
   "cell_type": "code",
   "execution_count": 53,
   "id": "53ba5cec",
   "metadata": {},
   "outputs": [],
   "source": [
    "#  파일 만들기 #echo 라는 것은 현재 폴더에 test.txt를 만들라는 것.\n",
    "!echo. > test.txt"
   ]
  },
  {
   "cell_type": "code",
   "execution_count": 57,
   "id": "92beec84",
   "metadata": {},
   "outputs": [],
   "source": [
    "# 파일 삭제\n",
    "!del test.txt"
   ]
  },
  {
   "cell_type": "markdown",
   "id": "f268918a",
   "metadata": {},
   "source": [
    "#### 파일 입출력"
   ]
  },
  {
   "cell_type": "code",
   "execution_count": 63,
   "id": "5acea8de",
   "metadata": {},
   "outputs": [],
   "source": [
    "# 폴더 경로 이동\n",
    "import os\n",
    "os.chdir('D:\\\\kdt_231026\\\\workspace\\\\m1_programming')"
   ]
  },
  {
   "cell_type": "code",
   "execution_count": 64,
   "id": "d08edbbf",
   "metadata": {},
   "outputs": [
    {
     "data": {
      "text/plain": [
       "'D:\\\\kdt_231026\\\\workspace\\\\m1_programming'"
      ]
     },
     "execution_count": 64,
     "metadata": {},
     "output_type": "execute_result"
    }
   ],
   "source": [
    "%pwd"
   ]
  },
  {
   "cell_type": "code",
   "execution_count": 66,
   "id": "7dff398e",
   "metadata": {},
   "outputs": [],
   "source": [
    "#파일 읽고 쓰기\n",
    "f = open('test1.txt','w') #w는 write 하겠다고 test1.txt를 열고 밑에는 닫음.\n",
    "f.close()"
   ]
  },
  {
   "cell_type": "code",
   "execution_count": 67,
   "id": "03e48147",
   "metadata": {},
   "outputs": [
    {
     "name": "stdout",
     "output_type": "stream",
     "text": [
      " D 드라이브의 볼륨: 새 볼륨\n",
      " 볼륨 일련 번호: 02B1-19A2\n",
      "\n",
      " D:\\kdt_231026\\workspace\\m1_programming 디렉터리\n",
      "\n",
      "2023-11-01  오후 02:25    <DIR>          .\n",
      "2023-11-01  오후 02:25    <DIR>          ..\n",
      "2023-11-01  오전 11:32    <DIR>          .ipynb_checkpoints\n",
      "2023-10-30  오후 06:13            52,993 python_1_자료형.ipynb\n",
      "2023-10-31  오후 02:39            19,870 python_2_제어문.ipynb\n",
      "2023-11-01  오후 02:25            38,750 python_3_함수.ipynb\n",
      "2023-10-30  오전 09:21            17,055 python_자료형_1_과제1027.ipynb\n",
      "2023-11-01  오후 02:25                 0 test1.txt\n",
      "2023-10-31  오전 11:51            19,485 과제_1030.ipynb\n",
      "2023-11-01  오전 11:46            28,232 과제_1031.ipynb\n",
      "2023-11-01  오후 02:08             4,075 과제_1101.ipynb\n",
      "               8개 파일             180,460 바이트\n",
      "               3개 디렉터리  472,372,944,896 바이트 남음\n"
     ]
    }
   ],
   "source": [
    "ls"
   ]
  },
  {
   "cell_type": "code",
   "execution_count": 68,
   "id": "f888aa41",
   "metadata": {},
   "outputs": [],
   "source": [
    "f = open('test1.txt','w')\n",
    "for i in range(1,11):\n",
    "    data = '%d번째 줄입니다.\\n' %i\n",
    "    f.write(data)\n",
    "f.close()"
   ]
  },
  {
   "cell_type": "code",
   "execution_count": 69,
   "id": "69851907",
   "metadata": {},
   "outputs": [
    {
     "name": "stdout",
     "output_type": "stream",
     "text": [
      "1번째 줄입니다.\n",
      "\n"
     ]
    }
   ],
   "source": [
    "f = open('test1.txt','r') #'r' 즉 read모드로 하겠다.\n",
    "line = f.readline()\n",
    "print(line)\n",
    "f.close()"
   ]
  },
  {
   "cell_type": "code",
   "execution_count": 71,
   "id": "99263711",
   "metadata": {},
   "outputs": [
    {
     "name": "stdout",
     "output_type": "stream",
     "text": [
      "1번째 줄입니다.\n",
      "\n",
      "2번째 줄입니다.\n",
      "\n",
      "3번째 줄입니다.\n",
      "\n",
      "4번째 줄입니다.\n",
      "\n",
      "5번째 줄입니다.\n",
      "\n",
      "6번째 줄입니다.\n",
      "\n",
      "7번째 줄입니다.\n",
      "\n",
      "8번째 줄입니다.\n",
      "\n",
      "9번째 줄입니다.\n",
      "\n",
      "10번째 줄입니다.\n",
      "\n"
     ]
    }
   ],
   "source": [
    "f = open('test1.txt','r')\n",
    "for i in range(10):\n",
    "    line = f.readline()\n",
    "    print(line)\n",
    "f.close()"
   ]
  },
  {
   "cell_type": "code",
   "execution_count": 72,
   "id": "0d0ad5ad",
   "metadata": {},
   "outputs": [
    {
     "name": "stdout",
     "output_type": "stream",
     "text": [
      "1번째 줄입니다.\n",
      "\n",
      "2번째 줄입니다.\n",
      "\n",
      "3번째 줄입니다.\n",
      "\n",
      "4번째 줄입니다.\n",
      "\n",
      "5번째 줄입니다.\n",
      "\n",
      "6번째 줄입니다.\n",
      "\n",
      "7번째 줄입니다.\n",
      "\n",
      "8번째 줄입니다.\n",
      "\n",
      "9번째 줄입니다.\n",
      "\n",
      "10번째 줄입니다.\n",
      "\n"
     ]
    }
   ],
   "source": [
    "##############몇번째 줄까지 있는지 모를때는 while이 조금 더 나을듯.\n",
    "f = open('test1.txt','r')\n",
    "while True:     \n",
    "    line = f.readline()\n",
    "    if not line: break\n",
    "    print(line)\n",
    "f.close()"
   ]
  },
  {
   "cell_type": "code",
   "execution_count": 73,
   "id": "5bc47dcb",
   "metadata": {},
   "outputs": [
    {
     "name": "stdout",
     "output_type": "stream",
     "text": [
      "1번째 줄입니다.\n",
      "2번째 줄입니다.\n",
      "3번째 줄입니다.\n",
      "4번째 줄입니다.\n",
      "5번째 줄입니다.\n",
      "6번째 줄입니다.\n",
      "7번째 줄입니다.\n",
      "8번째 줄입니다.\n",
      "9번째 줄입니다.\n",
      "10번째 줄입니다.\n",
      "\n"
     ]
    }
   ],
   "source": [
    "# f.read()는 파일 내용 전체를 문자열로 반환\n",
    "f = open('test1.txt','r')\n",
    "data = f.read()\n",
    "print(data)\n",
    "f.close()"
   ]
  },
  {
   "cell_type": "code",
   "execution_count": 74,
   "id": "e5296903",
   "metadata": {},
   "outputs": [],
   "source": [
    "f = open('test1.txt','a')\n",
    "for i in range(11,16):\n",
    "    data = '%d번째 줄입니다.\\n' %i\n",
    "    f.write(data)\n",
    "f.close()"
   ]
  },
  {
   "cell_type": "code",
   "execution_count": 75,
   "id": "087f1f3c",
   "metadata": {},
   "outputs": [
    {
     "name": "stdout",
     "output_type": "stream",
     "text": [
      "1번째 줄입니다.\n",
      "2번째 줄입니다.\n",
      "3번째 줄입니다.\n",
      "4번째 줄입니다.\n",
      "5번째 줄입니다.\n",
      "6번째 줄입니다.\n",
      "7번째 줄입니다.\n",
      "8번째 줄입니다.\n",
      "9번째 줄입니다.\n",
      "10번째 줄입니다.\n",
      "11번째 줄입니다.\n",
      "12번째 줄입니다.\n",
      "13번째 줄입니다.\n",
      "14번째 줄입니다.\n",
      "15번째 줄입니다.\n",
      "\n"
     ]
    }
   ],
   "source": [
    "f = open('test1.txt','r')\n",
    "data = f.read()\n",
    "print(data)\n",
    "f.close()"
   ]
  },
  {
   "cell_type": "code",
   "execution_count": 76,
   "id": "2c29631d",
   "metadata": {},
   "outputs": [],
   "source": [
    "# with 문과 같이 사용 <-  with 와 같이 사용할 경우 close를 안해줘도 메모리 차지 안함. ##############\n",
    "with open('foo.txt','w') as f:\n",
    "    f.write('파이썬을 배웁시다.')"
   ]
  },
  {
   "cell_type": "code",
   "execution_count": 77,
   "id": "6f0b5d37",
   "metadata": {},
   "outputs": [
    {
     "name": "stdout",
     "output_type": "stream",
     "text": [
      "파이썬을 배웁시다.\n"
     ]
    }
   ],
   "source": [
    "with open('foo.txt','r') as f:\n",
    "    data = f.read()\n",
    "    print(data)"
   ]
  },
  {
   "cell_type": "code",
   "execution_count": 78,
   "id": "890443b9",
   "metadata": {},
   "outputs": [],
   "source": [
    "with open('test2.txt','w') as f:\n",
    "    for i in range(1,11):\n",
    "        data = f'{i}번째 줄입니다.\\n'\n",
    "        f.write(data)"
   ]
  },
  {
   "cell_type": "code",
   "execution_count": 79,
   "id": "1128c93c",
   "metadata": {},
   "outputs": [],
   "source": [
    "with open('test2.txt','a') as f:\n",
    "    for i in range(11,16):\n",
    "        data = f'{i}번째 줄입니다.\\n'\n",
    "        f.write(data)"
   ]
  },
  {
   "cell_type": "code",
   "execution_count": 81,
   "id": "dec5120f",
   "metadata": {},
   "outputs": [
    {
     "name": "stdout",
     "output_type": "stream",
     "text": [
      "1번째 줄입니다.\n",
      "2번째 줄입니다.\n",
      "3번째 줄입니다.\n",
      "4번째 줄입니다.\n",
      "5번째 줄입니다.\n",
      "6번째 줄입니다.\n",
      "7번째 줄입니다.\n",
      "8번째 줄입니다.\n",
      "9번째 줄입니다.\n",
      "10번째 줄입니다.\n",
      "11번째 줄입니다.\n",
      "12번째 줄입니다.\n",
      "13번째 줄입니다.\n",
      "14번째 줄입니다.\n",
      "15번째 줄입니다.\n",
      "\n"
     ]
    }
   ],
   "source": [
    "with open('test2.txt','r') as f:\n",
    "    data = f.read()\n",
    "    print(data)"
   ]
  },
  {
   "cell_type": "markdown",
   "id": "5741367e",
   "metadata": {},
   "source": [
    "#### 파이썬 패키지,  모듈, 함수, 클래스\n",
    "- 코드 작성 시 이미 만들어져 있는 함수들을 활용하면 보다 효율적이고 빠르게 개발 가능\n",
    "- 이미 만들어져 있고 안정성이 검증된 함수들을 성격에 맞게 하나의 파이썬 파일에 묶어 만들어 놓을 것을 모듈이라 함\n",
    "- 외부 모듈에 있는 함수들을 활용하려면 이 모듈을 먼저 가져와서 사용해야 하는데 이것을 모듈을 임포트한다고 한다.\n",
    "- 파이썬 모듈이 하나의 파이썬 파일이라면 패키지는 디렉토리로 볼 수 있다.\n",
    "\n",
    "패키지\n",
    "1. 라이브러리라고도 부름\n",
    "2. 특정 기능과 관련된 여러 모듈을 한 그룹으로 묶은 것\n",
    "3. 패키지 안에 서브패키지가 있을 수도 있다.\n",
    "4. import 패키지/모듈, from 패키지/모듈 import 서브패키지/모듈 \n",
    "  \n",
    "   \n",
    "모듈\n",
    "1. 여러 기능들이 뭉쳐진 하나의. py파일\n",
    "2. 함수, 클래스, 변수 등 포함\n",
    "3. import 모듈\n",
    "\n",
    "함수\n",
    "1. 하나의 기능을 가진 코드의 집합\n",
    "2. 함수를 사용한다 = 함수를 호출한다\n",
    "3. 함수 사용 형태: 함수( )\n",
    "   - 필요한 경우 () 안에 매개변수 또는 옵션\n",
    "4. 종류\n",
    "   - 내장 함수(built in function)\n",
    "   - 외장 함수: import 해주어야 함\n",
    "   \n",
    "클래스   \n",
    "- 파이썬은 객체 지향 언어로클래스를 기반으로 객체를 만들어 사용한다.\n",
    "- 한 파이썬 파일(. py) 내에서 \"class class명():\"을 통해 클래스 선언"
   ]
  },
  {
   "cell_type": "code",
   "execution_count": 82,
   "id": "722cbc47",
   "metadata": {},
   "outputs": [
    {
     "name": "stdout",
     "output_type": "stream",
     "text": [
      "5초간 프로그램을 정지합니다.\n",
      "5초가 지나갔습니다.\n"
     ]
    }
   ],
   "source": [
    "# time 모듈\n",
    "import time\n",
    "\n",
    "print('5초간 프로그램을 정지합니다.')\n",
    "time.sleep(5)\n",
    "print('5초가 지나갔습니다.')"
   ]
  },
  {
   "cell_type": "code",
   "execution_count": 83,
   "id": "da45bb01",
   "metadata": {},
   "outputs": [],
   "source": [
    "# 사용자 작성 모듈 ################################\n",
    "with open('mymodule.py','w') as f:\n",
    "    f. write(\n",
    "'''\n",
    "def add_txt(t1,t2):\n",
    "    return t1+':'+t2\n",
    "def reverse(x,y,z):\n",
    "    return z,y,x\n",
    "''')"
   ]
  },
  {
   "cell_type": "code",
   "execution_count": 84,
   "id": "ea2aa73d",
   "metadata": {},
   "outputs": [
    {
     "name": "stdout",
     "output_type": "stream",
     "text": [
      " D 드라이브의 볼륨: 새 볼륨\n",
      " 볼륨 일련 번호: 02B1-19A2\n",
      "\n",
      " D:\\kdt_231026\\workspace\\m1_programming 디렉터리\n",
      "\n",
      "2023-11-01  오후 03:16    <DIR>          .\n",
      "2023-11-01  오후 03:16    <DIR>          ..\n",
      "2023-11-01  오전 11:32    <DIR>          .ipynb_checkpoints\n",
      "2023-11-01  오후 02:42                18 foo.txt\n",
      "2023-11-01  오후 03:16                84 mymodule.py\n",
      "2023-10-30  오후 06:13            52,993 python_1_자료형.ipynb\n",
      "2023-10-31  오후 02:39            19,870 python_2_제어문.ipynb\n",
      "2023-11-01  오후 03:15            48,780 python_3_함수.ipynb\n",
      "2023-10-30  오전 09:21            17,055 python_자료형_1_과제1027.ipynb\n",
      "2023-11-01  오후 02:40               261 test1.txt\n",
      "2023-11-01  오후 02:45               261 test2.txt\n",
      "2023-10-31  오전 11:51            19,485 과제_1030.ipynb\n",
      "2023-11-01  오전 11:46            28,232 과제_1031.ipynb\n",
      "2023-11-01  오후 03:06             4,859 과제_1101.ipynb\n",
      "              11개 파일             191,898 바이트\n",
      "               3개 디렉터리  472,372,932,608 바이트 남음\n"
     ]
    }
   ],
   "source": [
    "ls"
   ]
  },
  {
   "cell_type": "code",
   "execution_count": 85,
   "id": "462ca414",
   "metadata": {},
   "outputs": [
    {
     "name": "stdout",
     "output_type": "stream",
     "text": [
      "\n",
      "def add_txt(t1,t2):\n",
      "    return t1+':'+t2\n",
      "def reverse(x,y,z):\n",
      "    return z,y,x\n",
      "\n"
     ]
    }
   ],
   "source": [
    "with open('mymodule.py','r') as f:\n",
    "    data = f.read()\n",
    "    print(data)"
   ]
  },
  {
   "cell_type": "code",
   "execution_count": 86,
   "id": "1b09c0e0",
   "metadata": {},
   "outputs": [
    {
     "name": "stdout",
     "output_type": "stream",
     "text": [
      "대한민국:1등\n"
     ]
    }
   ],
   "source": [
    "import mymodule\n",
    "\n",
    "ret1 = mymodule.add_txt('대한민국','1등')\n",
    "print(ret1)"
   ]
  },
  {
   "cell_type": "code",
   "execution_count": 87,
   "id": "30000abb",
   "metadata": {},
   "outputs": [
    {
     "name": "stdout",
     "output_type": "stream",
     "text": [
      "(3, 2, 1)\n"
     ]
    }
   ],
   "source": [
    "ret2 = mymodule.reverse(1,2,3)\n",
    "print(ret2)"
   ]
  },
  {
   "cell_type": "code",
   "execution_count": 90,
   "id": "6d62ec3e",
   "metadata": {},
   "outputs": [
    {
     "name": "stdout",
     "output_type": "stream",
     "text": [
      "안녕하세요\n",
      "안녕하세요\n",
      "None\n"
     ]
    }
   ],
   "source": [
    "# 클래스\n",
    "class MyClass:\n",
    "    var = '안녕하세요'\n",
    "    def sayHello(self):\n",
    "        print(self.var)\n",
    "\n",
    "obj = MyClass() # MyClass 인스턴스 객체 생성\n",
    "print(obj.var)\n",
    "print(obj.sayHello())"
   ]
  },
  {
   "cell_type": "code",
   "execution_count": 91,
   "id": "5a22008e",
   "metadata": {},
   "outputs": [
    {
     "data": {
      "text/html": [
       "<div>\n",
       "<style scoped>\n",
       "    .dataframe tbody tr th:only-of-type {\n",
       "        vertical-align: middle;\n",
       "    }\n",
       "\n",
       "    .dataframe tbody tr th {\n",
       "        vertical-align: top;\n",
       "    }\n",
       "\n",
       "    .dataframe thead th {\n",
       "        text-align: right;\n",
       "    }\n",
       "</style>\n",
       "<table border=\"1\" class=\"dataframe\">\n",
       "  <thead>\n",
       "    <tr style=\"text-align: right;\">\n",
       "      <th></th>\n",
       "      <th>a</th>\n",
       "      <th>b</th>\n",
       "      <th>c</th>\n",
       "    </tr>\n",
       "  </thead>\n",
       "  <tbody>\n",
       "    <tr>\n",
       "      <th>0</th>\n",
       "      <td>1</td>\n",
       "      <td>4</td>\n",
       "      <td>7</td>\n",
       "    </tr>\n",
       "    <tr>\n",
       "      <th>1</th>\n",
       "      <td>2</td>\n",
       "      <td>5</td>\n",
       "      <td>8</td>\n",
       "    </tr>\n",
       "    <tr>\n",
       "      <th>2</th>\n",
       "      <td>3</td>\n",
       "      <td>6</td>\n",
       "      <td>9</td>\n",
       "    </tr>\n",
       "  </tbody>\n",
       "</table>\n",
       "</div>"
      ],
      "text/plain": [
       "   a  b  c\n",
       "0  1  4  7\n",
       "1  2  5  8\n",
       "2  3  6  9"
      ]
     },
     "execution_count": 91,
     "metadata": {},
     "output_type": "execute_result"
    }
   ],
   "source": [
    "#설치 안되어 있으면 !pip install pandas\n",
    "import pandas as pd\n",
    "\n",
    "df1 = pd.DataFrame({'a': [1,2,3],'b': [4,5,6], 'c': [7,8,9]})\n",
    "df1"
   ]
  },
  {
   "cell_type": "code",
   "execution_count": 92,
   "id": "709d02f4",
   "metadata": {},
   "outputs": [
    {
     "name": "stdout",
     "output_type": "stream",
     "text": [
      "<class 'pandas.core.frame.DataFrame'>\n",
      "RangeIndex: 3 entries, 0 to 2\n",
      "Data columns (total 3 columns):\n",
      " #   Column  Non-Null Count  Dtype\n",
      "---  ------  --------------  -----\n",
      " 0   a       3 non-null      int64\n",
      " 1   b       3 non-null      int64\n",
      " 2   c       3 non-null      int64\n",
      "dtypes: int64(3)\n",
      "memory usage: 204.0 bytes\n"
     ]
    }
   ],
   "source": [
    "##################\n",
    "df1.info()"
   ]
  },
  {
   "cell_type": "code",
   "execution_count": 93,
   "id": "33c28114",
   "metadata": {},
   "outputs": [
    {
     "data": {
      "text/html": [
       "<div>\n",
       "<style scoped>\n",
       "    .dataframe tbody tr th:only-of-type {\n",
       "        vertical-align: middle;\n",
       "    }\n",
       "\n",
       "    .dataframe tbody tr th {\n",
       "        vertical-align: top;\n",
       "    }\n",
       "\n",
       "    .dataframe thead th {\n",
       "        text-align: right;\n",
       "    }\n",
       "</style>\n",
       "<table border=\"1\" class=\"dataframe\">\n",
       "  <thead>\n",
       "    <tr style=\"text-align: right;\">\n",
       "      <th></th>\n",
       "      <th>a</th>\n",
       "      <th>b</th>\n",
       "      <th>c</th>\n",
       "    </tr>\n",
       "  </thead>\n",
       "  <tbody>\n",
       "    <tr>\n",
       "      <th>0</th>\n",
       "      <td>1</td>\n",
       "      <td>2</td>\n",
       "      <td>3</td>\n",
       "    </tr>\n",
       "    <tr>\n",
       "      <th>1</th>\n",
       "      <td>4</td>\n",
       "      <td>5</td>\n",
       "      <td>6</td>\n",
       "    </tr>\n",
       "    <tr>\n",
       "      <th>2</th>\n",
       "      <td>7</td>\n",
       "      <td>8</td>\n",
       "      <td>9</td>\n",
       "    </tr>\n",
       "  </tbody>\n",
       "</table>\n",
       "</div>"
      ],
      "text/plain": [
       "   a  b  c\n",
       "0  1  2  3\n",
       "1  4  5  6\n",
       "2  7  8  9"
      ]
     },
     "execution_count": 93,
     "metadata": {},
     "output_type": "execute_result"
    }
   ],
   "source": [
    "import numpy as np\n",
    "df2 = pd.DataFrame(np.array([[1,2,3],[4,5,6],[7,8,9]]),\n",
    "                  columns =['a','b','c']) #column 제목을 안 주면 그냥 인덱스가 생성됨.\n",
    "df2\n",
    "#즉 위에서는 사전형태로 데이터를 넣었었는데 지금은 리스트 형태로 넣었음.\n",
    "#파이썬은 배열이 없지만 파이썬의 분석 라이브러리인 numpy를 사용해서 배열을 쓴다. 리스트랑 배열이랑 서로 타입을 바꿔줄 수 있음."
   ]
  },
  {
   "cell_type": "code",
   "execution_count": 97,
   "id": "3c7fb429",
   "metadata": {},
   "outputs": [
    {
     "data": {
      "text/html": [
       "<div>\n",
       "<style scoped>\n",
       "    .dataframe tbody tr th:only-of-type {\n",
       "        vertical-align: middle;\n",
       "    }\n",
       "\n",
       "    .dataframe tbody tr th {\n",
       "        vertical-align: top;\n",
       "    }\n",
       "\n",
       "    .dataframe thead th {\n",
       "        text-align: right;\n",
       "    }\n",
       "</style>\n",
       "<table border=\"1\" class=\"dataframe\">\n",
       "  <thead>\n",
       "    <tr style=\"text-align: right;\">\n",
       "      <th></th>\n",
       "      <th>a</th>\n",
       "      <th>b</th>\n",
       "      <th>c</th>\n",
       "    </tr>\n",
       "  </thead>\n",
       "  <tbody>\n",
       "    <tr>\n",
       "      <th>0</th>\n",
       "      <td>1</td>\n",
       "      <td>2</td>\n",
       "      <td>3</td>\n",
       "    </tr>\n",
       "    <tr>\n",
       "      <th>1</th>\n",
       "      <td>4</td>\n",
       "      <td>5</td>\n",
       "      <td>6</td>\n",
       "    </tr>\n",
       "    <tr>\n",
       "      <th>2</th>\n",
       "      <td>7</td>\n",
       "      <td>8</td>\n",
       "      <td>9</td>\n",
       "    </tr>\n",
       "  </tbody>\n",
       "</table>\n",
       "</div>"
      ],
      "text/plain": [
       "   a  b  c\n",
       "0  1  2  3\n",
       "1  4  5  6\n",
       "2  7  8  9"
      ]
     },
     "execution_count": 97,
     "metadata": {},
     "output_type": "execute_result"
    }
   ],
   "source": [
    "data = np.array([[1,2,3],[4,5,6],[7,8,9]])\n",
    "df3 = pd.DataFrame(data, columns=['a','b','c'])\n",
    "df3"
   ]
  },
  {
   "cell_type": "code",
   "execution_count": 98,
   "id": "ec92d2ed",
   "metadata": {},
   "outputs": [
    {
     "data": {
      "text/html": [
       "<div>\n",
       "<style scoped>\n",
       "    .dataframe tbody tr th:only-of-type {\n",
       "        vertical-align: middle;\n",
       "    }\n",
       "\n",
       "    .dataframe tbody tr th {\n",
       "        vertical-align: top;\n",
       "    }\n",
       "\n",
       "    .dataframe thead th {\n",
       "        text-align: right;\n",
       "    }\n",
       "</style>\n",
       "<table border=\"1\" class=\"dataframe\">\n",
       "  <thead>\n",
       "    <tr style=\"text-align: right;\">\n",
       "      <th></th>\n",
       "      <th>a</th>\n",
       "      <th>b</th>\n",
       "      <th>c</th>\n",
       "    </tr>\n",
       "  </thead>\n",
       "  <tbody>\n",
       "    <tr>\n",
       "      <th>count</th>\n",
       "      <td>3.0</td>\n",
       "      <td>3.0</td>\n",
       "      <td>3.0</td>\n",
       "    </tr>\n",
       "    <tr>\n",
       "      <th>mean</th>\n",
       "      <td>2.0</td>\n",
       "      <td>5.0</td>\n",
       "      <td>8.0</td>\n",
       "    </tr>\n",
       "    <tr>\n",
       "      <th>std</th>\n",
       "      <td>1.0</td>\n",
       "      <td>1.0</td>\n",
       "      <td>1.0</td>\n",
       "    </tr>\n",
       "    <tr>\n",
       "      <th>min</th>\n",
       "      <td>1.0</td>\n",
       "      <td>4.0</td>\n",
       "      <td>7.0</td>\n",
       "    </tr>\n",
       "    <tr>\n",
       "      <th>25%</th>\n",
       "      <td>1.5</td>\n",
       "      <td>4.5</td>\n",
       "      <td>7.5</td>\n",
       "    </tr>\n",
       "    <tr>\n",
       "      <th>50%</th>\n",
       "      <td>2.0</td>\n",
       "      <td>5.0</td>\n",
       "      <td>8.0</td>\n",
       "    </tr>\n",
       "    <tr>\n",
       "      <th>75%</th>\n",
       "      <td>2.5</td>\n",
       "      <td>5.5</td>\n",
       "      <td>8.5</td>\n",
       "    </tr>\n",
       "    <tr>\n",
       "      <th>max</th>\n",
       "      <td>3.0</td>\n",
       "      <td>6.0</td>\n",
       "      <td>9.0</td>\n",
       "    </tr>\n",
       "  </tbody>\n",
       "</table>\n",
       "</div>"
      ],
      "text/plain": [
       "         a    b    c\n",
       "count  3.0  3.0  3.0\n",
       "mean   2.0  5.0  8.0\n",
       "std    1.0  1.0  1.0\n",
       "min    1.0  4.0  7.0\n",
       "25%    1.5  4.5  7.5\n",
       "50%    2.0  5.0  8.0\n",
       "75%    2.5  5.5  8.5\n",
       "max    3.0  6.0  9.0"
      ]
     },
     "execution_count": 98,
     "metadata": {},
     "output_type": "execute_result"
    }
   ],
   "source": [
    "df1.describe()"
   ]
  },
  {
   "cell_type": "code",
   "execution_count": 99,
   "id": "33a86c32",
   "metadata": {},
   "outputs": [
    {
     "name": "stdout",
     "output_type": "stream",
     "text": [
      "3\n",
      "False\n",
      "True\n",
      "A\n"
     ]
    }
   ],
   "source": [
    "# 내장함수\n",
    "print(abs(-3))\n",
    "print(all([1,2,3,0])) # x가 모두 참이면 True, 거짓이 하나라도 있으면 False\n",
    "print(any([1,2,3,0])) # x가 하나라도 참이면 True, 모두 거짓이면 False\n",
    "print(chr(65)) # 아스키코드"
   ]
  },
  {
   "cell_type": "code",
   "execution_count": 1,
   "id": "15c765c7",
   "metadata": {},
   "outputs": [
    {
     "name": "stdout",
     "output_type": "stream",
     "text": [
      "3.0\n",
      "3\n",
      "10\n",
      "1\n",
      "100\n",
      "3\n"
     ]
    }
   ],
   "source": [
    "print(float(3))\n",
    "print(int(3.9))\n",
    "print(max(1,10))\n",
    "print(min(1,10))\n",
    "print(pow(10,2)) # 거듭제곱\n",
    "print(round(2.675))"
   ]
  },
  {
   "cell_type": "code",
   "execution_count": 2,
   "id": "14353cc5",
   "metadata": {},
   "outputs": [
    {
     "data": {
      "text/plain": [
       "6"
      ]
     },
     "execution_count": 2,
     "metadata": {},
     "output_type": "execute_result"
    }
   ],
   "source": [
    "li = [1,2,3]\n",
    "sum(li)"
   ]
  },
  {
   "cell_type": "code",
   "execution_count": 3,
   "id": "9132b59d",
   "metadata": {},
   "outputs": [
    {
     "name": "stdout",
     "output_type": "stream",
     "text": [
      "5\n"
     ]
    }
   ],
   "source": [
    "my_list = [1,2,3,4,5]\n",
    "print(len(my_list))"
   ]
  },
  {
   "cell_type": "code",
   "execution_count": 4,
   "id": "6ed14d4c",
   "metadata": {},
   "outputs": [
    {
     "name": "stdout",
     "output_type": "stream",
     "text": [
      "I am 30 years old.\n"
     ]
    }
   ],
   "source": [
    "age = 30\n",
    "print(\"I am \" + str(age) + \" years old.\")"
   ]
  },
  {
   "cell_type": "code",
   "execution_count": 5,
   "id": "256a524d",
   "metadata": {},
   "outputs": [
    {
     "name": "stdout",
     "output_type": "stream",
     "text": [
      "[1, 2, 3]\n"
     ]
    }
   ],
   "source": [
    "my_tuple = (1,2,3)\n",
    "print(list(my_tuple))"
   ]
  },
  {
   "cell_type": "code",
   "execution_count": 6,
   "id": "6f543f71",
   "metadata": {},
   "outputs": [
    {
     "name": "stdout",
     "output_type": "stream",
     "text": [
      "[1, 2, 3, 4]\n"
     ]
    },
    {
     "data": {
      "text/plain": [
       "[3, 1, 4, 2]"
      ]
     },
     "execution_count": 6,
     "metadata": {},
     "output_type": "execute_result"
    }
   ],
   "source": [
    "my_list = [3,1,4,2]\n",
    "print(sorted(my_list))\n",
    "my_list"
   ]
  },
  {
   "cell_type": "code",
   "execution_count": 7,
   "id": "5249a3cc",
   "metadata": {},
   "outputs": [
    {
     "name": "stdout",
     "output_type": "stream",
     "text": [
      "<class 'str'>\n"
     ]
    }
   ],
   "source": [
    "my_string = \"Python\"\n",
    "print(type(my_string))"
   ]
  },
  {
   "cell_type": "code",
   "execution_count": 8,
   "id": "8fec0dd2",
   "metadata": {},
   "outputs": [
    {
     "name": "stdout",
     "output_type": "stream",
     "text": [
      "1 ele1\n",
      "2 ele2\n",
      "3 ele3\n"
     ]
    }
   ],
   "source": [
    "for idx, element in enumerate (['ele1','ele2','ele3']):\n",
    "    print(idx+1,element)"
   ]
  },
  {
   "cell_type": "code",
   "execution_count": 9,
   "id": "8d4d3700",
   "metadata": {
    "scrolled": true
   },
   "outputs": [
    {
     "name": "stdout",
     "output_type": "stream",
     "text": [
      "(2, 1)\n"
     ]
    }
   ],
   "source": [
    "#몫과 나머지 #######\n",
    "print(divmod(7,3))"
   ]
  },
  {
   "cell_type": "code",
   "execution_count": 1,
   "id": "ab86ab47",
   "metadata": {},
   "outputs": [
    {
     "data": {
      "text/plain": [
       "7"
      ]
     },
     "execution_count": 1,
     "metadata": {},
     "output_type": "execute_result"
    }
   ],
   "source": [
    "sum = lambda a,b:a+b #함수 이름 필요없이 바로 기능할 수 있게\n",
    "sum(3,4)"
   ]
  },
  {
   "cell_type": "code",
   "execution_count": 2,
   "id": "b59f0361",
   "metadata": {},
   "outputs": [
    {
     "name": "stdout",
     "output_type": "stream",
     "text": [
      "7\n"
     ]
    }
   ],
   "source": [
    "def sum(a,b):\n",
    "    return a+b\n",
    "\n",
    "print(sum(3,4))"
   ]
  },
  {
   "cell_type": "code",
   "execution_count": 4,
   "id": "16020835",
   "metadata": {
    "scrolled": true
   },
   "outputs": [
    {
     "name": "stdout",
     "output_type": "stream",
     "text": [
      "11\n",
      "30\n"
     ]
    }
   ],
   "source": [
    "myList = [lambda a,b:a+b, lambda a,b:a*b] #람다 함수를 리스트로 만들 수도 있음.\n",
    "print(myList[0](6,5))\n",
    "print(myList[1](6,5))"
   ]
  },
  {
   "cell_type": "code",
   "execution_count": 8,
   "id": "b8fad788",
   "metadata": {},
   "outputs": [
    {
     "name": "stdout",
     "output_type": "stream",
     "text": [
      "15\n",
      "5\n",
      "50\n",
      "2.0\n",
      "2\n",
      "0\n",
      "100000\n",
      "13\n",
      "9\n",
      "22\n",
      "5.5\n",
      "5\n",
      "1\n",
      "121\n"
     ]
    }
   ],
   "source": [
    "# Q. lambda를 리스트 형태로 작성하여 사칙 연산을 해보세요.\n",
    "myList = [lambda a,b:a+b, lambda a,b: a-b, lambda a,b:a*b, lambda a,b:a/b, lambda a,b:a//b, lambda a,b:a%b, lambda a,b:a**b]\n",
    "\n",
    "print(myList[0](10,5))\n",
    "print(myList[1](10,5))\n",
    "print(myList[2](10,5))\n",
    "print(myList[3](10,5))\n",
    "print(myList[4](10,5))\n",
    "print(myList[5](10,5))\n",
    "print(myList[6](10,5))\n",
    "\n",
    "for i in range(len(myList)):\n",
    "    print(myList[i](11,2))"
   ]
  },
  {
   "cell_type": "code",
   "execution_count": 9,
   "id": "1770f522",
   "metadata": {},
   "outputs": [
    {
     "name": "stdout",
     "output_type": "stream",
     "text": [
      "6\n",
      "3\n",
      "3\n"
     ]
    }
   ],
   "source": [
    "print(len('python'))\n",
    "print(len([1,2,3]))\n",
    "print(len([1,2,'a']))"
   ]
  },
  {
   "cell_type": "code",
   "execution_count": 10,
   "id": "ee47303d",
   "metadata": {},
   "outputs": [
    {
     "name": "stdout",
     "output_type": "stream",
     "text": [
      "1 2 3 4 \n",
      "5\n"
     ]
    }
   ],
   "source": [
    "li = [1,2,3,4,5]\n",
    "for i in range(1,len(li)):\n",
    "    print(i,end=' ')\n",
    "\n",
    "print()\n",
    "print(len(li))"
   ]
  },
  {
   "cell_type": "code",
   "execution_count": 11,
   "id": "156d44ab",
   "metadata": {},
   "outputs": [
    {
     "name": "stdout",
     "output_type": "stream",
     "text": [
      "[0, 1, 2, 3, 4]\n",
      "[1, 2, 3, 4, 5]\n",
      "[1, 3, 5, 7, 9]\n",
      "[0, -1, -2, -3, -4, -5, -6, -7, -8, -9]\n"
     ]
    }
   ],
   "source": [
    "print(list(range(5)))\n",
    "print(list(range(1,6)))\n",
    "print(list(range(1,10,2)))\n",
    "print(list(range(0,-10,-1)))"
   ]
  },
  {
   "cell_type": "code",
   "execution_count": 12,
   "id": "a00fe160",
   "metadata": {},
   "outputs": [
    {
     "name": "stdout",
     "output_type": "stream",
     "text": [
      "0 james\n",
      "1 tom\n",
      "2 susan\n"
     ]
    }
   ],
   "source": [
    "# 순서가 있는 자료형을 입력으로 받아 인덱스 값을 포함한 enumerate 객체를 리턴\n",
    "for i, name in enumerate(['james','tom','susan']):\n",
    "    print(i, name)"
   ]
  },
  {
   "cell_type": "code",
   "execution_count": 14,
   "id": "13db0abb",
   "metadata": {},
   "outputs": [
    {
     "name": "stdout",
     "output_type": "stream",
     "text": [
      "3\n"
     ]
    }
   ],
   "source": [
    "print(eval('1+2'))"
   ]
  },
  {
   "cell_type": "code",
   "execution_count": 15,
   "id": "3cc4da26",
   "metadata": {},
   "outputs": [],
   "source": [
    "# 외장함수: 전 세계 파이썬 사용자들이 만든 유용한 프로그램을 모아 놓은 파이썬 라이브러리. 파이썬을 설치할 때 자동으로 설치\n",
    "# pickle은 객체의 형태를 유지하면서 파일에 저장하고 불러올 수 있게 하는 모듈\n",
    "\n",
    "import pickle\n",
    "f = open('test3.txt','wb') #'wb' 는 바이너리로 쓴다는 것. 바이너리로 쓰면 용량이 적음.\n",
    "data = {1:'python', 2:'you need'}\n",
    "pickle.dump(data,f)\n",
    "f.close()"
   ]
  },
  {
   "cell_type": "code",
   "execution_count": 16,
   "id": "c3ba3384",
   "metadata": {},
   "outputs": [
    {
     "name": "stdout",
     "output_type": "stream",
     "text": [
      "{1: 'python', 2: 'you need'}\n"
     ]
    }
   ],
   "source": [
    "import pickle\n",
    "f = open('test3.txt','rb') #'rb' 는 바이너리를 읽는다는 것.\n",
    "data = pickle.load(f)\n",
    "print(data)\n",
    "f.close()"
   ]
  },
  {
   "cell_type": "code",
   "execution_count": 18,
   "id": "a305fa82",
   "metadata": {},
   "outputs": [
    {
     "data": {
      "text/plain": [
       "'C:\\\\kita\\\\anaconda\\\\envs\\\\kita;C:\\\\kita\\\\anaconda\\\\envs\\\\kita\\\\Library\\\\mingw-w64\\\\bin;C:\\\\kita\\\\anaconda\\\\envs\\\\kita\\\\Library\\\\usr\\\\bin;C:\\\\kita\\\\anaconda\\\\envs\\\\kita\\\\Library\\\\bin;C:\\\\kita\\\\anaconda\\\\envs\\\\kita\\\\Scripts;C:\\\\Program Files\\\\Java\\\\jdk-1.8\\\\bin;C:\\\\Windows\\\\system32;C:\\\\Windows;C:\\\\Windows\\\\System32\\\\Wbem;C:\\\\Windows\\\\System32\\\\WindowsPowerShell\\\\v1.0\\\\;C:\\\\Windows\\\\System32\\\\OpenSSH\\\\;C:\\\\kita\\\\anaconda\\\\Library\\\\bin;C:\\\\kita\\\\anaconda\\\\Library\\\\mingw-w64;C:\\\\kita\\\\anaconda;C:\\\\kita\\\\anaconda\\\\Scripts;'"
      ]
     },
     "execution_count": 18,
     "metadata": {},
     "output_type": "execute_result"
    }
   ],
   "source": [
    "import os\n",
    "os.environ['PATH']"
   ]
  },
  {
   "cell_type": "code",
   "execution_count": 19,
   "id": "5d92d234",
   "metadata": {},
   "outputs": [
    {
     "data": {
      "text/plain": [
       "'D:\\\\kdt_231026\\\\workspace\\\\m1_programming'"
      ]
     },
     "execution_count": 19,
     "metadata": {},
     "output_type": "execute_result"
    }
   ],
   "source": [
    "%pwd #현재 작업하는 폴더 위치"
   ]
  },
  {
   "cell_type": "code",
   "execution_count": 26,
   "id": "90bdcf04",
   "metadata": {
    "scrolled": true
   },
   "outputs": [
    {
     "data": {
      "text/plain": [
       "'D:\\\\kdt_231026\\\\workspace\\\\m1_programming'"
      ]
     },
     "execution_count": 26,
     "metadata": {},
     "output_type": "execute_result"
    }
   ],
   "source": [
    "os.getcwd() #현재 작업하는 폴더 위치"
   ]
  },
  {
   "cell_type": "code",
   "execution_count": 22,
   "id": "eae514ee",
   "metadata": {},
   "outputs": [],
   "source": [
    "# 폴더변경\n",
    "os.chdir('D:\\\\kdt_231026\\\\workspace\\\\m1_programming\\\\ex')"
   ]
  },
  {
   "cell_type": "code",
   "execution_count": 24,
   "id": "2e43f49c",
   "metadata": {},
   "outputs": [],
   "source": [
    "os.chdir('D:\\\\kdt_231026\\\\workspace\\\\m1_programming')"
   ]
  },
  {
   "cell_type": "code",
   "execution_count": 30,
   "id": "5dccc209",
   "metadata": {},
   "outputs": [],
   "source": [
    "import os\n",
    "os.rename('test_new.txt','test1.txt')\n",
    "#######파일 이름 바꾸기 test_new 에서 test1으로 "
   ]
  },
  {
   "cell_type": "code",
   "execution_count": 31,
   "id": "4a4804d1",
   "metadata": {},
   "outputs": [
    {
     "name": "stdout",
     "output_type": "stream",
     "text": [
      " D 드라이브의 볼륨: 새 볼륨\n",
      " 볼륨 일련 번호: 02B1-19A2\n",
      "\n",
      " D:\\kdt_231026\\workspace\\m1_programming 디렉터리\n",
      "\n",
      "2023-11-02  오전 11:05    <DIR>          .\n",
      "2023-11-02  오전 11:05    <DIR>          ..\n",
      "2023-11-02  오전 10:30    <DIR>          .ipynb_checkpoints\n",
      "2023-11-02  오전 11:02    <DIR>          ex\n",
      "2023-11-01  오후 02:42                18 foo.txt\n",
      "2023-11-01  오후 04:17                70 hw_1101_5.txt\n",
      "2023-11-01  오후 04:19             1,117 mydata.txt\n",
      "2023-11-01  오후 03:16                84 mymodule.py\n",
      "2023-10-30  오후 06:13            52,993 python_1_자료형.ipynb\n",
      "2023-10-31  오후 02:39            19,870 python_2_제어문.ipynb\n",
      "2023-11-02  오전 11:04            74,687 python_3_함수.ipynb\n",
      "2023-10-30  오전 09:21            17,055 python_자료형_1_과제1027.ipynb\n",
      "2023-11-01  오후 02:40               261 test1.txt\n",
      "2023-11-01  오후 02:45               261 test2.txt\n",
      "2023-11-02  오전 10:48                40 test3.txt\n",
      "2023-11-01  오후 03:18    <DIR>          __pycache__\n",
      "2023-10-31  오전 11:51            19,485 과제_1030.ipynb\n",
      "2023-11-01  오전 11:46            28,232 과제_1031.ipynb\n",
      "2023-11-02  오전 10:30            12,069 과제_1101.ipynb\n",
      "2023-11-02  오전 11:00             1,912 과제_1102.ipynb\n",
      "              15개 파일             228,154 바이트\n",
      "               5개 디렉터리  472,372,858,880 바이트 남음\n"
     ]
    }
   ],
   "source": [
    "!dir"
   ]
  },
  {
   "cell_type": "code",
   "execution_count": 25,
   "id": "6c5d3008",
   "metadata": {
    "scrolled": true
   },
   "outputs": [
    {
     "name": "stdout",
     "output_type": "stream",
     "text": [
      " D 드라이브의 볼륨: 새 볼륨\n",
      " 볼륨 일련 번호: 02B1-19A2\n",
      "\n",
      " D:\\kdt_231026\\workspace\\m1_programming 디렉터리\n",
      "\n",
      "2023-11-02  오전 11:02    <DIR>          .\n",
      "2023-11-02  오전 11:02    <DIR>          ..\n",
      "2023-11-02  오전 10:30    <DIR>          .ipynb_checkpoints\n",
      "2023-11-01  오후 03:18    <DIR>          __pycache__\n",
      "2023-11-02  오전 11:02    <DIR>          ex\n",
      "2023-11-01  오후 02:42                18 foo.txt\n",
      "2023-11-01  오후 04:17                70 hw_1101_5.txt\n",
      "2023-11-01  오후 04:19             1,117 mydata.txt\n",
      "2023-11-01  오후 03:16                84 mymodule.py\n",
      "2023-10-30  오후 06:13            52,993 python_1_자료형.ipynb\n",
      "2023-10-31  오후 02:39            19,870 python_2_제어문.ipynb\n",
      "2023-11-02  오전 11:02            73,690 python_3_함수.ipynb\n",
      "2023-10-30  오전 09:21            17,055 python_자료형_1_과제1027.ipynb\n",
      "2023-11-01  오후 02:40               261 test1.txt\n",
      "2023-11-01  오후 02:45               261 test2.txt\n",
      "2023-11-02  오전 10:48                40 test3.txt\n",
      "2023-10-31  오전 11:51            19,485 과제_1030.ipynb\n",
      "2023-11-01  오전 11:46            28,232 과제_1031.ipynb\n",
      "2023-11-02  오전 10:30            12,069 과제_1101.ipynb\n",
      "2023-11-02  오전 11:00             1,912 과제_1102.ipynb\n",
      "              15개 파일             227,157 바이트\n",
      "               5개 디렉터리  472,372,862,976 바이트 남음\n"
     ]
    }
   ],
   "source": [
    "ls"
   ]
  },
  {
   "cell_type": "code",
   "execution_count": 32,
   "id": "9ee4dbaa",
   "metadata": {},
   "outputs": [
    {
     "data": {
      "text/plain": [
       "['D:\\\\kdt_231026\\\\workspace\\\\m1_programming\\\\foo.txt',\n",
       " 'D:\\\\kdt_231026\\\\workspace\\\\m1_programming\\\\hw_1101_5.txt',\n",
       " 'D:\\\\kdt_231026\\\\workspace\\\\m1_programming\\\\mydata.txt',\n",
       " 'D:\\\\kdt_231026\\\\workspace\\\\m1_programming\\\\test1.txt',\n",
       " 'D:\\\\kdt_231026\\\\workspace\\\\m1_programming\\\\test2.txt',\n",
       " 'D:\\\\kdt_231026\\\\workspace\\\\m1_programming\\\\test3.txt']"
      ]
     },
     "execution_count": 32,
     "metadata": {},
     "output_type": "execute_result"
    }
   ],
   "source": [
    "# glob() 함수는 인자로 받은 패턴과 이름이 일치하는 모든 파일과 디렉토리의 리스트를 반환\n",
    "import glob\n",
    "glob.glob('D:\\\\kdt_231026\\\\workspace\\\\m1_programming/*.txt') #  이번 예제에서는 이 폴더의 .txt로 끝나는 모든 파일과 디렉토리 리스트 반환"
   ]
  },
  {
   "cell_type": "code",
   "execution_count": 34,
   "id": "61392e19",
   "metadata": {},
   "outputs": [
    {
     "data": {
      "text/plain": [
       "array([200, 201, 202, 203, 204, 205, 206, 207, 208, 209, 210, 211, 212,\n",
       "       213, 214, 215, 216, 217, 218, 219, 220, 221, 222, 223, 224, 225,\n",
       "       226, 227, 228, 229, 230, 231, 232, 233, 234, 235, 236, 237, 238,\n",
       "       239, 240, 241, 242, 243, 244, 245, 246, 247, 248, 249, 250, 251,\n",
       "       252, 253, 254, 255, 256, 257, 258, 259, 260, 261, 262, 263, 264,\n",
       "       265, 266, 267, 268, 269, 270, 271, 272, 273, 274, 275, 276, 277,\n",
       "       278, 279, 280, 281, 282, 283, 284, 285, 286, 287, 288, 289, 290,\n",
       "       291, 292, 293, 294, 295, 296, 297, 298, 299, 300])"
      ]
     },
     "execution_count": 34,
     "metadata": {},
     "output_type": "execute_result"
    }
   ],
   "source": [
    "import numpy as np\n",
    "\n",
    "np.arange(200,301)"
   ]
  },
  {
   "cell_type": "code",
   "execution_count": 36,
   "id": "30663fcc",
   "metadata": {},
   "outputs": [
    {
     "data": {
      "text/plain": [
       "25250"
      ]
     },
     "execution_count": 36,
     "metadata": {},
     "output_type": "execute_result"
    }
   ],
   "source": [
    "import numpy as np\n",
    "def sum(*args):\n",
    "    sum = 0\n",
    "    for i in args:\n",
    "        sum += i\n",
    "    return sum\n",
    "\n",
    "sum(200, 201, 202, 203, 204, 205, 206, 207, 208, 209, 210, 211, 212,\n",
    "       213, 214, 215, 216, 217, 218, 219, 220, 221, 222, 223, 224, 225,\n",
    "       226, 227, 228, 229, 230, 231, 232, 233, 234, 235, 236, 237, 238,\n",
    "       239, 240, 241, 242, 243, 244, 245, 246, 247, 248, 249, 250, 251,\n",
    "       252, 253, 254, 255, 256, 257, 258, 259, 260, 261, 262, 263, 264,\n",
    "       265, 266, 267, 268, 269, 270, 271, 272, 273, 274, 275, 276, 277,\n",
    "       278, 279, 280, 281, 282, 283, 284, 285, 286, 287, 288, 289, 290,\n",
    "       291, 292, 293, 294, 295, 296, 297, 298, 299, 300)"
   ]
  },
  {
   "cell_type": "markdown",
   "id": "f4a3279f",
   "metadata": {},
   "source": [
    "#### sort, sorted 모두 key, reverse 매개변수를 갖고 있다.\n",
    "- reverse : 기본값은 reverse=False(오름차순), reverse=True를 매개변수로 입력하면 내림차순으로 정렬\n",
    "- key : 정렬을 목적으로 하는 함수를 값으로 넣는다. lambda를 이용할 수 있고 key 값을 기준으로 정렬되고 기본값은 오름차순"
   ]
  },
  {
   "cell_type": "code",
   "execution_count": 39,
   "id": "5596f199",
   "metadata": {},
   "outputs": [
    {
     "data": {
      "text/plain": [
       "['bar', 'ababa', 'ca', 'aaaa', 'a']"
      ]
     },
     "execution_count": 39,
     "metadata": {},
     "output_type": "execute_result"
    }
   ],
   "source": [
    "# strings를 다양한 문자가 포함된 순서로 정렬하세요.\n",
    "strings = ['a','ca','bar','aaaa','ababa']\n",
    "strings.sort(key = lambda x:len(set(x)))   #원소들을 set로 바꾸고 그것의 len을 기준으로 sort 하기. 즉 원본을 바꾸기.\n",
    "strings[::-1] #역순 즉 내림차순으로 정렬하기. 제일 큰것부터 작은 것으로"
   ]
  },
  {
   "cell_type": "code",
   "execution_count": null,
   "id": "935bcdc3",
   "metadata": {},
   "outputs": [],
   "source": [
    "# Q. 튜플 형태인 strings를 다양한 문자가 포함된 순서로 정렬하세요.\n",
    "strings = ('a','ca','bar','aaaa','ababa')\n",
    "s_list=list(strings)\n",
    "strings.sort(key = lambda x:len(set(x))) #기본 정렬(오름차순)\n",
    "print(s_strings[::-1]  #거꾸로 출력(내림차순으로 나오게)"
   ]
  },
  {
   "cell_type": "code",
   "execution_count": 41,
   "id": "34f5db64",
   "metadata": {},
   "outputs": [
    {
     "name": "stdout",
     "output_type": "stream",
     "text": [
      "['http:', '', 'news.naver.com', 'main', 'read.nhn?mode=LSD&mid=shm&sid1=105&oid=028&aid=0002334601']\n"
     ]
    },
    {
     "data": {
      "text/plain": [
       "'news.naver.com'"
      ]
     },
     "execution_count": 41,
     "metadata": {},
     "output_type": "execute_result"
    }
   ],
   "source": [
    "#url에서 호스트 도메인을 추출하여 출력하세요.\n",
    "url = 'http://news.naver.com/main/read.nhn?mode=LSD&mid=shm&sid1=105&oid=028&aid=0002334601'\n",
    "\n",
    "x = url.split('/')\n",
    "print(x)\n",
    "x[2]"
   ]
  },
  {
   "cell_type": "markdown",
   "id": "41fe6329",
   "metadata": {},
   "source": [
    "#### url에서 '?'뒤에 표시되는 문자열을 쿼리 문자열이라고 하며 변수=값 사이 &로 구분되어 나열된다.\n",
    "\n",
    "url = 'http://news.naver.com/main/read.nhn?mode=LSD&mid=shm&sid1=105&oid=028&aid=0002334601'"
   ]
  },
  {
   "cell_type": "code",
   "execution_count": 43,
   "id": "221c1276",
   "metadata": {
    "scrolled": true
   },
   "outputs": [
    {
     "name": "stdout",
     "output_type": "stream",
     "text": [
      "True\n",
      "True\n",
      "False\n",
      "False\n"
     ]
    }
   ],
   "source": [
    "# 문자열이 문자인지 검사\n",
    "txt1 = 'A'\n",
    "txt2 = '안녕'\n",
    "txt3 = 'Warcraft Three'\n",
    "txt4 = '3PO'\n",
    "ret1 = txt1.isalpha()\n",
    "ret2 = txt2.isalpha()\n",
    "ret3 = txt3.isalpha()\n",
    "ret4 = txt4.isalpha()\n",
    "print(ret1)       # True 가 출력됨\n",
    "print(ret2)       # True 가 출력됨\n",
    "print(ret3)       # False 가 출력됨\n",
    "print(ret4)       # False 가 출력됨\n",
    "\n"
   ]
  },
  {
   "cell_type": "code",
   "execution_count": 44,
   "id": "d5695387",
   "metadata": {},
   "outputs": [
    {
     "name": "stdout",
     "output_type": "stream",
     "text": [
      "False\n",
      "False\n",
      "True\n"
     ]
    }
   ],
   "source": [
    "# 문자열이 숫자인지 검사\n",
    "\n",
    "txt1 = '010-1234-5678'\n",
    "txt2 = 'R2D2'\n",
    "txt3 = '1212'\n",
    "\n",
    "ret1 = txt1.isdigit()\n",
    "ret2 = txt2.isdigit()\n",
    "ret3 = txt3.isdigit()\n",
    "print(ret1) # False가 출력됨\n",
    "print(ret2) # False가 출력됨\n",
    "print(ret3) # True가 출력됨"
   ]
  },
  {
   "cell_type": "code",
   "execution_count": 45,
   "id": "a7dd4701",
   "metadata": {},
   "outputs": [
    {
     "name": "stdout",
     "output_type": "stream",
     "text": [
      "False\n",
      "False\n",
      "True\n"
     ]
    }
   ],
   "source": [
    "#문자열이 문자 또는 숫자인지 검사 : 문자열이 영어, 한글 혹은 숫자로 되어있으면 참 리턴, 아니면 거짓 리턴\n",
    "txt1 = '안녕하세요?'\n",
    "txt2 = '1. Title-제목을 넣으세요'\n",
    "txt3 = '3피오R2D2'\n",
    "\n",
    "ret1 = txt1.isalnum()\n",
    "ret2 = txt2.isalnum()\n",
    "ret = txt3.isalnum()\n",
    "print(ret1)    # False가 출력됨\n",
    "print(ret2)    # False가 출력됨\n",
    "print(ret3)    # True가 출력됨"
   ]
  },
  {
   "cell_type": "code",
   "execution_count": 49,
   "id": "b2a53691",
   "metadata": {},
   "outputs": [
    {
     "name": "stdout",
     "output_type": "stream",
     "text": [
      "A LOT OF THINGS OCCUR EACH DAY.\n",
      "a lot of things occur each day.\n",
      "A Lot Of Things Occur Each Day.\n",
      "A lot of things occur each day.\n"
     ]
    }
   ],
   "source": [
    "txt = 'A lot of Things occur each day.'\n",
    "ret1 = txt.upper()   # 대문자\n",
    "ret2 = txt.lower()   # 소문자\n",
    "ret3 = txt.title()   # 타이틀에 쓰는 형식 대로 문장의 각 단어의 첫글자만 대문자\n",
    "ret4 = txt. capitalize() # 문장의 첫글자만 대문자\n",
    "print(ret1)\n",
    "print(ret2)\n",
    "print(ret3)\n",
    "print(ret4)"
   ]
  }
 ],
 "metadata": {
  "kernelspec": {
   "display_name": "Python 3 (ipykernel)",
   "language": "python",
   "name": "python3"
  },
  "language_info": {
   "codemirror_mode": {
    "name": "ipython",
    "version": 3
   },
   "file_extension": ".py",
   "mimetype": "text/x-python",
   "name": "python",
   "nbconvert_exporter": "python",
   "pygments_lexer": "ipython3",
   "version": "3.11.5"
  }
 },
 "nbformat": 4,
 "nbformat_minor": 5
}
