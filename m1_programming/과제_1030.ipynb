{
 "cells": [
  {
   "cell_type": "markdown",
   "id": "8fbd7287",
   "metadata": {},
   "source": [
    "#### [과제1_1030]"
   ]
  },
  {
   "cell_type": "markdown",
   "id": "6c1c829d",
   "metadata": {},
   "source": [
    "num1 = 12345, num2 = 12.345679을 아래와 같이 출력하세요.\n",
    "12345\n",
    "     12345\n",
    "12.345679\n",
    "          12.345"
   ]
  },
  {
   "cell_type": "code",
   "execution_count": 8,
   "id": "33a94818",
   "metadata": {},
   "outputs": [
    {
     "name": "stdout",
     "output_type": "stream",
     "text": [
      "12345\n",
      "     12345\n",
      "12.345679\n",
      "          12.346\n"
     ]
    }
   ],
   "source": [
    "num1 = 12345; num2 = 12.345679\n",
    "print(f'{num1}\\n{num1:10d}\\n{num2}\\n{num2:16.3f}')"
   ]
  },
  {
   "cell_type": "markdown",
   "id": "885bca90",
   "metadata": {},
   "source": [
    "#### [과제2_1030]\n",
    "listdata = ['a','b','c']에서 조건문을 이용해서 아래와 같이 출력하세요"
   ]
  },
  {
   "cell_type": "code",
   "execution_count": null,
   "id": "57e9224a",
   "metadata": {},
   "outputs": [],
   "source": [
    "a가 listdata에 있습니다.\n",
    "b가 listdata에 있습니다.\n",
    "c가 listdata에 있습니다."
   ]
  },
  {
   "cell_type": "code",
   "execution_count": 11,
   "id": "2f1d6a0a",
   "metadata": {},
   "outputs": [
    {
     "name": "stdout",
     "output_type": "stream",
     "text": [
      "a가 listdata에 있습니다.\n",
      "b가 listdata에 있습니다.\n",
      "c가 listdata에 있습니다.\n"
     ]
    }
   ],
   "source": [
    "listdata = ['a','b','c']\n",
    "if 'a' in listdata:\n",
    "    print(\"a가 listdata에 있습니다.\")\n",
    "if 'b' in listdata:\n",
    "    print(\"b가 listdata에 있습니다.\")\n",
    "if 'c' in listdata:\n",
    "    print(\"c가 listdata에 있습니다.\")"
   ]
  },
  {
   "cell_type": "markdown",
   "id": "26128c78",
   "metadata": {},
   "source": [
    "#### [과제3_1030]\n",
    "돈이 있으면 택시를 타고, 돈이 없으면 걸어 간다를 만족하는 조건문을 작성하세요"
   ]
  },
  {
   "cell_type": "code",
   "execution_count": 12,
   "id": "ab8bb6f3",
   "metadata": {},
   "outputs": [
    {
     "name": "stdout",
     "output_type": "stream",
     "text": [
      "택시를 탄다.\n"
     ]
    }
   ],
   "source": [
    "money = 1000\n",
    "if money > 0:\n",
    "    print(\"택시를 탄다.\")\n",
    "else:\n",
    "    print(\"걸어간다.\")"
   ]
  },
  {
   "cell_type": "markdown",
   "id": "e2b71477",
   "metadata": {},
   "source": [
    "#### [과제4_1030]\n",
    "조건부 표현식을 한줄의 조건문으로 작성하세요."
   ]
  },
  {
   "cell_type": "code",
   "execution_count": null,
   "id": "b61f2f2c",
   "metadata": {},
   "outputs": [],
   "source": [
    "score = 70\n",
    "if score >= 60:\n",
    "    message = \"success\"\n",
    "else:\n",
    "    message = \"failure\"\n",
    "print(message)"
   ]
  },
  {
   "cell_type": "code",
   "execution_count": 1,
   "id": "6a4bf035",
   "metadata": {},
   "outputs": [
    {
     "name": "stdout",
     "output_type": "stream",
     "text": [
      "success\n"
     ]
    }
   ],
   "source": [
    "score = 70\n",
    "print(\"success\" if score >=60 else \"failure\")\n",
    "#[\"success\" if score >=60 else \"failure\"] list로 할 경우"
   ]
  },
  {
   "cell_type": "markdown",
   "id": "0fab58d9",
   "metadata": {},
   "source": [
    "#### [과제5_1030] \n",
    "\"수입과 지출금액을 비교해서 수입이 많은면 저축 증가, 반대이면 빚이 증가\" 프로그램 작성"
   ]
  },
  {
   "cell_type": "code",
   "execution_count": 20,
   "id": "bc3efc23",
   "metadata": {},
   "outputs": [
    {
     "name": "stdout",
     "output_type": "stream",
     "text": [
      "수입을 입력하세요.250000\n",
      "지출을 입력하세요.250000\n",
      "수입과 지출금액이 같습니다.\n"
     ]
    }
   ],
   "source": [
    "income = int(input(\"수입을 입력하세요.\"))\n",
    "expense = int(input(\"지출을 입력하세요.\"))\n",
    "message = \"\"\n",
    "if income > expense:\n",
    "    message = \"저축 증가\"\n",
    "elif income < expense:\n",
    "    message = \"빚이 증가\"\n",
    "else:\n",
    "    message = \"수입과 지출금액이 같습니다.\"\n",
    "print(message)"
   ]
  },
  {
   "cell_type": "code",
   "execution_count": null,
   "id": "1566f4f4",
   "metadata": {},
   "outputs": [],
   "source": [
    "# 음식점의 음식 주문가격 산출 프로그램을 자유롭게 작성하세요\n",
    "KITA 식당에 오신 것을 환영합니다\n",
    "\n",
    "========================================\n",
    "\n",
    "          - 메  뉴 -\n",
    "    1. 불고기 비빔밥 : 12,000원\n",
    "    2. 야채 비빔밥 : 8,000원\n",
    "    3. 전주 비빔밥 : 10,000원\n",
    "\n",
    "    세트 주문시 : 3000원 추가\n",
    "    (세트는 밥과 반찬이 추가됩니다.)\n",
    "\n",
    "========================================\n",
    "\n",
    "비빔밥 메뉴를 선택해 주세요. 1, 2, 3 >>> 2\n",
    "세트 주문을 하시겠습니까? 3,000원 추가. y, n >>> y\n",
    "총 금액은 11000원 입니다.\n",
    "'''"
   ]
  },
  {
   "cell_type": "code",
   "execution_count": 23,
   "id": "53f0dfaa",
   "metadata": {},
   "outputs": [
    {
     "name": "stdout",
     "output_type": "stream",
     "text": [
      "\n",
      "    \n",
      "KITA 식당에 오신 것을 환영합니다\n",
      "\n",
      "========================================\n",
      "\n",
      "          - 메  뉴 -\n",
      "    1. 불고기 비빔밥 : 12,000원\n",
      "    2. 야채 비빔밥 : 8,000원\n",
      "    3. 전주 비빔밥 : 10,000원\n",
      "\n",
      "    세트 주문시 : 3000원 추가\n",
      "    (세트는 밥과 반찬이 추가됩니다.)\n",
      "\n",
      "========================================\n",
      "\n",
      "비빔밥 메뉴를 선택해 주세요. 1, 2, 3 >>> 1\n",
      "세트 주문을 하시겠습니까? 3,000원 추가. y, n >>> y\n",
      "총 금액은 15000원 입니다.\n",
      "메뉴 추가하시겠습니까? y.n >>> y\n",
      "\n",
      "    \n",
      "KITA 식당에 오신 것을 환영합니다\n",
      "\n",
      "========================================\n",
      "\n",
      "          - 메  뉴 -\n",
      "    1. 불고기 비빔밥 : 12,000원\n",
      "    2. 야채 비빔밥 : 8,000원\n",
      "    3. 전주 비빔밥 : 10,000원\n",
      "\n",
      "    세트 주문시 : 3000원 추가\n",
      "    (세트는 밥과 반찬이 추가됩니다.)\n",
      "\n",
      "========================================\n",
      "\n",
      "비빔밥 메뉴를 선택해 주세요. 1, 2, 3 >>> 1\n",
      "세트 주문을 하시겠습니까? 3,000원 추가. y, n >>> n\n",
      "총 금액은 27000원 입니다.\n",
      "메뉴 추가하시겠습니까? y.n >>> n\n",
      "총 금액은 27000원 입니다. 주문 완료하시겠습니까? y.n >>> y\n",
      "총 금액은 27000원 입니다. 주문 완료되었습니다.\n",
      "\n",
      "    \n",
      "KITA 식당에 오신 것을 환영합니다\n",
      "\n",
      "========================================\n",
      "\n",
      "          - 메  뉴 -\n",
      "    1. 불고기 비빔밥 : 12,000원\n",
      "    2. 야채 비빔밥 : 8,000원\n",
      "    3. 전주 비빔밥 : 10,000원\n",
      "\n",
      "    세트 주문시 : 3000원 추가\n",
      "    (세트는 밥과 반찬이 추가됩니다.)\n",
      "\n",
      "========================================\n",
      "\n",
      "비빔밥 메뉴를 선택해 주세요. 1, 2, 3 >>> 9999\n"
     ]
    }
   ],
   "source": [
    "menu = {1 : 12000, 2 : 8000, 3 : 10000}\n",
    "total_price = 0\n",
    "while 1:\n",
    "    order = int(input(\"\"\"\n",
    "    \n",
    "KITA 식당에 오신 것을 환영합니다\n",
    "\n",
    "========================================\n",
    "\n",
    "          - 메  뉴 -\n",
    "    1. 불고기 비빔밥 : 12,000원\n",
    "    2. 야채 비빔밥 : 8,000원\n",
    "    3. 전주 비빔밥 : 10,000원\n",
    "\n",
    "    세트 주문시 : 3000원 추가\n",
    "    (세트는 밥과 반찬이 추가됩니다.)\n",
    "\n",
    "========================================\n",
    "\n",
    "비빔밥 메뉴를 선택해 주세요. 1, 2, 3 >>> \"\"\"))\n",
    "    if order == 9999: #관리자만 아는 종료 코드 입력시 주문 프로그램 종료.\n",
    "        break\n",
    "    if order < 1 or order >3:\n",
    "        print(\"잘못 입력하셨습니다. 1, 2, 3 중에 하나로 입력하세요.\")\n",
    "        continue\n",
    "    while 1:\n",
    "        set_order = input(\"세트 주문을 하시겠습니까? 3,000원 추가. y, n >>> \")\n",
    "        if set_order == \"y\":\n",
    "            total_price += (menu[order] + 3000)\n",
    "            break;\n",
    "        elif set_order == \"n\":\n",
    "            total_price += menu[order]\n",
    "            break;\n",
    "        else:\n",
    "            print(\"잘못 입력하셨습니다. y,n 둘 중 하나로 입력하세요.\")\n",
    "    while 1:\n",
    "        order_add = input(f'총 금액은 {total_price}원 입니다.\\n메뉴 추가하시겠습니까? y.n >>> ')\n",
    "        if order_add == 'y':\n",
    "            break\n",
    "        elif order_add == 'n':\n",
    "            while 1:\n",
    "                order_confirm = input(f'총 금액은 {total_price}원 입니다. 주문 완료하시겠습니까? y.n >>> ')\n",
    "                if order_confirm == \"y\":\n",
    "                    print(f\"총 금액은 {total_price}원 입니다. 주문 완료되었습니다.\")\n",
    "                    break\n",
    "                elif order_confirm ==\"n\":\n",
    "                    print(\"주문 취소되었습니다. 초기화면으로 돌아갑니다.\")\n",
    "                    break\n",
    "                else:\n",
    "                    print(\"잘못 입력하셨습니다. y,n 둘 중 하나로 입력하세요.\")\n",
    "            break\n",
    "        else:\n",
    "            print(\"잘못 입력하셨습니다. y,n 둘 중 하나로 입력하세요.\")"
   ]
  },
  {
   "cell_type": "markdown",
   "id": "20a42096",
   "metadata": {},
   "source": [
    "#### [과제6_1030]\n",
    "1~10 범위의 정수에서 1부터 5까지만 출력하세요."
   ]
  },
  {
   "cell_type": "code",
   "execution_count": 3,
   "id": "da9bfb1d",
   "metadata": {},
   "outputs": [
    {
     "name": "stdout",
     "output_type": "stream",
     "text": [
      "1 2 3 4 5 "
     ]
    }
   ],
   "source": [
    "for i in range (1,11):\n",
    "    if i > 5:\n",
    "        break;\n",
    "    print(i, end = ' ')"
   ]
  },
  {
   "cell_type": "markdown",
   "id": "b519450b",
   "metadata": {},
   "source": [
    "#### [과제7_1030]\n",
    "numbers 리스트에서 15,20,25를 출력하세요. (for문과 if조건 사용 필수)\n",
    "numbers = [5,15,6,20,7,25]"
   ]
  },
  {
   "cell_type": "code",
   "execution_count": 5,
   "id": "aec66fc6",
   "metadata": {},
   "outputs": [
    {
     "name": "stdout",
     "output_type": "stream",
     "text": [
      "15 20 25 "
     ]
    }
   ],
   "source": [
    "numbers = [5,15,6,20,7,25]\n",
    "for i in numbers:\n",
    "    if i > 5 and i%5 == 0:\n",
    "        print(i, end= ' ')"
   ]
  },
  {
   "cell_type": "markdown",
   "id": "8f8d7423",
   "metadata": {},
   "source": [
    "#### [과제8_1030]\n",
    "1부터 100까지의 정수 중 5에서 95까지의 합을 구하세요."
   ]
  },
  {
   "cell_type": "code",
   "execution_count": 2,
   "id": "a3522083",
   "metadata": {},
   "outputs": [
    {
     "name": "stdout",
     "output_type": "stream",
     "text": [
      "4550\n"
     ]
    }
   ],
   "source": [
    "num = 1\n",
    "sum = 0\n",
    "while num <= 100:\n",
    "    if num >= 5 and num <=95:\n",
    "        sum += num\n",
    "    num += 1\n",
    "print(sum)"
   ]
  },
  {
   "cell_type": "code",
   "execution_count": 5,
   "id": "5e67b8df",
   "metadata": {},
   "outputs": [
    {
     "name": "stdout",
     "output_type": "stream",
     "text": [
      "4550\n"
     ]
    }
   ],
   "source": [
    "num = 1\n",
    "sum = 0\n",
    "while num <= 100:\n",
    "    if num < 5 or num > 95:\n",
    "        num += 1\n",
    "        continue\n",
    "    sum += num\n",
    "    num += 1\n",
    "print(sum)"
   ]
  },
  {
   "cell_type": "markdown",
   "id": "9e082579",
   "metadata": {},
   "source": [
    "#### [과제9_1030]\n",
    "while문을 사용해 1부터 1000까지의 정수 중 3과 5의 공배수의 합을 구해보세요."
   ]
  },
  {
   "cell_type": "code",
   "execution_count": 9,
   "id": "e16eae9a",
   "metadata": {},
   "outputs": [
    {
     "name": "stdout",
     "output_type": "stream",
     "text": [
      "33165\n"
     ]
    }
   ],
   "source": [
    "multiple_sum = 0\n",
    "count = 1\n",
    "while count <= 1000:\n",
    "    if count % 15 == 0:\n",
    "        multiple_sum += count\n",
    "    count += 1\n",
    "print(multiple_sum)"
   ]
  },
  {
   "cell_type": "markdown",
   "id": "5e0ee867",
   "metadata": {},
   "source": [
    "#### [과제10_1030]\n",
    "현재 시각을 오전과 오후로 구분하는 프로그램을 작성하세요."
   ]
  },
  {
   "cell_type": "code",
   "execution_count": 8,
   "id": "d6193a90",
   "metadata": {},
   "outputs": [
    {
     "name": "stdout",
     "output_type": "stream",
     "text": [
      "현재 시각은 오전 10시4분 입니다.\n"
     ]
    }
   ],
   "source": [
    "#current_time = int(input(\"현재 시각을 24시 포맷으로 4자리 수로 입력하세요: 예) 1024 \"))\n",
    "from datetime import datetime\n",
    "now = datetime.now()\n",
    "hour = now.hour\n",
    "minute = now.minute\n",
    "am_pm = '오전' if hour < 12 else '오후'\n",
    "print(f'현재 시각은 {am_pm} {hour}시{minute}분 입니다.')"
   ]
  },
  {
   "cell_type": "code",
   "execution_count": 13,
   "id": "45926df8",
   "metadata": {},
   "outputs": [
    {
     "name": "stdout",
     "output_type": "stream",
     "text": [
      "현재 시각을 24시 포맷으로 4자리 수로 입력하세요: 예) 1024 1431\n",
      "현재 시각은 오후2시31분 입니다.\n"
     ]
    }
   ],
   "source": [
    "current_time = int(input(\"현재 시각을 24시 포맷으로 4자리 수로 입력하세요: 예) 1024 \"))\n",
    "hour = current_time//100\n",
    "hour_12hour = (hour-12) if hour > 12 else hour_12hour\n",
    "minute = current_time%100\n",
    "am_pm = '오전' if hour < 12 else '오후'\n",
    "print(f'현재 시각은 {am_pm}{hour_12hour}시{minute}분 입니다.')"
   ]
  },
  {
   "cell_type": "markdown",
   "id": "9a530277",
   "metadata": {},
   "source": [
    "#### [과제11_1030]\n",
    "태어난 연도를 입력받아 띠를 출력하는 프로그램을 작성하세요.\n",
    "\n",
    "원숭이, 닭, 개, 돼지, 쥐, 소, 범, 토끼, 용, 뱀, 말, 양띠"
   ]
  },
  {
   "cell_type": "code",
   "execution_count": 20,
   "id": "daed8e11",
   "metadata": {},
   "outputs": [
    {
     "name": "stdout",
     "output_type": "stream",
     "text": [
      "태어난 연도를 4자리수로 입력하세요: 1961\n",
      "1961년도는 소띠입니다.\n"
     ]
    }
   ],
   "source": [
    "animals = ['원숭이', '닭', '개', '돼지', '쥐', '소', '범', '토끼', '용', '뱀', '말', '양']\n",
    "year = int(input(\"태어난 연도를 4자리수로 입력하세요: \"))\n",
    "print(f'{year}년도는 {animals[(year%12)]}띠입니다.')"
   ]
  },
  {
   "cell_type": "markdown",
   "id": "46baf712",
   "metadata": {},
   "source": [
    "#### [과제12_1030] : 커피 자판기 프로그램\n",
    "- 시나리오 : 자판기 커피 재고 5잔, 커피 1잔 가격 300원, 재고 범위내에서 300원 이상 돈을 넣으면 거스름돈과 커피를 주고 300원 미만으로 넣으면 반환하며 재고가 소진되면 안내멘트 출력\n",
    "- 각 Case별 멘트 출력은 상황에 맞게 창작\n",
    "- while, if ~ elif ~ else 제어문을 사용하여 작성"
   ]
  },
  {
   "cell_type": "code",
   "execution_count": 29,
   "id": "829f8896",
   "metadata": {},
   "outputs": [
    {
     "name": "stdout",
     "output_type": "stream",
     "text": [
      "커피가격: 300원\n",
      "커피재고: 5잔\n",
      "자판기에 돈을 넣으세요: 300\n",
      "커피 준비 완료되었습니다. 맛있게드세요.\n",
      "\n",
      "커피가격: 300원\n",
      "커피재고: 4잔\n",
      "자판기에 돈을 넣으세요: 600\n",
      "커피 준비 완료되었습니다. 맛있게드세요.\n",
      "잔돈 300원 챙겨가세요.\n",
      "\n",
      "커피가격: 300원\n",
      "커피재고: 3잔\n",
      "자판기에 돈을 넣으세요: 200\n",
      "돈이 모자랍니다. 200원 챙겨가세요.\n",
      "\n",
      "커피가격: 300원\n",
      "커피재고: 3잔\n",
      "자판기에 돈을 넣으세요: 1000\n",
      "커피 준비 완료되었습니다. 맛있게드세요.\n",
      "잔돈 700원 챙겨가세요.\n",
      "\n",
      "커피가격: 300원\n",
      "커피재고: 2잔\n",
      "자판기에 돈을 넣으세요: 500\n",
      "커피 준비 완료되었습니다. 맛있게드세요.\n",
      "잔돈 200원 챙겨가세요.\n",
      "\n",
      "커피가격: 300원\n",
      "커피재고: 1잔\n",
      "자판기에 돈을 넣으세요: 1\n",
      "돈이 모자랍니다. 1원 챙겨가세요.\n",
      "\n",
      "커피가격: 300원\n",
      "커피재고: 1잔\n",
      "자판기에 돈을 넣으세요: 300\n",
      "커피 준비 완료되었습니다. 맛있게드세요.\n",
      "\n",
      "재고가 소진되었습니다.\n"
     ]
    }
   ],
   "source": [
    "coffee_available = 5\n",
    "money = 0\n",
    "\n",
    "while coffee_available > 0:\n",
    "    money = int(input(f\"커피가격: 300원\\n커피재고: {coffee_available}잔\\n자판기에 돈을 넣으세요: \"))\n",
    "    if money > 300:\n",
    "        money -= 300\n",
    "        coffee_available -= 1\n",
    "        print(f\"커피 준비 완료되었습니다. 맛있게드세요.\\n잔돈 {money}원 챙겨가세요.\\n\")\n",
    "    elif money == 300:\n",
    "        money = 0\n",
    "        coffee_available -= 1\n",
    "        print(\"커피 준비 완료되었습니다. 맛있게드세요.\\n\")\n",
    "    else:\n",
    "        print(f\"돈이 모자랍니다. {money}원 챙겨가세요.\\n\")\n",
    "        money = 0\n",
    "else:\n",
    "    print(\"재고가 소진되었습니다.\")"
   ]
  }
 ],
 "metadata": {
  "kernelspec": {
   "display_name": "Python 3 (ipykernel)",
   "language": "python",
   "name": "python3"
  },
  "language_info": {
   "codemirror_mode": {
    "name": "ipython",
    "version": 3
   },
   "file_extension": ".py",
   "mimetype": "text/x-python",
   "name": "python",
   "nbconvert_exporter": "python",
   "pygments_lexer": "ipython3",
   "version": "3.11.5"
  }
 },
 "nbformat": 4,
 "nbformat_minor": 5
}
