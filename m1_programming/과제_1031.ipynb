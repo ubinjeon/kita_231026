{
 "cells": [
  {
   "cell_type": "markdown",
   "id": "42ae2b05",
   "metadata": {},
   "source": [
    "#### [과제1_1031] 사용자가 입력한 게임 회수만큼 로또 번호를 출력하는 프로그램을 작성하세요.(중복 처리)"
   ]
  },
  {
   "cell_type": "code",
   "execution_count": 19,
   "id": "7a584aaa",
   "metadata": {
    "scrolled": true
   },
   "outputs": [
    {
     "name": "stdout",
     "output_type": "stream",
     "text": [
      "게임 회수를 입력하세요.: 5\n",
      "1번째 로또 번호는 [14, 34, 36, 17, 33, 10] 입니다.\n",
      "2번째 로또 번호는 [41, 28, 16, 9, 6, 33] 입니다.\n",
      "3번째 로또 번호는 [9, 17, 44, 36, 37, 28] 입니다.\n",
      "4번째 로또 번호는 [18, 17, 44, 33, 31, 36] 입니다.\n",
      "5번째 로또 번호는 [43, 12, 24, 45, 15, 21] 입니다.\n"
     ]
    }
   ],
   "source": [
    "import random\n",
    "num_game = int(input(\"게임 회수를 입력하세요.: \"))\n",
    "lotto = list(range(1,46))\n",
    "for i in range (num_game):\n",
    "    print(f\"{i+1}번째 로또 번호는 {random.sample(lotto,6)} 입니다.\")\n",
    "    "
   ]
  },
  {
   "cell_type": "code",
   "execution_count": 24,
   "id": "ce339497",
   "metadata": {},
   "outputs": [
    {
     "name": "stdout",
     "output_type": "stream",
     "text": [
      "게임 회수를 입력하세요.: 6\n",
      "1번째 로또 번호는 [5, 18, 22, 33, 37, 40]입니다.\n",
      "2번째 로또 번호는 [2, 5, 10, 17, 41, 42]입니다.\n",
      "3번째 로또 번호는 [2, 5, 33, 36, 37, 38]입니다.\n",
      "4번째 로또 번호는 [6, 7, 8, 14, 15, 33]입니다.\n",
      "5번째 로또 번호는 [14, 16, 25, 35, 37, 38]입니다.\n",
      "6번째 로또 번호는 [8, 9, 28, 35, 38, 44]입니다.\n"
     ]
    }
   ],
   "source": [
    "from random import shuffle\n",
    "num_game = int(input(\"게임 회수를 입력하세요.: \"))\n",
    "lotto = list(range(1,46))\n",
    "\n",
    "for i in range (num_game):\n",
    "    shuffle(lotto)\n",
    "    draw = lotto[:6]\n",
    "    draw.sort()\n",
    "    print(f\"{i+1}번째 로또 번호는 {draw}입니다.\")"
   ]
  },
  {
   "cell_type": "code",
   "execution_count": 25,
   "id": "1a274635",
   "metadata": {
    "scrolled": true
   },
   "outputs": [
    {
     "name": "stdout",
     "output_type": "stream",
     "text": [
      "게임 회수를 입력하세요.: 7\n",
      "1번째 로또 번호는 [2, 4, 5, 17, 43, 45]입니다.\n",
      "2번째 로또 번호는 [1, 18, 20, 29, 38, 41]입니다.\n",
      "3번째 로또 번호는 [7, 13, 25, 28, 33, 40]입니다.\n",
      "4번째 로또 번호는 [23, 24, 29, 31, 41, 45]입니다.\n",
      "5번째 로또 번호는 [4, 17, 24, 29, 41, 42]입니다.\n",
      "6번째 로또 번호는 [3, 7, 20, 24, 27, 40]입니다.\n",
      "7번째 로또 번호는 [7, 15, 18, 23, 30, 45]입니다.\n"
     ]
    }
   ],
   "source": [
    "num_game = int(input(\"게임 회수를 입력하세요.: \"))\n",
    "lotto = list(range(1,46))\n",
    "\n",
    "for i in range (num_game):\n",
    "    shuffle(lotto)\n",
    "    draw = lotto[:6]\n",
    "    draw.sort()\n",
    "    print(f\"{i+1}번째 로또 번호는 {draw}입니다.\")"
   ]
  },
  {
   "cell_type": "code",
   "execution_count": 26,
   "id": "76e2a9bb",
   "metadata": {},
   "outputs": [
    {
     "name": "stdout",
     "output_type": "stream",
     "text": [
      "로또 회수를 입력하세요> 5\n",
      "로또번호 1: [2, 6, 16, 24, 33, 41]\n",
      "로또번호 2: [11, 12, 16, 20, 31, 41]\n",
      "로또번호 3: [5, 24, 28, 29, 35, 43]\n",
      "로또번호 4: [13, 20, 24, 32, 37, 44]\n",
      "로또번호 5: [30, 34, 35, 37, 43, 45]\n"
     ]
    }
   ],
   "source": [
    "from random import shuffle\n",
    "from time import sleep\n",
    "gnum = int(input('로또 회수를 입력하세요> '))\n",
    "for i in range(gnum):\n",
    "    lt = [x+1 for x in range(45)]\n",
    "    ret = []\n",
    "    for j in range(6):\n",
    "        shuffle(lt)\n",
    "        num = lt.pop()\n",
    "        ret.append(num)\n",
    "        ret.sort()\n",
    "    print('로또번호 %d: ' %(i+1), end='')\n",
    "    print(ret)\n",
    "    sleep(1)"
   ]
  },
  {
   "cell_type": "code",
   "execution_count": 22,
   "id": "b7027b6a",
   "metadata": {},
   "outputs": [
    {
     "name": "stdout",
     "output_type": "stream",
     "text": [
      "게임 회수를 입력하세요. (최대 7번): 8\n",
      "잘못 입력하셨습니다.\n",
      "게임 회수를 입력하세요. (최대 7번): 7\n",
      "1번째 로또 번호는 [11, 5, 10, 36, 31, 32] 입니다.\n",
      "2번째 로또 번호는 [17, 40, 4, 38, 29, 42] 입니다.\n",
      "3번째 로또 번호는 [28, 9, 6, 7, 45, 39] 입니다.\n",
      "4번째 로또 번호는 [20, 37, 1, 12, 16, 43] 입니다.\n",
      "5번째 로또 번호는 [44, 2, 33, 22, 18, 24] 입니다.\n",
      "6번째 로또 번호는 [34, 13, 25, 19, 14, 27] 입니다.\n",
      "7번째 로또 번호는 [23, 35, 30, 3, 41, 15] 입니다.\n"
     ]
    }
   ],
   "source": [
    "import random\n",
    "lotto = list(range(1,46))\n",
    "max_game = 7\n",
    "while 1:\n",
    "    num_game = int(input(\"게임 회수를 입력하세요. (최대 7번): \"))\n",
    "    if num_game > 7:\n",
    "        print(\"잘못 입력하셨습니다.\")\n",
    "        continue\n",
    "    break\n",
    "for i in range (num_game):\n",
    "    lotto_temp = random.sample(lotto,6)\n",
    "    print(f\"{i+1}번째 로또 번호는 {lotto_temp} 입니다.\")\n",
    "    for j in lotto_temp:\n",
    "        del lotto[lotto.index(j)]"
   ]
  },
  {
   "cell_type": "markdown",
   "id": "81af382d",
   "metadata": {},
   "source": [
    "#### [과제2_1031] 현재 계절 구분 프로그램\n",
    "- 시나리오 : 3 ~ 5월은 봄, 6 ~ 8월은 여름, 9 ~ 11월은 가을, 12 ~ 2월은 겨울로 구분. 지금 계절을 알려주는 프로그램 \n",
    "- 각 계절별 출력 멘트는 계절에 맞게 창작\n",
    "- if 조건문으로 datetime 모듈을 import해서 datetime.now 함수를 사용해서 작성"
   ]
  },
  {
   "cell_type": "code",
   "execution_count": 13,
   "id": "d2b5c608",
   "metadata": {},
   "outputs": [
    {
     "name": "stdout",
     "output_type": "stream",
     "text": [
      "독서의 계절 가을이 왔습니다.\n"
     ]
    }
   ],
   "source": [
    "from datetime import datetime\n",
    "spring = [3,4,5]\n",
    "summer = [6,8,7]\n",
    "autumn = [9,10,11]\n",
    "winter = [12,1,2]\n",
    "\n",
    "today = datetime.now()\n",
    "month = today.month\n",
    "if month in spring:\n",
    "    print(\"새싹이 돋아나는 봄이 왔습니다.\")\n",
    "elif month in summer:\n",
    "    print(\"바캉스의 계절 여름이 왔습니다.\")\n",
    "elif month in autumn:\n",
    "    print(\"독서의 계절 가을이 왔습니다.\")\n",
    "else:\n",
    "    print(\"연말 연초의 겨울이 왔습니다.\")"
   ]
  },
  {
   "cell_type": "markdown",
   "id": "f7958617",
   "metadata": {},
   "source": [
    "#### [과제3_1031] : 1부터 100까지 아래와 같이 2개의 수를 곱해서 가장 큰 수를 구하세요.\n",
    "1*99, 2*98 ...99*1"
   ]
  },
  {
   "cell_type": "code",
   "execution_count": 16,
   "id": "d453cbf2",
   "metadata": {},
   "outputs": [
    {
     "name": "stdout",
     "output_type": "stream",
     "text": [
      "2500\n"
     ]
    }
   ],
   "source": [
    "max_value = 0\n",
    "for i in range (1,100):\n",
    "    if max_value >= (i*(100-i)):\n",
    "        continue\n",
    "    else:\n",
    "        max_value = i*(100-i)\n",
    "print(max_value)"
   ]
  },
  {
   "cell_type": "markdown",
   "id": "64135b7f",
   "metadata": {},
   "source": [
    "#### [과제4_1031] : [    ]을 채워서 아래의 출력과 같이 출력하세요."
   ]
  },
  {
   "cell_type": "code",
   "execution_count": 28,
   "id": "c1bfb46a",
   "metadata": {},
   "outputs": [],
   "source": [
    "# 출력 :\n",
    "numbers = [1,2,3,4,5,6,7,8,9]\n",
    "output = [[], [], []]\n",
    "\n",
    "# [[1,4,7],[2,5,8],[3,6,9]]"
   ]
  },
  {
   "cell_type": "code",
   "execution_count": 41,
   "id": "cfbbdc5c",
   "metadata": {},
   "outputs": [
    {
     "name": "stdout",
     "output_type": "stream",
     "text": [
      "[[1, 4, 7], [2, 5, 8], [3, 6, 9]]\n"
     ]
    }
   ],
   "source": [
    "numbers = [1,2,3,4,5,6,7,8,9]\n",
    "output = [[], [], []]\n",
    "\n",
    "for num in numbers:\n",
    "    if num % 3 == 1:\n",
    "        output[0].append(num)\n",
    "    elif num % 3 == 2:\n",
    "        output[1].append(num)\n",
    "    else:\n",
    "        output[2].append(num)\n",
    "print(output)"
   ]
  },
  {
   "cell_type": "markdown",
   "id": "c8e13787",
   "metadata": {},
   "source": [
    "#### [과제5_1031] 컴퓨터가 랜덤하게 생성하는 숫자 맞추기 게임 프로그램을 작성하세요"
   ]
  },
  {
   "cell_type": "code",
   "execution_count": 39,
   "id": "a64daa94",
   "metadata": {
    "scrolled": true
   },
   "outputs": [
    {
     "name": "stdout",
     "output_type": "stream",
     "text": [
      "1~99개의 숫자 중 정답인 것 같은 숫자를 입력하시오.: 64\n",
      "UP\n",
      "1~99개의 숫자 중 정답인 것 같은 숫자를 입력하시오.: 80\n",
      "DOWN\n",
      "1~99개의 숫자 중 정답인 것 같은 숫자를 입력하시오.: 70\n",
      "UP\n",
      "1~99개의 숫자 중 정답인 것 같은 숫자를 입력하시오.: 75\n",
      "DOWN\n",
      "1~99개의 숫자 중 정답인 것 같은 숫자를 입력하시오.: 74\n",
      "정답입니다.\n"
     ]
    }
   ],
   "source": [
    "import random\n",
    "\n",
    "answer = random.sample(range(1,100),1) #randint가 더 간단함.\n",
    "while 1:\n",
    "    guess = int(input(\"1~99개의 숫자 중 정답인 것 같은 숫자를 입력하시오.: \"))\n",
    "    if guess < answer[0]:\n",
    "        print(\"UP\")\n",
    "    elif guess > answer[0]:\n",
    "        print(\"DOWN\")\n",
    "    else:\n",
    "        print(\"정답입니다.\")\n",
    "        break"
   ]
  },
  {
   "cell_type": "code",
   "execution_count": 1,
   "id": "d4624f48",
   "metadata": {},
   "outputs": [
    {
     "name": "stdout",
     "output_type": "stream",
     "text": [
      "게임을 하시겠습니까?[y/n]: y\n",
      "숫자를 입력하세요(0~20): 3\n",
      "정답보다 작습니다! 큰 숫자를 입력하세요.\n",
      "숫자를 입력하세요(0~20): 5\n",
      "정답보다 작습니다! 큰 숫자를 입력하세요.\n",
      "숫자를 입력하세요(0~20): 10\n",
      "정답보다 작습니다! 큰 숫자를 입력하세요.\n",
      "숫자를 입력하세요(0~20): 15\n",
      "정답보다 작습니다! 큰 숫자를 입력하세요.\n",
      "숫자를 입력하세요(0~20): 20\n",
      "정답입니다.\n",
      "게임을 하시겠습니까?[y/n]: n\n",
      "게임을 종료합니다.\n"
     ]
    }
   ],
   "source": [
    "import numpy as np\n",
    "\n",
    "while True:\n",
    "    s_e = input(\"게임을 하시겠습니까?[y/n]: \")\n",
    "\n",
    "    if s_e == \"y\":\n",
    "        answer = np.random.randint(0, 20)  # 0~20 사이의 숫자를 생성\n",
    "        while True:\n",
    "            a = int(input(\"숫자를 입력하세요(0~20): \"))\n",
    "            \n",
    "            if 0 <= a <= 20:  # 입력된 숫자가 0~20 범위 내인지 확인\n",
    "                if a > answer:\n",
    "                    print(\"정답보다 큽니다! 작은 숫자를 입력하세요.\")\n",
    "                elif a < answer:\n",
    "                    print(\"정답보다 작습니다! 큰 숫자를 입력하세요.\")\n",
    "                else:\n",
    "                    print(\"정답입니다.\")\n",
    "                    break\n",
    "            else:\n",
    "                print(\"범위 안의 숫자를 입력해주세요.\")\n",
    "    else:\n",
    "        print(\"게임을 종료합니다.\")\n",
    "        break"
   ]
  },
  {
   "cell_type": "markdown",
   "id": "912962e8",
   "metadata": {},
   "source": [
    "#### [과제6_1031] Player가 3승할 때까지 계속 진행되는 가위바위보 게임 프로그램을 작성하세요.\n",
    "\n",
    "게임을 Player와 컴퓨터가 진행\n"
   ]
  },
  {
   "cell_type": "code",
   "execution_count": 49,
   "id": "804a521a",
   "metadata": {},
   "outputs": [
    {
     "name": "stdout",
     "output_type": "stream",
     "text": [
      "가위 바위 보 를 내시오.가위\n",
      "컴퓨터: ['바위'], 플레이어: 가위 졌습니다.\n",
      "현재까지 총 0승\n",
      "\n",
      "가위 바위 보 를 내시오.바위\n",
      "컴퓨터: ['바위'], 플레이어: 바위 비겼습니다.\n",
      "현재까지 총 0승\n",
      "\n",
      "가위 바위 보 를 내시오.보\n",
      "컴퓨터: ['바위'], 플레이어: 보 졌습니다.\n",
      "현재까지 총 0승\n",
      "\n",
      "가위 바위 보 를 내시오.가위\n",
      "컴퓨터: ['보'], 플레이어: 가위 이겼습니다.\n",
      "현재까지 총 1승\n",
      "\n",
      "가위 바위 보 를 내시오.가위\n",
      "컴퓨터: ['가위'], 플레이어: 가위 비겼습니다.\n",
      "현재까지 총 1승\n",
      "\n",
      "가위 바위 보 를 내시오.바위\n",
      "컴퓨터: ['바위'], 플레이어: 바위 비겼습니다.\n",
      "현재까지 총 1승\n",
      "\n",
      "가위 바위 보 를 내시오.가위\n",
      "컴퓨터: ['바위'], 플레이어: 가위 졌습니다.\n",
      "현재까지 총 1승\n",
      "\n",
      "가위 바위 보 를 내시오.보\n",
      "컴퓨터: ['가위'], 플레이어: 보 졌습니다.\n",
      "현재까지 총 1승\n",
      "\n",
      "가위 바위 보 를 내시오.가위\n",
      "컴퓨터: ['보'], 플레이어: 가위 이겼습니다.\n",
      "현재까지 총 2승\n",
      "\n",
      "가위 바위 보 를 내시오.바위\n",
      "컴퓨터: ['보'], 플레이어: 바위 이겼습니다.\n",
      "현재까지 총 3승\n",
      "\n"
     ]
    }
   ],
   "source": [
    "import random\n",
    "\n",
    "game = ['가위','바위','보'] #그리고 윈케이스로 사전으로 정의해서 하면 조금 더 간단하게 할 수 있음.\n",
    "win = 0\n",
    "\n",
    "while win < 3:\n",
    "    computer = random.sample(game,1)\n",
    "    player = input(\"가위 바위 보 를 내시오.\")\n",
    "    if player in game:            \n",
    "        if game.index(player) == 2 or game.index(computer[0]) == 2:\n",
    "            if game.index(player) > game.index(computer[0]):\n",
    "                print(f\"컴퓨터: {computer}, 플레이어: {player} 졌습니다.\\n현재까지 총 {win}승\\n\")\n",
    "                continue\n",
    "            elif game.index(player) == game.index(computer[0]):\n",
    "                print(f\"컴퓨터: {computer}, 플레이어: {player} 비겼습니다.\\n현재까지 총 {win}승\\n\")\n",
    "            else:\n",
    "                win += 1\n",
    "                print(f\"컴퓨터: {computer}, 플레이어: {player} 이겼습니다.\\n현재까지 총 {win}승\\n\")\n",
    "                continue\n",
    "        if game.index(player) == game.index(computer[0]):\n",
    "            print(f\"컴퓨터: {computer}, 플레이어: {player} 비겼습니다.\\n현재까지 총 {win}승\\n\")\n",
    "        elif game.index(player) > game.index(computer[0]):\n",
    "            win += 1\n",
    "            print(f\"컴퓨터: {computer}, 플레이어: {player} 이겼습니다.\\n현재까지 총 {win}승\\n\")\n",
    "        else:\n",
    "            print(f\"컴퓨터: {computer}, 플레이어: {player} 졌습니다.\\n현재까지 총 {win}승\\n\")\n",
    "    else:\n",
    "        print(\"잘못 입력하셨습니다.\")"
   ]
  },
  {
   "cell_type": "code",
   "execution_count": 2,
   "id": "b8d8ae06",
   "metadata": {},
   "outputs": [
    {
     "name": "stdout",
     "output_type": "stream",
     "text": [
      "가위 바위 보 게임을 시작합니다. (3회 우승시 종료)\n",
      "※주의 : 오타는 패배로 간주됩니다.\n",
      "가위/바위/보 입력: 가위\n",
      "컴퓨터는 바위입니다.\n",
      "졌습니다.\n",
      "가위/바위/보 입력: 바위\n",
      "컴퓨터는 바위입니다.\n",
      "비겼습니다.\n",
      "가위/바위/보 입력: 보\n",
      "컴퓨터는 바위입니다.\n",
      "이겼습니다. 현재 1승 입니다.\n",
      "가위/바위/보 입력: 가위\n",
      "컴퓨터는 바위입니다.\n",
      "졌습니다.\n",
      "가위/바위/보 입력: 바위\n",
      "컴퓨터는 바위입니다.\n",
      "비겼습니다.\n",
      "가위/바위/보 입력: 보\n",
      "컴퓨터는 가위입니다.\n",
      "졌습니다.\n",
      "가위/바위/보 입력: 보\n",
      "컴퓨터는 바위입니다.\n",
      "이겼습니다. 현재 2승 입니다.\n",
      "가위/바위/보 입력: 보\n",
      "컴퓨터는 보입니다.\n",
      "비겼습니다.\n",
      "가위/바위/보 입력: 가위\n",
      "컴퓨터는 보입니다.\n",
      "이겼습니다. 현재 3승 입니다.\n",
      "3승을 달성하여 게임이 종료됩니다.\n"
     ]
    }
   ],
   "source": [
    "import random\n",
    "\n",
    "com_hand = ['가위','바위','보']\n",
    "win_case={'가위':'바위','바위':'보','보':'가위'}\n",
    "win_number = 0\n",
    "\n",
    "print('가위 바위 보 게임을 시작합니다. (3회 우승시 종료)')\n",
    "print('※주의 : 오타는 패배로 간주됩니다.')\n",
    "while True:\n",
    "    com_select = com_hand[random.randint(0,2)]\n",
    "    you_select = input('가위/바위/보 입력: ')\n",
    "    print(f'컴퓨터는 {com_select}입니다.')\n",
    "    if win_case[com_select] == you_select:\n",
    "        win_number += 1\n",
    "        print(f'이겼습니다. 현재 {win_number}승 입니다.')\n",
    "    else:\n",
    "        if com_select == you_select:\n",
    "            print('비겼습니다.')\n",
    "        else:\n",
    "            print('졌습니다.')\n",
    "    if win_number == 3:\n",
    "        print('3승을 달성하여 게임이 종료됩니다.')\n",
    "        break"
   ]
  },
  {
   "cell_type": "markdown",
   "id": "b8e57107",
   "metadata": {},
   "source": [
    "#### [과제7_1031]"
   ]
  },
  {
   "cell_type": "code",
   "execution_count": null,
   "id": "059618ef",
   "metadata": {},
   "outputs": [],
   "source": [
    "# 음식점의 음식 주문가격 산출 프로그램을 자유롭게 작성하세요\n",
    "KITA 식당에 오신 것을 환영합니다\n",
    "\n",
    "========================================\n",
    "\n",
    "          - 메  뉴 -\n",
    "    1. 불고기 비빔밥 : 12,000원\n",
    "    2. 야채 비빔밥 : 8,000원\n",
    "    3. 전주 비빔밥 : 10,000원\n",
    "\n",
    "    세트 주문시 : 3000원 추가\n",
    "    (세트는 밥과 반찬이 추가됩니다.)\n",
    "\n",
    "========================================\n",
    "\n",
    "비빔밥 메뉴를 선택해 주세요. 1, 2, 3 >>> 2\n",
    "세트 주문을 하시겠습니까? 3,000원 추가. y, n >>> y\n",
    "총 금액은 11000원 입니다.\n",
    "'''"
   ]
  },
  {
   "cell_type": "code",
   "execution_count": null,
   "id": "99166089",
   "metadata": {},
   "outputs": [],
   "source": [
    "menu = {1 : 12000, 2 : 8000, 3 : 10000}\n",
    "total_price = 0\n",
    "while 1:\n",
    "    order = int(input(\"\"\"\n",
    "    \n",
    "KITA 식당에 오신 것을 환영합니다\n",
    "\n",
    "========================================\n",
    "\n",
    "          - 메  뉴 -\n",
    "    1. 불고기 비빔밥 : 12,000원\n",
    "    2. 야채 비빔밥 : 8,000원\n",
    "    3. 전주 비빔밥 : 10,000원\n",
    "\n",
    "    세트 주문시 : 3000원 추가\n",
    "    (세트는 밥과 반찬이 추가됩니다.)\n",
    "\n",
    "========================================\n",
    "\n",
    "비빔밥 메뉴를 선택해 주세요. 1, 2, 3 >>> \"\"\"))\n",
    "    if order == 9999: #관리자만 아는 종료 코드 입력시 주문 프로그램 종료.\n",
    "        break\n",
    "    if order < 1 or order >3:\n",
    "        print(\"잘못 입력하셨습니다. 1, 2, 3 중에 하나로 입력하세요.\")\n",
    "        continue\n",
    "    while 1:\n",
    "        set_order = input(\"세트 주문을 하시겠습니까? 3,000원 추가. y, n >>> \")\n",
    "        if set_order == \"y\":\n",
    "            total_price += (menu[order] + 3000)\n",
    "            break;\n",
    "        elif set_order == \"n\":\n",
    "            total_price += menu[order]\n",
    "            break;\n",
    "        else:\n",
    "            print(\"잘못 입력하셨습니다. y,n 둘 중 하나로 입력하세요.\")\n",
    "    while 1:\n",
    "        order_add = input(f'총 금액은 {total_price}원 입니다.\\n메뉴 추가하시겠습니까? y.n >>> ')\n",
    "        if order_add == 'y':\n",
    "            break\n",
    "        elif order_add == 'n':\n",
    "            while 1:\n",
    "                order_confirm = input(f'총 금액은 {total_price}원 입니다. 주문 완료하시겠습니까? y.n >>> ')\n",
    "                if order_confirm == \"y\":\n",
    "                    print(f\"총 금액은 {total_price}원 입니다. 주문 완료되었습니다.\")\n",
    "                    break\n",
    "                elif order_confirm ==\"n\":\n",
    "                    print(\"주문 취소되었습니다. 초기화면으로 돌아갑니다.\")\n",
    "                    break\n",
    "                else:\n",
    "                    print(\"잘못 입력하셨습니다. y,n 둘 중 하나로 입력하세요.\")\n",
    "            break\n",
    "        else:\n",
    "            print(\"잘못 입력하셨습니다. y,n 둘 중 하나로 입력하세요.\")"
   ]
  },
  {
   "cell_type": "markdown",
   "id": "9deb71d0",
   "metadata": {},
   "source": [
    "#### [과제8_1031]\n",
    "- 내장함수(배운 것) 5개를 활용해서 간단한 프로그램을 만드세요.\n",
    "- 외장함수(배운 것) 5개를 활용해서 간단한 프로그램을 만드세요.\n",
    "- 사용자 함수 3개를 작성하세요.\n",
    "- 리스트를 작성하고 람다 함수를 이용해서 한 번에 함수를 적용하여 결과값을 출력하세요.\n",
    "- 외부 라이브러리를 임포트해서 간단한 프로그램을 만드세요."
   ]
  },
  {
   "cell_type": "code",
   "execution_count": 59,
   "id": "cf8df1ab",
   "metadata": {},
   "outputs": [
    {
     "name": "stdout",
     "output_type": "stream",
     "text": [
      "문장을 입력하세요.: 안녕하세요. 전유빈 입니다.\n",
      "입력받은 문장의 특징은 다음과 같습니다.\n",
      "단어수: 3\n",
      "문장길이: 15\n",
      "마지막 문자: .\n"
     ]
    }
   ],
   "source": [
    "#내장함수(배운 것) 5개를 활용해서 간단한 프로그램을 만드세요.\n",
    "\n",
    "#입력받은 문장의 특징을 알려주는 프로그램을 만드시오.\n",
    "#단어수, 문장길이, 마지막문자\n",
    "#input()\n",
    "#split()\n",
    "#print()\n",
    "#len()\n",
    "#pop()\n",
    "\n",
    "sentence = input(\"문장을 입력하세요.: \")\n",
    "words = sentence.split()\n",
    "\n",
    "print(f'입력받은 문장의 특징은 다음과 같습니다.\\n단어수: {len(words)}\\n문장길이: {len(sentence)}\\n마지막 문자: {list(sentence).pop()}')"
   ]
  },
  {
   "cell_type": "code",
   "execution_count": 3,
   "id": "c20198f3",
   "metadata": {},
   "outputs": [
    {
     "name": "stdout",
     "output_type": "stream",
     "text": [
      "2023-10-31 18:21:48.910695\n",
      "3.11.5 | packaged by Anaconda, Inc. | (main, Sep 11 2023, 13:26:23) [MSC v.1916 64 bit (AMD64)]\n",
      "D:\\kdt_231026\\workspace\\m1_programming\n",
      "['False', 'None', 'True', 'and', 'as', 'assert', 'async', 'await', 'break', 'class', 'continue', 'def', 'del', 'elif', 'else', 'except', 'finally', 'for', 'from', 'global', 'if', 'import', 'in', 'is', 'lambda', 'nonlocal', 'not', 'or', 'pass', 'raise', 'return', 'try', 'while', 'with', 'yield']\n"
     ]
    }
   ],
   "source": [
    "#외장함수(배운 것) 5개를 활용해서 간단한 프로그램을 만드세요.\n",
    "\n",
    "#random\n",
    "#math\n",
    "#datetime\n",
    "#os\n",
    "#sys\n",
    "\n",
    "#import random\n",
    "#import math\n",
    "from datetime import datetime\n",
    "import keyword\n",
    "import sys\n",
    "import os\n",
    "import time\n",
    "\n",
    "#현재 시간, 현재 작업 위치 및 파이썬 기본정보를 알려주는 프로그램\n",
    "current_time = datetime.now()\n",
    "print(current_time)\n",
    "time.sleep(1)\n",
    "current_python = sys.version\n",
    "print(current_python)\n",
    "time.sleep(1)\n",
    "print(os.getcwd())\n",
    "time.sleep(1)\n",
    "keyword_list = keyword.kwlist\n",
    "print(keyword_list)\n"
   ]
  },
  {
   "cell_type": "code",
   "execution_count": 71,
   "id": "be7a832b",
   "metadata": {},
   "outputs": [
    {
     "name": "stdout",
     "output_type": "stream",
     "text": [
      "60\n",
      "12\n",
      "dtcb\n"
     ]
    }
   ],
   "source": [
    "#사용자 함수 3개를 작성하세요.\n",
    "\n",
    "#3개의 수에 대한 곱\n",
    "def multiply(x,y,z):\n",
    "    return x*y*z\n",
    "\n",
    "#range에 대한 모든 수의 합\n",
    "def sum_range(start,end):\n",
    "    sum = 0\n",
    "    for i in range(start,end+1):\n",
    "        sum += i\n",
    "    return sum\n",
    "\n",
    "#입력받은 문자열을 거꾸로 반환하기\n",
    "def reverse (string):\n",
    "    temp = list(string)\n",
    "    new = ''\n",
    "    for i in range(len(temp)):\n",
    "        new += temp.pop()\n",
    "    return new\n",
    "\n",
    "print(multiply(3,4,5))\n",
    "print(sum_range(3,5))\n",
    "print(reverse('bctd'))\n",
    "        "
   ]
  },
  {
   "cell_type": "code",
   "execution_count": 79,
   "id": "045dec52",
   "metadata": {},
   "outputs": [
    {
     "name": "stdout",
     "output_type": "stream",
     "text": [
      "[5, 10, 15, 20]\n"
     ]
    }
   ],
   "source": [
    "#리스트를 작성하고 람다 함수를 이용해서 한 번에 함수를 적용하여 결과값을 출력하세요.\n",
    "#리스트 중에 5의 배수만 출력\n",
    "numbers = list(range(1,21))\n",
    "multiple_5 = filter(lambda x:x % 5 == 0, numbers)\n",
    "print(list(multiple_5))"
   ]
  },
  {
   "cell_type": "code",
   "execution_count": 80,
   "id": "6983f5db",
   "metadata": {},
   "outputs": [
    {
     "name": "stdout",
     "output_type": "stream",
     "text": [
      "Requirement already satisfied: numpy in c:\\kita\\anaconda\\envs\\kita\\lib\\site-packages (1.26.0)\n",
      "[ 4  8 12]\n"
     ]
    }
   ],
   "source": [
    "#외부 라이브러리를 임포트해서 간단한 프로그램을 만드세요.\n",
    "#!pip install numpy\n",
    "\n",
    "import numpy as np\n",
    "\n",
    "def add_list (a,b):\n",
    "    return np.add(a,b)\n",
    "\n",
    "print(add_list([1,3,5],[3,5,7]))\n"
   ]
  }
 ],
 "metadata": {
  "kernelspec": {
   "display_name": "Python 3 (ipykernel)",
   "language": "python",
   "name": "python3"
  },
  "language_info": {
   "codemirror_mode": {
    "name": "ipython",
    "version": 3
   },
   "file_extension": ".py",
   "mimetype": "text/x-python",
   "name": "python",
   "nbconvert_exporter": "python",
   "pygments_lexer": "ipython3",
   "version": "3.11.5"
  }
 },
 "nbformat": 4,
 "nbformat_minor": 5
}
