{
 "cells": [
  {
   "cell_type": "markdown",
   "id": "6757d848",
   "metadata": {},
   "source": [
    "#### [과제1_1101]: 사용자 함수를 아래와 같이 사용할 수 있는 func3를 작성하세요.\n",
    "\n",
    "func3(100,200)\n",
    "\n",
    "출력: Width: 100, Height: 200, Color: blue, Thickenss: 1\n",
    "                    \n",
    "func3(100, 200, color='green', thickness=10)\n",
    "\n",
    "출력: Width: 100, Height: 200, Color: green, Thickness: 10"
   ]
  },
  {
   "cell_type": "code",
   "execution_count": 16,
   "id": "b82a92f6",
   "metadata": {},
   "outputs": [
    {
     "name": "stdout",
     "output_type": "stream",
     "text": [
      "Width: 100, Height: 200, Color: blue, Thickness: 1\n",
      "Width: 100, Height: 200, Color: green, Thickness: 10\n"
     ]
    }
   ],
   "source": [
    "def func3 (width, height, **kwargs):\n",
    "    initial_dict = {'color':'blue', 'thickness': 1}\n",
    "    if len(kwargs) > 0:\n",
    "        initial_dict = kwargs\n",
    "    print(f'Width: {width}, Height: {height}, Color: ', end ='')\n",
    "    print(initial_dict['color'], end='')\n",
    "    print(', Thickness: ', end='')\n",
    "    print(initial_dict['thickness'])\n",
    "\n",
    "func3(100,200)\n",
    "func3(100, 200, color='green', thickness=10)"
   ]
  },
  {
   "cell_type": "code",
   "execution_count": 4,
   "id": "495622ad",
   "metadata": {},
   "outputs": [
    {
     "name": "stdout",
     "output_type": "stream",
     "text": [
      "Width: 100, Height: 200, Color: blue, Thickness: 1\n",
      "Width: 100, Height: 200, Color: red, Thickness: 15\n"
     ]
    }
   ],
   "source": [
    "def func3(width, height, color = 'blue', thickness=1):\n",
    "    print(f'Width: {width}, Height: {height}, Color: {color}, Thickness: {thickness}')\n",
    "\n",
    "func3(100,200)\n",
    "func3(100,200,color='red', thickness=15)\n"
   ]
  },
  {
   "cell_type": "code",
   "execution_count": 30,
   "id": "44a43fea",
   "metadata": {},
   "outputs": [
    {
     "name": "stdout",
     "output_type": "stream",
     "text": [
      "Width: 100, Height: 200, color: green, thickness: 10\n"
     ]
    }
   ],
   "source": [
    "def func3(width, height, **kwargs):\n",
    "    dic_text = str(kwargs)[1:-1].replace(\"'\", \"\")\n",
    "    text3=f'Width: {width}, Height: {height}, {dic_text}'\n",
    "    print(text3)\n",
    "\n",
    "func3(100,200, color='green', thickness=10)"
   ]
  },
  {
   "cell_type": "markdown",
   "id": "b61faf58",
   "metadata": {},
   "source": [
    "#### [과제2_1101] : 아래와 같이 출력되도록 func4를 작성하세요"
   ]
  },
  {
   "cell_type": "code",
   "execution_count": null,
   "id": "5ae78b21",
   "metadata": {},
   "outputs": [],
   "source": [
    "def print_info(**kwargs):\n",
    "    for key, value in kwargs.items():\n",
    "        print(f\"{key}: {value}\")\n",
    "\n",
    "        \n",
    "func4(100, 200, color='yellow', style='dotted')\n",
    "# 출력:\n",
    "# color: yellow\n",
    "# style: dotted"
   ]
  },
  {
   "cell_type": "code",
   "execution_count": 21,
   "id": "639ebc8b",
   "metadata": {},
   "outputs": [
    {
     "name": "stdout",
     "output_type": "stream",
     "text": [
      "color: yellow\n",
      "style: dotted\n"
     ]
    }
   ],
   "source": [
    "def print_info(**kwargs):\n",
    "    for key, value in kwargs.items():\n",
    "        print(f\"{key}: {value}\")\n",
    "\n",
    "def func4(width, height, **kwargs):\n",
    "    for key, value in kwargs.items():\n",
    "        print(f\"{key}: {value}\")\n",
    "    \n",
    "func4(100, 200, color='yellow', style='dotted')"
   ]
  },
  {
   "cell_type": "code",
   "execution_count": 6,
   "id": "98921fee",
   "metadata": {},
   "outputs": [
    {
     "name": "stdout",
     "output_type": "stream",
     "text": [
      "color: yellow\n",
      "style: dotted\n"
     ]
    }
   ],
   "source": [
    "def func4(a,b,**kwargs):\n",
    "    print_info(**kwargs)\n",
    "\n",
    "def print_info(**kwargs):\n",
    "    for key, value in kwargs.items():\n",
    "        print(f\"{key}: {value}\")\n",
    "\n",
    "        \n",
    "func4(100, 200, color='yellow', style='dotted')"
   ]
  },
  {
   "cell_type": "markdown",
   "id": "ad5c302f",
   "metadata": {},
   "source": [
    "#### [과제3_1101] : 뺄셈, 나눗셈 멀티 계산 함수를 sub_div작성"
   ]
  },
  {
   "cell_type": "code",
   "execution_count": 28,
   "id": "c97c5759",
   "metadata": {},
   "outputs": [
    {
     "name": "stdout",
     "output_type": "stream",
     "text": [
      "-26\n",
      "0.0010416666666666667\n"
     ]
    }
   ],
   "source": [
    "def sub_div(choice, *args):\n",
    "    if choice == '-':\n",
    "        result = args[0]\n",
    "        for n in args[1:] :\n",
    "            result -= n\n",
    "        return result\n",
    "    elif choice == '/':\n",
    "        result = args[0]\n",
    "        for i in args[1:]:\n",
    "        #for i in range(1,(len(args))):\n",
    "            result /= i\n",
    "        return result\n",
    "    else:\n",
    "        return \"계산할 수 있는 기호가 아닙니다.\"\n",
    "            \n",
    "print(sub_div('-', 2,4,6,8,10))\n",
    "print(sub_div('/', 2,4,6,8,10))"
   ]
  },
  {
   "cell_type": "markdown",
   "id": "35297f7c",
   "metadata": {},
   "source": [
    "#### [과제4_1101] : 아래 사용자 함수에서 결과가 아래와 같이 출력되도록 완성하세요.\n",
    "\n",
    "함수 내에서의 x 값: 20\n",
    "\n",
    "함수 밖에서의 x 값: 20"
   ]
  },
  {
   "cell_type": "code",
   "execution_count": 30,
   "id": "f5f85f3f",
   "metadata": {},
   "outputs": [
    {
     "name": "stdout",
     "output_type": "stream",
     "text": [
      "함수 내에서의 x 값: 20\n",
      "함수 밖에서의 x 값: 20\n"
     ]
    }
   ],
   "source": [
    "x = 10\n",
    "\n",
    "def modify_global():\n",
    "    global x\n",
    "    x = 20\n",
    "    print(\"함수 내에서의 x 값:\", x)\n",
    "    \n",
    "modify_global()\n",
    "print(\"함수 밖에서의 x 값:\", x)"
   ]
  },
  {
   "cell_type": "markdown",
   "id": "61db93db",
   "metadata": {},
   "source": [
    "#### [과제5_1101] : 원하는 데이터를 생성해서 저장하고 다시 읽어오세요."
   ]
  },
  {
   "cell_type": "code",
   "execution_count": 33,
   "id": "b2b3ddfb",
   "metadata": {},
   "outputs": [
    {
     "name": "stdout",
     "output_type": "stream",
     "text": [
      "\n",
      "\n",
      "2023/11/1 수요일\n",
      "오늘은 과정의 2주차, 5일째되는 날입니다.\n",
      "    \n",
      "\n"
     ]
    }
   ],
   "source": [
    "with open('hw_1101_5.txt','w') as f:\n",
    "    data = '''\n",
    "\n",
    "2023/11/1 수요일\n",
    "오늘은 과정의 2주차, 5일째되는 날입니다.\n",
    "    \n",
    "'''\n",
    "    f.write(data)\n",
    "\n",
    "with open('hw_1101_5.txt','r') as f:\n",
    "    print(f.read())"
   ]
  },
  {
   "cell_type": "markdown",
   "id": "1c97321f",
   "metadata": {},
   "source": [
    "#### [도전과제6_1101]: 텍스트 파일(mydata.txt)을 읽고 파일의 내용에서 나타나는 문자들에 대해 자주 나타나는 문자들을 아래와 같이 순서대로 출력하세요.\n",
    "- \\[ \\] -> [177]회 나타남\n",
    "- [e] -> [97]회 나타남\n",
    "- [t] -> [85]회 나타남"
   ]
  },
  {
   "cell_type": "code",
   "execution_count": 34,
   "id": "d9e63897",
   "metadata": {},
   "outputs": [],
   "source": [
    "with open('mydata.txt','w') as f:\n",
    "    f.write(\n",
    "'''\n",
    "a lot of things occur each day\n",
    "we've got to live with on our way\n",
    "there's so much misery on the screen\n",
    "with commercials in between\n",
    "\n",
    "and the russians won't be so late\n",
    "uncle sam don't want to wait\n",
    "no matter if you're black or white\n",
    "you never ever had a right\n",
    "\n",
    "and look up to the eternal skies\n",
    "see warfare even there\n",
    "what once has been a paradise\n",
    "now destruction and despair\n",
    "\n",
    "in other worlds the children die\n",
    "lacking food ill from a fly\n",
    "oppressed by troops to tame their land\n",
    "it's all the same again\n",
    "\n",
    "if any man is free on earth\n",
    "then tormentors steal his birth\n",
    "they slam gun butts in his face\n",
    "and leave his woman choked in mace\n",
    "\n",
    "so stand up for our human rights\n",
    "push back this pest of hate\n",
    "raise you voice pass on the light\n",
    "unite! it's not too late\n",
    "\n",
    "how many tears flow away\n",
    "to become a sea of fears\n",
    "how many hearts are torn apart\n",
    "till another torment starts\n",
    "\n",
    "but before the world\n",
    "turns into a sun\n",
    "all cruelty and violence\n",
    "on earth will be dead and gone\n",
    "\n",
    "so stand up for our human rights\n",
    "push back this pest of hate\n",
    "raise you voice pass on the light\n",
    "unite! it's not too late\n",
    "''')"
   ]
  },
  {
   "cell_type": "code",
   "execution_count": 57,
   "id": "fd6243a0",
   "metadata": {
    "scrolled": true
   },
   "outputs": [
    {
     "name": "stdout",
     "output_type": "stream",
     "text": [
      "[ ]->[177]회 나타남\n",
      "[e]->[97]회 나타남\n",
      "[t]->[85]회 나타남\n",
      "[a]->[78]회 나타남\n",
      "[o]->[73]회 나타남\n",
      "[n]->[60]회 나타남\n",
      "[s]->[60]회 나타남\n",
      "[r]->[54]회 나타남\n",
      "[i]->[50]회 나타남\n",
      "[h]->[48]회 나타남\n",
      "[줄바꿈]->[45]회 나타남\n",
      "[l]->[34]회 나타남\n",
      "[u]->[27]회 나타남\n",
      "[d]->[24]회 나타남\n",
      "[c]->[23]회 나타남\n",
      "[m]->[20]회 나타남\n",
      "[w]->[20]회 나타남\n",
      "[f]->[17]회 나타남\n",
      "[p]->[15]회 나타남\n",
      "[y]->[15]회 나타남\n",
      "[b]->[13]회 나타남\n",
      "[g]->[11]회 나타남\n",
      "[v]->[9]회 나타남\n",
      "[']->[8]회 나타남\n",
      "[k]->[7]회 나타남\n",
      "[!]->[2]회 나타남\n"
     ]
    }
   ],
   "source": [
    "# 텍스트 파일 불러와서 읽기\n",
    "with open('mydata.txt','r') as f:\n",
    "    mydata = f.read()\n",
    "\n",
    "mydata_list = list(mydata) # mydata를 str 에서 list로 형변환 해주기\n",
    "char_count = {}            # 문자 카운트 할 사전 선언\n",
    "\n",
    "# 리스트의 마지막에서부터 pop()함수를 사용하여 char_count 사전에 카운트한 수 넣어주기\n",
    "while len(mydata_list) > 0:\n",
    "    if mydata_list[len(mydata_list)-1] in char_count:\n",
    "        char_count[mydata_list.pop()] += 1\n",
    "    else:\n",
    "        char_count[mydata_list.pop()] = 1\n",
    "\n",
    "char_count_items = char_count.items() # 리스트 안의 튜플 형식\n",
    "sorted_char_count = sorted(char_count_items, key=lambda x:x[1], reverse = True) # 튜플 안의 인덱스1 을 기준으로 내림차순 정렬\n",
    "\n",
    "# 형식에 맞게 출력해주기        \n",
    "for key, value in sorted_char_count:\n",
    "    if key == '\\n':\n",
    "        print('[%s]->[%d]회 나타남'%('줄바꿈',value))\n",
    "    else:\n",
    "        print(f'[{key}]->[{value}]회 나타남')"
   ]
  },
  {
   "cell_type": "code",
   "execution_count": null,
   "id": "1360d254",
   "metadata": {},
   "outputs": [],
   "source": []
  }
 ],
 "metadata": {
  "kernelspec": {
   "display_name": "Python 3 (ipykernel)",
   "language": "python",
   "name": "python3"
  },
  "language_info": {
   "codemirror_mode": {
    "name": "ipython",
    "version": 3
   },
   "file_extension": ".py",
   "mimetype": "text/x-python",
   "name": "python",
   "nbconvert_exporter": "python",
   "pygments_lexer": "ipython3",
   "version": "3.11.5"
  }
 },
 "nbformat": 4,
 "nbformat_minor": 5
}
