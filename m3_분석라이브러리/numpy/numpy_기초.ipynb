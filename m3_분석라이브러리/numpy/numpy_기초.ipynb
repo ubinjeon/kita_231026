{
  "nbformat": 4,
  "nbformat_minor": 0,
  "metadata": {
    "colab": {
      "provenance": [],
      "toc_visible": true,
      "mount_file_id": "1ARzS7juW6XZMR5NvJtdLJBfiCBhoVF3A",
      "authorship_tag": "ABX9TyPUsB0MgjzsW1KLJ70bIelg",
      "include_colab_link": true
    },
    "kernelspec": {
      "name": "python3",
      "display_name": "Python 3"
    },
    "language_info": {
      "name": "python"
    }
  },
  "cells": [
    {
      "cell_type": "markdown",
      "metadata": {
        "id": "view-in-github",
        "colab_type": "text"
      },
      "source": [
        "<a href=\"https://colab.research.google.com/github/ubinjeon/kita_231026/blob/main/numpy_%EA%B8%B0%EC%B4%88.ipynb\" target=\"_parent\"><img src=\"https://colab.research.google.com/assets/colab-badge.svg\" alt=\"Open In Colab\"/></a>"
      ]
    },
    {
      "cell_type": "markdown",
      "source": [
        "### 20240111"
      ],
      "metadata": {
        "id": "976uDMrBMNYR"
      }
    },
    {
      "cell_type": "markdown",
      "source": [
        "#### NumPy에 대하여, 배열\n",
        "NumPy는 “Numerical Python“의 약자로 대규모 다차원 배열과 행렬 연산에 필요한 다양한 함수를 제공\n",
        "* Numerical Python을 의미하는 NumPy는 파이썬에서 선형대수 기반의 프로그램을 쉽게 만들 수 있도록 지원하는 대표적인 패키지\n",
        "* 많은 머신러닝 알고리즘이 넘파이 기반으로 작성돼 있으며 알고리즘의 입출력 데이터를 넘파이 배열 타입으로 사용함\n",
        "* 넘파이의 기본 데이터 타입은 ndarray. ndarray를 이용해 넘파이에서 다차원 배열을 쉽게 생성하고 다양한 연산 수행\n",
        "\n",
        "1. NumPy 기본 개념\n",
        "  - NumPy는 과학 계산을 위한 Python 라이브러리.\n",
        "  - 다차원 배열 객체인 ndarray를 중심으로 작동.\n",
        "  - 벡터화 연산, 브로드캐스팅 기능을 제공.\n",
        "\n",
        "2. NumPy 배열 생성 및 조작\n",
        "  - np.array(): 리스트나 튜플로부터 배열 생성.\n",
        "  - np.arange(), np.linspace(): 연속된 값으로 배열 생성.\n",
        "  - 배열의 형태 변경: reshape(), flatten() 등.\n",
        "\n",
        "3. 배열 인덱싱 및 슬라이싱\n",
        "  - 배열 요소에 접근하고 수정하는 방법.\n",
        "  - 슬라이싱을 사용해 배열의 부분집합 추출.\n",
        "\n",
        "4. NumPy의 수학적 연산\n",
        "  - 기본 수학 연산: 덧셈, 뺄셈, 곱셈, 나눗셈.\n",
        "  - 통계 연산: mean(), median(), std(), sum() 등.\n",
        "  - 선형 대수 연산: 내적, 외적, 행렬 곱셈.\n",
        "\n",
        "5. 브로드캐스팅:\n",
        "  - 서로 다른 크기의 배열 간 연산을 가능하게 하는 기능.\n",
        "  - 브로드캐스팅 규칙 이해 및 적용.\n",
        "\n",
        "6. 부울 인덱싱 및 팬시 인덱싱\n",
        "  - 조건에 맞는 데이터 선택.\n",
        "  - 특정 인덱스 집합에 대한 데이터 접근.\n",
        "\n",
        "7. 파일 입출력\n",
        "  - NumPy 배열을 파일로 저장하고 불러오기: np.save(), np.savez(), np.load().\n",
        "\n",
        "8. 실용적 예제: 데이터 분석에 NumPy 활용\n",
        "  - 실제 데이터셋을 가지고 기본적인 데이터 처리 및 분석 수행.\n",
        "\n",
        "Numpy Documentation  \n",
        "\n",
        "https://numpy.org/doc/1.21/index.html"
      ],
      "metadata": {
        "id": "v8RkSHaL9dlL"
      }
    },
    {
      "cell_type": "code",
      "source": [
        "# 배열 생성 및 기본 작업\n",
        "import numpy as np\n",
        "\n",
        "# Creating a NumPy array\n",
        "array = np.array([1,2,3,4])\n",
        "\n",
        "# Basic operations\n",
        "print(\"Original array:\", array)\n",
        "print(\"Array + 2:\", array + 2)\n",
        "print(\"Array squared:\", array ** 2)\n",
        "\n",
        "# Basic statistics\n",
        "print(\"Mean of array:\", np.mean(array))"
      ],
      "metadata": {
        "colab": {
          "base_uri": "https://localhost:8080/"
        },
        "id": "U8UOmw5b9yTb",
        "outputId": "68ec06eb-b251-4c85-af6d-2ce75275070f"
      },
      "execution_count": null,
      "outputs": [
        {
          "output_type": "stream",
          "name": "stdout",
          "text": [
            "Original array: [1 2 3 4]\n",
            "Array + 2: [3 4 5 6]\n",
            "Array squared: [ 1  4  9 16]\n",
            "Mean of array: 2.5\n"
          ]
        }
      ]
    },
    {
      "cell_type": "code",
      "source": [
        "# 배열 생성 및 속성 탐색:\n",
        "# Create a 1D array from a list\n",
        "array_1d = np.array([3,6,9,12])\n",
        "print(\"1D Array:\", array_1d)\n",
        "\n",
        "# Array attributes\n",
        "print(\"Shape:\", array_1d.shape) # 배열의 크기\n",
        "print(\"Size:\", array_1d.size) # 배열의 총 요소 수\n",
        "print(\"Type\", array_1d.dtype) # 배열 요소의 데이터 유형\n",
        "\n",
        "# Create a 2D array using a nested list\n",
        "array_2d = np.array([[1,2,3],[4,5,6]])\n",
        "print(\"\\n2D Array:\\n\", array_2d)\n",
        "print(\"Shape:\", array_2d.shape)\n",
        "print(\"Size:\", array_2d.size)"
      ],
      "metadata": {
        "colab": {
          "base_uri": "https://localhost:8080/"
        },
        "id": "VG9wy9tOEsI-",
        "outputId": "69e75709-fc50-47c8-f01b-3006a0d9a5e9"
      },
      "execution_count": null,
      "outputs": [
        {
          "output_type": "stream",
          "name": "stdout",
          "text": [
            "1D Array: [ 3  6  9 12]\n",
            "Shape: (4,)\n",
            "Size: 4\n",
            "Type int64\n",
            "\n",
            "2D Array:\n",
            " [[1 2 3]\n",
            " [4 5 6]]\n",
            "Shape: (2, 3)\n",
            "Size: 6\n"
          ]
        }
      ]
    },
    {
      "cell_type": "code",
      "source": [
        "# 인덱싱 및 슬라이싱:\n",
        "# Indexing\n",
        "print(\"\\nElement at index 2:\", array_1d[2])\n",
        "\n",
        "#Slicing\n",
        "print(\"Elements from index 1 to 3:\", array_1d[1:4])\n",
        "\n",
        "# 2D Array Indexing\n",
        "print(\"\\nElement in 2nd row, 3rd column:\", array_2d[1,2])\n",
        "\n",
        "#slicing in 2D\n",
        "print(\"First row:\", array_2d[0, :])"
      ],
      "metadata": {
        "colab": {
          "base_uri": "https://localhost:8080/"
        },
        "id": "veDMLPNCHKFf",
        "outputId": "e8b7933f-3685-470a-d610-d126d0b994f9"
      },
      "execution_count": null,
      "outputs": [
        {
          "output_type": "stream",
          "name": "stdout",
          "text": [
            "\n",
            "Element at index 2: 9\n",
            "Elements from index 1 to 3: [ 6  9 12]\n",
            "\n",
            "Element in 2nd row, 3rd column: 6\n",
            "First row: [1 2 3]\n"
          ]
        }
      ]
    },
    {
      "cell_type": "code",
      "source": [
        "import numpy as np\n",
        "\n",
        "# Creating two arrays\n",
        "a=np.array([1,2,3])\n",
        "b=np.array([4,5,6])\n",
        "\n",
        "# Addition\n",
        "print(a+b)\n",
        "\n",
        "#Subtraction\n",
        "print(a-b)\n",
        "\n",
        "#Element-wise multiplication\n",
        "print(a*b)\n",
        "\n",
        "#Division\n",
        "print(a/b)"
      ],
      "metadata": {
        "colab": {
          "base_uri": "https://localhost:8080/"
        },
        "id": "mmSxVmCLH3UA",
        "outputId": "196ef005-0486-42bf-9f9c-f3a3658aa176"
      },
      "execution_count": null,
      "outputs": [
        {
          "output_type": "stream",
          "name": "stdout",
          "text": [
            "[5 7 9]\n",
            "[-3 -3 -3]\n",
            "[ 4 10 18]\n",
            "[0.25 0.4  0.5 ]\n"
          ]
        }
      ]
    },
    {
      "cell_type": "markdown",
      "source": [
        "##### Q1_0111. 아래 배열에 제곱한 경우와 제곱근의 경우를 계산하여 출력하세요."
      ],
      "metadata": {
        "id": "0pcdPZ76fAWy"
      }
    },
    {
      "cell_type": "code",
      "source": [
        "array = np.array([1,2,3,4])\n",
        "print(\"제곱:\", array **2)\n",
        "print(\"제곱근\", array**(1/2))\n",
        "np.sqrt(array)"
      ],
      "metadata": {
        "colab": {
          "base_uri": "https://localhost:8080/"
        },
        "id": "rI94v2ymI6xJ",
        "outputId": "4f864549-d8fb-4e43-a87f-39130a4a72bf"
      },
      "execution_count": null,
      "outputs": [
        {
          "output_type": "stream",
          "name": "stdout",
          "text": [
            "제곱: [ 1  4  9 16]\n",
            "제곱근 [1.         1.41421356 1.73205081 2.        ]\n"
          ]
        },
        {
          "output_type": "execute_result",
          "data": {
            "text/plain": [
              "array([1.        , 1.41421356, 1.73205081, 2.        ])"
            ]
          },
          "metadata": {},
          "execution_count": 55
        }
      ]
    },
    {
      "cell_type": "markdown",
      "source": [
        "#### 파이썬 리스트와 넘파이 배열의 주요 차이점\n",
        "\n",
        "데이터 타입:\n",
        "- 파이썬 리스트: 다양한 타입의 데이터를 저장할 수 있다. 즉, 하나의 리스트에 정수, 문자열, 객체 등 다양한 타입의 요소를 포함할 수 있다.\n",
        "- 넘파이 배열: 모든 요소가 동일한 데이터 타입을 가져야 한다. 이는 메모리 사용과 계산 속도를 최적화하는 데 도움이 된다.\n",
        "\n",
        "메모리 사용:\n",
        "- 파이썬 리스트: 비연속적으로 메모리에 요소를 저장. 각 요소는 객체로서 별도의 메모리 공간을 차지하며, 리스트는 이러한 객체들의 참조를 저장.\n",
        "- 넘파이 배열: 모든 요소가 연속된 메모리 블록에 저장. 이는 데이터 접근과 조작을 더 빠르고 효율적으로 만든다.\n",
        "\n",
        "성능:\n",
        "- 파이썬 리스트: 다양한 타입의 데이터를 유연하게 처리할 수 있지만, 이로 인해 넘파이 배열에 비해 연산 속도가 느릴 수 있다.\n",
        "- 넘파이 배열: 수학적이고 과학적인 계산에 최적화되어 있으며, 특히 대량의 데이터를 다룰 때 높은 성능을 제공.\n",
        "\n",
        "크기 조정:\n",
        "- 파이썬 리스트: 동적으로 크기가 조정. 요소를 추가하거나 제거하면 리스트의 크기가 자동으로 변경.\n",
        "- 넘파이 배열: 고정된 크기를 가진다. 배열의 크기를 변경하려면 새로운 배열을 생성하고 기존 데이터를 복사해야 한다.\n",
        "\n",
        "다양한 기능과 연산:\n",
        "- 파이썬 리스트: 기본적인 연산과 기능을 제공.\n",
        "- 넘파이 배열: 다차원 배열을 지원하며, 선형대수, 통계, 푸리에 변환 등 고급 수학적 및 과학적 연산을 위한 광범위한 함수와 메서드를 제공.\n",
        "\n",
        "용도:\n",
        "- 파이썬 리스트: 일반적인 프로그래밍 작업 및 다양한 타입의 데이터를 유연하게 관리할 때 사용.\n",
        "- 넘파이 배열: 과학 계산, 데이터 분석, 대규모 수치 연산 등에서 주로 사용.\n",
        "\n",
        "결론적으로, 파이썬 리스트는 유연성과 범용성에 초점을 맞추고 있으며, 넘파이 배열은 고성능 수치 계산과 데이터 처리에 최적화되어 있다."
      ],
      "metadata": {
        "id": "sOI_CQVwJKJ0"
      }
    },
    {
      "cell_type": "code",
      "source": [
        "z = np.arange(10)\n",
        "print(z)\n",
        "print(z.size)\n",
        "z.itemsize # 메모리에서 차지하는 바이트 수"
      ],
      "metadata": {
        "colab": {
          "base_uri": "https://localhost:8080/"
        },
        "id": "TR6gyb4VK-eF",
        "outputId": "b6f62d89-0a5f-4f73-bb1b-f8ec502a5a89"
      },
      "execution_count": null,
      "outputs": [
        {
          "output_type": "stream",
          "name": "stdout",
          "text": [
            "[0 1 2 3 4 5 6 7 8 9]\n",
            "10\n"
          ]
        },
        {
          "output_type": "execute_result",
          "data": {
            "text/plain": [
              "8"
            ]
          },
          "metadata": {},
          "execution_count": 9
        }
      ]
    },
    {
      "cell_type": "code",
      "source": [
        "z = np.arange(5)\n",
        "print(f'{z.size*z.itemsize} bytes')\n",
        "z.itemsize"
      ],
      "metadata": {
        "colab": {
          "base_uri": "https://localhost:8080/"
        },
        "id": "1mklOfqrLjZo",
        "outputId": "f0dd984e-d841-4b59-b374-987502ef74c0"
      },
      "execution_count": null,
      "outputs": [
        {
          "output_type": "stream",
          "name": "stdout",
          "text": [
            "40 bytes\n"
          ]
        },
        {
          "output_type": "execute_result",
          "data": {
            "text/plain": [
              "8"
            ]
          },
          "metadata": {},
          "execution_count": 14
        }
      ]
    },
    {
      "cell_type": "code",
      "source": [
        "# Numpy는 내부적으로 데이터를 다른 내장 파이썬 객체와 구분된 연속된 메모리 블록에 저장\n",
        "import numpy as np\n",
        "my_arr = np.arange(1000000)\n",
        "my_list = list(range(1000000))"
      ],
      "metadata": {
        "id": "gZkpekQLL7UD"
      },
      "execution_count": null,
      "outputs": []
    },
    {
      "cell_type": "code",
      "source": [
        "# '_'은 값을 무시하고 싶은 경우 사용(여기서는 인덱스 무시)\n",
        "# % time는 뒤따르는 한 줄의 코드 실행 시간을 측정하는 매직명령어\n",
        "%time for _ in range(10): my_array2 = my_arr * 2"
      ],
      "metadata": {
        "colab": {
          "base_uri": "https://localhost:8080/"
        },
        "id": "cYKk-y3YM0_g",
        "outputId": "0dc36e3e-e43d-43a0-c575-18e73889c998"
      },
      "execution_count": null,
      "outputs": [
        {
          "output_type": "stream",
          "name": "stdout",
          "text": [
            "CPU times: user 12 ms, sys: 16.2 ms, total: 28.2 ms\n",
            "Wall time: 29.4 ms\n"
          ]
        }
      ]
    },
    {
      "cell_type": "code",
      "source": [
        "%time for _ in range(10): my_list2 = [x*2 for x in my_list]"
      ],
      "metadata": {
        "colab": {
          "base_uri": "https://localhost:8080/"
        },
        "id": "5SWOYXgZNFzu",
        "outputId": "fb924234-0a33-46e2-c6c5-a5d68ff3b5cf"
      },
      "execution_count": null,
      "outputs": [
        {
          "output_type": "stream",
          "name": "stdout",
          "text": [
            "CPU times: user 638 ms, sys: 245 ms, total: 883 ms\n",
            "Wall time: 886 ms\n"
          ]
        }
      ]
    },
    {
      "cell_type": "code",
      "source": [
        "# 배열 연산\n",
        "data = np.random.randn(2,3)\n",
        "print(data, '\\n')\n",
        "print(data * 10, '\\n')\n",
        "print(data + data)"
      ],
      "metadata": {
        "colab": {
          "base_uri": "https://localhost:8080/"
        },
        "id": "ojnUuIcRQS60",
        "outputId": "1db8367a-3c1a-4de3-87c3-6c511dcff1aa"
      },
      "execution_count": null,
      "outputs": [
        {
          "output_type": "stream",
          "name": "stdout",
          "text": [
            "[[-0.21804518 -2.40630985 -1.76107238]\n",
            " [ 0.83761861 -0.31199963 -1.38961658]] \n",
            "\n",
            "[[ -2.18045182 -24.06309852 -17.61072381]\n",
            " [  8.37618613  -3.11999628 -13.89616577]] \n",
            "\n",
            "[[-0.43609036 -4.8126197  -3.52214476]\n",
            " [ 1.67523723 -0.62399926 -2.77923315]]\n"
          ]
        }
      ]
    },
    {
      "cell_type": "code",
      "source": [
        "print(data.shape) # 크기\n",
        "print(data.dtype) # 자료형\n",
        "print(data.ndim)  # 차원"
      ],
      "metadata": {
        "colab": {
          "base_uri": "https://localhost:8080/"
        },
        "id": "9InBDIh7Q2jS",
        "outputId": "0faddd62-8138-49e6-ce7c-7621a6e18eae"
      },
      "execution_count": null,
      "outputs": [
        {
          "output_type": "stream",
          "name": "stdout",
          "text": [
            "(2, 3)\n",
            "float64\n",
            "2\n"
          ]
        }
      ]
    },
    {
      "cell_type": "code",
      "source": [
        "# 마운트를 하는 코드 (필요시)\n",
        "from google.colab import drive\n",
        "drive.mount('/content/drive')"
      ],
      "metadata": {
        "id": "cSel1yOARrZY"
      },
      "execution_count": null,
      "outputs": []
    },
    {
      "cell_type": "code",
      "source": [
        "!pip install matplotlib PIL"
      ],
      "metadata": {
        "colab": {
          "base_uri": "https://localhost:8080/"
        },
        "id": "fd_FQUPNSDE8",
        "outputId": "ef6b15f1-fcf0-47ba-d5e4-d59391149648"
      },
      "execution_count": null,
      "outputs": [
        {
          "output_type": "stream",
          "name": "stdout",
          "text": [
            "Requirement already satisfied: matplotlib in /usr/local/lib/python3.10/dist-packages (3.7.1)\n",
            "\u001b[31mERROR: Could not find a version that satisfies the requirement PIL (from versions: none)\u001b[0m\u001b[31m\n",
            "\u001b[0m\u001b[31mERROR: No matching distribution found for PIL\u001b[0m\u001b[31m\n",
            "\u001b[0m"
          ]
        }
      ]
    },
    {
      "cell_type": "code",
      "source": [
        "from PIL import Image\n",
        "import matplotlib.pyplot as plt\n",
        "\n",
        "# Replace 'image_name.jpg' with your image file's name\n",
        "image = Image.open('/content/drive/MyDrive/KITA_1026/m3_분석라이브러리/numpy/numpy차원.jpg')\n",
        "plt.imshow(image)\n",
        "plt.axis('off') # Turn off axis numbers\n",
        "plt.show()"
      ],
      "metadata": {
        "colab": {
          "base_uri": "https://localhost:8080/",
          "height": 213
        },
        "id": "3RFcge2kRicI",
        "outputId": "fd68a806-c2f5-456e-fdb6-78f20395fdbf"
      },
      "execution_count": null,
      "outputs": [
        {
          "output_type": "display_data",
          "data": {
            "text/plain": [
              "<Figure size 640x480 with 1 Axes>"
            ],
            "image/png": "[encoded data removed]"
          },
          "metadata": {}
        }
      ]
    },
    {
      "cell_type": "code",
      "source": [
        "# 1차원 배열로 3개의 데이터\n",
        "array1 = np.array([1,3,5])\n",
        "print(\"array1 type:\", type(array1))\n",
        "print('array1 array 형태:',array1.shape)"
      ],
      "metadata": {
        "colab": {
          "base_uri": "https://localhost:8080/"
        },
        "id": "5U0EsrGMTvxY",
        "outputId": "cdf20c7a-627e-4baf-e1c8-32a18558420a"
      },
      "execution_count": null,
      "outputs": [
        {
          "output_type": "stream",
          "name": "stdout",
          "text": [
            "array1 type: <class 'numpy.ndarray'>\n",
            "array1 array 형태: (3,)\n"
          ]
        }
      ]
    },
    {
      "cell_type": "code",
      "source": [
        "# 2차원 배열로 2개의 row와 3개의 column으로 구성된 6개의 데이터\n",
        "array2 = np.array([[1,2,3],[2,3,4]])\n",
        "print('array2 type:', type(array2))\n",
        "print('array2 array 형태:', array2.shape)"
      ],
      "metadata": {
        "colab": {
          "base_uri": "https://localhost:8080/"
        },
        "id": "XrmA3TieUlHz",
        "outputId": "39b16249-e190-45b2-b6c5-500a10098cff"
      },
      "execution_count": null,
      "outputs": [
        {
          "output_type": "stream",
          "name": "stdout",
          "text": [
            "array2 type: <class 'numpy.ndarray'>\n",
            "array2 array 형태: (2, 3)\n"
          ]
        }
      ]
    },
    {
      "cell_type": "code",
      "source": [
        "# 1개의 row와 3개의 column으로 구성된 2차원 배열\n",
        "array21 = np.array([[1,2,3]])\n",
        "print(array21)\n",
        "print(array21.shape)"
      ],
      "metadata": {
        "colab": {
          "base_uri": "https://localhost:8080/"
        },
        "id": "RqwpTKl7VZMs",
        "outputId": "65490cb6-735a-4d5b-ea3f-c7c92425f70a"
      },
      "execution_count": null,
      "outputs": [
        {
          "output_type": "stream",
          "name": "stdout",
          "text": [
            "[[1 2 3]]\n",
            "(1, 3)\n"
          ]
        }
      ]
    },
    {
      "cell_type": "code",
      "source": [
        "# 3차원\n",
        "array3 = np.array([[[1,2,3,4,5],[6,7,8,9,10]],\n",
        "                   [[1,2,3,4,5],[6,7,8,9,10]],\n",
        "                   [[1,2,3,4,5],[6,7,8,9,10]]])\n",
        "print(array3, array3.shape, '\\n')\n",
        "print(type(array3))"
      ],
      "metadata": {
        "colab": {
          "base_uri": "https://localhost:8080/"
        },
        "id": "bS2GT7XyWfiz",
        "outputId": "b0240c23-effb-44e0-cd4d-8653a2e46ba8"
      },
      "execution_count": null,
      "outputs": [
        {
          "output_type": "stream",
          "name": "stdout",
          "text": [
            "[[[ 1  2  3  4  5]\n",
            "  [ 6  7  8  9 10]]\n",
            "\n",
            " [[ 1  2  3  4  5]\n",
            "  [ 6  7  8  9 10]]\n",
            "\n",
            " [[ 1  2  3  4  5]\n",
            "  [ 6  7  8  9 10]]] (3, 2, 5) \n",
            "\n",
            "<class 'numpy.ndarray'>\n"
          ]
        }
      ]
    },
    {
      "cell_type": "markdown",
      "source": [
        "#### 배열 생성 및 초기화\n",
        "- Numpy는 원하는 shape로 배열을 설정하고 각 요소를 특정 값으로 초기화하는 zeros, ones, full, eye 함수 제공\n",
        "- 파라미터로 입력한 배열과 같은 shape의 배열을 만드는 zeros_like, ones_like, full_like 함수도 제공"
      ],
      "metadata": {
        "id": "b_TX9_eiXSe3"
      }
    },
    {
      "cell_type": "code",
      "source": [
        "# 아래는 딥러닝할 때 많이 쓴다고 함\n",
        "print(np.zeros(10))\n",
        "print(np.zeros((3,6)))\n",
        "print(np.zeros((2,3,2)))"
      ],
      "metadata": {
        "colab": {
          "base_uri": "https://localhost:8080/"
        },
        "id": "hI3gTxr0XitA",
        "outputId": "6cd53253-9f0b-495a-cf26-0e4ab69e688d"
      },
      "execution_count": null,
      "outputs": [
        {
          "output_type": "stream",
          "name": "stdout",
          "text": [
            "[0. 0. 0. 0. 0. 0. 0. 0. 0. 0.]\n",
            "[[0. 0. 0. 0. 0. 0.]\n",
            " [0. 0. 0. 0. 0. 0.]\n",
            " [0. 0. 0. 0. 0. 0.]]\n",
            "[[[0. 0.]\n",
            "  [0. 0.]\n",
            "  [0. 0.]]\n",
            "\n",
            " [[0. 0.]\n",
            "  [0. 0.]\n",
            "  [0. 0.]]]\n"
          ]
        }
      ]
    },
    {
      "cell_type": "code",
      "source": [
        "a = np.ones((2,3,4))\n",
        "a"
      ],
      "metadata": {
        "colab": {
          "base_uri": "https://localhost:8080/"
        },
        "id": "7VT2UkCFXRLg",
        "outputId": "86d3539f-37ec-4a10-db36-29a67073ad1b"
      },
      "execution_count": null,
      "outputs": [
        {
          "output_type": "execute_result",
          "data": {
            "text/plain": [
              "array([[[1., 1., 1., 1.],\n",
              "        [1., 1., 1., 1.],\n",
              "        [1., 1., 1., 1.]],\n",
              "\n",
              "       [[1., 1., 1., 1.],\n",
              "        [1., 1., 1., 1.],\n",
              "        [1., 1., 1., 1.]]])"
            ]
          },
          "metadata": {},
          "execution_count": 28
        }
      ]
    },
    {
      "cell_type": "code",
      "source": [
        "a = np.arange(10).reshape(2,5)\n",
        "z = np.zeros_like(a)\n",
        "o = np.ones_like(a)\n",
        "f = np.full_like(a,5)\n",
        "print(z, '\\n')\n",
        "print(o, '\\n')\n",
        "print(f)"
      ],
      "metadata": {
        "colab": {
          "base_uri": "https://localhost:8080/"
        },
        "id": "9QojixBpYy6U",
        "outputId": "5d549f47-cba3-4976-817f-7ac0bd9157c5"
      },
      "execution_count": null,
      "outputs": [
        {
          "output_type": "stream",
          "name": "stdout",
          "text": [
            "[[0 0 0 0 0]\n",
            " [0 0 0 0 0]] \n",
            "\n",
            "[[1 1 1 1 1]\n",
            " [1 1 1 1 1]] \n",
            "\n",
            "[[5 5 5 5 5]\n",
            " [5 5 5 5 5]]\n"
          ]
        }
      ]
    },
    {
      "cell_type": "code",
      "source": [
        "# arange 힘수 : 파이썬의 range함수의 배열 버전\n",
        "arr3 = np.arange(15)\n",
        "arr3"
      ],
      "metadata": {
        "colab": {
          "base_uri": "https://localhost:8080/"
        },
        "id": "_fcq79JPZiGq",
        "outputId": "3c3191a2-c3fc-4e2b-9720-206fd9e9e7db"
      },
      "execution_count": null,
      "outputs": [
        {
          "output_type": "execute_result",
          "data": {
            "text/plain": [
              "array([ 0,  1,  2,  3,  4,  5,  6,  7,  8,  9, 10, 11, 12, 13, 14])"
            ]
          },
          "metadata": {},
          "execution_count": 30
        }
      ]
    },
    {
      "cell_type": "code",
      "source": [
        "# reshape 함수\n",
        "arr3.reshape(3,5)"
      ],
      "metadata": {
        "colab": {
          "base_uri": "https://localhost:8080/"
        },
        "id": "gNhnKS7SZoXJ",
        "outputId": "ac2f0943-f7a0-4b53-9fe8-4864877cb428"
      },
      "execution_count": null,
      "outputs": [
        {
          "output_type": "execute_result",
          "data": {
            "text/plain": [
              "array([[ 0,  1,  2,  3,  4],\n",
              "       [ 5,  6,  7,  8,  9],\n",
              "       [10, 11, 12, 13, 14]])"
            ]
          },
          "metadata": {},
          "execution_count": 31
        }
      ]
    },
    {
      "cell_type": "markdown",
      "source": [
        "##### Q2_01111. ar에 reshape() 함수 이용, 1차원,2차원,3차원 배열 생성하세요."
      ],
      "metadata": {
        "id": "BOjpEEgTqnbn"
      }
    },
    {
      "cell_type": "code",
      "source": [
        "ar = np.arange(12)\n",
        "print(\"ar\", ar)"
      ],
      "metadata": {
        "colab": {
          "base_uri": "https://localhost:8080/"
        },
        "id": "7h-5axJurG_7",
        "outputId": "7af40c0d-ab09-4351-a18f-aa0b0c8cee37"
      },
      "execution_count": null,
      "outputs": [
        {
          "output_type": "stream",
          "name": "stdout",
          "text": [
            "ar [ 0  1  2  3  4  5  6  7  8  9 10 11]\n"
          ]
        }
      ]
    },
    {
      "cell_type": "code",
      "source": [
        "ar.reshape(3,4)"
      ],
      "metadata": {
        "colab": {
          "base_uri": "https://localhost:8080/"
        },
        "id": "2vZD5OEerhiY",
        "outputId": "a1d71518-6578-4ab6-c4f9-9ac5c4f97967"
      },
      "execution_count": null,
      "outputs": [
        {
          "output_type": "execute_result",
          "data": {
            "text/plain": [
              "array([[ 0,  1,  2,  3],\n",
              "       [ 4,  5,  6,  7],\n",
              "       [ 8,  9, 10, 11]])"
            ]
          },
          "metadata": {},
          "execution_count": 34
        }
      ]
    },
    {
      "cell_type": "code",
      "source": [
        "ar.reshape(2,3,2)"
      ],
      "metadata": {
        "colab": {
          "base_uri": "https://localhost:8080/"
        },
        "id": "ZVWPBu1Prp-G",
        "outputId": "464a2a91-f39e-4c51-d52d-3dd20aa9132d"
      },
      "execution_count": null,
      "outputs": [
        {
          "output_type": "execute_result",
          "data": {
            "text/plain": [
              "array([[[ 0,  1],\n",
              "        [ 2,  3],\n",
              "        [ 4,  5]],\n",
              "\n",
              "       [[ 6,  7],\n",
              "        [ 8,  9],\n",
              "        [10, 11]]])"
            ]
          },
          "metadata": {},
          "execution_count": 35
        }
      ]
    },
    {
      "cell_type": "markdown",
      "source": [
        "##### Q3_01111. -1을 이용해서 차원을 변경해 보세요.\n",
        "- 1차원 -> 2,3 차원\n",
        "- 2차원 -> 1,3 차원"
      ],
      "metadata": {
        "id": "kc7lr57aawJ7"
      }
    },
    {
      "cell_type": "code",
      "source": [
        "ar = np.arange(12)\n",
        "print(\"1차원=>2차원:\",ar.reshape(3,-1))\n",
        "print(\"1차원->3차원:\",ar.reshape(2,3,-1))"
      ],
      "metadata": {
        "colab": {
          "base_uri": "https://localhost:8080/"
        },
        "id": "1xgi3epxtUzK",
        "outputId": "ab86a985-b821-4723-b64b-b0a758d9e9a7"
      },
      "execution_count": null,
      "outputs": [
        {
          "output_type": "stream",
          "name": "stdout",
          "text": [
            "1차원=>2차원: [[ 0  1  2  3]\n",
            " [ 4  5  6  7]\n",
            " [ 8  9 10 11]]\n",
            "1차원->3차원: [[[ 0  1]\n",
            "  [ 2  3]\n",
            "  [ 4  5]]\n",
            "\n",
            " [[ 6  7]\n",
            "  [ 8  9]\n",
            "  [10 11]]]\n"
          ]
        }
      ]
    },
    {
      "cell_type": "code",
      "source": [
        "ar.reshape(2,3,-1)"
      ],
      "metadata": {
        "colab": {
          "base_uri": "https://localhost:8080/"
        },
        "id": "eA0Lnf6Ytc_F",
        "outputId": "e2871663-a7f9-4d9a-b055-d7761822e1e3"
      },
      "execution_count": null,
      "outputs": [
        {
          "output_type": "execute_result",
          "data": {
            "text/plain": [
              "array([[[ 0,  1],\n",
              "        [ 2,  3],\n",
              "        [ 4,  5]],\n",
              "\n",
              "       [[ 6,  7],\n",
              "        [ 8,  9],\n",
              "        [10, 11]]])"
            ]
          },
          "metadata": {},
          "execution_count": 49
        }
      ]
    },
    {
      "cell_type": "code",
      "source": [
        "ar2 = ar.reshape(2,6)\n",
        "ar2"
      ],
      "metadata": {
        "colab": {
          "base_uri": "https://localhost:8080/"
        },
        "id": "NZo8teqOtpPW",
        "outputId": "486455d9-173d-458c-9310-719a7a7e318d"
      },
      "execution_count": null,
      "outputs": [
        {
          "output_type": "execute_result",
          "data": {
            "text/plain": [
              "array([[ 0,  1,  2,  3,  4,  5],\n",
              "       [ 6,  7,  8,  9, 10, 11]])"
            ]
          },
          "metadata": {},
          "execution_count": 52
        }
      ]
    },
    {
      "cell_type": "code",
      "source": [
        "ar = np.arange(12)\n",
        "ar2 = ar.reshape(2,6)\n",
        "print(\"2차원=>1차원:\",ar2.reshape(-1))\n",
        "print(\"2차원=>3차원:\",ar2.reshape(2,6,-1))"
      ],
      "metadata": {
        "colab": {
          "base_uri": "https://localhost:8080/"
        },
        "id": "HNQ2Eu4RwycE",
        "outputId": "d05ac2d5-e785-46c7-bc2c-20bd15e8b6b0"
      },
      "execution_count": null,
      "outputs": [
        {
          "output_type": "stream",
          "name": "stdout",
          "text": [
            "2차원=>1차원: [ 0  1  2  3  4  5  6  7  8  9 10 11]\n",
            "2차원=>3차원: [[[ 0]\n",
            "  [ 1]\n",
            "  [ 2]\n",
            "  [ 3]\n",
            "  [ 4]\n",
            "  [ 5]]\n",
            "\n",
            " [[ 6]\n",
            "  [ 7]\n",
            "  [ 8]\n",
            "  [ 9]\n",
            "  [10]\n",
            "  [11]]]\n"
          ]
        }
      ]
    },
    {
      "cell_type": "code",
      "source": [
        "ar2.reshape(-1)"
      ],
      "metadata": {
        "colab": {
          "base_uri": "https://localhost:8080/"
        },
        "id": "pJJcOuactpCw",
        "outputId": "ae9970e0-10aa-4620-b81a-818444b9e7e9"
      },
      "execution_count": null,
      "outputs": [
        {
          "output_type": "execute_result",
          "data": {
            "text/plain": [
              "array([ 0,  1,  2,  3,  4,  5,  6,  7,  8,  9, 10, 11])"
            ]
          },
          "metadata": {},
          "execution_count": 53
        }
      ]
    },
    {
      "cell_type": "code",
      "source": [
        "ar2.reshape(2,6,-1)"
      ],
      "metadata": {
        "colab": {
          "base_uri": "https://localhost:8080/"
        },
        "id": "eQ4dtaEyt1ir",
        "outputId": "12b067e8-89fa-433c-b396-023b079ba794"
      },
      "execution_count": null,
      "outputs": [
        {
          "output_type": "execute_result",
          "data": {
            "text/plain": [
              "array([[[ 0],\n",
              "        [ 1],\n",
              "        [ 2],\n",
              "        [ 3],\n",
              "        [ 4],\n",
              "        [ 5]],\n",
              "\n",
              "       [[ 6],\n",
              "        [ 7],\n",
              "        [ 8],\n",
              "        [ 9],\n",
              "        [10],\n",
              "        [11]]])"
            ]
          },
          "metadata": {},
          "execution_count": 54
        }
      ]
    },
    {
      "cell_type": "code",
      "source": [
        "ar3 = ar.reshape(2,3,2)\n",
        "ar3"
      ],
      "metadata": {
        "colab": {
          "base_uri": "https://localhost:8080/"
        },
        "id": "xdQfmZYca-Ln",
        "outputId": "d4d3d2ea-5470-4d8c-b5e6-690762681080"
      },
      "execution_count": null,
      "outputs": [
        {
          "output_type": "execute_result",
          "data": {
            "text/plain": [
              "array([[[ 0,  1],\n",
              "        [ 2,  3],\n",
              "        [ 4,  5]],\n",
              "\n",
              "       [[ 6,  7],\n",
              "        [ 8,  9],\n",
              "        [10, 11]]])"
            ]
          },
          "metadata": {},
          "execution_count": 42
        }
      ]
    },
    {
      "cell_type": "code",
      "source": [
        "ar3.reshape(-1)"
      ],
      "metadata": {
        "colab": {
          "base_uri": "https://localhost:8080/"
        },
        "id": "Ov8tPHYZtCuL",
        "outputId": "6c6e91d3-1a8f-4102-9d0a-81ff905dd023"
      },
      "execution_count": null,
      "outputs": [
        {
          "output_type": "execute_result",
          "data": {
            "text/plain": [
              "array([ 0,  1,  2,  3,  4,  5,  6,  7,  8,  9, 10, 11])"
            ]
          },
          "metadata": {},
          "execution_count": 43
        }
      ]
    },
    {
      "cell_type": "code",
      "source": [
        "ar3.reshape(2,-1)"
      ],
      "metadata": {
        "colab": {
          "base_uri": "https://localhost:8080/"
        },
        "id": "rXiDUzfitJSK",
        "outputId": "f1c6ad41-90d2-4325-ab63-daa26f8a0403"
      },
      "execution_count": null,
      "outputs": [
        {
          "output_type": "execute_result",
          "data": {
            "text/plain": [
              "array([[ 0,  1,  2,  3,  4,  5],\n",
              "       [ 6,  7,  8,  9, 10, 11]])"
            ]
          },
          "metadata": {},
          "execution_count": 44
        }
      ]
    },
    {
      "cell_type": "code",
      "source": [
        "ar = np.arange(30).reshape(2,-1)\n",
        "ar21 = ar.reshape(-1,)\n",
        "print(ar21)\n",
        "ar23 = ar.reshape(-1,2,5)\n",
        "print(ar23)"
      ],
      "metadata": {
        "colab": {
          "base_uri": "https://localhost:8080/"
        },
        "id": "lEMYOLSfxpdn",
        "outputId": "bf21a916-dbe9-4dd5-89e3-c13c8e92e46d"
      },
      "execution_count": null,
      "outputs": [
        {
          "output_type": "stream",
          "name": "stdout",
          "text": [
            "[ 0  1  2  3  4  5  6  7  8  9 10 11 12 13 14 15 16 17 18 19 20 21 22 23\n",
            " 24 25 26 27 28 29]\n",
            "[[[ 0  1  2  3  4]\n",
            "  [ 5  6  7  8  9]]\n",
            "\n",
            " [[10 11 12 13 14]\n",
            "  [15 16 17 18 19]]\n",
            "\n",
            " [[20 21 22 23 24]\n",
            "  [25 26 27 28 29]]]\n"
          ]
        }
      ]
    },
    {
      "cell_type": "code",
      "source": [
        "ar23\n",
        "ar31 = ar23.reshape(-1,)\n",
        "print(ar31)\n",
        "ar32 = ar31.reshape(3,-1)\n",
        "print(ar32)"
      ],
      "metadata": {
        "colab": {
          "base_uri": "https://localhost:8080/"
        },
        "id": "_zJBYeaKx4q3",
        "outputId": "2aa14691-f691-41c9-dccf-3b26253f447e"
      },
      "execution_count": null,
      "outputs": [
        {
          "output_type": "stream",
          "name": "stdout",
          "text": [
            "[ 0  1  2  3  4  5  6  7  8  9 10 11 12 13 14 15 16 17 18 19 20 21 22 23\n",
            " 24 25 26 27 28 29]\n",
            "[[ 0  1  2  3  4  5  6  7  8  9]\n",
            " [10 11 12 13 14 15 16 17 18 19]\n",
            " [20 21 22 23 24 25 26 27 28 29]]\n"
          ]
        }
      ]
    },
    {
      "cell_type": "markdown",
      "source": [
        "##### Q4_0111. 1차원 배열을 생성 후 2,3차 배열로 변경하고 각 2,3차원 배열을 1,3 차원, 1,2차원 배열로 다시 변경해서 출력하세요."
      ],
      "metadata": {
        "id": "GTCxdYaF0Fnj"
      }
    },
    {
      "cell_type": "code",
      "source": [
        "# 1차원\n",
        "pr1 = np.arange(24)\n",
        "print(pr1)\n",
        "# 1차원을 2차원으로\n",
        "pr12 = pr1.reshape(12,-1)\n",
        "print(pr12)\n",
        "# 1차원을 3차원으로\n",
        "pr13 = pr1.reshape(6,2,-1)\n",
        "print(pr13)\n",
        "#2차원을 1차원으로\n",
        "pr21 = pr12.reshape(-1,)\n",
        "print(pr21)\n",
        "#2차원을 3차원으로\n",
        "pr23 = pr12.reshape(6,-1,2)\n",
        "print(pr23)\n",
        "#3차원을 1차원으로\n",
        "pr31 = pr23.reshape(-1,)\n",
        "print(pr31)\n",
        "#3차원을 2차원으로\n",
        "pr32 = pr23.reshape(-1,6)\n"
      ],
      "metadata": {
        "colab": {
          "base_uri": "https://localhost:8080/"
        },
        "id": "PHtltwYM0H-m",
        "outputId": "9ec9bf07-505e-4388-ba25-84a1bf26a980"
      },
      "execution_count": null,
      "outputs": [
        {
          "output_type": "stream",
          "name": "stdout",
          "text": [
            "[ 0  1  2  3  4  5  6  7  8  9 10 11 12 13 14 15 16 17 18 19 20 21 22 23]\n",
            "[[ 0  1]\n",
            " [ 2  3]\n",
            " [ 4  5]\n",
            " [ 6  7]\n",
            " [ 8  9]\n",
            " [10 11]\n",
            " [12 13]\n",
            " [14 15]\n",
            " [16 17]\n",
            " [18 19]\n",
            " [20 21]\n",
            " [22 23]]\n",
            "[[[ 0  1]\n",
            "  [ 2  3]]\n",
            "\n",
            " [[ 4  5]\n",
            "  [ 6  7]]\n",
            "\n",
            " [[ 8  9]\n",
            "  [10 11]]\n",
            "\n",
            " [[12 13]\n",
            "  [14 15]]\n",
            "\n",
            " [[16 17]\n",
            "  [18 19]]\n",
            "\n",
            " [[20 21]\n",
            "  [22 23]]]\n",
            "[ 0  1  2  3  4  5  6  7  8  9 10 11 12 13 14 15 16 17 18 19 20 21 22 23]\n",
            "[[[ 0  1]\n",
            "  [ 2  3]]\n",
            "\n",
            " [[ 4  5]\n",
            "  [ 6  7]]\n",
            "\n",
            " [[ 8  9]\n",
            "  [10 11]]\n",
            "\n",
            " [[12 13]\n",
            "  [14 15]]\n",
            "\n",
            " [[16 17]\n",
            "  [18 19]]\n",
            "\n",
            " [[20 21]\n",
            "  [22 23]]]\n",
            "[ 0  1  2  3  4  5  6  7  8  9 10 11 12 13 14 15 16 17 18 19 20 21 22 23]\n"
          ]
        }
      ]
    },
    {
      "cell_type": "code",
      "source": [
        "# 모양 변경 및 크기 조정\n",
        "import numpy as np\n",
        "\n",
        "# Reshaping\n",
        "a = np.arange(6) # [0,1,2,3,4,5]\n",
        "reshaped = a.reshape(2,3)\n",
        "print(\"Reshaped Array:\\n\", reshaped)\n",
        "\n",
        "# Resizing\n",
        "resized = np.resize(a, (3,2))\n",
        "print(\"Resized Array:\\n\", resized)"
      ],
      "metadata": {
        "colab": {
          "base_uri": "https://localhost:8080/"
        },
        "id": "fVPymZyc16Tj",
        "outputId": "0da67133-29db-49ff-f73c-3bc525cc7aa5"
      },
      "execution_count": null,
      "outputs": [
        {
          "output_type": "stream",
          "name": "stdout",
          "text": [
            "Reshaped Array:\n",
            " [[0 1 2]\n",
            " [3 4 5]]\n",
            "Resized Array:\n",
            " [[0 1]\n",
            " [2 3]\n",
            " [4 5]]\n"
          ]
        }
      ]
    },
    {
      "cell_type": "code",
      "source": [
        "a = np.arange(6)\n",
        "reshaped = a.reshape(2,3)\n",
        "# Concatenating\n",
        "a = np.array([[1,2],[3,4]])\n",
        "b = np.array([[5,6]])\n",
        "concatenated = np.concatenate((a,b), axis=0)\n",
        "print(\"Concatenated Array:\\n\", concatenated)\n",
        "\n",
        "# Stacking\n",
        "stacked = np.vstack((a,b))\n",
        "print(\"Stacked Array:\\n\", stacked)\n",
        "\n",
        "# Splitting : 배열을 여러 하위 배열로 나눈다.\n",
        "split1, split2 = np.split(reshaped,2)\n",
        "print(\"Split Arrays:\\n\", split1, \"\\n\", split2)"
      ],
      "metadata": {
        "colab": {
          "base_uri": "https://localhost:8080/"
        },
        "id": "jdmFPgnz553c",
        "outputId": "368d7341-908c-4b0f-a564-5ff5a55c83e3"
      },
      "execution_count": null,
      "outputs": [
        {
          "output_type": "stream",
          "name": "stdout",
          "text": [
            "Concatenated Array:\n",
            " [[1 2]\n",
            " [3 4]\n",
            " [5 6]]\n",
            "Stacked Array:\n",
            " [[1 2]\n",
            " [3 4]\n",
            " [5 6]]\n",
            "Split Arrays:\n",
            " [[0 1 2]] \n",
            " [[3 4 5]]\n"
          ]
        }
      ]
    },
    {
      "cell_type": "code",
      "source": [
        "array1 = np.arange(30)\n",
        "array3d = array1.reshape(3,2,5)\n",
        "print(array3d, '\\n', type(array3d),'\\n')\n",
        "li = array3d.tolist()\n",
        "print(li,'\\n',type(li))"
      ],
      "metadata": {
        "colab": {
          "base_uri": "https://localhost:8080/"
        },
        "id": "hVIEuvJn8K2k",
        "outputId": "30d333b8-d385-4349-97a7-2be9665125da"
      },
      "execution_count": null,
      "outputs": [
        {
          "output_type": "stream",
          "name": "stdout",
          "text": [
            "[[[ 0  1  2  3  4]\n",
            "  [ 5  6  7  8  9]]\n",
            "\n",
            " [[10 11 12 13 14]\n",
            "  [15 16 17 18 19]]\n",
            "\n",
            " [[20 21 22 23 24]\n",
            "  [25 26 27 28 29]]] \n",
            " <class 'numpy.ndarray'> \n",
            "\n",
            "[[[0, 1, 2, 3, 4], [5, 6, 7, 8, 9]], [[10, 11, 12, 13, 14], [15, 16, 17, 18, 19]], [[20, 21, 22, 23, 24], [25, 26, 27, 28, 29]]] \n",
            " <class 'list'>\n"
          ]
        }
      ]
    },
    {
      "cell_type": "markdown",
      "source": [
        "##### Q5_0111. 1차원 배열을 생성해서 2차원 배열로 변환한 후 2차원 배열을 리스트로 타입 변경하세요.\n",
        "- 2차원 배열을 리스트로 타입 변경하세요.\n",
        "- 리스트를 다시 배열로 변경하세요"
      ],
      "metadata": {
        "id": "71erTcb58dUX"
      }
    },
    {
      "cell_type": "code",
      "source": [
        "# 1차원 배열 생성\n",
        "array5 = np.arange(10)\n",
        "# 2차원 배열로 변환\n",
        "array5_d2 = array5.reshape(2,5)\n",
        "print(array5_d2, '\\n', type(array5_d2),'\\n')\n",
        "# 배열을 리스트로 변경\n",
        "li5_d2 = array5_d2.tolist()\n",
        "print(li5_d2,'\\n', type(li5_d2),'\\n')\n",
        "# 리스트를 배열로 변경\n",
        "li_to_array = np.array(li5_d2)\n",
        "print(li_to_array, '\\n', type(li_to_array))"
      ],
      "metadata": {
        "colab": {
          "base_uri": "https://localhost:8080/"
        },
        "id": "4ZeawyJU8jtq",
        "outputId": "554da94a-ea8a-4b5e-9bfd-e83e739291a8"
      },
      "execution_count": null,
      "outputs": [
        {
          "output_type": "stream",
          "name": "stdout",
          "text": [
            "[[0 1 2 3 4]\n",
            " [5 6 7 8 9]] \n",
            " <class 'numpy.ndarray'> \n",
            "\n",
            "[[0, 1, 2, 3, 4], [5, 6, 7, 8, 9]] \n",
            " <class 'list'> \n",
            "\n",
            "[[0 1 2 3 4]\n",
            " [5 6 7 8 9]] \n",
            " <class 'numpy.ndarray'>\n"
          ]
        }
      ]
    },
    {
      "cell_type": "markdown",
      "source": [
        "##### Q6_0111. 두 배열[[1,2],[3,4]]와 [[5,6],[7,8]]를 가로로 연결하기"
      ],
      "metadata": {
        "id": "BChkVVqbIrdI"
      }
    },
    {
      "cell_type": "code",
      "source": [
        "array6_1 = np.array([[1,2],[3,4]])\n",
        "array6_2 = np.array([[5,6],[7,8]])\n",
        "array6_concat = np.concatenate((array6_1, array6_2), axis=1)\n",
        "array6_concat"
      ],
      "metadata": {
        "colab": {
          "base_uri": "https://localhost:8080/"
        },
        "id": "WBbb_adLJOmj",
        "outputId": "5cd2fcb5-562d-49d0-f014-607cfd987890"
      },
      "execution_count": null,
      "outputs": [
        {
          "output_type": "execute_result",
          "data": {
            "text/plain": [
              "array([[1, 2, 5, 6],\n",
              "       [3, 4, 7, 8]])"
            ]
          },
          "metadata": {},
          "execution_count": 118
        }
      ]
    },
    {
      "cell_type": "markdown",
      "source": [
        "##### Q7_0111. 두 배열 [[1,2,3]]와 [[4,5,6]]을 세로로 연결하기"
      ],
      "metadata": {
        "id": "CaOMnZGDIrU2"
      }
    },
    {
      "cell_type": "code",
      "source": [
        "array7_1 = np.array([[1,2,3]])\n",
        "array7_2 = np.array([[4,5,6]])\n",
        "array7_concat = np.concatenate((array7_1, array7_2), axis=0)\n",
        "array7_concat"
      ],
      "metadata": {
        "colab": {
          "base_uri": "https://localhost:8080/"
        },
        "id": "_-PtqTfUJwfj",
        "outputId": "58b93d99-4238-4c18-9e70-aabd87a706f7"
      },
      "execution_count": null,
      "outputs": [
        {
          "output_type": "execute_result",
          "data": {
            "text/plain": [
              "array([[1, 2, 3],\n",
              "       [4, 5, 6]])"
            ]
          },
          "metadata": {},
          "execution_count": 119
        }
      ]
    },
    {
      "cell_type": "markdown",
      "source": [
        "##### Q8_0111. 배열 [0,1,2,3,4,5,6,7,8]를 세 부분으로 나누기"
      ],
      "metadata": {
        "id": "PmcBQLv6IrGh"
      }
    },
    {
      "cell_type": "code",
      "source": [
        "array8 = np.array([0,1,2,3,4,5,6,7,8])\n",
        "split1,split2,split3 = np.split(array8,3)\n",
        "print(\"Split Arrays:\\n\",split1,\"\\n\",split2,\"\\n\",split3)"
      ],
      "metadata": {
        "colab": {
          "base_uri": "https://localhost:8080/"
        },
        "id": "04eR6sw6KAW5",
        "outputId": "7a99503d-e1c2-47c5-8cc6-02b3afcf4b68"
      },
      "execution_count": null,
      "outputs": [
        {
          "output_type": "stream",
          "name": "stdout",
          "text": [
            "Split Arrays:\n",
            " [0 1 2] \n",
            " [3 4 5] \n",
            " [6 7 8]\n"
          ]
        }
      ]
    },
    {
      "cell_type": "markdown",
      "source": [
        "#### 기본 통계 연산"
      ],
      "metadata": {
        "id": "Quxx73-hec51"
      }
    },
    {
      "cell_type": "code",
      "source": [
        "# 기본 통계 연산\n",
        "\n",
        "import numpy as np\n",
        "\n",
        "# Creating an array\n",
        "data = np.array([1,2,3,4,5])\n",
        "\n",
        "# Mean\n",
        "print(\"Mean:\", np.mean(data))\n",
        "\n",
        "# Median\n",
        "print(\"Median\", np.median(data))\n",
        "\n",
        "# Standard Deviation\n",
        "print(\"Standard Deviation:\", np.std(data))"
      ],
      "metadata": {
        "colab": {
          "base_uri": "https://localhost:8080/"
        },
        "id": "07xCIC4t_E5F",
        "outputId": "f97efa8b-9b20-49d8-d947-616386d8f015"
      },
      "execution_count": null,
      "outputs": [
        {
          "output_type": "stream",
          "name": "stdout",
          "text": [
            "Mean: 3.0\n",
            "Median 3.0\n",
            "Standard Deviation: 1.4142135623730951\n"
          ]
        }
      ]
    },
    {
      "cell_type": "markdown",
      "source": [
        "#### NumPy 데이터타입"
      ],
      "metadata": {
        "id": "UA7F1G_XeoKV"
      }
    },
    {
      "cell_type": "code",
      "source": [
        "from PIL import Image\n",
        "import matplotlib.pyplot as plt\n",
        "\n",
        "# Replace 'image_name.jpg' with your image file's name\n",
        "image = Image.open('/content/drive/MyDrive/KITA_1026/m3_분석라이브러리/numpy/데이터형태.jpg')\n",
        "plt.imshow(image)\n",
        "plt.axis('off') # Turn off axis numbers\n",
        "plt.show()"
      ],
      "metadata": {
        "colab": {
          "base_uri": "https://localhost:8080/",
          "height": 350
        },
        "id": "TQspvZEoAWy8",
        "outputId": "3abfd492-76da-4067-cae9-2124bda331c8"
      },
      "execution_count": null,
      "outputs": [
        {
          "output_type": "display_data",
          "data": {
            "text/plain": [
              "<Figure size 640x480 with 1 Axes>"
            ],
            "image/png": "[encoded data removed]"
          },
          "metadata": {}
        }
      ]
    },
    {
      "cell_type": "code",
      "source": [
        "arr1 = np.array([1,2,3], dtype=np.float64)\n",
        "arr2 = np.array([1,2,3], dtype=np.int32)\n",
        "print(arr1.dtype)\n",
        "print(arr2.dtype)"
      ],
      "metadata": {
        "colab": {
          "base_uri": "https://localhost:8080/"
        },
        "id": "giy30DJJBKxk",
        "outputId": "76239949-549e-49f6-ff56-50e7fdfb338b"
      },
      "execution_count": null,
      "outputs": [
        {
          "output_type": "stream",
          "name": "stdout",
          "text": [
            "float64\n",
            "int32\n"
          ]
        }
      ]
    },
    {
      "cell_type": "code",
      "source": [
        "# 데이터 타입 변경\n",
        "arr = np.array([1,2,3,4,5])\n",
        "print(arr.dtype)\n",
        "float_arr = arr.astype(np.float64)\n",
        "print(float_arr.dtype)"
      ],
      "metadata": {
        "colab": {
          "base_uri": "https://localhost:8080/"
        },
        "id": "43TAruOrB19r",
        "outputId": "455c5a35-f32b-44e0-8e20-0327da6c94be"
      },
      "execution_count": null,
      "outputs": [
        {
          "output_type": "stream",
          "name": "stdout",
          "text": [
            "int64\n",
            "float64\n"
          ]
        }
      ]
    },
    {
      "cell_type": "code",
      "source": [
        "int_array = np.arange(10)\n",
        "calibers = np.array([.22, .270, .357, .380, .44, .50], dtype=np.float64)\n",
        "int_array = int_array.astype(calibers.dtype)\n",
        "print(int_array, int_array.dtype)\n",
        "int_array"
      ],
      "metadata": {
        "colab": {
          "base_uri": "https://localhost:8080/"
        },
        "id": "KesfSPe4Cyav",
        "outputId": "9aedf327-0f05-40ec-bb91-d5ffb482b313"
      },
      "execution_count": null,
      "outputs": [
        {
          "output_type": "stream",
          "name": "stdout",
          "text": [
            "[0. 1. 2. 3. 4. 5. 6. 7. 8. 9.] float64\n"
          ]
        },
        {
          "output_type": "execute_result",
          "data": {
            "text/plain": [
              "array([0., 1., 2., 3., 4., 5., 6., 7., 8., 9.])"
            ]
          },
          "metadata": {},
          "execution_count": 107
        }
      ]
    },
    {
      "cell_type": "code",
      "source": [
        "#Q. int_array의 dtype을 정수로 변경하세요.\n",
        "int_array = int_array.astype(np.int32)\n",
        "print(int_array, int_array.dtype)"
      ],
      "metadata": {
        "colab": {
          "base_uri": "https://localhost:8080/"
        },
        "id": "zJbk78ArD4hX",
        "outputId": "95037b5f-4e42-4202-cfe3-402d691a99e7"
      },
      "execution_count": null,
      "outputs": [
        {
          "output_type": "stream",
          "name": "stdout",
          "text": [
            "[0 1 2 3 4 5 6 7 8 9] int32\n"
          ]
        }
      ]
    },
    {
      "cell_type": "markdown",
      "source": [
        "#### int32 와 int64의 차이 : 정수의 범위와 메모리 사용량\n",
        "1. int32\n",
        "- 32비트 정수를 저장\n",
        "- 범위: -2,147,483,648에서 2,147,483,647까지의 정수를 표현\n",
        "2. int64\n",
        "- 64비트 정수를 저장\n",
        "- 범위: -9,223,372,036,854,775,808에서 9,223,372,036,854,775,807까지의 정수를 표현"
      ],
      "metadata": {
        "id": "KlKY0_h0IhjZ"
      }
    },
    {
      "cell_type": "code",
      "source": [
        "# zeros 함수 : shape과 dtype을 입력받아 0으로 초기화된 배열을 만들어준다.\n",
        "# empty 함수 : shape과 dtype을 입력받아 초기화되지 않은 배열을 만들어준다.\n",
        "# empty 함수를 실행할 때마다 값이 다른 것을 확인할 수 있다. 이는 해당 메모리 영역에 어떤 데이터가 남아있었던지\n",
        "# 상관없이 그대로 영역의 주소만 알려줄 뿐, 초기화는 사용자에게 맡기기 때문임\n",
        "print(np.empty(shape=(10,),dtype=np.int8))\n",
        "print(np.zeros(shape=(10,),dtype=np.int8))"
      ],
      "metadata": {
        "colab": {
          "base_uri": "https://localhost:8080/"
        },
        "id": "vlSNh9ZYIhLB",
        "outputId": "88eecba8-903a-4044-d99e-9f6eab4937b1"
      },
      "execution_count": null,
      "outputs": [
        {
          "output_type": "stream",
          "name": "stdout",
          "text": [
            "[0 0 0 0 0 0 0 0 0 0]\n",
            "[0 0 0 0 0 0 0 0 0 0]\n"
          ]
        }
      ]
    },
    {
      "cell_type": "code",
      "source": [
        "# 배열의 연산\n",
        "import numpy as np\n",
        "arr = np.array([[1.,2.,3.],[4.,5.,6.]])\n",
        "print(arr,arr.dtype)"
      ],
      "metadata": {
        "colab": {
          "base_uri": "https://localhost:8080/"
        },
        "id": "OAf3ma5-OE6i",
        "outputId": "1bd1f309-9e0f-4b15-8e69-03272f04cba1"
      },
      "execution_count": null,
      "outputs": [
        {
          "output_type": "stream",
          "name": "stdout",
          "text": [
            "[[1. 2. 3.]\n",
            " [4. 5. 6.]] float64\n"
          ]
        }
      ]
    },
    {
      "cell_type": "code",
      "source": [
        "arr2 = np.array([[0.,4.,1.],[7.,2.,12.]])\n",
        "arr2"
      ],
      "metadata": {
        "colab": {
          "base_uri": "https://localhost:8080/"
        },
        "id": "FiQ-ccMeORBn",
        "outputId": "61cf2cdf-8f39-4c84-ed24-b68f5f193c9f"
      },
      "execution_count": null,
      "outputs": [
        {
          "output_type": "execute_result",
          "data": {
            "text/plain": [
              "array([[ 0.,  4.,  1.],\n",
              "       [ 7.,  2., 12.]])"
            ]
          },
          "metadata": {},
          "execution_count": 127
        }
      ]
    },
    {
      "cell_type": "code",
      "source": [
        "arr2 > arr"
      ],
      "metadata": {
        "colab": {
          "base_uri": "https://localhost:8080/"
        },
        "id": "BobtmDvVOkXr",
        "outputId": "5fd6a7e5-2f35-49c1-a1ec-35a987056286"
      },
      "execution_count": null,
      "outputs": [
        {
          "output_type": "execute_result",
          "data": {
            "text/plain": [
              "array([[False,  True, False],\n",
              "       [ True, False,  True]])"
            ]
          },
          "metadata": {},
          "execution_count": 128
        }
      ]
    },
    {
      "cell_type": "markdown",
      "source": [
        "#### 인덱싱, 슬라이싱"
      ],
      "metadata": {
        "id": "sHdDv9WpOufB"
      }
    },
    {
      "cell_type": "code",
      "source": [
        "arr2d = np.array([[1,2,3],[4,5,6],[7,8,9]])\n",
        "arr2d"
      ],
      "metadata": {
        "colab": {
          "base_uri": "https://localhost:8080/"
        },
        "id": "nI3IWY6pOwBK",
        "outputId": "8e56c101-fc9e-4a6c-b432-b816bf7a27a5"
      },
      "execution_count": null,
      "outputs": [
        {
          "output_type": "execute_result",
          "data": {
            "text/plain": [
              "array([[1, 2, 3],\n",
              "       [4, 5, 6],\n",
              "       [7, 8, 9]])"
            ]
          },
          "metadata": {},
          "execution_count": 129
        }
      ]
    },
    {
      "cell_type": "code",
      "source": [
        "arr2d[2]"
      ],
      "metadata": {
        "colab": {
          "base_uri": "https://localhost:8080/"
        },
        "id": "D2oRSVB5POEX",
        "outputId": "e987b137-e6c2-40de-bbe2-24dd821056e4"
      },
      "execution_count": null,
      "outputs": [
        {
          "output_type": "execute_result",
          "data": {
            "text/plain": [
              "array([7, 8, 9])"
            ]
          },
          "metadata": {},
          "execution_count": 130
        }
      ]
    },
    {
      "cell_type": "code",
      "source": [
        "arr2d[0][2]"
      ],
      "metadata": {
        "colab": {
          "base_uri": "https://localhost:8080/"
        },
        "id": "S7WDH_1sPQjk",
        "outputId": "ba71fcc2-b185-4030-fb23-09693d27b742"
      },
      "execution_count": null,
      "outputs": [
        {
          "output_type": "execute_result",
          "data": {
            "text/plain": [
              "3"
            ]
          },
          "metadata": {},
          "execution_count": 132
        }
      ]
    },
    {
      "cell_type": "code",
      "source": [
        "arr2d[0,2]"
      ],
      "metadata": {
        "colab": {
          "base_uri": "https://localhost:8080/"
        },
        "id": "sO8SWxOQPWR4",
        "outputId": "1729e193-2779-4213-fdd4-5fe5226f922a"
      },
      "execution_count": null,
      "outputs": [
        {
          "output_type": "execute_result",
          "data": {
            "text/plain": [
              "3"
            ]
          },
          "metadata": {},
          "execution_count": 133
        }
      ]
    },
    {
      "cell_type": "code",
      "source": [
        "arr2d = np.arange(20).reshape(5,4)\n",
        "arr2d"
      ],
      "metadata": {
        "colab": {
          "base_uri": "https://localhost:8080/"
        },
        "id": "ryUubqgiPbNA",
        "outputId": "7cf63627-b09d-4d99-cdee-6e47d9e0359b"
      },
      "execution_count": null,
      "outputs": [
        {
          "output_type": "execute_result",
          "data": {
            "text/plain": [
              "array([[ 0,  1,  2,  3],\n",
              "       [ 4,  5,  6,  7],\n",
              "       [ 8,  9, 10, 11],\n",
              "       [12, 13, 14, 15],\n",
              "       [16, 17, 18, 19]])"
            ]
          },
          "metadata": {},
          "execution_count": 134
        }
      ]
    },
    {
      "cell_type": "code",
      "source": [
        "# 배열의 부분집합\n",
        "arr2d[:2,1:]"
      ],
      "metadata": {
        "colab": {
          "base_uri": "https://localhost:8080/"
        },
        "id": "ZmtNHw6tP2Mu",
        "outputId": "e3472aeb-b6a0-4585-85e9-1fb80a6bbfa4"
      },
      "execution_count": null,
      "outputs": [
        {
          "output_type": "execute_result",
          "data": {
            "text/plain": [
              "array([[1, 2, 3],\n",
              "       [5, 6, 7]])"
            ]
          },
          "metadata": {},
          "execution_count": 135
        }
      ]
    },
    {
      "cell_type": "code",
      "source": [
        "array2d = np.arange(1,10).reshape(3,3)\n",
        "array2d"
      ],
      "metadata": {
        "colab": {
          "base_uri": "https://localhost:8080/"
        },
        "id": "Cpz9s7FXRPSW",
        "outputId": "73dc0757-cb65-454f-e011-499d35afcb89"
      },
      "execution_count": null,
      "outputs": [
        {
          "output_type": "execute_result",
          "data": {
            "text/plain": [
              "array([[1, 2, 3],\n",
              "       [4, 5, 6],\n",
              "       [7, 8, 9]])"
            ]
          },
          "metadata": {},
          "execution_count": 136
        }
      ]
    },
    {
      "cell_type": "markdown",
      "source": [
        "##### Q9_0111. array2d에서 슬라이싱을 사용해서 아래와 같이 출력하세요.\n",
        "[[1 2]\n",
        "[4 5]]\n",
        "\n",
        "(2가지 방법)\n",
        "[[4 5 6]\n",
        "[7 8 9]]\n",
        "\n",
        "[[1 2 3]\n",
        "[4 5 6]\n",
        "[7 8 9]]\n",
        "\n",
        "[[2 3]\n",
        "[5 6]]\n",
        "\n",
        "[1 4]"
      ],
      "metadata": {
        "id": "drDKF7w7Q9ba"
      }
    },
    {
      "cell_type": "code",
      "source": [
        "# 1\n",
        "print(array2d[:2,:2])\n",
        "# 2\n",
        "print(array2d[1:])\n",
        "print(array2d[1:,:])\n",
        "# 3\n",
        "print(array2d[:])\n",
        "# 4\n",
        "print(array2d[:2,1:])\n",
        "# 5\n",
        "print(array2d[:2,0])"
      ],
      "metadata": {
        "colab": {
          "base_uri": "https://localhost:8080/"
        },
        "id": "PyHA3Gr_Q_ra",
        "outputId": "96a244be-1fb0-4996-a206-087a1f03e719"
      },
      "execution_count": null,
      "outputs": [
        {
          "output_type": "stream",
          "name": "stdout",
          "text": [
            "[[1 2]\n",
            " [4 5]]\n",
            "[[4 5 6]\n",
            " [7 8 9]]\n",
            "[[4 5 6]\n",
            " [7 8 9]]\n",
            "[[1 2 3]\n",
            " [4 5 6]\n",
            " [7 8 9]]\n",
            "[[2 3]\n",
            " [5 6]]\n",
            "[1 4]\n"
          ]
        }
      ]
    },
    {
      "cell_type": "code",
      "source": [
        "# Boolean indexing\n",
        "array1d = np.arange(1,10)\n",
        "print(array1d)\n",
        "array3 = array1d[array1d > 5]\n",
        "print(array3)\n",
        "print(array1d > 5)"
      ],
      "metadata": {
        "colab": {
          "base_uri": "https://localhost:8080/"
        },
        "id": "qVxbRAWXU2Iq",
        "outputId": "c1b8e0cb-4513-468b-86b0-f9047de742ab"
      },
      "execution_count": null,
      "outputs": [
        {
          "output_type": "stream",
          "name": "stdout",
          "text": [
            "[1 2 3 4 5 6 7 8 9]\n",
            "[6 7 8 9]\n",
            "[False False False False False  True  True  True  True]\n"
          ]
        }
      ]
    },
    {
      "cell_type": "code",
      "source": [
        "# Q. array1d에서 일반 인덱스를 이용, [6,7,8,9]를 출력하세요."
      ],
      "metadata": {
        "id": "uYlXKlEPV1aW"
      },
      "execution_count": null,
      "outputs": []
    },
    {
      "cell_type": "code",
      "source": [
        "# A.\n",
        "indexes = np.array([5,6,7,8])\n",
        "array_e2 = array1d[indexes]\n",
        "# array_e2 = array1d[5:]\n",
        "print(array_e2)"
      ],
      "metadata": {
        "colab": {
          "base_uri": "https://localhost:8080/"
        },
        "id": "no3NVPCSV9V5",
        "outputId": "c46a43fc-6861-4ee5-e51b-8b1f79bb0dd4"
      },
      "execution_count": null,
      "outputs": [
        {
          "output_type": "stream",
          "name": "stdout",
          "text": [
            "[6 7 8 9]\n"
          ]
        }
      ]
    },
    {
      "cell_type": "markdown",
      "source": [
        "##### Q10_0111. 1 ~ 14까지 ndarray를 만들어 array_e로 저장하고 (array_e / 2) > 5를 만족하는 값을 불린 인덱스로 출력하세요."
      ],
      "metadata": {
        "id": "2svXgJl5ftwg"
      }
    },
    {
      "cell_type": "code",
      "source": [
        "import numpy as np\n",
        "array_e = np.arange(1,15)\n",
        "array_e\n",
        "new_array_e = array_e[(array_e/2)>5]\n",
        "print(new_array_e)"
      ],
      "metadata": {
        "colab": {
          "base_uri": "https://localhost:8080/"
        },
        "id": "UaR5JUlKWZ5I",
        "outputId": "a5dd6db0-1104-4c7e-ead6-496c346b5713"
      },
      "execution_count": null,
      "outputs": [
        {
          "output_type": "stream",
          "name": "stdout",
          "text": [
            "[11 12 13 14]\n"
          ]
        }
      ]
    },
    {
      "cell_type": "markdown",
      "source": [
        "##### Q11_0111. 1 ~ 100까지 정수에서 5의 배수이면서 2의 배수인 것만을 출력(for문과 배열 두가지 방식)"
      ],
      "metadata": {
        "id": "jqdfyyalfx01"
      }
    },
    {
      "cell_type": "code",
      "source": [
        "for i in range(1,101):\n",
        "  if i % 10 == 0:\n",
        "    print(i)"
      ],
      "metadata": {
        "colab": {
          "base_uri": "https://localhost:8080/"
        },
        "id": "iCcs-807Xc3e",
        "outputId": "f2dd58b4-8d26-4d8d-a1d8-33cc7340bb8f"
      },
      "execution_count": null,
      "outputs": [
        {
          "output_type": "stream",
          "name": "stdout",
          "text": [
            "10\n",
            "20\n",
            "30\n",
            "40\n",
            "50\n",
            "60\n",
            "70\n",
            "80\n",
            "90\n",
            "100\n"
          ]
        }
      ]
    },
    {
      "cell_type": "code",
      "source": [
        "array11 = np.arange(1,101)\n",
        "print(array11[array11 % 10 == 0])"
      ],
      "metadata": {
        "colab": {
          "base_uri": "https://localhost:8080/"
        },
        "id": "cC0u4fDxY8wq",
        "outputId": "fde54d95-414a-4bb8-8ff8-3272d0dde90c"
      },
      "execution_count": null,
      "outputs": [
        {
          "output_type": "stream",
          "name": "stdout",
          "text": [
            "[ 10  20  30  40  50  60  70  80  90 100]\n"
          ]
        }
      ]
    },
    {
      "cell_type": "markdown",
      "source": [
        "##### Q12_0111. 표준정규분포로 구성된 5행 5열 다차원 배열을 생성하고 함수를 이용하여 평균과 표준편차를 구하세요."
      ],
      "metadata": {
        "id": "muzROEc2f5CF"
      }
    },
    {
      "cell_type": "code",
      "source": [
        "array12 = np.random.randn(5,5)\n",
        "print(array12)\n",
        "print(\"평균:\",np.mean(array12))\n",
        "print(\"표준편차:\",np.std(array12))"
      ],
      "metadata": {
        "colab": {
          "base_uri": "https://localhost:8080/"
        },
        "id": "50IeAnvqZj4q",
        "outputId": "7f6fa246-a694-4a84-aa40-7f03787b0abe"
      },
      "execution_count": null,
      "outputs": [
        {
          "output_type": "stream",
          "name": "stdout",
          "text": [
            "[[ 1.27419754  2.06587674 -0.08212835  1.11976757  0.14289351]\n",
            " [ 1.33462084  0.53017025 -1.07007451 -1.12765077  0.39732781]\n",
            " [-2.07790303 -0.91514353  0.6666529   0.1223121   0.19974727]\n",
            " [ 0.80264228 -1.56876251 -0.13652106 -0.6728682   0.39274777]\n",
            " [ 0.36685044  0.76054775 -0.30198006 -0.18793073  1.21438274]]\n",
            "평균: 0.12999098959380856\n",
            "표준편차: 0.9609669797552582\n"
          ]
        }
      ]
    },
    {
      "cell_type": "markdown",
      "source": [
        "### 20240112"
      ],
      "metadata": {
        "id": "FH5WtOQHMT24"
      }
    },
    {
      "cell_type": "code",
      "source": [
        "# 현재 사용하고 있는 numpy의 버전을 출력하세요.\n",
        "print(np.__version__)"
      ],
      "metadata": {
        "id": "sL_U_epjcvKV",
        "colab": {
          "base_uri": "https://localhost:8080/"
        },
        "outputId": "c1444680-e65d-4091-fcb1-5468bbef6320"
      },
      "execution_count": null,
      "outputs": [
        {
          "output_type": "stream",
          "name": "stdout",
          "text": [
            "1.23.5\n"
          ]
        }
      ]
    },
    {
      "cell_type": "code",
      "source": [
        "# 인덱싱을 이용하여 아래 배열을 내림차순으로 정렬하세요.\n",
        "[0,1,2,3,4,5,6,7,8,9]"
      ],
      "metadata": {
        "colab": {
          "base_uri": "https://localhost:8080/"
        },
        "id": "iW77i6VRMYAJ",
        "outputId": "87fe4e6f-2d7d-4833-b8ba-dabbe5265c24"
      },
      "execution_count": null,
      "outputs": [
        {
          "output_type": "execute_result",
          "data": {
            "text/plain": [
              "[0, 1, 2, 3, 4, 5, 6, 7, 8, 9]"
            ]
          },
          "metadata": {},
          "execution_count": 6
        }
      ]
    },
    {
      "cell_type": "code",
      "source": [
        "n = np.arange(10)\n",
        "n[::-1]"
      ],
      "metadata": {
        "colab": {
          "base_uri": "https://localhost:8080/"
        },
        "id": "MmQgWP1MMeNR",
        "outputId": "f6053e20-902c-40c6-c6e4-de246835dcde"
      },
      "execution_count": null,
      "outputs": [
        {
          "output_type": "execute_result",
          "data": {
            "text/plain": [
              "array([9, 8, 7, 6, 5, 4, 3, 2, 1, 0])"
            ]
          },
          "metadata": {},
          "execution_count": 7
        }
      ]
    },
    {
      "cell_type": "code",
      "source": [
        "# [1,2,0,0,4,0]에서 zero가 아닌 인덱스를 배열 형태로 출력하세요."
      ],
      "metadata": {
        "id": "qgISEmwXMobt"
      },
      "execution_count": null,
      "outputs": []
    },
    {
      "cell_type": "code",
      "source": [
        "a = [1,2,0,0,4,0]\n",
        "nz = np.nonzero(a)\n",
        "print(nz)"
      ],
      "metadata": {
        "colab": {
          "base_uri": "https://localhost:8080/"
        },
        "id": "JObNBihOM6al",
        "outputId": "20ea19ef-2a3c-4d77-a536-ede9a382d9cb"
      },
      "execution_count": null,
      "outputs": [
        {
          "output_type": "stream",
          "name": "stdout",
          "text": [
            "(array([0, 1, 4]),)\n"
          ]
        }
      ]
    },
    {
      "cell_type": "code",
      "source": [
        "# Fancy Indexing\n",
        "arr = np.empty((8,4))\n",
        "print(arr,'\\n')\n",
        "for i in range(8):\n",
        "  arr[i] = i\n",
        "arr"
      ],
      "metadata": {
        "colab": {
          "base_uri": "https://localhost:8080/"
        },
        "id": "jifEEVR6NDNQ",
        "outputId": "86808023-59fa-473a-fefc-ad5a09a2300f"
      },
      "execution_count": null,
      "outputs": [
        {
          "output_type": "stream",
          "name": "stdout",
          "text": [
            "[[1.   0.   0.16 1.  ]\n",
            " [1.   0.   0.   1.  ]\n",
            " [1.   1.   0.   1.  ]\n",
            " [0.   1.   0.   1.  ]\n",
            " [0.   1.   1.   1.  ]\n",
            " [0.   0.   1.   1.  ]\n",
            " [1.   0.   1.   1.  ]\n",
            " [1.   0.   0.75 1.  ]] \n",
            "\n"
          ]
        },
        {
          "output_type": "execute_result",
          "data": {
            "text/plain": [
              "array([[0., 0., 0., 0.],\n",
              "       [1., 1., 1., 1.],\n",
              "       [2., 2., 2., 2.],\n",
              "       [3., 3., 3., 3.],\n",
              "       [4., 4., 4., 4.],\n",
              "       [5., 5., 5., 5.],\n",
              "       [6., 6., 6., 6.],\n",
              "       [7., 7., 7., 7.]])"
            ]
          },
          "metadata": {},
          "execution_count": 9
        }
      ]
    },
    {
      "cell_type": "code",
      "source": [
        "arr[[4,3,0,6]]"
      ],
      "metadata": {
        "colab": {
          "base_uri": "https://localhost:8080/"
        },
        "id": "OrFk5SbrN6zx",
        "outputId": "95d07776-dfbc-4586-fa5a-4f6935a0b81b"
      },
      "execution_count": null,
      "outputs": [
        {
          "output_type": "execute_result",
          "data": {
            "text/plain": [
              "array([[4., 4., 4., 4.],\n",
              "       [3., 3., 3., 3.],\n",
              "       [0., 0., 0., 0.],\n",
              "       [6., 6., 6., 6.]])"
            ]
          },
          "metadata": {},
          "execution_count": 10
        }
      ]
    },
    {
      "cell_type": "code",
      "source": [
        "arr[[-3,-5,-7]]"
      ],
      "metadata": {
        "colab": {
          "base_uri": "https://localhost:8080/"
        },
        "id": "am0ivhkwOE0W",
        "outputId": "5d6d342f-d078-4908-8540-f2811bbea728"
      },
      "execution_count": null,
      "outputs": [
        {
          "output_type": "execute_result",
          "data": {
            "text/plain": [
              "array([[5., 5., 5., 5.],\n",
              "       [3., 3., 3., 3.],\n",
              "       [1., 1., 1., 1.]])"
            ]
          },
          "metadata": {},
          "execution_count": 11
        }
      ]
    },
    {
      "cell_type": "code",
      "source": [
        "arr = np.arange(32).reshape((8,4))\n",
        "print(arr,'\\n')\n",
        "arr[[1,5,7,2],[0,3,1,2]] # 행, 열 인덱스"
      ],
      "metadata": {
        "colab": {
          "base_uri": "https://localhost:8080/"
        },
        "id": "S-jUfIKiOU-O",
        "outputId": "8636577d-5580-4c88-dca1-32c638c181f9"
      },
      "execution_count": null,
      "outputs": [
        {
          "output_type": "stream",
          "name": "stdout",
          "text": [
            "[[ 0  1  2  3]\n",
            " [ 4  5  6  7]\n",
            " [ 8  9 10 11]\n",
            " [12 13 14 15]\n",
            " [16 17 18 19]\n",
            " [20 21 22 23]\n",
            " [24 25 26 27]\n",
            " [28 29 30 31]] \n",
            "\n"
          ]
        },
        {
          "output_type": "execute_result",
          "data": {
            "text/plain": [
              "array([ 4, 23, 29, 10])"
            ]
          },
          "metadata": {},
          "execution_count": 15
        }
      ]
    },
    {
      "cell_type": "code",
      "source": [
        "print(arr[[1,5,7,2]],'\\n')"
      ],
      "metadata": {
        "colab": {
          "base_uri": "https://localhost:8080/"
        },
        "id": "XEy1m2KUO6y3",
        "outputId": "fb38e428-e7f2-41cd-c411-d894cf430395"
      },
      "execution_count": null,
      "outputs": [
        {
          "output_type": "stream",
          "name": "stdout",
          "text": [
            "[[ 4  5  6  7]\n",
            " [20 21 22 23]\n",
            " [28 29 30 31]\n",
            " [ 8  9 10 11]] \n",
            "\n"
          ]
        }
      ]
    },
    {
      "cell_type": "markdown",
      "source": [
        "##### Q1_0112. arr에서 [14, 21, 30]을 출력하세요."
      ],
      "metadata": {
        "id": "lRsHUQQ7PP0L"
      }
    },
    {
      "cell_type": "code",
      "source": [
        "arr[[3,5,7],[2,1,2]]"
      ],
      "metadata": {
        "colab": {
          "base_uri": "https://localhost:8080/"
        },
        "id": "1sX4Os26PLmq",
        "outputId": "8db50d15-df2d-41e3-8efa-f28204ecf193"
      },
      "execution_count": null,
      "outputs": [
        {
          "output_type": "execute_result",
          "data": {
            "text/plain": [
              "array([14, 21, 30])"
            ]
          },
          "metadata": {},
          "execution_count": 17
        }
      ]
    },
    {
      "cell_type": "markdown",
      "source": [
        "##### Q. 아래와 같이 출력하세요\n",
        "array([[4,7,5,6],\n",
        "       [20,23,21,22],\n",
        "       [28,31,29,30],\n",
        "       [8,11,9,10]])"
      ],
      "metadata": {
        "id": "tMbYwy5gSCHz"
      }
    },
    {
      "cell_type": "code",
      "source": [
        "print(arr[[1,5,7,2]],'\\n')"
      ],
      "metadata": {
        "colab": {
          "base_uri": "https://localhost:8080/"
        },
        "id": "C7J9DdEjQyLV",
        "outputId": "780e90f2-e1bb-4950-ac37-1945105a278e"
      },
      "execution_count": null,
      "outputs": [
        {
          "output_type": "stream",
          "name": "stdout",
          "text": [
            "[[ 4  5  6  7]\n",
            " [20 21 22 23]\n",
            " [28 29 30 31]\n",
            " [ 8  9 10 11]] \n",
            "\n"
          ]
        }
      ]
    },
    {
      "cell_type": "code",
      "source": [
        "print(arr[[1,5,7,2]][:,[0,3,1,2]])"
      ],
      "metadata": {
        "colab": {
          "base_uri": "https://localhost:8080/"
        },
        "id": "5SgzW3WtQ7Q6",
        "outputId": "8256c9c5-28ea-46bc-b4d9-2e59e48a0e96"
      },
      "execution_count": null,
      "outputs": [
        {
          "output_type": "stream",
          "name": "stdout",
          "text": [
            "[[ 4  7  5  6]\n",
            " [20 23 21 22]\n",
            " [28 31 29 30]\n",
            " [ 8 11  9 10]]\n"
          ]
        }
      ]
    },
    {
      "cell_type": "markdown",
      "source": [
        "#### view\n",
        "Numpy에서 '뷰(View)'는 원본 배열의 데이터에 대한 새로운 참조. 뷰를 사용하면 원본 데이터를 복사하지 않고도 배열의 일부에 접근하거나 수정할 수 있다.\n",
        "\n",
        "뷰의 주요 특징과 작동 방식:\n",
        "- 메모리 효율성: 뷰는 원본 배열의 데이터를 복사하지 않기 때문에, 메모리 사용량이 적다. 뷰는 원본 배열의 메모리에 대한 참조만을 가진다.\n",
        "- 원본 배열과의 연결: 뷰를 통해 이루어진 변경사항은 원본 배열에도 반영. 마찬가지로, 원본 배열을 변경하면 뷰에도 해당 변경사항이 반영.\n",
        "- 생성 방법: 뷰는 슬라이싱 연산을 통해 생성될 수 있다. 예를 들어, arr[1:5]와 같은 슬라이싱 연산은 arr 배열의 일부에 대한 뷰를 반환.\n",
        "- 데이터 타입: 뷰는 원본 배열과 동일한 데이터 타입을 가진다.\n",
        "- 변경 가능성: 뷰는 원본 데이터를 변경할 수 있는 '가변' 객체.\n",
        "- 독립성: 뷰는 원본 배열로부터 독립적인 객체. 즉, 뷰에 대한 연산이 원본 배열의 구조에 영향을 주지 않는다(예: 뷰의 모양을 변경해도 원본 배열의 모양은 그대로 유지된다).\n",
        "\n",
        "#### NumPy에서 'view'를 생성하는 방법\n",
        "1. 슬라이싱을 사용하여 뷰 생성:\n",
        "  - 배열의 일부를 슬라이싱하여 뷰를 생성\n",
        "  - 본 배열의 연속적인 부분에 대한 뷰를 만든다. 예를 들어, arr[1:5]와 같은 표현식은 arr의 일부를 참조하는 뷰를 생성\n",
        "  - 뷰(view) : 넘파이의 ndarray(이하 배열)을 슬라이싱할 때 파이썬의 리스트(list)와 다르게 원본의 참조가 생성\n",
        "2. view() 메소드를 사용하여 뷰 생성:\n",
        "  - view() 메소드는 원본 배열의 데이터를 그대로 유지하면서 새로운 뷰 객체를 생성\n",
        "  - 이 방법은 슬라이싱과 다르게 배열 전체에 대한 뷰를 생성하며, 데이터 타입(dtype)을 변경할 수도 있다. 예를 들어, arr.view(dtype=np.float32)는 같은 데이터를 float32 타입으로 해석하는 새로운 뷰를 생성\n",
        "  - view() 메소드를 사용한 뷰는 원본 배열 전체에 대한 새로운 뷰를 생성\n",
        "  - view() 메소드를 사용하면, 데이터 타입을 변경할 수 있는 추가적인 유연성이 있다. 이 방법은 원본 배열의 전체 데이터에 대한 다른 데이터 타입이나 다른 모양의 해석이 필요할 때 유용"
      ],
      "metadata": {
        "id": "O5AVBuOgR1Mv"
      }
    },
    {
      "cell_type": "code",
      "source": [
        "import numpy as np\n",
        "\n",
        "# 원본 배열 생성\n",
        "arr = np.array([1,2,3,4])\n",
        "\n",
        "# arr의 view 생성\n",
        "arr_view = arr.view()\n",
        "\n",
        "# view 수정\n",
        "arr_view[0] = 100\n",
        "\n",
        "# 원본 배열과 view 출력\n",
        "print(\"Original array:\", arr)\n",
        "print(\"View:\", arr_view)"
      ],
      "metadata": {
        "colab": {
          "base_uri": "https://localhost:8080/"
        },
        "id": "vnPzPpmIR5s4",
        "outputId": "fd5ad975-f952-4ee4-d151-f72d698f8e0d"
      },
      "execution_count": null,
      "outputs": [
        {
          "output_type": "stream",
          "name": "stdout",
          "text": [
            "Original array: [100   2   3   4]\n",
            "View: [100   2   3   4]\n"
          ]
        }
      ]
    },
    {
      "cell_type": "code",
      "source": [],
      "metadata": {
        "id": "qkK32k833YlU"
      },
      "execution_count": null,
      "outputs": []
    },
    {
      "cell_type": "code",
      "source": [
        "import numpy as np\n",
        "li = list(np.arange(1,11)) # list로 뷰 하면 또 다른 이야기. array만 적용\n",
        "print(li,'\\n')\n",
        "li_slice = li[:5]\n",
        "print(li_slice, '\\n')\n",
        "li_slice[1] = 0\n",
        "print(li_slice, '\\n')\n",
        "print(li)"
      ],
      "metadata": {
        "colab": {
          "base_uri": "https://localhost:8080/"
        },
        "id": "8hN4OQxeUfG1",
        "outputId": "105d3ee6-7efe-4889-f934-138e73784c89"
      },
      "execution_count": null,
      "outputs": [
        {
          "output_type": "stream",
          "name": "stdout",
          "text": [
            "[1, 2, 3, 4, 5, 6, 7, 8, 9, 10] \n",
            "\n",
            "[1, 2, 3, 4, 5] \n",
            "\n",
            "[1, 0, 3, 4, 5] \n",
            "\n",
            "[1, 2, 3, 4, 5, 6, 7, 8, 9, 10]\n"
          ]
        }
      ]
    },
    {
      "cell_type": "code",
      "source": [
        "# 배열 전치와 축 바꾸기\n",
        "arr = np.arange(15).reshape(3,5)\n",
        "arr"
      ],
      "metadata": {
        "colab": {
          "base_uri": "https://localhost:8080/"
        },
        "id": "B92Enu68ZlVO",
        "outputId": "519260fd-9995-4188-9e55-b7012801204e"
      },
      "execution_count": null,
      "outputs": [
        {
          "output_type": "execute_result",
          "data": {
            "text/plain": [
              "array([[ 0,  1,  2,  3,  4],\n",
              "       [ 5,  6,  7,  8,  9],\n",
              "       [10, 11, 12, 13, 14]])"
            ]
          },
          "metadata": {},
          "execution_count": 30
        }
      ]
    },
    {
      "cell_type": "code",
      "source": [
        "arr.T"
      ],
      "metadata": {
        "colab": {
          "base_uri": "https://localhost:8080/"
        },
        "id": "V4i4CliXZ2-3",
        "outputId": "061ecfb2-caf1-4473-af64-8739e59ab74d"
      },
      "execution_count": null,
      "outputs": [
        {
          "output_type": "execute_result",
          "data": {
            "text/plain": [
              "array([[ 0,  5, 10],\n",
              "       [ 1,  6, 11],\n",
              "       [ 2,  7, 12],\n",
              "       [ 3,  8, 13],\n",
              "       [ 4,  9, 14]])"
            ]
          },
          "metadata": {},
          "execution_count": 31
        }
      ]
    },
    {
      "cell_type": "code",
      "source": [
        "np.transpose(arr)"
      ],
      "metadata": {
        "colab": {
          "base_uri": "https://localhost:8080/"
        },
        "id": "W0tKl4BnZ8x1",
        "outputId": "4488e3de-04a5-4ba0-8d36-ee54ec510bd6"
      },
      "execution_count": null,
      "outputs": [
        {
          "output_type": "execute_result",
          "data": {
            "text/plain": [
              "array([[ 0,  5, 10],\n",
              "       [ 1,  6, 11],\n",
              "       [ 2,  7, 12],\n",
              "       [ 3,  8, 13],\n",
              "       [ 4,  9, 14]])"
            ]
          },
          "metadata": {},
          "execution_count": 32
        }
      ]
    },
    {
      "cell_type": "markdown",
      "source": [
        "#### NumPy 배열의 축(Axes)과 형태(Shape)\n",
        "- 축(Axes): NumPy 배열에서 각 차원은 '축'이라고 불린다. 예를 들어, 2차원 배열에서 0번 축은 행을, 1번 축은 열을 나타낸다.\n",
        "- 형태(Shape): 배열의 '형태'는 각 차원의 크기를 튜플로 나타낸 것이다. 예를 들어, 2행 3열의 배열은 (2, 3)의 형태를 가진다.\n",
        "\n",
        "#### numpy.swapaxes\n",
        "- 기능: 두 축을 서로 바꾸는(교환하는) 함수\n",
        "- 사용법: np.swapaxes(arr, axis1, axis2)\n",
        "  - arr: 배열\n",
        "  - axis1, axis2: 서로 교환할 축의 번호\n",
        "- 예시: (2, 3, 4) 형태의 배열에서 축 0과 축 2를 교환하면, 결과 배열의 형태는 (4, 3, 2)가 됩니다.\n",
        "\n",
        "#### numpy.transpose\n",
        "- 기능: 축의 순서를 재배열하는 함수입니다.\n",
        "- 사용법: np.transpose(arr, axes)\n",
        "  - arr: 배열\n",
        "  - axes: 축의 새로운 순서를 나타내는 튜플\n",
        "- 예시: (2, 3, 4) 형태의 배열에 대해 np.transpose(arr, (1, 0, 2))를 사용하면, 결과 배열의 형태는 (3, 2, 4)가 된다.\n",
        "\n",
        "#### 비교\n",
        "- swapaxes: 두 축만을 대상으로 서로 위치를 교환.\n",
        "- transpose: 여러 축의 순서를 완전히 재배열할 수 있으며, swapaxes보다 더 일반적이고 유연."
      ],
      "metadata": {
        "id": "DUteWXl6ajvv"
      }
    },
    {
      "cell_type": "code",
      "source": [
        "a = np.arange(6).reshape(2,3) # 2 x 3 2d array\n",
        "print(a,a.shape,'\\n')\n",
        "y = np.swapaxes(a, 0, 1) # np.swapaxes, 0은 2차원(열), 1은 1차원(행) -> 3행 2열로 변환\n",
        "print(y,y.shape, '\\n')\n",
        "y = np.transpose(a) # np.transpose 전치\n",
        "print(y,y.shape,'\\n')\n",
        "y = a.T # 추가로 T attribute도 이용할 수 있다.\n",
        "print(y, y.shape)"
      ],
      "metadata": {
        "colab": {
          "base_uri": "https://localhost:8080/"
        },
        "id": "8_1-zsAYc5EN",
        "outputId": "b7540454-1127-4c15-da84-d3a605f35a29"
      },
      "execution_count": null,
      "outputs": [
        {
          "output_type": "stream",
          "name": "stdout",
          "text": [
            "[[0 1 2]\n",
            " [3 4 5]] (2, 3) \n",
            "\n",
            "[[0 3]\n",
            " [1 4]\n",
            " [2 5]] (3, 2) \n",
            "\n",
            "[[0 3]\n",
            " [1 4]\n",
            " [2 5]] (3, 2) \n",
            "\n",
            "[[0 3]\n",
            " [1 4]\n",
            " [2 5]] (3, 2)\n"
          ]
        }
      ]
    },
    {
      "cell_type": "code",
      "source": [
        "a = np.arange(6).reshape(1,2,3)\n",
        "print(a,a.shape,'\\n')"
      ],
      "metadata": {
        "colab": {
          "base_uri": "https://localhost:8080/"
        },
        "id": "NQ0g9YCLffkA",
        "outputId": "f4aa4193-2e36-4b71-b762-8b0d32e226ec"
      },
      "execution_count": null,
      "outputs": [
        {
          "output_type": "stream",
          "name": "stdout",
          "text": [
            "[[[0 1 2]\n",
            "  [3 4 5]]] (1, 2, 3) \n",
            "\n"
          ]
        }
      ]
    },
    {
      "cell_type": "code",
      "source": [
        "# 3차원과 2차원을 바꾸라는 의미. (1,2,3) -> (2,1,3)\n",
        "y = np.transpose(a,(1,0,2))\n",
        "print(y,y.shape,'\\n')\n",
        "y = np.swapaxes(a,0,1)\n",
        "print(y,y.shape)"
      ],
      "metadata": {
        "colab": {
          "base_uri": "https://localhost:8080/"
        },
        "id": "dLeC9aHle_f-",
        "outputId": "c5666301-c742-49a2-bc80-1061632b21b6"
      },
      "execution_count": null,
      "outputs": [
        {
          "output_type": "stream",
          "name": "stdout",
          "text": [
            "[[[0 1 2]]\n",
            "\n",
            " [[3 4 5]]] (2, 1, 3) \n",
            "\n",
            "[[[0 1 2]]\n",
            "\n",
            " [[3 4 5]]] (2, 1, 3)\n"
          ]
        }
      ]
    },
    {
      "cell_type": "markdown",
      "source": [
        "##### Q2_0112. a 배열에 대해서 3차원 자리에 2차원을 2차원 자리에 1차원을 1차원 자리에 3차원을 넣어서 변환하세요."
      ],
      "metadata": {
        "id": "IAtE9iPEfmx3"
      }
    },
    {
      "cell_type": "code",
      "source": [
        "# 맨앞이 3차원, 두번째 것이 2차원, 세번째 칸이 1차원\n",
        "# (0,1,2) -> (1,2,0)\n",
        "a = np.arange(6).reshape(1,2,3)\n",
        "print(a,a.shape,'\\n')\n",
        "a_t = np.transpose(a,(1,2,0))\n",
        "print(a_t,a_t.shape)"
      ],
      "metadata": {
        "colab": {
          "base_uri": "https://localhost:8080/"
        },
        "id": "c6yqBmC0ftuF",
        "outputId": "0061bbd3-b7f8-4fdc-e019-17137f32da31"
      },
      "execution_count": null,
      "outputs": [
        {
          "output_type": "stream",
          "name": "stdout",
          "text": [
            "[[[0 1 2]\n",
            "  [3 4 5]]] (1, 2, 3) \n",
            "\n",
            "[[[0]\n",
            "  [1]\n",
            "  [2]]\n",
            "\n",
            " [[3]\n",
            "  [4]\n",
            "  [5]]] (2, 3, 1)\n"
          ]
        }
      ]
    },
    {
      "cell_type": "markdown",
      "source": [
        "##### Q3_0112. 아래 배열에서 3차원과 2차원을 변경하여 출력하세요. (shape 확인)"
      ],
      "metadata": {
        "id": "P1G5xFFuhD-1"
      }
    },
    {
      "cell_type": "code",
      "source": [
        "arr = np.arange(24).reshape(2,3,4)\n",
        "print(arr,arr.shape,'\\n')\n",
        "arr_sw = np.swapaxes(arr,0,1)\n",
        "print(arr_sw,arr_sw.shape)"
      ],
      "metadata": {
        "colab": {
          "base_uri": "https://localhost:8080/"
        },
        "id": "_rYh4gHChDr3",
        "outputId": "0c240f81-56c5-48c4-bbcd-893410cc087f"
      },
      "execution_count": null,
      "outputs": [
        {
          "output_type": "stream",
          "name": "stdout",
          "text": [
            "[[[ 0  1  2  3]\n",
            "  [ 4  5  6  7]\n",
            "  [ 8  9 10 11]]\n",
            "\n",
            " [[12 13 14 15]\n",
            "  [16 17 18 19]\n",
            "  [20 21 22 23]]] (2, 3, 4) \n",
            "\n",
            "[[[ 0  1  2  3]\n",
            "  [12 13 14 15]]\n",
            "\n",
            " [[ 4  5  6  7]\n",
            "  [16 17 18 19]]\n",
            "\n",
            " [[ 8  9 10 11]\n",
            "  [20 21 22 23]]] (3, 2, 4)\n"
          ]
        }
      ]
    },
    {
      "cell_type": "markdown",
      "source": [
        "#### 배열 기본 연산 및 numpy 제공 함수"
      ],
      "metadata": {
        "id": "F5n1Pghg4y1e"
      }
    },
    {
      "cell_type": "code",
      "source": [
        "arr = np.arange(1,10).reshape(3,3)\n",
        "print(arr, '\\n')\n",
        "print(arr.cumsum(),'\\n') # 누계\n",
        "print(arr.cumsum(axis=0),'\\n') # 누계 행방향\n",
        "print(arr.prod(axis=1),'\\n') # 곱하기 열방향으로\n",
        "print(arr.cumprod(axis=1)) #  곱하기 누계 열방향으로"
      ],
      "metadata": {
        "colab": {
          "base_uri": "https://localhost:8080/"
        },
        "id": "Em88HAXGf3qP",
        "outputId": "1a8437db-5050-401e-c2bd-6caf303b1dce"
      },
      "execution_count": null,
      "outputs": [
        {
          "output_type": "stream",
          "name": "stdout",
          "text": [
            "[[1 2 3]\n",
            " [4 5 6]\n",
            " [7 8 9]] \n",
            "\n",
            "[ 1  3  6 10 15 21 28 36 45] \n",
            "\n",
            "[[ 1  2  3]\n",
            " [ 5  7  9]\n",
            " [12 15 18]] \n",
            "\n",
            "[  6 120 504] \n",
            "\n",
            "[[  1   2   6]\n",
            " [  4  20 120]\n",
            " [  7  56 504]]\n"
          ]
        }
      ]
    },
    {
      "cell_type": "code",
      "source": [
        "# 나머지 구하기를 구할 때 사용하는 함수\n",
        "Value = np.array([15,30,45])\n",
        "Value1 = np.array([2,7,9])\n",
        "print(np.mod(Value,Value1))\n",
        "print(np.remainder(Value,Value1))"
      ],
      "metadata": {
        "colab": {
          "base_uri": "https://localhost:8080/"
        },
        "id": "n1dWwpkM6HA4",
        "outputId": "246fe67d-5746-4086-b51d-feefbebcc7c8"
      },
      "execution_count": null,
      "outputs": [
        {
          "output_type": "stream",
          "name": "stdout",
          "text": [
            "[1 2 0]\n",
            "[1 2 0]\n"
          ]
        }
      ]
    },
    {
      "cell_type": "code",
      "source": [
        "# 각 수의 역수를 구해주는 함수 : 0.85의 역수는 1/0.85\n",
        "# 0을 역수를 취할 수 없기 때문에 divide by zero에 관련된 Warning 메시지를 표시\n",
        "Value = np.array([0.85,1.85,1,100]) # 기본 float 형태\n",
        "print(np.reciprocal(Value))"
      ],
      "metadata": {
        "colab": {
          "base_uri": "https://localhost:8080/"
        },
        "id": "P9DimMJu6f2I",
        "outputId": "cf911e57-6f81-40d6-cd54-ba3a00625933"
      },
      "execution_count": null,
      "outputs": [
        {
          "output_type": "stream",
          "name": "stdout",
          "text": [
            "[1.17647059 0.54054054 1.         0.01      ]\n"
          ]
        }
      ]
    },
    {
      "cell_type": "code",
      "source": [
        "# 승수의 결과 값을 표시해주는 함수\n",
        "Value = np.array([2,10,15])\n",
        "Value1 = np.array([1,2,3])\n",
        "\n",
        "print(np.power(Value,2))\n",
        "print('\\n')\n",
        "print(np.power(Value,Value1))"
      ],
      "metadata": {
        "colab": {
          "base_uri": "https://localhost:8080/"
        },
        "id": "fLyuHmmh7Ocz",
        "outputId": "cfe57edb-3f2f-4837-b89b-885892a85923"
      },
      "execution_count": null,
      "outputs": [
        {
          "output_type": "stream",
          "name": "stdout",
          "text": [
            "[  4 100 225]\n",
            "\n",
            "\n",
            "[   2  100 3375]\n"
          ]
        }
      ]
    },
    {
      "cell_type": "code",
      "source": [
        "arr = np.random.randn(10)\n",
        "arr"
      ],
      "metadata": {
        "colab": {
          "base_uri": "https://localhost:8080/"
        },
        "id": "BWXJgiPP7ok0",
        "outputId": "4d1cfe47-c3ea-42d4-d08e-9a93bc04facf"
      },
      "execution_count": null,
      "outputs": [
        {
          "output_type": "execute_result",
          "data": {
            "text/plain": [
              "array([-1.81864752,  0.08366697, -1.08339037,  1.02143213,  0.13834141,\n",
              "       -1.14908559,  0.58128635, -0.41374632,  1.34891626, -1.32687369])"
            ]
          },
          "metadata": {},
          "execution_count": 58
        }
      ]
    },
    {
      "cell_type": "code",
      "source": [
        "(arr>0).sum() # 양수의 원소의 개수"
      ],
      "metadata": {
        "colab": {
          "base_uri": "https://localhost:8080/"
        },
        "id": "bbE-OLVz8Cyy",
        "outputId": "df90ce10-dfc1-47e7-e087-7e0009cef0e4"
      },
      "execution_count": null,
      "outputs": [
        {
          "output_type": "execute_result",
          "data": {
            "text/plain": [
              "5"
            ]
          },
          "metadata": {},
          "execution_count": 59
        }
      ]
    },
    {
      "cell_type": "code",
      "source": [
        "# any 메서드 : 하나 이상의 값이 True인지 검사\n",
        "bools = np.array([False,False,True,True])\n",
        "bools.any()"
      ],
      "metadata": {
        "colab": {
          "base_uri": "https://localhost:8080/"
        },
        "id": "usivKqRJ8Tjx",
        "outputId": "f396b2df-259a-43f6-8cf9-e24479130a88"
      },
      "execution_count": null,
      "outputs": [
        {
          "output_type": "execute_result",
          "data": {
            "text/plain": [
              "True"
            ]
          },
          "metadata": {},
          "execution_count": 60
        }
      ]
    },
    {
      "cell_type": "code",
      "source": [
        "# all 메서드 : 모든 원소가 True인지 검사\n",
        "bools.all()"
      ],
      "metadata": {
        "colab": {
          "base_uri": "https://localhost:8080/"
        },
        "id": "WSaJ7UTV8lM4",
        "outputId": "40b3c3f1-b2eb-4404-978c-e1d3ef1ec661"
      },
      "execution_count": null,
      "outputs": [
        {
          "output_type": "execute_result",
          "data": {
            "text/plain": [
              "False"
            ]
          },
          "metadata": {},
          "execution_count": 61
        }
      ]
    },
    {
      "cell_type": "code",
      "source": [
        "# numpy.where 함수는 삼항식의 벡터화 버전\n",
        "arr = np.random.randn(4,4)\n",
        "print(arr)\n",
        "np.where(arr > 0, 1, -1)"
      ],
      "metadata": {
        "colab": {
          "base_uri": "https://localhost:8080/"
        },
        "id": "3pMnzWrr8ssw",
        "outputId": "2ce16d5a-c9be-4577-cede-432d5730285c"
      },
      "execution_count": null,
      "outputs": [
        {
          "output_type": "stream",
          "name": "stdout",
          "text": [
            "[[-2.54318882 -1.69945122  0.82372408 -1.34415847]\n",
            " [ 1.02869162 -0.30457627  1.20388013 -1.47285304]\n",
            " [-0.30692305 -0.09100017  0.26334434  1.76592133]\n",
            " [-1.37850312 -1.33161869  0.66605711  1.44539774]]\n"
          ]
        },
        {
          "output_type": "execute_result",
          "data": {
            "text/plain": [
              "array([[-1, -1,  1, -1],\n",
              "       [ 1, -1,  1, -1],\n",
              "       [-1, -1,  1,  1],\n",
              "       [-1, -1,  1,  1]])"
            ]
          },
          "metadata": {},
          "execution_count": 66
        }
      ]
    },
    {
      "cell_type": "markdown",
      "source": [
        "##### Q4.0112. arr의 모든 양수를 2로 바꿀 경우"
      ],
      "metadata": {
        "id": "Ryqsc1OI-toz"
      }
    },
    {
      "cell_type": "code",
      "source": [
        "np.where(arr > 0, 2, arr)"
      ],
      "metadata": {
        "colab": {
          "base_uri": "https://localhost:8080/"
        },
        "id": "yWRcmdrX9Aot",
        "outputId": "c11f5969-4b8b-4ec5-8834-111eabbec48f"
      },
      "execution_count": null,
      "outputs": [
        {
          "output_type": "execute_result",
          "data": {
            "text/plain": [
              "array([[-2.54318882, -1.69945122,  2.        , -1.34415847],\n",
              "       [ 2.        , -0.30457627,  2.        , -1.47285304],\n",
              "       [-0.30692305, -0.09100017,  2.        ,  2.        ],\n",
              "       [-1.37850312, -1.33161869,  2.        ,  2.        ]])"
            ]
          },
          "metadata": {},
          "execution_count": 72
        }
      ]
    },
    {
      "cell_type": "code",
      "source": [
        "# np.sort() : 복사본을 반환\n",
        "arr = np.random.randint(1,100,size=10)\n",
        "print(arr,'\\n')\n",
        "print(np.sort(arr),'\\n')\n",
        "print(arr) # 원본은 변경안됨"
      ],
      "metadata": {
        "colab": {
          "base_uri": "https://localhost:8080/"
        },
        "id": "nHAFwnIY-8ka",
        "outputId": "ae3bf4e9-3ee0-48c4-ae7a-8e9b564988f3"
      },
      "execution_count": null,
      "outputs": [
        {
          "output_type": "stream",
          "name": "stdout",
          "text": [
            "[38 30 87 10 83 84 99 96 17 68] \n",
            "\n",
            "[10 17 30 38 68 83 84 87 96 99] \n",
            "\n",
            "[38 30 87 10 83 84 99 96 17 68]\n"
          ]
        }
      ]
    },
    {
      "cell_type": "code",
      "source": [
        "sorted = np.sort(arr)\n",
        "print(sorted)"
      ],
      "metadata": {
        "colab": {
          "base_uri": "https://localhost:8080/"
        },
        "id": "tqqMzCIu_brW",
        "outputId": "042c242c-4ea8-40f1-ccc8-27a0c8424010"
      },
      "execution_count": null,
      "outputs": [
        {
          "output_type": "stream",
          "name": "stdout",
          "text": [
            "[10 17 30 38 68 83 84 87 96 99]\n"
          ]
        }
      ]
    },
    {
      "cell_type": "code",
      "source": [
        "# 행렬이 2차원 이상일 경우 axis 축 값 설정을 통해 로우 방향, 칼럼 방향으로 정렬 수행\n",
        "array2d = np.array([[8,12],\n",
        "                    [7,1]])\n",
        "sort_array2d_axis0 = np.sort(array2d,axis=0)\n",
        "print(sort_array2d_axis0,'\\n')\n",
        "sort_array2d_axis1 = np.sort(array2d,axis=1)\n",
        "print(sort_array2d_axis1)"
      ],
      "metadata": {
        "colab": {
          "base_uri": "https://localhost:8080/"
        },
        "id": "BGKkywTw_zbx",
        "outputId": "f85ef27c-5262-4108-8b13-44b64e9a037a"
      },
      "execution_count": null,
      "outputs": [
        {
          "output_type": "stream",
          "name": "stdout",
          "text": [
            "[[ 7  1]\n",
            " [ 8 12]] \n",
            "\n",
            "[[ 8 12]\n",
            " [ 1  7]]\n"
          ]
        }
      ]
    },
    {
      "cell_type": "code",
      "source": [
        "# ndarray.sort() : 원본 반영\n",
        "arr = np.random.randn(6)\n",
        "print(arr)\n",
        "arr.sort()\n",
        "arr"
      ],
      "metadata": {
        "colab": {
          "base_uri": "https://localhost:8080/"
        },
        "id": "FLUZ7T2SDOXy",
        "outputId": "0adf3f88-c813-416b-ee76-04568d0e7f7a"
      },
      "execution_count": null,
      "outputs": [
        {
          "output_type": "stream",
          "name": "stdout",
          "text": [
            "[-1.27342727 -1.44336819 -0.92924771  1.37270288  0.25932451  0.19898097]\n"
          ]
        },
        {
          "output_type": "execute_result",
          "data": {
            "text/plain": [
              "array([-1.44336819, -1.27342727, -0.92924771,  0.19898097,  0.25932451,\n",
              "        1.37270288])"
            ]
          },
          "metadata": {},
          "execution_count": 78
        }
      ]
    },
    {
      "cell_type": "markdown",
      "source": [
        "##### Q5_0112. arr = np.random.randn(6)에 대하여 arr.sort()를 행, 열 축으로 정렬하세요."
      ],
      "metadata": {
        "id": "9D0eoRhoKXAh"
      }
    },
    {
      "cell_type": "code",
      "source": [
        "arr = np.random.randn(6).reshape(2,3)\n",
        "print(arr)\n",
        "arr.sort(1)\n",
        "arr"
      ],
      "metadata": {
        "colab": {
          "base_uri": "https://localhost:8080/"
        },
        "id": "OtYphNYtKWXi",
        "outputId": "576bbd2a-0ec6-4f94-d1a6-05ef397bd4b2"
      },
      "execution_count": null,
      "outputs": [
        {
          "output_type": "stream",
          "name": "stdout",
          "text": [
            "[[ 0.96704564 -0.15939909  1.76257171]\n",
            " [-1.02374168  1.26196069  1.33462919]]\n"
          ]
        },
        {
          "output_type": "execute_result",
          "data": {
            "text/plain": [
              "array([[-0.15939909,  0.96704564,  1.76257171],\n",
              "       [-1.02374168,  1.26196069,  1.33462919]])"
            ]
          },
          "metadata": {},
          "execution_count": 40
        }
      ]
    },
    {
      "cell_type": "code",
      "source": [
        "arr.sort(0)\n",
        "arr"
      ],
      "metadata": {
        "colab": {
          "base_uri": "https://localhost:8080/"
        },
        "id": "MSbrV3L8YOt8",
        "outputId": "c8a9145b-5f55-488c-cae2-36698ed6a98e"
      },
      "execution_count": null,
      "outputs": [
        {
          "output_type": "execute_result",
          "data": {
            "text/plain": [
              "array([[-1.02374168,  0.96704564,  1.33462919],\n",
              "       [-0.15939909,  1.26196069,  1.76257171]])"
            ]
          },
          "metadata": {},
          "execution_count": 41
        }
      ]
    },
    {
      "cell_type": "markdown",
      "source": [
        "##### Q6_0112. 다음 배열에서 5% 분위수에 해당하는 요소값을 출력하세요.\n",
        "large_arr = np.random.randn(1000)"
      ],
      "metadata": {
        "id": "pPzSQridKs_5"
      }
    },
    {
      "cell_type": "code",
      "source": [
        "large_arr = np.random.randn(1000)"
      ],
      "metadata": {
        "id": "dGoI8wGTZLR2"
      },
      "execution_count": null,
      "outputs": []
    },
    {
      "cell_type": "code",
      "source": [
        "print(np.sort(large_arr)[int(0.05*len(large_arr))])"
      ],
      "metadata": {
        "colab": {
          "base_uri": "https://localhost:8080/"
        },
        "id": "I1w5bdTSK16Z",
        "outputId": "a3e65ea8-7c96-4cce-cde5-a1a45f4cde3f"
      },
      "execution_count": null,
      "outputs": [
        {
          "output_type": "stream",
          "name": "stdout",
          "text": [
            "-1.646815303053937\n"
          ]
        }
      ]
    },
    {
      "cell_type": "code",
      "source": [
        "large_arr.sort()\n",
        "percentile_5 = np.percentile(large_arr, 5)\n",
        "print(\"5% 분위수에 해당하는 값:\", percentile_5)"
      ],
      "metadata": {
        "colab": {
          "base_uri": "https://localhost:8080/"
        },
        "id": "C5obJHq2YzGt",
        "outputId": "16b3ab45-9d45-4bc6-e6fd-82d42ddc555b"
      },
      "execution_count": null,
      "outputs": [
        {
          "output_type": "stream",
          "name": "stdout",
          "text": [
            "5% 분위수에 해당하는 값: -1.6475301958311925\n"
          ]
        }
      ]
    },
    {
      "cell_type": "markdown",
      "source": [
        "#### NumPy에서 unique, intersect1d, union1d, in1d 함수들을 배열 간의 연산 및 원소 처리"
      ],
      "metadata": {
        "id": "b-YsfgA3D94u"
      }
    },
    {
      "cell_type": "code",
      "source": [
        "# 배열 x 내의 모든 고유한 원소를 찾아 정렬된 형태로 반환\n",
        "x = [1,2,3,4,4,4]\n",
        "unique_x = np.unique(x) # 결과: [1,2,3,4]\n",
        "unique_x"
      ],
      "metadata": {
        "colab": {
          "base_uri": "https://localhost:8080/"
        },
        "id": "f4Jr00liELMm",
        "outputId": "7db2614d-9e47-4e86-cefb-2028f15e1339"
      },
      "execution_count": null,
      "outputs": [
        {
          "output_type": "execute_result",
          "data": {
            "text/plain": [
              "array([1, 2, 3, 4])"
            ]
          },
          "metadata": {},
          "execution_count": 79
        }
      ]
    },
    {
      "cell_type": "code",
      "source": [
        "# 두 배열 x와 y간의 공통 원소를 찾아 정렬된 형태로 반환\n",
        "x = [1,2,3,4]\n",
        "y = [2,3,5,6]\n",
        "intersection = np.intersect1d(x,y) # 결과: [2,3]\n",
        "intersection"
      ],
      "metadata": {
        "colab": {
          "base_uri": "https://localhost:8080/"
        },
        "id": "4bFk5TUUFCEI",
        "outputId": "98b8e5dc-8806-4462-a3be-6cf541748866"
      },
      "execution_count": null,
      "outputs": [
        {
          "output_type": "execute_result",
          "data": {
            "text/plain": [
              "array([2, 3])"
            ]
          },
          "metadata": {},
          "execution_count": 80
        }
      ]
    },
    {
      "cell_type": "code",
      "source": [
        "# 두 배열 x와 y를 합쳐 모든 고유한 원소를 정렬하여 반환\n",
        "x = [1,2,3]\n",
        "y = [2,3,4,5]\n",
        "union = np.union1d(x,y) # 결과: [1,2,3,4,5]\n",
        "union"
      ],
      "metadata": {
        "colab": {
          "base_uri": "https://localhost:8080/"
        },
        "id": "VdaSqtr1Fqme",
        "outputId": "4add5196-637a-40e2-ffc9-5af9b594c288"
      },
      "execution_count": null,
      "outputs": [
        {
          "output_type": "execute_result",
          "data": {
            "text/plain": [
              "array([1, 2, 3, 4, 5])"
            ]
          },
          "metadata": {},
          "execution_count": 81
        }
      ]
    },
    {
      "cell_type": "code",
      "source": [
        "# 배열 x의 각 원소가 배열 y에 존재하는지 여부를 불리언 배열로 반환\n",
        "x = [1,2,3,4]\n",
        "y = [2,4,6]\n",
        "result = np.in1d(x,y) # 결과: [False, True, False, True]\n",
        "result"
      ],
      "metadata": {
        "colab": {
          "base_uri": "https://localhost:8080/"
        },
        "id": "jks2NoJtGFDj",
        "outputId": "1b5c0198-448c-4c9d-97e7-8c90c48c4b37"
      },
      "execution_count": null,
      "outputs": [
        {
          "output_type": "execute_result",
          "data": {
            "text/plain": [
              "array([False,  True, False,  True])"
            ]
          },
          "metadata": {},
          "execution_count": 82
        }
      ]
    },
    {
      "cell_type": "code",
      "source": [
        "x = ['a','b','c','d']\n",
        "y = ['b','c','e']\n",
        "result = np.in1d(x,y)\n",
        "result"
      ],
      "metadata": {
        "colab": {
          "base_uri": "https://localhost:8080/"
        },
        "id": "z9gQ8ZjsGlXh",
        "outputId": "bd2f5d40-fc78-462b-d0c0-57dcc16d5b78"
      },
      "execution_count": null,
      "outputs": [
        {
          "output_type": "execute_result",
          "data": {
            "text/plain": [
              "array([False,  True,  True, False])"
            ]
          },
          "metadata": {},
          "execution_count": 84
        }
      ]
    },
    {
      "cell_type": "code",
      "source": [
        "# set 함수는 주어진 반복 가능한 객체(여기서는 names 배열)에서 중복을 제거하고 모든 고유한 원소를 포함하는 집합을 생성\n",
        "import numpy as np\n",
        "names = np.array(['Bob','Joe','Will','Bob','Will','Joe','Joe'])\n",
        "np.unique(names)"
      ],
      "metadata": {
        "colab": {
          "base_uri": "https://localhost:8080/"
        },
        "id": "vTLjnid9HRoH",
        "outputId": "49cf3937-6fda-46a1-a756-0a51c863296d"
      },
      "execution_count": null,
      "outputs": [
        {
          "output_type": "execute_result",
          "data": {
            "text/plain": [
              "array(['Bob', 'Joe', 'Will'], dtype='<U4')"
            ]
          },
          "metadata": {},
          "execution_count": 2
        }
      ]
    },
    {
      "cell_type": "code",
      "source": [
        "sorted(set(names))"
      ],
      "metadata": {
        "colab": {
          "base_uri": "https://localhost:8080/"
        },
        "id": "WTpcaFUXIcA8",
        "outputId": "922b3d24-1ec9-4284-affe-c6dd11d8e107"
      },
      "execution_count": null,
      "outputs": [
        {
          "output_type": "execute_result",
          "data": {
            "text/plain": [
              "['Bob', 'Joe', 'Will']"
            ]
          },
          "metadata": {},
          "execution_count": 3
        }
      ]
    },
    {
      "cell_type": "markdown",
      "source": [
        "#### 배열 데이터의 입출력"
      ],
      "metadata": {
        "id": "0bwi4R-dJnip"
      }
    },
    {
      "cell_type": "code",
      "source": [
        "# 배열 데이터의 입출력\n",
        "# np.save, np.load는 바이너리 형식 .npy 파일로 저장\n",
        "arr = np.arange(10)\n",
        "np.save('some_array',arr)"
      ],
      "metadata": {
        "id": "r-2PjN6HI6Pb"
      },
      "execution_count": null,
      "outputs": []
    },
    {
      "cell_type": "code",
      "source": [
        "!ls"
      ],
      "metadata": {
        "colab": {
          "base_uri": "https://localhost:8080/"
        },
        "id": "tKH6C79iJOcH",
        "outputId": "3a29257e-3486-45ac-b035-5c2aa8016699"
      },
      "execution_count": null,
      "outputs": [
        {
          "output_type": "stream",
          "name": "stdout",
          "text": [
            "drive  sample_data  some_array.npy\n"
          ]
        }
      ]
    },
    {
      "cell_type": "code",
      "source": [
        "np.load('some_array.npy')"
      ],
      "metadata": {
        "colab": {
          "base_uri": "https://localhost:8080/"
        },
        "id": "NAEALB2dJQgo",
        "outputId": "9eabb6fe-faec-48e3-a3e2-8dc8c0ae6856"
      },
      "execution_count": null,
      "outputs": [
        {
          "output_type": "execute_result",
          "data": {
            "text/plain": [
              "array([0, 1, 2, 3, 4, 5, 6, 7, 8, 9])"
            ]
          },
          "metadata": {},
          "execution_count": 6
        }
      ]
    },
    {
      "cell_type": "code",
      "source": [
        "# np.savez : 여러개의 배열을 압축된 형식으로 저장\n",
        "np.savez('array_archive.npz',a=arr, b=arr)"
      ],
      "metadata": {
        "id": "8qApwbEYJZM5"
      },
      "execution_count": null,
      "outputs": []
    },
    {
      "cell_type": "code",
      "source": [
        "arch = np.load('array_archive.npz')\n",
        "arch['b']\n",
        "arch['a']"
      ],
      "metadata": {
        "colab": {
          "base_uri": "https://localhost:8080/"
        },
        "id": "msCur3t9J_gQ",
        "outputId": "a54c4488-39a4-43bd-e507-11dedcd416e5"
      },
      "execution_count": null,
      "outputs": [
        {
          "output_type": "execute_result",
          "data": {
            "text/plain": [
              "array([0, 1, 2, 3, 4, 5, 6, 7, 8, 9])"
            ]
          },
          "metadata": {},
          "execution_count": 9
        }
      ]
    },
    {
      "cell_type": "code",
      "source": [
        "# Q. 인덱싱을 사용하여 [1 0 1 0 1 0 1 0 1 0]를 출력하세요\n",
        "a = np.ones(10,dtype=int)\n",
        "print(a)\n",
        "a[[1,3,5,7,9]] = 0\n",
        "print(a)"
      ],
      "metadata": {
        "colab": {
          "base_uri": "https://localhost:8080/"
        },
        "id": "FBoVDlKhLbr4",
        "outputId": "d040438f-7a26-4456-b410-5529ce7df5b5"
      },
      "execution_count": null,
      "outputs": [
        {
          "output_type": "stream",
          "name": "stdout",
          "text": [
            "[1 1 1 1 1 1 1 1 1 1]\n",
            "[1 0 1 0 1 0 1 0 1 0]\n"
          ]
        }
      ]
    },
    {
      "cell_type": "code",
      "source": [
        "a = np.arange(1,11)\n",
        "print(a)\n",
        "print(np.argmax(a)) # 최대값의 인덱스를 반환\n",
        "print(np.argmin(a)) # 최소값의 인덱스를 반환"
      ],
      "metadata": {
        "colab": {
          "base_uri": "https://localhost:8080/"
        },
        "id": "ZIWdQsUgMN4_",
        "outputId": "95f47cc9-3c42-4ee2-cd88-9d7479cfceab"
      },
      "execution_count": null,
      "outputs": [
        {
          "output_type": "stream",
          "name": "stdout",
          "text": [
            "[ 1  2  3  4  5  6  7  8  9 10]\n",
            "9\n",
            "0\n"
          ]
        }
      ]
    },
    {
      "cell_type": "code",
      "source": [
        "a1 = [5,9,6]\n",
        "a1 = np.argsort(a1)\n",
        "print(a1, '\\n')\n",
        "a1[::-1]"
      ],
      "metadata": {
        "colab": {
          "base_uri": "https://localhost:8080/"
        },
        "id": "tqnFyRODNEbQ",
        "outputId": "961cb286-0f93-4efd-80f5-ad654a644835"
      },
      "execution_count": null,
      "outputs": [
        {
          "output_type": "stream",
          "name": "stdout",
          "text": [
            "[0 2 1] \n",
            "\n"
          ]
        },
        {
          "output_type": "execute_result",
          "data": {
            "text/plain": [
              "array([1, 2, 0])"
            ]
          },
          "metadata": {},
          "execution_count": 12
        }
      ]
    },
    {
      "cell_type": "code",
      "source": [
        "ar2d = np.arange(1,101).reshape(10,10)\n",
        "ar2d"
      ],
      "metadata": {
        "colab": {
          "base_uri": "https://localhost:8080/"
        },
        "id": "5-hLEUclQ7eH",
        "outputId": "67837615-73a9-48e4-de11-f3b40f38af49"
      },
      "execution_count": null,
      "outputs": [
        {
          "output_type": "execute_result",
          "data": {
            "text/plain": [
              "array([[  1,   2,   3,   4,   5,   6,   7,   8,   9,  10],\n",
              "       [ 11,  12,  13,  14,  15,  16,  17,  18,  19,  20],\n",
              "       [ 21,  22,  23,  24,  25,  26,  27,  28,  29,  30],\n",
              "       [ 31,  32,  33,  34,  35,  36,  37,  38,  39,  40],\n",
              "       [ 41,  42,  43,  44,  45,  46,  47,  48,  49,  50],\n",
              "       [ 51,  52,  53,  54,  55,  56,  57,  58,  59,  60],\n",
              "       [ 61,  62,  63,  64,  65,  66,  67,  68,  69,  70],\n",
              "       [ 71,  72,  73,  74,  75,  76,  77,  78,  79,  80],\n",
              "       [ 81,  82,  83,  84,  85,  86,  87,  88,  89,  90],\n",
              "       [ 91,  92,  93,  94,  95,  96,  97,  98,  99, 100]])"
            ]
          },
          "metadata": {},
          "execution_count": 13
        }
      ]
    },
    {
      "cell_type": "markdown",
      "source": [
        "##### Q7_0112. ar2d에서 50보다 큰 값을 출력하세요"
      ],
      "metadata": {
        "id": "06AQ-tjrQrKp"
      }
    },
    {
      "cell_type": "code",
      "source": [
        "ar2d[ar2d > 50]"
      ],
      "metadata": {
        "colab": {
          "base_uri": "https://localhost:8080/"
        },
        "id": "ZakoxVZKWmyV",
        "outputId": "7c744590-9999-4734-ecaf-5283ea9ca72a"
      },
      "execution_count": null,
      "outputs": [
        {
          "output_type": "execute_result",
          "data": {
            "text/plain": [
              "array([ 51,  52,  53,  54,  55,  56,  57,  58,  59,  60,  61,  62,  63,\n",
              "        64,  65,  66,  67,  68,  69,  70,  71,  72,  73,  74,  75,  76,\n",
              "        77,  78,  79,  80,  81,  82,  83,  84,  85,  86,  87,  88,  89,\n",
              "        90,  91,  92,  93,  94,  95,  96,  97,  98,  99, 100])"
            ]
          },
          "metadata": {},
          "execution_count": 27
        }
      ]
    },
    {
      "cell_type": "markdown",
      "source": [
        "##### Q8_0112.np.ones((10,10))을 아래와 같이 출력하세요\n",
        "array([[1., 1., 1., 1., 1., 1., 1., 1., 1., 1.],\n",
        "       [1., 0., 0., 0., 0., 0., 0., 0., 0., 1.],\n",
        "       [1., 0., 0., 0., 0., 0., 0., 0., 0., 1.],\n",
        "       [1., 0., 0., 0., 0., 0., 0., 0., 0., 1.],\n",
        "       [1., 0., 0., 0., 0., 0., 0., 0., 0., 1.],\n",
        "       [1., 0., 0., 0., 0., 0., 0., 0., 0., 1.],\n",
        "       [1., 0., 0., 0., 0., 0., 0., 0., 0., 1.],\n",
        "       [1., 0., 0., 0., 0., 0., 0., 0., 0., 1.],\n",
        "       [1., 0., 0., 0., 0., 0., 0., 0., 0., 1.],\n",
        "       [1., 1., 1., 1., 1., 1., 1., 1., 1., 1.]])"
      ],
      "metadata": {
        "id": "OfOkL6LyQwxP"
      }
    },
    {
      "cell_type": "code",
      "source": [
        "array8 = np.ones((10,10))\n",
        "print(array8)\n",
        "array8[1:9,1:9] = 0\n",
        "print(array8)"
      ],
      "metadata": {
        "colab": {
          "base_uri": "https://localhost:8080/"
        },
        "id": "poaXWKPYWtQy",
        "outputId": "8bc670c0-0308-402d-cad0-d745ce6cc4cc"
      },
      "execution_count": null,
      "outputs": [
        {
          "output_type": "stream",
          "name": "stdout",
          "text": [
            "[[1. 1. 1. 1. 1. 1. 1. 1. 1. 1.]\n",
            " [1. 1. 1. 1. 1. 1. 1. 1. 1. 1.]\n",
            " [1. 1. 1. 1. 1. 1. 1. 1. 1. 1.]\n",
            " [1. 1. 1. 1. 1. 1. 1. 1. 1. 1.]\n",
            " [1. 1. 1. 1. 1. 1. 1. 1. 1. 1.]\n",
            " [1. 1. 1. 1. 1. 1. 1. 1. 1. 1.]\n",
            " [1. 1. 1. 1. 1. 1. 1. 1. 1. 1.]\n",
            " [1. 1. 1. 1. 1. 1. 1. 1. 1. 1.]\n",
            " [1. 1. 1. 1. 1. 1. 1. 1. 1. 1.]\n",
            " [1. 1. 1. 1. 1. 1. 1. 1. 1. 1.]]\n",
            "[[1. 1. 1. 1. 1. 1. 1. 1. 1. 1.]\n",
            " [1. 0. 0. 0. 0. 0. 0. 0. 0. 1.]\n",
            " [1. 0. 0. 0. 0. 0. 0. 0. 0. 1.]\n",
            " [1. 0. 0. 0. 0. 0. 0. 0. 0. 1.]\n",
            " [1. 0. 0. 0. 0. 0. 0. 0. 0. 1.]\n",
            " [1. 0. 0. 0. 0. 0. 0. 0. 0. 1.]\n",
            " [1. 0. 0. 0. 0. 0. 0. 0. 0. 1.]\n",
            " [1. 0. 0. 0. 0. 0. 0. 0. 0. 1.]\n",
            " [1. 0. 0. 0. 0. 0. 0. 0. 0. 1.]\n",
            " [1. 1. 1. 1. 1. 1. 1. 1. 1. 1.]]\n"
          ]
        }
      ]
    },
    {
      "cell_type": "code",
      "source": [
        "arr=np.ones((10,10))\n",
        "arr[1:-1,1:-1] = 0\n",
        "print(arr)"
      ],
      "metadata": {
        "colab": {
          "base_uri": "https://localhost:8080/"
        },
        "id": "1LkrbANYaO6V",
        "outputId": "06ecd3c5-ec74-4210-b69f-6001a3774716"
      },
      "execution_count": null,
      "outputs": [
        {
          "output_type": "stream",
          "name": "stdout",
          "text": [
            "[[1. 1. 1. 1. 1. 1. 1. 1. 1. 1.]\n",
            " [1. 0. 0. 0. 0. 0. 0. 0. 0. 1.]\n",
            " [1. 0. 0. 0. 0. 0. 0. 0. 0. 1.]\n",
            " [1. 0. 0. 0. 0. 0. 0. 0. 0. 1.]\n",
            " [1. 0. 0. 0. 0. 0. 0. 0. 0. 1.]\n",
            " [1. 0. 0. 0. 0. 0. 0. 0. 0. 1.]\n",
            " [1. 0. 0. 0. 0. 0. 0. 0. 0. 1.]\n",
            " [1. 0. 0. 0. 0. 0. 0. 0. 0. 1.]\n",
            " [1. 0. 0. 0. 0. 0. 0. 0. 0. 1.]\n",
            " [1. 1. 1. 1. 1. 1. 1. 1. 1. 1.]]\n"
          ]
        }
      ]
    },
    {
      "cell_type": "code",
      "source": [
        "# np.arange(4)을 이용해서 아래와 같이 출력하세요.\n",
        "# 주 대각선 아래에 [1.2.3.4]를 배치한 5x5 크기의 2차원 배열을 생성\n",
        "# k=0은 주 대각선을 의미하며, k=-1은 주 대각선 아래의 대각선을 의미\n",
        "np.diag(1+np.arange(4),k=-1)"
      ],
      "metadata": {
        "colab": {
          "base_uri": "https://localhost:8080/"
        },
        "id": "4XOjv8bubVxe",
        "outputId": "1abb332f-2ccb-49c6-d569-deda29e21bb7"
      },
      "execution_count": null,
      "outputs": [
        {
          "output_type": "execute_result",
          "data": {
            "text/plain": [
              "array([[0, 0, 0, 0, 0],\n",
              "       [1, 0, 0, 0, 0],\n",
              "       [0, 2, 0, 0, 0],\n",
              "       [0, 0, 3, 0, 0],\n",
              "       [0, 0, 0, 4, 0]])"
            ]
          },
          "metadata": {},
          "execution_count": 60
        }
      ]
    },
    {
      "cell_type": "code",
      "source": [
        "np.diag(np.arange(4)+1, k=1)"
      ],
      "metadata": {
        "colab": {
          "base_uri": "https://localhost:8080/"
        },
        "id": "FmZ0wEvLb0mD",
        "outputId": "f230142c-cd6b-49c9-ed8c-ec3f151c06d3"
      },
      "execution_count": null,
      "outputs": [
        {
          "output_type": "execute_result",
          "data": {
            "text/plain": [
              "array([[0, 1, 0, 0, 0],\n",
              "       [0, 0, 2, 0, 0],\n",
              "       [0, 0, 0, 3, 0],\n",
              "       [0, 0, 0, 0, 4],\n",
              "       [0, 0, 0, 0, 0]])"
            ]
          },
          "metadata": {},
          "execution_count": 61
        }
      ]
    },
    {
      "cell_type": "markdown",
      "source": [
        "##### Q9_0112. np.zeros((8,8))을 이용해서 아래와 같이 출력하세요. (두가지 방식: 인덱싱, tile 함수)\n",
        "\n",
        "array([[0, 1, 0, 1, 0, 1, 0, 1],\n",
        "       [1, 0, 1, 0, 1, 0, 1, 0],\n",
        "       [0, 1, 0, 1, 0, 1, 0, 1],\n",
        "       [1, 0, 1, 0, 1, 0, 1, 0],\n",
        "       [0, 1, 0, 1, 0, 1, 0, 1],\n",
        "       [1, 0, 1, 0, 1, 0, 1, 0],\n",
        "       [0, 1, 0, 1, 0, 1, 0, 1],\n",
        "       [1, 0, 1, 0, 1, 0, 1, 0]])"
      ],
      "metadata": {
        "id": "pLQj5iBFeohn"
      }
    },
    {
      "cell_type": "code",
      "source": [
        "import numpy as np\n",
        "z = np.zeros((8,8), dtype=int)\n",
        "z[1::2,::2] = 1\n",
        "z[::2,1::2] = 1\n",
        "z"
      ],
      "metadata": {
        "colab": {
          "base_uri": "https://localhost:8080/"
        },
        "id": "vkWopUXdcYqj",
        "outputId": "0f0431cb-a6a8-4ff7-c549-e5928750b8c6"
      },
      "execution_count": null,
      "outputs": [
        {
          "output_type": "execute_result",
          "data": {
            "text/plain": [
              "array([[0, 1, 0, 1, 0, 1, 0, 1],\n",
              "       [1, 0, 1, 0, 1, 0, 1, 0],\n",
              "       [0, 1, 0, 1, 0, 1, 0, 1],\n",
              "       [1, 0, 1, 0, 1, 0, 1, 0],\n",
              "       [0, 1, 0, 1, 0, 1, 0, 1],\n",
              "       [1, 0, 1, 0, 1, 0, 1, 0],\n",
              "       [0, 1, 0, 1, 0, 1, 0, 1],\n",
              "       [1, 0, 1, 0, 1, 0, 1, 0]])"
            ]
          },
          "metadata": {},
          "execution_count": 1
        }
      ]
    },
    {
      "cell_type": "code",
      "source": [
        "# np.tile은 주어진 배열을 지정된 횟수만큼 반복하여 더 큰 배열을 만든다.\n",
        "z = np.tile(np.array([[0,1],[1,0]]),(4,4))\n",
        "z\n"
      ],
      "metadata": {
        "colab": {
          "base_uri": "https://localhost:8080/"
        },
        "id": "TpOMMzH_c9ta",
        "outputId": "6f3445a6-5db8-48c5-a6f6-5eb87effb375"
      },
      "execution_count": null,
      "outputs": [
        {
          "output_type": "execute_result",
          "data": {
            "text/plain": [
              "array([[0, 1, 0, 1, 0, 1, 0, 1],\n",
              "       [1, 0, 1, 0, 1, 0, 1, 0],\n",
              "       [0, 1, 0, 1, 0, 1, 0, 1],\n",
              "       [1, 0, 1, 0, 1, 0, 1, 0],\n",
              "       [0, 1, 0, 1, 0, 1, 0, 1],\n",
              "       [1, 0, 1, 0, 1, 0, 1, 0],\n",
              "       [0, 1, 0, 1, 0, 1, 0, 1],\n",
              "       [1, 0, 1, 0, 1, 0, 1, 0]])"
            ]
          },
          "metadata": {},
          "execution_count": 2
        }
      ]
    },
    {
      "cell_type": "code",
      "source": [
        "array9 = np.zeros((8,8))\n",
        "print(array9)\n",
        "array9[0,[1,3,5,7]] = 1\n",
        "array9[1,[0,2,4,6]] = 1\n",
        "array9[2,[1,3,5,7]] = 1\n",
        "array9[3,[0,2,4,6]] = 1\n",
        "array9[4,[1,3,5,7]] = 1\n",
        "array9[5,[0,2,4,6]] = 1\n",
        "array9[6,[1,3,5,7]] = 1\n",
        "array9[7,[0,2,4,6]] = 1\n",
        "print(array9)"
      ],
      "metadata": {
        "colab": {
          "base_uri": "https://localhost:8080/"
        },
        "id": "gyXxqQusuNt6",
        "outputId": "af8ed2ec-dfd9-4b81-dc2f-39b6997efebd"
      },
      "execution_count": null,
      "outputs": [
        {
          "output_type": "stream",
          "name": "stdout",
          "text": [
            "[[0. 0. 0. 0. 0. 0. 0. 0.]\n",
            " [0. 0. 0. 0. 0. 0. 0. 0.]\n",
            " [0. 0. 0. 0. 0. 0. 0. 0.]\n",
            " [0. 0. 0. 0. 0. 0. 0. 0.]\n",
            " [0. 0. 0. 0. 0. 0. 0. 0.]\n",
            " [0. 0. 0. 0. 0. 0. 0. 0.]\n",
            " [0. 0. 0. 0. 0. 0. 0. 0.]\n",
            " [0. 0. 0. 0. 0. 0. 0. 0.]]\n",
            "[[0. 1. 0. 1. 0. 1. 0. 1.]\n",
            " [1. 0. 1. 0. 1. 0. 1. 0.]\n",
            " [0. 1. 0. 1. 0. 1. 0. 1.]\n",
            " [1. 0. 1. 0. 1. 0. 1. 0.]\n",
            " [0. 1. 0. 1. 0. 1. 0. 1.]\n",
            " [1. 0. 1. 0. 1. 0. 1. 0.]\n",
            " [0. 1. 0. 1. 0. 1. 0. 1.]\n",
            " [1. 0. 1. 0. 1. 0. 1. 0.]]\n"
          ]
        }
      ]
    },
    {
      "cell_type": "markdown",
      "source": [
        "#### 파이썬 random 함수"
      ],
      "metadata": {
        "id": "JKMOTxOge47L"
      }
    },
    {
      "cell_type": "code",
      "source": [
        "import random\n",
        "print(random.random(), '\\n') # 0.0<= x < 1.0 사이\n",
        "print(random.randint(1,10),'\\n') # 1에서 10사이의 정수중에서 난수값 리턴\n",
        "print(random.uniform(10,20),'\\n') # min max 사이 float 리턴\n",
        "print(random.randrange(10),'\\n') # 지정범위 int 리턴\n",
        "print(random.choice([1,2,3,4,5]),'\\n') # 리스트 내부에 있는 요소를 랜덤하게 선택\n",
        "li = [1,2,3,4,5]\n",
        "print(random.sample(li,3),'\\n') # 리스트 요소를 중복이 안되게 리턴\n",
        "random.shuffle(li) # 리스트 요소를 다시 섞어서 리턴\n",
        "print(li)"
      ],
      "metadata": {
        "colab": {
          "base_uri": "https://localhost:8080/"
        },
        "id": "63gNsNH8e3zF",
        "outputId": "34694097-b95b-4055-fec8-541f71e17741"
      },
      "execution_count": null,
      "outputs": [
        {
          "output_type": "stream",
          "name": "stdout",
          "text": [
            "0.3479407573457639 \n",
            "\n",
            "2 \n",
            "\n",
            "12.813952360178677 \n",
            "\n",
            "2 \n",
            "\n",
            "5 \n",
            "\n",
            "[5, 4, 2] \n",
            "\n",
            "[3, 4, 1, 2, 5]\n"
          ]
        }
      ]
    },
    {
      "cell_type": "markdown",
      "source": [
        "#### [Random 함수]  \n",
        "\n",
        "- np.random.seed       # seed를 통한 난수 생성\n",
        "- np.random.randint    # 균일분포의 정수 난수 1개 생성\n",
        "- np.random.rand       # 0부터 1사이의 균일분포에서 난수 매트릭스 array 생성\n",
        "- np.random.randn      # 가우시안 표준 정규 분포에서 난수 매트릭스 array 생성\n",
        "- np.random.shuffle    # 기존의 데이터의 순서 바꾸기\n",
        "- np.random.choice     # 기존의 데이터에서 sampling"
      ],
      "metadata": {
        "id": "WTDuwZWrgo5k"
      }
    },
    {
      "cell_type": "code",
      "source": [
        "# 0.0 ~1.0 사이의 균일 분포인 실수\n",
        "import numpy as np\n",
        "np.random.seed(0)\n",
        "print(np.random.rand(5),'\\n')\n",
        "print(np.random.rand(3,2))"
      ],
      "metadata": {
        "colab": {
          "base_uri": "https://localhost:8080/"
        },
        "id": "BcvocCvhgs5U",
        "outputId": "898d8bba-f914-46dc-8109-bb96ac874555"
      },
      "execution_count": null,
      "outputs": [
        {
          "output_type": "stream",
          "name": "stdout",
          "text": [
            "[0.5488135  0.71518937 0.60276338 0.54488318 0.4236548 ] \n",
            "\n",
            "[[0.64589411 0.43758721]\n",
            " [0.891773   0.96366276]\n",
            " [0.38344152 0.79172504]]\n"
          ]
        }
      ]
    },
    {
      "cell_type": "code",
      "source": [
        "import numpy as np\n",
        "print(np.random.randint(6),'\\n') # 0~5까지 정수인 난수 1개\n",
        "print(np.random.randint(1,20),'\\n') # 1~19까지 정수인 난수 1개\n",
        "print(np.random.randint(10,size=10),'\\n') # 0~9까지 정수인 난수 10개\n",
        "print(np.random.randint(10,20,size=10),'\\n') # 10~19까지 정수인 난수 10개\n",
        "print(np.random.randint(10,20,size=(3,5))) # 10~19까지 정수인 난수로 3행 5열 배열 생성"
      ],
      "metadata": {
        "colab": {
          "base_uri": "https://localhost:8080/"
        },
        "id": "PEYfRAkPhX9R",
        "outputId": "b22777a3-3cea-4a05-b3e4-044ac32efc26"
      },
      "execution_count": null,
      "outputs": [
        {
          "output_type": "stream",
          "name": "stdout",
          "text": [
            "0 \n",
            "\n",
            "18 \n",
            "\n",
            "[5 9 8 9 4 3 0 3 5 0] \n",
            "\n",
            "[12 13 18 11 13 13 13 17 10 11] \n",
            "\n",
            "[[19 19 10 14 17]\n",
            " [13 12 17 12 10]\n",
            " [10 14 15 15 16]]\n"
          ]
        }
      ]
    },
    {
      "cell_type": "code",
      "source": [
        "# 기존의 데이터의 순서 바꾸기\n",
        "ar = np.arange(1,6)\n",
        "print(ar,'\\n')\n",
        "np.random.shuffle(ar)\n",
        "print(ar)"
      ],
      "metadata": {
        "colab": {
          "base_uri": "https://localhost:8080/"
        },
        "id": "fmi5s0zyjrhA",
        "outputId": "f02ecd23-986e-475a-e638-b7ba5facf253"
      },
      "execution_count": null,
      "outputs": [
        {
          "output_type": "stream",
          "name": "stdout",
          "text": [
            "[1 2 3 4 5] \n",
            "\n",
            "[4 3 2 5 1]\n"
          ]
        }
      ]
    },
    {
      "cell_type": "code",
      "source": [
        "import numpy as np\n",
        "print(np.random.choice([1,2,3,4,5],10),'\\n') # 1,2,3,4,5 리스트에서 10개의 숫자를 뽑는 것\n",
        "print(np.random.choice([1,2,3,4,5]),'\\n') # 1,2,3,4,5 리스트에서 숫자 하나 뽑는것\n",
        "print(np.random.choice(10,5,replace=False),'\\n') # 0에서 9까지의 숫자에서 5개의 숫자를 뽑고 unique한 숫자만 뽑는 것\n",
        "np.random.choice(10,9) # 0에서 9까지의 숫자에서 아홉개의 숫자를 뽑는 것"
      ],
      "metadata": {
        "colab": {
          "base_uri": "https://localhost:8080/"
        },
        "id": "qChPo_lmkCev",
        "outputId": "11567437-7df2-4b89-d49a-e59db9a44a19"
      },
      "execution_count": null,
      "outputs": [
        {
          "output_type": "stream",
          "name": "stdout",
          "text": [
            "[5 2 3 3 1 2 2 2 2 4] \n",
            "\n",
            "4 \n",
            "\n",
            "[7 8 9 1 4] \n",
            "\n"
          ]
        },
        {
          "output_type": "execute_result",
          "data": {
            "text/plain": [
              "array([4, 6, 4, 4, 3, 4, 4, 8, 4])"
            ]
          },
          "metadata": {},
          "execution_count": 72
        }
      ]
    },
    {
      "cell_type": "code",
      "source": [
        "a = np.array([11,11,3,3,2,2,2,7])\n",
        "index, count = np.unique(a,return_counts=True) # index에는 고유한 요소들이 저장. return_counts=True 각 고유 요소가 배열에 나타난 횟수도 반환\n",
        "print(index, type(index))\n",
        "print(count)"
      ],
      "metadata": {
        "colab": {
          "base_uri": "https://localhost:8080/"
        },
        "id": "d881cOhBlb31",
        "outputId": "3090a2f8-a783-4425-fc81-8b4eeb20d079"
      },
      "execution_count": null,
      "outputs": [
        {
          "output_type": "stream",
          "name": "stdout",
          "text": [
            "[ 2  3  7 11] <class 'numpy.ndarray'>\n",
            "[3 2 1 2]\n"
          ]
        }
      ]
    },
    {
      "cell_type": "code",
      "source": [
        "# 범위내 실수 출력\n",
        "print(np.random.uniform(1,2,3),'\\n') # 1<=x<2사이의 실수를 3개 출력하라\n",
        "print(np.random.uniform(0,1,(2,3))) # 0과 1사이의 실수에서 (2,3)모양의 array출력\n",
        "np.random.uniform(1,2,10) # 1<=x<2 사이의 실수에서 10개 출력"
      ],
      "metadata": {
        "colab": {
          "base_uri": "https://localhost:8080/"
        },
        "id": "QxhJYC9Hl4dT",
        "outputId": "7a1a363b-8486-4de0-a9a4-7c089345cca2"
      },
      "execution_count": null,
      "outputs": [
        {
          "output_type": "stream",
          "name": "stdout",
          "text": [
            "[1.00469548 1.67781654 1.27000797] \n",
            "\n",
            "[[0.73519402 0.96218855 0.24875314]\n",
            " [0.57615733 0.59204193 0.57225191]]\n"
          ]
        },
        {
          "output_type": "execute_result",
          "data": {
            "text/plain": [
              "array([1.22308163, 1.95274901, 1.44712538, 1.84640867, 1.69947928,\n",
              "       1.29743695, 1.81379782, 1.39650574, 1.8811032 , 1.58127287])"
            ]
          },
          "metadata": {},
          "execution_count": 93
        }
      ]
    },
    {
      "cell_type": "code",
      "source": [
        "# random_sample 은 uniform 함수의 최소값, 최대값을 각각 0,1로 지정한 것과 같음\n",
        "np.random.random_sample((2,3)) # 0,1사이의 실수를 (2,3)모양의 array로 출력"
      ],
      "metadata": {
        "colab": {
          "base_uri": "https://localhost:8080/"
        },
        "id": "grHObOFRoD4P",
        "outputId": "73a21f2a-06f0-4882-f005-5288b8b69b9d"
      },
      "execution_count": null,
      "outputs": [
        {
          "output_type": "execute_result",
          "data": {
            "text/plain": [
              "array([[0.88173536, 0.69253159, 0.72525428],\n",
              "       [0.50132438, 0.95608363, 0.6439902 ]])"
            ]
          },
          "metadata": {},
          "execution_count": 94
        }
      ]
    }
  ]
}
