{
  "nbformat": 4,
  "nbformat_minor": 0,
  "metadata": {
    "colab": {
      "provenance": [],
      "toc_visible": true,
      "authorship_tag": "ABX9TyNNJcODDfaXRU3MB9U5tnJC",
      "include_colab_link": true
    },
    "kernelspec": {
      "name": "python3",
      "display_name": "Python 3"
    },
    "language_info": {
      "name": "python"
    }
  },
  "cells": [
    {
      "cell_type": "markdown",
      "metadata": {
        "id": "view-in-github",
        "colab_type": "text"
      },
      "source": [
        "<a href=\"https://colab.research.google.com/github/ubinjeon/kita_231026/blob/main/%EC%84%A0%ED%98%95%EB%8C%80%EC%88%98.ipynb\" target=\"_parent\"><img src=\"https://colab.research.google.com/assets/colab-badge.svg\" alt=\"Open In Colab\"/></a>"
      ]
    },
    {
      "cell_type": "markdown",
      "source": [
        "# 20240115"
      ],
      "metadata": {
        "id": "Cy4O5B1ItGJr"
      }
    },
    {
      "cell_type": "markdown",
      "source": [
        "## 데이터와 행렬\n",
        "- 스칼라 : 숫자 하나만으로 이루어진 데이터\n",
        "- 벡터 : 여러 숫자가 특정한 순서대로 모여 있는 것을 의미. 하나의 벡터를 이루는 데이터 수가 n이면 n-차원 벡터라고 함\n",
        "- 열벡터는 열의 수가 1인 행렬\n",
        "- 하나의 데이터 레코드를 단독으로 벡터로 나타낼 때는 하나의 열로 나타내고 복수의 데이터 레코드 집합을 행렬로 나타낼 때는 하나의 데이터 레코드가 하나의 행으로 표기하는 것은 데이터 분석에서 일반적인 관례\n",
        "- 스칼라와 벡터도 수학적으로는 행렬에 속한다.\n",
        "- 스칼라는 열과 행의 수가 각각 1인 행렬이고 벡터는 열의 수가 1인 행렬이다."
      ],
      "metadata": {
        "id": "3Pt5iJF8dx_0"
      }
    },
    {
      "cell_type": "code",
      "execution_count": null,
      "metadata": {
        "colab": {
          "base_uri": "https://localhost:8080/"
        },
        "id": "0Wb-Knc0dqfJ",
        "outputId": "21a01994-790e-42b8-920a-01b80fcfbae3"
      },
      "outputs": [
        {
          "output_type": "execute_result",
          "data": {
            "text/plain": [
              "array([5.1, 4.9, 4.7, 4.6, 5. , 5.4, 4.6, 5. , 4.4, 4.9, 5.4, 4.8, 4.8,\n",
              "       4.3, 5.8, 5.7, 5.4, 5.1, 5.7, 5.1, 5.4, 5.1, 4.6, 5.1, 4.8, 5. ,\n",
              "       5. , 5.2, 5.2, 4.7, 4.8, 5.4, 5.2, 5.5, 4.9, 5. , 5.5, 4.9, 4.4,\n",
              "       5.1, 5. , 4.5, 4.4, 5. , 5.1, 4.8, 5.1, 4.6, 5.3, 5. , 7. , 6.4,\n",
              "       6.9, 5.5, 6.5, 5.7, 6.3, 4.9, 6.6, 5.2, 5. , 5.9, 6. , 6.1, 5.6,\n",
              "       6.7, 5.6, 5.8, 6.2, 5.6, 5.9, 6.1, 6.3, 6.1, 6.4, 6.6, 6.8, 6.7,\n",
              "       6. , 5.7, 5.5, 5.5, 5.8, 6. , 5.4, 6. , 6.7, 6.3, 5.6, 5.5, 5.5,\n",
              "       6.1, 5.8, 5. , 5.6, 5.7, 5.7, 6.2, 5.1, 5.7, 6.3, 5.8, 7.1, 6.3,\n",
              "       6.5, 7.6, 4.9, 7.3, 6.7, 7.2, 6.5, 6.4, 6.8, 5.7, 5.8, 6.4, 6.5,\n",
              "       7.7, 7.7, 6. , 6.9, 5.6, 7.7, 6.3, 6.7, 7.2, 6.2, 6.1, 6.4, 7.2,\n",
              "       7.4, 7.9, 6.4, 6.3, 6.1, 7.7, 6.3, 6.4, 6. , 6.9, 6.7, 6.9, 5.8,\n",
              "       6.8, 6.7, 6.7, 6.3, 6.5, 6.2, 5.9])"
            ]
          },
          "metadata": {},
          "execution_count": 2
        }
      ],
      "source": [
        "# 특정벡터 : 데이터 벡터가 예측 문제에서 입력 데이터로 사용되면 특징벡터라고 함\n",
        "from sklearn.datasets import load_iris # 사이킷런 패키지 임포트\n",
        "\n",
        "iris = load_iris() # 데이터 로드\n",
        "x1 = iris.data[0,:] # 첫번째 붓꽃의 데이터\n",
        "x2 = iris.data[:,0]\n",
        "x2"
      ]
    },
    {
      "cell_type": "code",
      "source": [
        "import pandas as pd\n",
        "df = pd.DataFrame(iris.data, columns=iris.feature_names)\n",
        "df.head()"
      ],
      "metadata": {
        "colab": {
          "base_uri": "https://localhost:8080/",
          "height": 206
        },
        "id": "aIBXANA-h0Bh",
        "outputId": "328b29bc-2ee2-447b-9da8-2060f17dce7f"
      },
      "execution_count": null,
      "outputs": [
        {
          "output_type": "execute_result",
          "data": {
            "text/plain": [
              "   sepal length (cm)  sepal width (cm)  petal length (cm)  petal width (cm)\n",
              "0                5.1               3.5                1.4               0.2\n",
              "1                4.9               3.0                1.4               0.2\n",
              "2                4.7               3.2                1.3               0.2\n",
              "3                4.6               3.1                1.5               0.2\n",
              "4                5.0               3.6                1.4               0.2"
            ],
            "text/html": [
              "\n",
              "  <div id=\"df-c796b61a-c422-45eb-a6a8-0cd840423db7\" class=\"colab-df-container\">\n",
              "    <div>\n",
              "<style scoped>\n",
              "    .dataframe tbody tr th:only-of-type {\n",
              "        vertical-align: middle;\n",
              "    }\n",
              "\n",
              "    .dataframe tbody tr th {\n",
              "        vertical-align: top;\n",
              "    }\n",
              "\n",
              "    .dataframe thead th {\n",
              "        text-align: right;\n",
              "    }\n",
              "</style>\n",
              "<table border=\"1\" class=\"dataframe\">\n",
              "  <thead>\n",
              "    <tr style=\"text-align: right;\">\n",
              "      <th></th>\n",
              "      <th>sepal length (cm)</th>\n",
              "      <th>sepal width (cm)</th>\n",
              "      <th>petal length (cm)</th>\n",
              "      <th>petal width (cm)</th>\n",
              "    </tr>\n",
              "  </thead>\n",
              "  <tbody>\n",
              "    <tr>\n",
              "      <th>0</th>\n",
              "      <td>5.1</td>\n",
              "      <td>3.5</td>\n",
              "      <td>1.4</td>\n",
              "      <td>0.2</td>\n",
              "    </tr>\n",
              "    <tr>\n",
              "      <th>1</th>\n",
              "      <td>4.9</td>\n",
              "      <td>3.0</td>\n",
              "      <td>1.4</td>\n",
              "      <td>0.2</td>\n",
              "    </tr>\n",
              "    <tr>\n",
              "      <th>2</th>\n",
              "      <td>4.7</td>\n",
              "      <td>3.2</td>\n",
              "      <td>1.3</td>\n",
              "      <td>0.2</td>\n",
              "    </tr>\n",
              "    <tr>\n",
              "      <th>3</th>\n",
              "      <td>4.6</td>\n",
              "      <td>3.1</td>\n",
              "      <td>1.5</td>\n",
              "      <td>0.2</td>\n",
              "    </tr>\n",
              "    <tr>\n",
              "      <th>4</th>\n",
              "      <td>5.0</td>\n",
              "      <td>3.6</td>\n",
              "      <td>1.4</td>\n",
              "      <td>0.2</td>\n",
              "    </tr>\n",
              "  </tbody>\n",
              "</table>\n",
              "</div>\n",
              "    <div class=\"colab-df-buttons\">\n",
              "\n",
              "  <div class=\"colab-df-container\">\n",
              "    <button class=\"colab-df-convert\" onclick=\"convertToInteractive('df-c796b61a-c422-45eb-a6a8-0cd840423db7')\"\n",
              "            title=\"Convert this dataframe to an interactive table.\"\n",
              "            style=\"display:none;\">\n",
              "\n",
              "  <svg xmlns=\"http://www.w3.org/2000/svg\" height=\"24px\" viewBox=\"0 -960 960 960\">\n",
              "    <path d=\"M120-120v-720h720v720H120Zm60-500h600v-160H180v160Zm220 220h160v-160H400v160Zm0 220h160v-160H400v160ZM180-400h160v-160H180v160Zm440 0h160v-160H620v160ZM180-180h160v-160H180v160Zm440 0h160v-160H620v160Z\"/>\n",
              "  </svg>\n",
              "    </button>\n",
              "\n",
              "  <style>\n",
              "    .colab-df-container {\n",
              "      display:flex;\n",
              "      gap: 12px;\n",
              "    }\n",
              "\n",
              "    .colab-df-convert {\n",
              "      background-color: #E8F0FE;\n",
              "      border: none;\n",
              "      border-radius: 50%;\n",
              "      cursor: pointer;\n",
              "      display: none;\n",
              "      fill: #1967D2;\n",
              "      height: 32px;\n",
              "      padding: 0 0 0 0;\n",
              "      width: 32px;\n",
              "    }\n",
              "\n",
              "    .colab-df-convert:hover {\n",
              "      background-color: #E2EBFA;\n",
              "      box-shadow: 0px 1px 2px rgba(60, 64, 67, 0.3), 0px 1px 3px 1px rgba(60, 64, 67, 0.15);\n",
              "      fill: #174EA6;\n",
              "    }\n",
              "\n",
              "    .colab-df-buttons div {\n",
              "      margin-bottom: 4px;\n",
              "    }\n",
              "\n",
              "    [theme=dark] .colab-df-convert {\n",
              "      background-color: #3B4455;\n",
              "      fill: #D2E3FC;\n",
              "    }\n",
              "\n",
              "    [theme=dark] .colab-df-convert:hover {\n",
              "      background-color: #434B5C;\n",
              "      box-shadow: 0px 1px 3px 1px rgba(0, 0, 0, 0.15);\n",
              "      filter: drop-shadow(0px 1px 2px rgba(0, 0, 0, 0.3));\n",
              "      fill: #FFFFFF;\n",
              "    }\n",
              "  </style>\n",
              "\n",
              "    <script>\n",
              "      const buttonEl =\n",
              "        document.querySelector('#df-c796b61a-c422-45eb-a6a8-0cd840423db7 button.colab-df-convert');\n",
              "      buttonEl.style.display =\n",
              "        google.colab.kernel.accessAllowed ? 'block' : 'none';\n",
              "\n",
              "      async function convertToInteractive(key) {\n",
              "        const element = document.querySelector('#df-c796b61a-c422-45eb-a6a8-0cd840423db7');\n",
              "        const dataTable =\n",
              "          await google.colab.kernel.invokeFunction('convertToInteractive',\n",
              "                                                    [key], {});\n",
              "        if (!dataTable) return;\n",
              "\n",
              "        const docLinkHtml = 'Like what you see? Visit the ' +\n",
              "          '<a target=\"_blank\" href=https://colab.research.google.com/notebooks/data_table.ipynb>data table notebook</a>'\n",
              "          + ' to learn more about interactive tables.';\n",
              "        element.innerHTML = '';\n",
              "        dataTable['output_type'] = 'display_data';\n",
              "        await google.colab.output.renderOutput(dataTable, element);\n",
              "        const docLink = document.createElement('div');\n",
              "        docLink.innerHTML = docLinkHtml;\n",
              "        element.appendChild(docLink);\n",
              "      }\n",
              "    </script>\n",
              "  </div>\n",
              "\n",
              "\n",
              "<div id=\"df-52b8c393-5c26-446a-9359-d8012fa318b5\">\n",
              "  <button class=\"colab-df-quickchart\" onclick=\"quickchart('df-52b8c393-5c26-446a-9359-d8012fa318b5')\"\n",
              "            title=\"Suggest charts\"\n",
              "            style=\"display:none;\">\n",
              "\n",
              "<svg xmlns=\"http://www.w3.org/2000/svg\" height=\"24px\"viewBox=\"0 0 24 24\"\n",
              "     width=\"24px\">\n",
              "    <g>\n",
              "        <path d=\"M19 3H5c-1.1 0-2 .9-2 2v14c0 1.1.9 2 2 2h14c1.1 0 2-.9 2-2V5c0-1.1-.9-2-2-2zM9 17H7v-7h2v7zm4 0h-2V7h2v10zm4 0h-2v-4h2v4z\"/>\n",
              "    </g>\n",
              "</svg>\n",
              "  </button>\n",
              "\n",
              "<style>\n",
              "  .colab-df-quickchart {\n",
              "      --bg-color: #E8F0FE;\n",
              "      --fill-color: #1967D2;\n",
              "      --hover-bg-color: #E2EBFA;\n",
              "      --hover-fill-color: #174EA6;\n",
              "      --disabled-fill-color: #AAA;\n",
              "      --disabled-bg-color: #DDD;\n",
              "  }\n",
              "\n",
              "  [theme=dark] .colab-df-quickchart {\n",
              "      --bg-color: #3B4455;\n",
              "      --fill-color: #D2E3FC;\n",
              "      --hover-bg-color: #434B5C;\n",
              "      --hover-fill-color: #FFFFFF;\n",
              "      --disabled-bg-color: #3B4455;\n",
              "      --disabled-fill-color: #666;\n",
              "  }\n",
              "\n",
              "  .colab-df-quickchart {\n",
              "    background-color: var(--bg-color);\n",
              "    border: none;\n",
              "    border-radius: 50%;\n",
              "    cursor: pointer;\n",
              "    display: none;\n",
              "    fill: var(--fill-color);\n",
              "    height: 32px;\n",
              "    padding: 0;\n",
              "    width: 32px;\n",
              "  }\n",
              "\n",
              "  .colab-df-quickchart:hover {\n",
              "    background-color: var(--hover-bg-color);\n",
              "    box-shadow: 0 1px 2px rgba(60, 64, 67, 0.3), 0 1px 3px 1px rgba(60, 64, 67, 0.15);\n",
              "    fill: var(--button-hover-fill-color);\n",
              "  }\n",
              "\n",
              "  .colab-df-quickchart-complete:disabled,\n",
              "  .colab-df-quickchart-complete:disabled:hover {\n",
              "    background-color: var(--disabled-bg-color);\n",
              "    fill: var(--disabled-fill-color);\n",
              "    box-shadow: none;\n",
              "  }\n",
              "\n",
              "  .colab-df-spinner {\n",
              "    border: 2px solid var(--fill-color);\n",
              "    border-color: transparent;\n",
              "    border-bottom-color: var(--fill-color);\n",
              "    animation:\n",
              "      spin 1s steps(1) infinite;\n",
              "  }\n",
              "\n",
              "  @keyframes spin {\n",
              "    0% {\n",
              "      border-color: transparent;\n",
              "      border-bottom-color: var(--fill-color);\n",
              "      border-left-color: var(--fill-color);\n",
              "    }\n",
              "    20% {\n",
              "      border-color: transparent;\n",
              "      border-left-color: var(--fill-color);\n",
              "      border-top-color: var(--fill-color);\n",
              "    }\n",
              "    30% {\n",
              "      border-color: transparent;\n",
              "      border-left-color: var(--fill-color);\n",
              "      border-top-color: var(--fill-color);\n",
              "      border-right-color: var(--fill-color);\n",
              "    }\n",
              "    40% {\n",
              "      border-color: transparent;\n",
              "      border-right-color: var(--fill-color);\n",
              "      border-top-color: var(--fill-color);\n",
              "    }\n",
              "    60% {\n",
              "      border-color: transparent;\n",
              "      border-right-color: var(--fill-color);\n",
              "    }\n",
              "    80% {\n",
              "      border-color: transparent;\n",
              "      border-right-color: var(--fill-color);\n",
              "      border-bottom-color: var(--fill-color);\n",
              "    }\n",
              "    90% {\n",
              "      border-color: transparent;\n",
              "      border-bottom-color: var(--fill-color);\n",
              "    }\n",
              "  }\n",
              "</style>\n",
              "\n",
              "  <script>\n",
              "    async function quickchart(key) {\n",
              "      const quickchartButtonEl =\n",
              "        document.querySelector('#' + key + ' button');\n",
              "      quickchartButtonEl.disabled = true;  // To prevent multiple clicks.\n",
              "      quickchartButtonEl.classList.add('colab-df-spinner');\n",
              "      try {\n",
              "        const charts = await google.colab.kernel.invokeFunction(\n",
              "            'suggestCharts', [key], {});\n",
              "      } catch (error) {\n",
              "        console.error('Error during call to suggestCharts:', error);\n",
              "      }\n",
              "      quickchartButtonEl.classList.remove('colab-df-spinner');\n",
              "      quickchartButtonEl.classList.add('colab-df-quickchart-complete');\n",
              "    }\n",
              "    (() => {\n",
              "      let quickchartButtonEl =\n",
              "        document.querySelector('#df-52b8c393-5c26-446a-9359-d8012fa318b5 button');\n",
              "      quickchartButtonEl.style.display =\n",
              "        google.colab.kernel.accessAllowed ? 'block' : 'none';\n",
              "    })();\n",
              "  </script>\n",
              "</div>\n",
              "\n",
              "    </div>\n",
              "  </div>\n"
            ]
          },
          "metadata": {},
          "execution_count": 4
        }
      ]
    },
    {
      "cell_type": "code",
      "source": [
        "df.iloc[0].values"
      ],
      "metadata": {
        "colab": {
          "base_uri": "https://localhost:8080/"
        },
        "id": "kDIKbml-iFtH",
        "outputId": "2cb90634-770d-4d9c-8cfd-02dbe7f093b8"
      },
      "execution_count": null,
      "outputs": [
        {
          "output_type": "execute_result",
          "data": {
            "text/plain": [
              "array([5.1, 3.5, 1.4, 0.2])"
            ]
          },
          "metadata": {},
          "execution_count": 5
        }
      ]
    },
    {
      "cell_type": "code",
      "source": [
        "ar = df.iloc[[0],:].values #2차원으로 뽑는 것\n",
        "print(ar,ar.shape,type(ar))"
      ],
      "metadata": {
        "colab": {
          "base_uri": "https://localhost:8080/"
        },
        "id": "4WfRKSR4irOH",
        "outputId": "5815211b-c498-4f2b-cb0a-6822c84a0115"
      },
      "execution_count": null,
      "outputs": [
        {
          "output_type": "stream",
          "name": "stdout",
          "text": [
            "[[5.1 3.5 1.4 0.2]] (1, 4) <class 'numpy.ndarray'>\n"
          ]
        }
      ]
    },
    {
      "cell_type": "code",
      "source": [
        "# 넘파이를 사용한 벡터 표현 : 벡터를 열 개수가 하나인 2차원 배열 객체로 표현. 배열의 차원(2)은 벡터의 차원(4)과 다른 의미임\n",
        "# 벡터의 차원은 벡터가 포함하는 요소의 개수를 의미하며, 배열의 차원은 배열이 가지는 축의 수 (예: 행과 열)를 의미\n",
        "import numpy as np\n",
        "x1 = np.array([[5.1],[3.5],[1.4],[0.2]])\n",
        "print(x1,x1.shape)"
      ],
      "metadata": {
        "colab": {
          "base_uri": "https://localhost:8080/"
        },
        "id": "NKX3kxGKj4i2",
        "outputId": "6ade4328-277e-4dca-b3bc-9cddc7d0831d"
      },
      "execution_count": null,
      "outputs": [
        {
          "output_type": "stream",
          "name": "stdout",
          "text": [
            "[[5.1]\n",
            " [3.5]\n",
            " [1.4]\n",
            " [0.2]] (4, 1)\n"
          ]
        }
      ]
    },
    {
      "cell_type": "markdown",
      "source": [
        "### 벡터\n",
        "벡터는 데이터 분석과 수학, 물리학 등 다양한 분야에서 중요한 역할\n",
        "\n",
        "- 벡터의 정의\n",
        "  - 수학적 정의: 크기와 방향을 가진 양입니다. 벡터는 일반적으로 화살표로 표현되며, 시작점에서 끝점까지의 방향과 거리로 정의\n",
        "  - 좌표로의 표현: 벡터는 종종 숫자의 배열 또는 목록으로 표현. 예를 들어, 2차원 벡터 [x, y]는 x축과 y축에 대한 구성 요소를 갖는다.\n",
        "  - 크기와 방향: 벡터의 크기는 벡터의 길이(혹은 노름(norm))를 의미하고, 방향은 벡터가 가리키는 방향을 의미.\n",
        "- 벡터의 연산\n",
        "  - 덧셈과 뺄셈: 같은 크기의 두 벡터는 각 요소별로 더하거나 뺄 수 있다.\n",
        "  - 스칼라 곱셈: 벡터는 스칼라(단순 숫자 값)와 곱할 수 있으며, 이는 벡터의 길이를 스칼라만큼 늘리거나 줄인다.\n",
        "  - 내적(Dot Product): 두 벡터의 각 요소의 곱을 모두 더하는 연산으로, 두 벡터 간의 관계를 측정하는 데 사용.\n",
        "- 벡터의 응용\n",
        "  - 물리학: 속도, 가속도, 힘 등은 벡터로 표현.\n",
        "  - 컴퓨터 그래픽스: 이미지나 애니메이션에서 객체의 위치, 이동, 회전을 표현하는 데 벡터가 사용.\n",
        "  - 데이터 분석 및 기계 학습: 특징 벡터(feature vector)는 데이터 포인트의 속성을 나타내며, 여러 알고리즘에서 중요한 역할을 한다."
      ],
      "metadata": {
        "id": "w9FfedqskY5z"
      }
    },
    {
      "cell_type": "markdown",
      "source": [
        "- 벡터의 실용적 예: 데이터 분석에서의 특징 벡터\n",
        "  - 데이터 포인트의 표현: 예를 들어, 사람에 대한 데이터가 있다고 가정하면 나이, 키, 몸무게 등의 특성을 가진다면, 이를 [나이, 키, 몸무게]와 같은 벡터로 표현할 수 있다. data_point = np.array([나이, 키, 몸무게])\n",
        "  - 기계 학습 모델의 입력: 이러한 벡터는 기계 학습 모델의 입력으로 사용될 수 있다. 예를 들어, 의료 데이터를 기반으로 질병을 예측하는 모델에서 각 환자의 데이터 포인트는 하나의 벡터로 표현될 수 있다.\n",
        "- 배치 데이터용 행렬\n",
        "  - 여러 데이터 포인트를 처리할 때 각 행은 데이터 포인트를 나타내고 각 열은 기능을 나타내는 행렬이 사용된다.\n",
        "  - batch_data = np.array([[feature1_data1, feature2_data1, feature3_data1],[feature1_data2, feature2_data2, feature3_data2],...])"
      ],
      "metadata": {
        "id": "oa0oh6mil1N5"
      }
    },
    {
      "cell_type": "code",
      "source": [
        "# 사람의 나이, 키(cm), 몸무게(kg)를 벡터로 표현\n",
        "import numpy as np\n",
        "\n",
        "person = np.array([30,175,70])\n",
        "\n",
        "# 또 다른 사람의 데이터\n",
        "another_person = np.array([25,160,55])\n",
        "\n",
        "# 두 사람의 데이터의 차이 계산\n",
        "difference = person - another_person\n",
        "print(difference) # 출력: [5,15,15]"
      ],
      "metadata": {
        "colab": {
          "base_uri": "https://localhost:8080/"
        },
        "id": "jvd9qLA_kbS_",
        "outputId": "17f37b3d-4635-44f3-90b9-1518a105c272"
      },
      "execution_count": null,
      "outputs": [
        {
          "output_type": "stream",
          "name": "stdout",
          "text": [
            "[ 5 15 15]\n"
          ]
        }
      ]
    },
    {
      "cell_type": "markdown",
      "source": [
        "### 표준화:\n",
        "\n",
        "- 목적: 표준화에는 평균이 0이고 표준 편차가 1이 되도록 데이터 특성의 크기를 조정하는 작업이 포함. 이 프로세스를 Z-score 정규화라고도 한다.\n",
        "- 방법: 각 데이터 포인트의 평균을 빼고 표준편차로 나누어 계산. 수학적으로는 Z=(X−μ)/σ​로 표시. 여기서 X는 원래 값이고, μ는 데이터의 평균, σ는 표준 편차.\n",
        "- 사용 사례: 표준화는 다양한 측정 단위나 다양한 규모의 영향을 제거하는 방식으로 데이터를 비교해야 하는 시나리오에서 특히 유용. 이는 선형 회귀, 로지스틱 회귀, 신경망과 같은 기계 학습 모델에 자주 사용. 여기서 데이터의 규모와 분포는 모델 성능에 큰 영향을 미칠 수 있다."
      ],
      "metadata": {
        "id": "3HYND4CZpwEu"
      }
    },
    {
      "cell_type": "markdown",
      "source": [
        "### 행렬의 종류\n",
        "\n",
        "- 정방행렬은 행과 열의 수가 같은 행렬\n",
        "- 대각행렬은 주대각선 원소를 제외한 모든 원소들이 0인 정방행렬\n",
        "- 삼각행렬은 주대각선 위 또는 아래의 모든 요소가 0인 특별한 종류의 정방행렬입니다\n",
        "- 항등행렬은 행렬 곱셈 연산에 항등원으로 작용하는 행렬\n",
        "- 역행렬은 원래 행렬 A와 곱할 때 단위 행렬이 되는 행렬\n",
        "- 영행렬은 모든 원소가 0인 행렬로 곱셈 연산에서 영원으로 작용하는 행렬\n",
        "- 전치행렬은 주대각선 원소를 기준으로 행과 열을 바꿔주는 행렬"
      ],
      "metadata": {
        "id": "S3IycFGtsWz3"
      }
    },
    {
      "cell_type": "code",
      "source": [
        "# 정방 행렬/정사각형 행렬 (Square Matrix) : 같은 수의 행과 열을 갖는 행렬 (n x n 행렬)\n",
        "np.arange(9).reshape(3,3)"
      ],
      "metadata": {
        "colab": {
          "base_uri": "https://localhost:8080/"
        },
        "id": "A_6MqhPcsdu9",
        "outputId": "3da10bf9-f0e7-4d7e-9c11-b10d7769dc92"
      },
      "execution_count": null,
      "outputs": [
        {
          "output_type": "execute_result",
          "data": {
            "text/plain": [
              "array([[0, 1, 2],\n",
              "       [3, 4, 5],\n",
              "       [6, 7, 8]])"
            ]
          },
          "metadata": {},
          "execution_count": 14
        }
      ]
    },
    {
      "cell_type": "code",
      "source": [
        "# 정방행렬\n",
        "a = np.full((2,2),7)\n",
        "a"
      ],
      "metadata": {
        "colab": {
          "base_uri": "https://localhost:8080/"
        },
        "id": "movhqMhOtL7m",
        "outputId": "42feac1d-3119-4d3c-b4f7-cbcd44974fac"
      },
      "execution_count": null,
      "outputs": [
        {
          "output_type": "execute_result",
          "data": {
            "text/plain": [
              "array([[7, 7],\n",
              "       [7, 7]])"
            ]
          },
          "metadata": {},
          "execution_count": 16
        }
      ]
    },
    {
      "cell_type": "code",
      "source": [
        "# 대각행렬 (diagonal matrix) : 주대각선(principal diagonal) 원소들을 제외한 원소들이 모두 0 인 정방행렬\n",
        "np.diag([1,2,3])"
      ],
      "metadata": {
        "colab": {
          "base_uri": "https://localhost:8080/"
        },
        "id": "nmQ2uE4stt5_",
        "outputId": "3374b710-12fc-4512-e5fb-1e0bda22f805"
      },
      "execution_count": null,
      "outputs": [
        {
          "output_type": "execute_result",
          "data": {
            "text/plain": [
              "array([[1, 0, 0],\n",
              "       [0, 2, 0],\n",
              "       [0, 0, 3]])"
            ]
          },
          "metadata": {},
          "execution_count": 17
        }
      ]
    },
    {
      "cell_type": "code",
      "source": [
        "# Q. 1부터 5까지의 숫자를 대각선에 갖는 대각행렬을 만드세요.\n",
        "np.diag([1,2,3,4,5])"
      ],
      "metadata": {
        "colab": {
          "base_uri": "https://localhost:8080/"
        },
        "id": "_DMGaru_t6uW",
        "outputId": "e56ee601-6dd1-4cd6-f343-37a466d67ae9"
      },
      "execution_count": null,
      "outputs": [
        {
          "output_type": "execute_result",
          "data": {
            "text/plain": [
              "array([[1, 0, 0, 0, 0],\n",
              "       [0, 2, 0, 0, 0],\n",
              "       [0, 0, 3, 0, 0],\n",
              "       [0, 0, 0, 4, 0],\n",
              "       [0, 0, 0, 0, 5]])"
            ]
          },
          "metadata": {},
          "execution_count": 18
        }
      ]
    },
    {
      "cell_type": "code",
      "source": [
        "# Q. 2부터 10까지의 짝수를 대각선에 갖는 대각행렬을 만드세요.\n",
        "np.diag([2,4,6,8,10])"
      ],
      "metadata": {
        "colab": {
          "base_uri": "https://localhost:8080/"
        },
        "id": "yRM2M1rguaRT",
        "outputId": "dd77193c-45ed-4bc6-ca67-d0d143f601f0"
      },
      "execution_count": null,
      "outputs": [
        {
          "output_type": "execute_result",
          "data": {
            "text/plain": [
              "array([[ 2,  0,  0,  0,  0],\n",
              "       [ 0,  4,  0,  0,  0],\n",
              "       [ 0,  0,  6,  0,  0],\n",
              "       [ 0,  0,  0,  8,  0],\n",
              "       [ 0,  0,  0,  0, 10]])"
            ]
          },
          "metadata": {},
          "execution_count": 20
        }
      ]
    },
    {
      "cell_type": "code",
      "source": [
        "# 대각합 계산\n",
        "np.trace(np.diag([2,4,6,8,10]))"
      ],
      "metadata": {
        "colab": {
          "base_uri": "https://localhost:8080/"
        },
        "id": "_QDEIP0Mu8B0",
        "outputId": "04ecef12-01b3-47c4-84f1-a8b8b8f05be4"
      },
      "execution_count": null,
      "outputs": [
        {
          "output_type": "execute_result",
          "data": {
            "text/plain": [
              "30"
            ]
          },
          "metadata": {},
          "execution_count": 21
        }
      ]
    },
    {
      "cell_type": "code",
      "source": [
        "import numpy as np\n",
        "\n",
        "# 상삼각 행렬 정의\n",
        "A = np.triu(np.ones((3,3)))\n",
        "\n",
        "# 하삼각 행렬 정의\n",
        "B = np.tril(np.ones((3,3)))\n",
        "\n",
        "# 상삼각 행렬 출력\n",
        "print(A,'\\n')\n",
        "\n",
        "# 하삼각 행렬 출력\n",
        "print(B)"
      ],
      "metadata": {
        "colab": {
          "base_uri": "https://localhost:8080/"
        },
        "id": "SNu0b9WFva7O",
        "outputId": "74169f36-0b0c-4b79-8ab3-2a2e84153896"
      },
      "execution_count": null,
      "outputs": [
        {
          "output_type": "stream",
          "name": "stdout",
          "text": [
            "[[1. 1. 1.]\n",
            " [0. 1. 1.]\n",
            " [0. 0. 1.]] \n",
            "\n",
            "[[1. 0. 0.]\n",
            " [1. 1. 0.]\n",
            " [1. 1. 1.]]\n"
          ]
        }
      ]
    },
    {
      "cell_type": "code",
      "source": [
        "# 전치\n",
        "a = np.arange(9).reshape(3,3)\n",
        "print(a,'\\n')\n",
        "a.T"
      ],
      "metadata": {
        "colab": {
          "base_uri": "https://localhost:8080/"
        },
        "id": "tWfPxAHzwR1T",
        "outputId": "2dc2ce35-8cec-42c6-a07b-b2efa0553a10"
      },
      "execution_count": null,
      "outputs": [
        {
          "output_type": "stream",
          "name": "stdout",
          "text": [
            "[[0 1 2]\n",
            " [3 4 5]\n",
            " [6 7 8]] \n",
            "\n"
          ]
        },
        {
          "output_type": "execute_result",
          "data": {
            "text/plain": [
              "array([[0, 3, 6],\n",
              "       [1, 4, 7],\n",
              "       [2, 5, 8]])"
            ]
          },
          "metadata": {},
          "execution_count": 23
        }
      ]
    },
    {
      "cell_type": "code",
      "source": [
        "# Q. 1부터 1-까지의 숫자를 대각선에 갖는 대각행렬을 만들고, 그 대각행렬을 전치행렬로 바꾸세요.\n",
        "\n",
        "a = np.diag([1,2,3,4,5,6,7,8,9,10])\n",
        "print(a,'\\n')\n",
        "b = a.transpose()\n",
        "print(b)"
      ],
      "metadata": {
        "colab": {
          "base_uri": "https://localhost:8080/"
        },
        "id": "uYhlgW5wxDD6",
        "outputId": "7cfa3803-c681-4373-8576-d80a09a05746"
      },
      "execution_count": null,
      "outputs": [
        {
          "output_type": "stream",
          "name": "stdout",
          "text": [
            "[[ 1  0  0  0  0  0  0  0  0  0]\n",
            " [ 0  2  0  0  0  0  0  0  0  0]\n",
            " [ 0  0  3  0  0  0  0  0  0  0]\n",
            " [ 0  0  0  4  0  0  0  0  0  0]\n",
            " [ 0  0  0  0  5  0  0  0  0  0]\n",
            " [ 0  0  0  0  0  6  0  0  0  0]\n",
            " [ 0  0  0  0  0  0  7  0  0  0]\n",
            " [ 0  0  0  0  0  0  0  8  0  0]\n",
            " [ 0  0  0  0  0  0  0  0  9  0]\n",
            " [ 0  0  0  0  0  0  0  0  0 10]] \n",
            "\n",
            "[[ 1  0  0  0  0  0  0  0  0  0]\n",
            " [ 0  2  0  0  0  0  0  0  0  0]\n",
            " [ 0  0  3  0  0  0  0  0  0  0]\n",
            " [ 0  0  0  4  0  0  0  0  0  0]\n",
            " [ 0  0  0  0  5  0  0  0  0  0]\n",
            " [ 0  0  0  0  0  6  0  0  0  0]\n",
            " [ 0  0  0  0  0  0  7  0  0  0]\n",
            " [ 0  0  0  0  0  0  0  8  0  0]\n",
            " [ 0  0  0  0  0  0  0  0  9  0]\n",
            " [ 0  0  0  0  0  0  0  0  0 10]]\n"
          ]
        }
      ]
    },
    {
      "cell_type": "code",
      "source": [
        "# 항등행렬: 단위 행렬 (영어: unit matrix) 또는 항등 행렬(영어: identity matrix)은 주대각선의 원소가 모두 1이며\n",
        "# 나머지 원소는 모두 0인 정방행렬\n",
        "np.identity(3)"
      ],
      "metadata": {
        "colab": {
          "base_uri": "https://localhost:8080/"
        },
        "id": "0G1VbRYPx2gR",
        "outputId": "158ebc65-bf3f-49a2-cec0-93ecb596bef6"
      },
      "execution_count": null,
      "outputs": [
        {
          "output_type": "execute_result",
          "data": {
            "text/plain": [
              "array([[1., 0., 0.],\n",
              "       [0., 1., 0.],\n",
              "       [0., 0., 1.]])"
            ]
          },
          "metadata": {},
          "execution_count": 25
        }
      ]
    },
    {
      "cell_type": "code",
      "source": [
        "# 역행렬\n",
        "import numpy as np\n",
        "\n",
        "# Define the matrix A\n",
        "A = np.array([[1,2],[3,4]])\n",
        "print(A,'\\n')\n",
        "# Compute the inverse of A\n",
        "A_inverse = np.linalg.inv(A)\n",
        "\n",
        "# Print the inverse of A\n",
        "print(A_inverse,'\\n')\n",
        "print(A @ A_inverse)"
      ],
      "metadata": {
        "colab": {
          "base_uri": "https://localhost:8080/"
        },
        "id": "tyYn_YtYyhJo",
        "outputId": "90389322-2928-4622-9b34-6b6224a741a7"
      },
      "execution_count": null,
      "outputs": [
        {
          "output_type": "stream",
          "name": "stdout",
          "text": [
            "[[1 2]\n",
            " [3 4]] \n",
            "\n",
            "[[-2.   1. ]\n",
            " [ 1.5 -0.5]] \n",
            "\n",
            "[[1.0000000e+00 0.0000000e+00]\n",
            " [8.8817842e-16 1.0000000e+00]]\n"
          ]
        }
      ]
    },
    {
      "cell_type": "code",
      "source": [
        "print(1*(-2)+2*1.5)\n",
        "print(3*(-2)+4*1.5)\n",
        "print((1*1)+(2*-0.5))\n",
        "print((3*1)+(4*-0.5))"
      ],
      "metadata": {
        "colab": {
          "base_uri": "https://localhost:8080/"
        },
        "id": "edxhSil_3BMp",
        "outputId": "5f046f8b-fcf3-4ec5-ca08-82cbce632e92"
      },
      "execution_count": null,
      "outputs": [
        {
          "output_type": "stream",
          "name": "stdout",
          "text": [
            "1.0\n",
            "0.0\n",
            "0.0\n",
            "1.0\n"
          ]
        }
      ]
    },
    {
      "cell_type": "code",
      "source": [
        "# Q. 1부터 10까지의 숫자를 대각선에 갖는 대각행렬을 만들고, 그 대각행렬의 역행렬을 구하세요.\n",
        "a = np.diag([1,2,3,4,5,6,7,8,9,10])\n",
        "print(a,'\\n')\n",
        "b = np.linalg.inv(a)\n",
        "print(b)"
      ],
      "metadata": {
        "colab": {
          "base_uri": "https://localhost:8080/"
        },
        "id": "JIFvkgH_4giy",
        "outputId": "92083881-5eb1-4d2f-b6c7-b37c5606744b"
      },
      "execution_count": null,
      "outputs": [
        {
          "output_type": "stream",
          "name": "stdout",
          "text": [
            "[[ 1  0  0  0  0  0  0  0  0  0]\n",
            " [ 0  2  0  0  0  0  0  0  0  0]\n",
            " [ 0  0  3  0  0  0  0  0  0  0]\n",
            " [ 0  0  0  4  0  0  0  0  0  0]\n",
            " [ 0  0  0  0  5  0  0  0  0  0]\n",
            " [ 0  0  0  0  0  6  0  0  0  0]\n",
            " [ 0  0  0  0  0  0  7  0  0  0]\n",
            " [ 0  0  0  0  0  0  0  8  0  0]\n",
            " [ 0  0  0  0  0  0  0  0  9  0]\n",
            " [ 0  0  0  0  0  0  0  0  0 10]] \n",
            "\n",
            "[[1.         0.         0.         0.         0.         0.\n",
            "  0.         0.         0.         0.        ]\n",
            " [0.         0.5        0.         0.         0.         0.\n",
            "  0.         0.         0.         0.        ]\n",
            " [0.         0.         0.33333333 0.         0.         0.\n",
            "  0.         0.         0.         0.        ]\n",
            " [0.         0.         0.         0.25       0.         0.\n",
            "  0.         0.         0.         0.        ]\n",
            " [0.         0.         0.         0.         0.2        0.\n",
            "  0.         0.         0.         0.        ]\n",
            " [0.         0.         0.         0.         0.         0.16666667\n",
            "  0.         0.         0.         0.        ]\n",
            " [0.         0.         0.         0.         0.         0.\n",
            "  0.14285714 0.         0.         0.        ]\n",
            " [0.         0.         0.         0.         0.         0.\n",
            "  0.         0.125      0.         0.        ]\n",
            " [0.         0.         0.         0.         0.         0.\n",
            "  0.         0.         0.11111111 0.        ]\n",
            " [0.         0.         0.         0.         0.         0.\n",
            "  0.         0.         0.         0.1       ]]\n"
          ]
        }
      ]
    },
    {
      "cell_type": "code",
      "source": [
        "# Q. 1부터 10까지의 숫자를 대각선에 갖는 대각행렬을 만들고, 그 대각행렬을 제곱하세요.\n",
        "a = np.diag([1,2,3,4,5,6,7,8,9,10])\n",
        "print(a,'\\n')\n",
        "b = np.square(a)\n",
        "print(b)"
      ],
      "metadata": {
        "colab": {
          "base_uri": "https://localhost:8080/"
        },
        "id": "filGdYYW5UhG",
        "outputId": "fb2964bf-2ddf-48d5-efc2-6ee45e028efc"
      },
      "execution_count": null,
      "outputs": [
        {
          "output_type": "stream",
          "name": "stdout",
          "text": [
            "[[ 1  0  0  0  0  0  0  0  0  0]\n",
            " [ 0  2  0  0  0  0  0  0  0  0]\n",
            " [ 0  0  3  0  0  0  0  0  0  0]\n",
            " [ 0  0  0  4  0  0  0  0  0  0]\n",
            " [ 0  0  0  0  5  0  0  0  0  0]\n",
            " [ 0  0  0  0  0  6  0  0  0  0]\n",
            " [ 0  0  0  0  0  0  7  0  0  0]\n",
            " [ 0  0  0  0  0  0  0  8  0  0]\n",
            " [ 0  0  0  0  0  0  0  0  9  0]\n",
            " [ 0  0  0  0  0  0  0  0  0 10]] \n",
            "\n",
            "[[  1   0   0   0   0   0   0   0   0   0]\n",
            " [  0   4   0   0   0   0   0   0   0   0]\n",
            " [  0   0   9   0   0   0   0   0   0   0]\n",
            " [  0   0   0  16   0   0   0   0   0   0]\n",
            " [  0   0   0   0  25   0   0   0   0   0]\n",
            " [  0   0   0   0   0  36   0   0   0   0]\n",
            " [  0   0   0   0   0   0  49   0   0   0]\n",
            " [  0   0   0   0   0   0   0  64   0   0]\n",
            " [  0   0   0   0   0   0   0   0  81   0]\n",
            " [  0   0   0   0   0   0   0   0   0 100]]\n"
          ]
        }
      ]
    },
    {
      "cell_type": "code",
      "source": [
        "# 단위 행렬은 행렬과 그 역행렬이 동일한 유일한 행렬\n",
        "import numpy as np\n",
        "\n",
        "# 단위 행렬 정의\n",
        "l = np.eye(3)\n",
        "# 단위 행렬 출력\n",
        "print(l,'\\n')\n",
        "print(np.linalg.inv(l),'\\n')\n",
        "# 행렬이 단위 행렬인지 확인\n",
        "print(np.allclose(l, np.linalg.inv(l)))"
      ],
      "metadata": {
        "colab": {
          "base_uri": "https://localhost:8080/"
        },
        "id": "k4nRnIxq5jnK",
        "outputId": "2040cb2f-2fbb-4088-9dab-55d82c3bb394"
      },
      "execution_count": null,
      "outputs": [
        {
          "output_type": "stream",
          "name": "stdout",
          "text": [
            "[[1. 0. 0.]\n",
            " [0. 1. 0.]\n",
            " [0. 0. 1.]] \n",
            "\n",
            "[[1. 0. 0.]\n",
            " [0. 1. 0.]\n",
            " [0. 0. 1.]] \n",
            "\n",
            "True\n"
          ]
        }
      ]
    },
    {
      "cell_type": "code",
      "source": [
        "# arr5가 부동 소수점 데이터 유형의 배열인 경우 ar이 정수 배열이라더라도 ar @ arr5의 결과는 부동 소수점 유형이 된다.\n",
        "# 이는 NumPy가 행렬 곱셈에서 'arr5'의 정밀도가 손실되지 않도록 보장하기 때문\n",
        "arr5 = np.eye(3)\n",
        "print(arr5,'\\n')\n",
        "ar = np.arange(1,10).reshape(3,3)\n",
        "print(ar,'\\n')\n",
        "ar @ arr5"
      ],
      "metadata": {
        "colab": {
          "base_uri": "https://localhost:8080/"
        },
        "id": "XFAGTA6O67ZE",
        "outputId": "2ffbf657-647d-42cc-8ee6-022981644b61"
      },
      "execution_count": null,
      "outputs": [
        {
          "output_type": "stream",
          "name": "stdout",
          "text": [
            "[[1. 0. 0.]\n",
            " [0. 1. 0.]\n",
            " [0. 0. 1.]] \n",
            "\n",
            "[[1 2 3]\n",
            " [4 5 6]\n",
            " [7 8 9]] \n",
            "\n"
          ]
        },
        {
          "output_type": "execute_result",
          "data": {
            "text/plain": [
              "array([[1., 2., 3.],\n",
              "       [4., 5., 6.],\n",
              "       [7., 8., 9.]])"
            ]
          },
          "metadata": {},
          "execution_count": 33
        }
      ]
    },
    {
      "cell_type": "code",
      "source": [
        "ar5 = arr5.astype(np.int32)\n",
        "ar @ ar5"
      ],
      "metadata": {
        "colab": {
          "base_uri": "https://localhost:8080/"
        },
        "id": "uuCqjF8T7lcZ",
        "outputId": "a7b8b5fb-e8bf-417f-d78b-b24e89181791"
      },
      "execution_count": null,
      "outputs": [
        {
          "output_type": "execute_result",
          "data": {
            "text/plain": [
              "array([[1, 2, 3],\n",
              "       [4, 5, 6],\n",
              "       [7, 8, 9]])"
            ]
          },
          "metadata": {},
          "execution_count": 34
        }
      ]
    },
    {
      "cell_type": "code",
      "source": [
        "# 영행렬\n",
        "import numpy as np\n",
        "\n",
        "# Define the zero matrix\n",
        "Z = np.zeros((3,3))\n",
        "\n",
        "# Print the zero matrix\n",
        "print(Z)\n",
        "\n",
        "# Check if the matrix is indeed a zero matrix\n",
        "print(np.all(Z == 0))"
      ],
      "metadata": {
        "colab": {
          "base_uri": "https://localhost:8080/"
        },
        "id": "OKODV1nR7_yd",
        "outputId": "dfcbe7f0-d7ae-49f5-d263-2b0b26446de0"
      },
      "execution_count": null,
      "outputs": [
        {
          "output_type": "stream",
          "name": "stdout",
          "text": [
            "[[0. 0. 0.]\n",
            " [0. 0. 0.]\n",
            " [0. 0. 0.]]\n",
            "True\n"
          ]
        }
      ]
    },
    {
      "cell_type": "markdown",
      "source": [
        "### 벡터와 행렬의 연산\n",
        "- 벡터/행렬의 덧셈과 뺄셈 : 같은 위치에 있는 원소끼리 수행. 요소별 연산\n",
        "- 스칼라와 벡터/행렬의 곱셈\n",
        "- 브로드캐스팅 : 스칼라를 벡터로 변환한 연산을 허용\n",
        "- 벡터와 벡터의 곱셈. 내적\n",
        " - 두 벡터의 차원(길이)이 같아야 한다.\n",
        " - 앞의 벡터가 행벡터이고 뒤의 벡터가 열벡터여야 한다.\n",
        " - 내적의 결과는 스칼라 값이 됨. dot() 또는 @ 연산자로 계산"
      ],
      "metadata": {
        "id": "SMYzY-1I-Ftu"
      }
    },
    {
      "cell_type": "code",
      "source": [
        "x = np.array([10,11,12,13,14])\n",
        "y = np.array([0,1,2,3,4])\n",
        "print(x + y)\n",
        "print(x - y)\n"
      ],
      "metadata": {
        "colab": {
          "base_uri": "https://localhost:8080/"
        },
        "id": "7YqM_6hj-Eil",
        "outputId": "b491266c-d836-4842-a0f8-d8c7b3573e67"
      },
      "execution_count": null,
      "outputs": [
        {
          "output_type": "stream",
          "name": "stdout",
          "text": [
            "[10 12 14 16 18]\n",
            "[10 10 10 10 10]\n"
          ]
        }
      ]
    },
    {
      "cell_type": "code",
      "source": [
        "np.array([[5,6],[7,8]]) + np.array([[10,20],[30,40]]) - np.array([[1,2],[3,4]])"
      ],
      "metadata": {
        "colab": {
          "base_uri": "https://localhost:8080/"
        },
        "id": "C5z58Ans_SlY",
        "outputId": "ce4295f2-b65a-48bd-b50e-9ec88bc0f668"
      },
      "execution_count": null,
      "outputs": [
        {
          "output_type": "execute_result",
          "data": {
            "text/plain": [
              "array([[14, 24],\n",
              "       [34, 44]])"
            ]
          },
          "metadata": {},
          "execution_count": 37
        }
      ]
    },
    {
      "cell_type": "code",
      "source": [
        "# 스칼라와 벡터/행렬의 곱셈\n",
        "x1 = np.array([10,11,12])\n",
        "np.dot(3,x1)"
      ],
      "metadata": {
        "colab": {
          "base_uri": "https://localhost:8080/"
        },
        "id": "wNEsqqkP_2dH",
        "outputId": "e9ffb0d7-3bed-49c1-f1cf-b16f3d564ad9"
      },
      "execution_count": null,
      "outputs": [
        {
          "output_type": "execute_result",
          "data": {
            "text/plain": [
              "array([30, 33, 36])"
            ]
          },
          "metadata": {},
          "execution_count": 38
        }
      ]
    },
    {
      "cell_type": "code",
      "source": [
        "# 브로드캐스팅\n",
        "x1 = np.array([10,11,12])\n",
        "x1 -10"
      ],
      "metadata": {
        "colab": {
          "base_uri": "https://localhost:8080/"
        },
        "id": "DzEEWQSZ__Tx",
        "outputId": "73a7b93b-33a0-4ddc-a614-bdbfa936328b"
      },
      "execution_count": null,
      "outputs": [
        {
          "output_type": "execute_result",
          "data": {
            "text/plain": [
              "array([0, 1, 2])"
            ]
          },
          "metadata": {},
          "execution_count": 39
        }
      ]
    },
    {
      "cell_type": "code",
      "source": [
        "# 넘파이에서 벡터와 행렬의 내적은 dot() 또는 @ 연산자로 계산\n",
        "x = np.array([[1],[2],[3]])\n",
        "y = np.array([[4],[5],[6]])\n",
        "print(x, '\\n')\n",
        "print(x.T, '\\n')\n",
        "print(y,'\\n')\n",
        "x.T @ y # 또는 np.dot(x.T, y)"
      ],
      "metadata": {
        "colab": {
          "base_uri": "https://localhost:8080/"
        },
        "id": "h0WgosVeBF3t",
        "outputId": "ae885919-30fa-4ce0-b635-0e52449cbd9f"
      },
      "execution_count": null,
      "outputs": [
        {
          "output_type": "stream",
          "name": "stdout",
          "text": [
            "[[1]\n",
            " [2]\n",
            " [3]] \n",
            "\n",
            "[[1 2 3]] \n",
            "\n",
            "[[4]\n",
            " [5]\n",
            " [6]] \n",
            "\n"
          ]
        },
        {
          "output_type": "execute_result",
          "data": {
            "text/plain": [
              "array([[32]])"
            ]
          },
          "metadata": {},
          "execution_count": 40
        }
      ]
    },
    {
      "cell_type": "code",
      "source": [
        "# 넘파이에서는 1차원 배열끼리도 내적을 계산하는데 넘파이가 앞의 벡터는 행벡터이고 뒤는 열벡터라고 가정함\n",
        "# 1차원 ndarry는 전치연산이 정의되지 않는다.\n",
        "x = np.array([1,2,3])\n",
        "y = np.array([4,5,6])\n",
        "\n",
        "x @ y # 또는 np.dot(x, y)"
      ],
      "metadata": {
        "colab": {
          "base_uri": "https://localhost:8080/"
        },
        "id": "J5d2jlHqSj8B",
        "outputId": "c1eec3eb-a3d6-46b1-a5a5-c91f492ee335"
      },
      "execution_count": null,
      "outputs": [
        {
          "output_type": "execute_result",
          "data": {
            "text/plain": [
              "32"
            ]
          },
          "metadata": {},
          "execution_count": 41
        }
      ]
    },
    {
      "cell_type": "code",
      "source": [
        "x.T"
      ],
      "metadata": {
        "colab": {
          "base_uri": "https://localhost:8080/"
        },
        "id": "Rhtmf3zGTAi2",
        "outputId": "dad65bbb-7747-4d65-e568-ab246144f9ba"
      },
      "execution_count": null,
      "outputs": [
        {
          "output_type": "execute_result",
          "data": {
            "text/plain": [
              "array([1, 2, 3])"
            ]
          },
          "metadata": {},
          "execution_count": 43
        }
      ]
    },
    {
      "cell_type": "code",
      "source": [
        "# p 주식가격, n 주식수일 때 매수금액을 내적으로 구하기\n",
        "# n.T는 1D 배열의 전치가 배열 자체이므로 배열을 변경하지 않는다. 따라서 'n.T'는 여전히 1차원 배열\n",
        "p = np.array([100,80,50])\n",
        "n = np.array([3,4,5])\n",
        "print(p)\n",
        "print(n)\n",
        "np.dot(p,n)"
      ],
      "metadata": {
        "colab": {
          "base_uri": "https://localhost:8080/"
        },
        "id": "NWWQ7bjUTHUV",
        "outputId": "e8820aa0-dd60-419e-895c-35c2e0994b26"
      },
      "execution_count": null,
      "outputs": [
        {
          "output_type": "stream",
          "name": "stdout",
          "text": [
            "[100  80  50]\n",
            "[3 4 5]\n"
          ]
        },
        {
          "output_type": "execute_result",
          "data": {
            "text/plain": [
              "870"
            ]
          },
          "metadata": {},
          "execution_count": 44
        }
      ]
    },
    {
      "cell_type": "code",
      "source": [
        "# 행렬곱 : x.dot(y), np.dot(x,y) (2 x 3) @ (3 x 2) => (2 x 2)\n",
        "\n",
        "x = np.arange(1,7).reshape(2,3)\n",
        "y = np.array([[6.,23],[-1,7],[8,9]])\n",
        "print(x)\n",
        "print(y)\n",
        "x.dot(y)"
      ],
      "metadata": {
        "colab": {
          "base_uri": "https://localhost:8080/"
        },
        "id": "_PNylYm9VSSw",
        "outputId": "1bc3c891-6e2b-4aba-d07b-480eb1db7d51"
      },
      "execution_count": null,
      "outputs": [
        {
          "output_type": "stream",
          "name": "stdout",
          "text": [
            "[[1 2 3]\n",
            " [4 5 6]]\n",
            "[[ 6. 23.]\n",
            " [-1.  7.]\n",
            " [ 8.  9.]]\n"
          ]
        },
        {
          "output_type": "execute_result",
          "data": {
            "text/plain": [
              "array([[ 28.,  64.],\n",
              "       [ 67., 181.]])"
            ]
          },
          "metadata": {},
          "execution_count": 47
        }
      ]
    },
    {
      "cell_type": "code",
      "source": [
        "np.dot(x,y)"
      ],
      "metadata": {
        "colab": {
          "base_uri": "https://localhost:8080/"
        },
        "id": "779BBkZAVsRz",
        "outputId": "7dbcd2aa-e3cf-4ba6-a140-351764be85a6"
      },
      "execution_count": null,
      "outputs": [
        {
          "output_type": "execute_result",
          "data": {
            "text/plain": [
              "array([[ 28,  64],\n",
              "       [ 67, 181]])"
            ]
          },
          "metadata": {},
          "execution_count": 46
        }
      ]
    },
    {
      "cell_type": "code",
      "source": [
        "from google.colab import drive\n",
        "drive.mount('/content/drive')"
      ],
      "metadata": {
        "colab": {
          "base_uri": "https://localhost:8080/"
        },
        "id": "hWoU-hEGWiZT",
        "outputId": "c4f724b0-d98c-4998-adf0-1147191e4ab3"
      },
      "execution_count": null,
      "outputs": [
        {
          "output_type": "stream",
          "name": "stdout",
          "text": [
            "Mounted at /content/drive\n"
          ]
        }
      ]
    },
    {
      "cell_type": "code",
      "source": [
        "from PIL import Image\n",
        "import matplotlib.pyplot as plt\n",
        "\n",
        "# 이미지 파일 경로\n",
        "image_path = '/content/drive/MyDrive/KITA_1026/m3_분석라이브러리/numpy/행렬곱.jpg'\n",
        "\n",
        "# 이미지를 불러옵니다.\n",
        "image = Image.open(image_path)\n",
        "plt.imshow(image)\n",
        "plt.axis('off') # Turn off axis numbers\n",
        "plt.show()"
      ],
      "metadata": {
        "colab": {
          "base_uri": "https://localhost:8080/",
          "height": 406
        },
        "id": "CexyVt3tV76q",
        "outputId": "7d3c57c1-0ec6-41de-a58c-ac1bc90d00ae"
      },
      "execution_count": null,
      "outputs": [
        {
          "output_type": "display_data",
          "data": {
            "text/plain": [
              "<Figure size 640x480 with 1 Axes>"
            ],
            "image/png": "[encoded data removed]"
          },
          "metadata": {}
        }
      ]
    },
    {
      "cell_type": "code",
      "source": [
        "# Q. 아래 mt1 행렬의 역행렬 mt2를 구한 후 mt1과 mt2의 행렬곱 결과과 단위행렬인지를 확인하세요.\n",
        "np.random.seed(0)\n",
        "mt1 = np.random.randint(1,4,size = (3,3))\n",
        "print(mt1, '\\n')"
      ],
      "metadata": {
        "colab": {
          "base_uri": "https://localhost:8080/"
        },
        "id": "0vqqQakuZTEk",
        "outputId": "ecac15cf-b184-4f73-b8e1-95fdfa1edc80"
      },
      "execution_count": null,
      "outputs": [
        {
          "output_type": "stream",
          "name": "stdout",
          "text": [
            "[[1 2 1]\n",
            " [2 2 3]\n",
            " [1 3 1]] \n",
            "\n"
          ]
        }
      ]
    },
    {
      "cell_type": "code",
      "source": [
        "mt2 = np.linalg.inv(mt1)\n",
        "print(mt2,'\\n')\n",
        "np.dot(mt1,mt2)"
      ],
      "metadata": {
        "colab": {
          "base_uri": "https://localhost:8080/"
        },
        "id": "HUKSqQUbZ2PM",
        "outputId": "e1ecec5f-754a-4fdf-9aa2-7202a42dcc6f"
      },
      "execution_count": null,
      "outputs": [
        {
          "output_type": "stream",
          "name": "stdout",
          "text": [
            "[[ 7. -1. -4.]\n",
            " [-1.  0.  1.]\n",
            " [-4.  1.  2.]] \n",
            "\n"
          ]
        },
        {
          "output_type": "execute_result",
          "data": {
            "text/plain": [
              "array([[1., 0., 0.],\n",
              "       [0., 1., 0.],\n",
              "       [0., 0., 1.]])"
            ]
          },
          "metadata": {},
          "execution_count": 59
        }
      ]
    },
    {
      "cell_type": "markdown",
      "source": [
        "### np.dot과 np.matmul의 차이\n",
        "- np.dot은 1차원 배열에 대해서는 내적을, 2차원 배열에 대해서는 행렬 곱셈을, 그리고 더 높은 차원의 배열에 대해서는 일반화된 내적을 수행.\n",
        "- np.matmul (또는 @ 연산자)은 모든 경우에 행렬 곱셈을 수행하며, 더 직관적인 행렬 곱셈 동작을 제공.\n",
        "- 행렬 곱셈에 관한 코드를 작성할 때, 명확성을 위해 np.matmul이나 @ 연산자를 사용하는 것이 좋다.\n",
        "- 3차원 이상 배열에서 dot은 입력 배열의 차원을 변경시키는 반면 matmul은 입력 배열의 차원을 보존.\n",
        "\n",
        "내적(내적)\n",
        "- 정의: 내적은 두 개의 동일한 길이의 숫자 시퀀스(일반적으로 좌표 벡터)를 가져와 단일 숫자를 반환하는 연산.\n",
        "공식: a=[a1​,a2​,...,an​] 및 b=[b1​,b2​,...,bn​]이 두 개의 벡터인 경우 내적은 다음과 같이 정의. $$ a⋅b=a1​b1​+a2​b2​+...+an​bn​ $$\n",
        "- 용도: 내적은 두 벡터 사이의 각도 찾기, 투영 계산, 힘에 의해 수행된 작업을 표현하기 위한 물리학 및 공학 등 다양한 응용 분야에서 사용.\n",
        "\n",
        "행렬 곱셈\n",
        "- 정의: 행렬 곱셈은 두 행렬에서 행렬을 생성하는 이진 연산. 행렬 곱셈이 유효하려면 첫 번째 행렬의 열 수가 두 번째 행렬의 행 수와 같아야 한다.\n",
        "- 공식: A가 m×n 행렬이고 B가 n×p 행렬인 경우 행렬 곱 AB는 m×p 행렬. AB의 i번째 행과 j번째 열의 요소는 A의 i번째 행과 B의 j번째 열의 내적으로 계산.\n",
        "- 용도: 행렬 곱셈은 선형 변환, 선형 방정식 풀이 시스템, 컴퓨터 그래픽 등에 사용.\n",
        "\n",
        "주요 차이점\n",
        "- 차원 요구사항: 내적에는 동일한 길이의 벡터가 필요한 반면, 행렬 곱셈에는 첫 번째 행렬의 열이 두 번째 행렬의 행과 일치해야 한다.\n",
        "- 결과: 내적은 단일 숫자를 생성하는 반면, 행렬 곱셈은 새로운 행렬을 생성.\n",
        "- 교환성: 내적은 교환 가능하지만(즉, a⋅b=b⋅a) 행렬 곱셈은 일반적으로 교환 가능하지 않다."
      ],
      "metadata": {
        "id": "2H38lOxJa0RG"
      }
    },
    {
      "cell_type": "code",
      "source": [
        "arr = np.array([[1,2],[3,4]])\n",
        "arr_inv = np.linalg.inv(arr)\n",
        "np.dot(arr,arr_inv)"
      ],
      "metadata": {
        "colab": {
          "base_uri": "https://localhost:8080/"
        },
        "id": "d5HztZ4pa4q3",
        "outputId": "f50b8e47-2a8a-42ff-9e3e-4b95f9b6b7e6"
      },
      "execution_count": null,
      "outputs": [
        {
          "output_type": "execute_result",
          "data": {
            "text/plain": [
              "array([[1.0000000e+00, 0.0000000e+00],\n",
              "       [8.8817842e-16, 1.0000000e+00]])"
            ]
          },
          "metadata": {},
          "execution_count": 60
        }
      ]
    },
    {
      "cell_type": "code",
      "source": [
        "np.matmul(arr,arr_inv)"
      ],
      "metadata": {
        "colab": {
          "base_uri": "https://localhost:8080/"
        },
        "id": "engWCVYPfrmz",
        "outputId": "a827b86b-177f-4c54-d2a8-225ce5994c73"
      },
      "execution_count": null,
      "outputs": [
        {
          "output_type": "execute_result",
          "data": {
            "text/plain": [
              "array([[1.0000000e+00, 0.0000000e+00],\n",
              "       [8.8817842e-16, 1.0000000e+00]])"
            ]
          },
          "metadata": {},
          "execution_count": 61
        }
      ]
    },
    {
      "cell_type": "code",
      "source": [
        "import numpy as np\n",
        "\n",
        "arr = np.array([[[1,3],[5,7]],[[2,5],[4,6]]])\n",
        "print(arr,'\\n')\n",
        "arr_inv = np.linalg.inv(arr)\n",
        "\n",
        "print(arr_inv)"
      ],
      "metadata": {
        "colab": {
          "base_uri": "https://localhost:8080/"
        },
        "id": "KsSgwUtGgh8w",
        "outputId": "7c140a6d-73b8-40dc-9610-7bbf933e175d"
      },
      "execution_count": null,
      "outputs": [
        {
          "output_type": "stream",
          "name": "stdout",
          "text": [
            "[[[1 3]\n",
            "  [5 7]]\n",
            "\n",
            " [[2 5]\n",
            "  [4 6]]] \n",
            "\n",
            "[[[-0.875  0.375]\n",
            "  [ 0.625 -0.125]]\n",
            "\n",
            " [[-0.75   0.625]\n",
            "  [ 0.5   -0.25 ]]]\n"
          ]
        }
      ]
    },
    {
      "cell_type": "code",
      "source": [
        "np.dot(arr,arr_inv)"
      ],
      "metadata": {
        "colab": {
          "base_uri": "https://localhost:8080/"
        },
        "id": "Q6A0K48ChYP3",
        "outputId": "c1aa7b7b-d97b-4b15-c997-6f9c8758b754"
      },
      "execution_count": null,
      "outputs": [
        {
          "output_type": "execute_result",
          "data": {
            "text/plain": [
              "array([[[[ 1.   ,  0.   ],\n",
              "         [ 0.75 , -0.125]],\n",
              "\n",
              "        [[ 0.   ,  1.   ],\n",
              "         [-0.25 ,  1.375]]],\n",
              "\n",
              "\n",
              "       [[[ 1.375,  0.125],\n",
              "         [ 1.   ,  0.   ]],\n",
              "\n",
              "        [[ 0.25 ,  0.75 ],\n",
              "         [ 0.   ,  1.   ]]]])"
            ]
          },
          "metadata": {},
          "execution_count": 64
        }
      ]
    },
    {
      "cell_type": "code",
      "source": [
        "np.matmul(arr,arr_inv)"
      ],
      "metadata": {
        "colab": {
          "base_uri": "https://localhost:8080/"
        },
        "id": "3wRxID4thb5V",
        "outputId": "68f0a494-a666-467b-e688-ff7a683cf267"
      },
      "execution_count": null,
      "outputs": [
        {
          "output_type": "execute_result",
          "data": {
            "text/plain": [
              "array([[[1., 0.],\n",
              "        [0., 1.]],\n",
              "\n",
              "       [[1., 0.],\n",
              "        [0., 1.]]])"
            ]
          },
          "metadata": {},
          "execution_count": 65
        }
      ]
    },
    {
      "cell_type": "code",
      "source": [
        "import numpy as np\n",
        "\n",
        "# Creating two 3D arrays\n",
        "A = np.random.rand(2,3,4) # 3D array of shape (2,3,4)\n",
        "B = np.random.rand(2,4,3) # 3D array of shape (2,4,3)\n",
        "\n",
        "# Dot product\n",
        "dot_product = np.dot(A, B) # Result will be of shape (2,3,2,3)\n",
        "\n",
        "# Matrix product using matmul\n",
        "matmul_product = np.matmul(A, B) # Result will be of shape (2,3,3)\n",
        "\n",
        "# Matrix product using @ operator\n",
        "at_operator_product = A @ B # Result will be of shape (2,3,3)\n",
        "\n",
        "print(\"dot_product:\", dot_product, dot_product.shape, '\\n')\n",
        "print(\"matmul_product:\", matmul_product, matmul_product.shape, '\\n')\n",
        "print(\"at_operator_product:\", at_operator_product, at_operator_product.shape)"
      ],
      "metadata": {
        "colab": {
          "base_uri": "https://localhost:8080/"
        },
        "id": "YnYuNOv9iZln",
        "outputId": "966c734c-0fec-44ad-f15c-341148a9d477"
      },
      "execution_count": null,
      "outputs": [
        {
          "output_type": "stream",
          "name": "stdout",
          "text": [
            "dot_product: [[[[1.65473514 1.69126934 0.57114949]\n",
            "   [1.19738399 1.22494272 1.21003575]]\n",
            "\n",
            "  [[0.93591349 0.9986675  0.6124909 ]\n",
            "   [0.54748258 0.72226742 0.5404211 ]]\n",
            "\n",
            "  [[1.63808525 1.65864655 0.84620178]\n",
            "   [0.65331024 0.79921717 1.21653742]]]\n",
            "\n",
            "\n",
            " [[[1.71662223 1.90460893 0.72432934]\n",
            "   [1.09832569 1.27381574 1.07856772]]\n",
            "\n",
            "  [[0.99732875 1.21569581 0.50544116]\n",
            "   [0.33950224 0.54136289 0.55169977]]\n",
            "\n",
            "  [[1.08218993 1.27095806 0.4073629 ]\n",
            "   [0.63126721 0.75852129 0.64697591]]]] (2, 3, 2, 3) \n",
            "\n",
            "matmul_product: [[[1.65473514 1.69126934 0.57114949]\n",
            "  [0.93591349 0.9986675  0.6124909 ]\n",
            "  [1.63808525 1.65864655 0.84620178]]\n",
            "\n",
            " [[1.09832569 1.27381574 1.07856772]\n",
            "  [0.33950224 0.54136289 0.55169977]\n",
            "  [0.63126721 0.75852129 0.64697591]]] (2, 3, 3) \n",
            "\n",
            "at_operator_product: [[[1.65473514 1.69126934 0.57114949]\n",
            "  [0.93591349 0.9986675  0.6124909 ]\n",
            "  [1.63808525 1.65864655 0.84620178]]\n",
            "\n",
            " [[1.09832569 1.27381574 1.07856772]\n",
            "  [0.33950224 0.54136289 0.55169977]\n",
            "  [0.63126721 0.75852129 0.64697591]]] (2, 3, 3)\n"
          ]
        }
      ]
    },
    {
      "cell_type": "markdown",
      "source": [
        "### 행렬 곱셈\n",
        "- 입력 데이터(종종 행렬로 표시됨)에 가중치 행렬을 곱하는 신경망의 기본 작업.\n",
        "- 이 작업은 신경망의 레이어가 입력 데이터를 출력 데이터로 변환하는 방법의 핵심\n",
        "- 3개의 뉴런이 있는 신경망 레이어가 있고 입력 데이터가 4개의 특징으로 구성되어 있다고 가정하 단일 인스턴스에 대한 입력 데이터는 1x4 행렬(또는 4차원 벡터)로 표현될 수 있으며, 레이어의 가중치는 4x3 행렬로 표현\n",
        "- 3개의 뉴런 각각은 4개의 입력 특성 모두의 가중 합계를 계산한다.\n",
        "  - 입력 데이터(1x4 매트릭스):\n",
        "    [x1​,x2​,x3​,x4​]\n",
        "\n",
        "  - 가중치(4x3 매트릭스):\n",
        "    [w11​,w12​,w13​] [w21​,w22​,w23​] [w31​,w32​,w33​] [w41​,w42​,w43​]\n",
        "\n",
        "```\n",
        "import numpy as np\n",
        "\n",
        "# Example input data (1x4 matrix)\n",
        "input_data = np.array([x1, x2, x3, x4])\n",
        "\n",
        "# Example weights of the layer (4x3 matrix)\n",
        "weights = np.array([[w11, w12, w13],\n",
        "                    [w21, w22, w23],\n",
        "                    [w31, w32, w33],\n",
        "                    [w41, w42, w43]])\n",
        "\n",
        "# Matrix multiplication\n",
        "output = np.dot(input_data, weights)\n",
        "\n",
        "print(\"Output:\", output)\n",
        "```"
      ],
      "metadata": {
        "id": "s693NQZVjbsm"
      }
    },
    {
      "cell_type": "code",
      "source": [
        "# 행렬곱 : (1 x 4) @ (4 x 3) => (1 x 3)\n",
        "import numpy as np\n",
        "\n",
        "# Example input data (1x4 matrix)\n",
        "# Let's assume some arbitrary values for the input features\n",
        "input_data = np.array([1.2, 3.4, 5.6, 7.8])\n",
        "\n",
        "# Example weights of the layer (4x3 matrix)\n",
        "# Assuming arbitrary values for the weights as well\n",
        "weights = np.array([[0.1, 0.2, 0.3],\n",
        "                    [0.4, 0.5, 0.6],\n",
        "                    [0.7, 0.8, 0.9],\n",
        "                    [1.0, 1.1, 1.2]])\n",
        "\n",
        "# Matrix multiplication\n",
        "output = np.dot(input_data, weights)\n",
        "\n",
        "output"
      ],
      "metadata": {
        "colab": {
          "base_uri": "https://localhost:8080/"
        },
        "id": "CjJ5LqysjdNE",
        "outputId": "3841feba-3087-4429-f3db-98d690e51427"
      },
      "execution_count": null,
      "outputs": [
        {
          "output_type": "execute_result",
          "data": {
            "text/plain": [
              "array([13.2, 15. , 16.8])"
            ]
          },
          "metadata": {},
          "execution_count": 68
        }
      ]
    },
    {
      "cell_type": "markdown",
      "source": [
        "### 행렬식\n",
        "- 선형 종속성 판단: 행렬식이 0이 아닌 경우 해당 행렬의 열 또는 행은 선형 독립이다. 다중공선성 문제를 확인하는데 유효\n",
        "- 특이값 분해 및 주성분 분석: 행렬식은 데이터의 분산을 설명하는데 도움을 준다.\n",
        "- 역행렬의 존재 확인: 역행렬이 존재하는지 여부를 행렬식을 통해 알 수 있다. 행렬식이 0이 아니면 역행렬이 존재\n",
        "\n",
        "행렬의 행렬식은 실제로 해당 행렬이 나타내는 변환과 관련된 면적이나 부피(또는 유사한 고차원 측정값)와 관련이 있다\n",
        "- 2x2 행렬의 경우: 2x2 행렬의 행렬식의 절대값은 행렬의 열 벡터로 형성된 평행사변형의 면적에 해당. 단위 정사각형(면적 1 포함)을 고려하고 행렬로 표시되는 변환을 적용하면 변환된 모양(일반적으로 평행사변형)의 면적은 행렬식의 절대값과 같다.\n",
        "- 3x3 행렬의 경우: 마찬가지로, 3x3 행렬의 행렬식의 절대값은 행렬의 열 벡터로 형성된 평행육면체의 부피를 나타낸다. 다시, 단위 입방체(체적 1)로 시작하여 행렬 변환을 적용하면 변환된 모양(이 경우 평행육면체)의 부피는 행렬식의 절대값이 된다.\n",
        "- 더 높은 차원의 경우: 더 높은 차원에서는 개념이 유사하게 확장된다. 행렬식은 행렬로 표현된 변환이 고차원 공간의 부피를 얼마나 확장하는지에 대한 척도를 제공\n",
        "\n",
        "행렬식(determinant)은 행렬을 대표하는 값으로 n x n (n은 2 이상)의 정방행렬 A에 대해 다음과 같이 정의.\n",
        "- detA11이란 A에서 1행과 1열을 제외한 행렬의 행렬식을 의미.\n",
        "- 2 x 2 행렬의 요소값이 a,b,c,d라고 할 때 행렬식은 ad−bc."
      ],
      "metadata": {
        "id": "MWiNtIYtoFgn"
      }
    },
    {
      "cell_type": "code",
      "source": [
        "from google.colab import files\n",
        "from IPython.display import Image, display\n",
        "\n",
        "# Upload a single file from your local system\n",
        "uploaded_file = files.upload()"
      ],
      "metadata": {
        "colab": {
          "base_uri": "https://localhost:8080/",
          "height": 77
        },
        "id": "xXbalshcmIO3",
        "outputId": "a61c7d57-91ab-48c3-9dfd-8012bba99ab1"
      },
      "execution_count": null,
      "outputs": [
        {
          "output_type": "display_data",
          "data": {
            "text/plain": [
              "<IPython.core.display.HTML object>"
            ],
            "text/html": [
              "\n",
              "     <input type=\"file\" id=\"files-f04c32aa-bbb1-4987-b293-5237d2fa9fa2\" name=\"files[]\" multiple disabled\n",
              "        style=\"border:none\" />\n",
              "     <output id=\"result-f04c32aa-bbb1-4987-b293-5237d2fa9fa2\">\n",
              "      Upload widget is only available when the cell has been executed in the\n",
              "      current browser session. Please rerun this cell to enable.\n",
              "      </output>\n",
              "      <script>// Copyright 2017 Google LLC\n",
              "//\n",
              "// Licensed under the Apache License, Version 2.0 (the \"License\");\n",
              "// you may not use this file except in compliance with the License.\n",
              "// You may obtain a copy of the License at\n",
              "//\n",
              "//      http://www.apache.org/licenses/LICENSE-2.0\n",
              "//\n",
              "// Unless required by applicable law or agreed to in writing, software\n",
              "// distributed under the License is distributed on an \"AS IS\" BASIS,\n",
              "// WITHOUT WARRANTIES OR CONDITIONS OF ANY KIND, either express or implied.\n",
              "// See the License for the specific language governing permissions and\n",
              "// limitations under the License.\n",
              "\n",
              "/**\n",
              " * @fileoverview Helpers for google.colab Python module.\n",
              " */\n",
              "(function(scope) {\n",
              "function span(text, styleAttributes = {}) {\n",
              "  const element = document.createElement('span');\n",
              "  element.textContent = text;\n",
              "  for (const key of Object.keys(styleAttributes)) {\n",
              "    element.style[key] = styleAttributes[key];\n",
              "  }\n",
              "  return element;\n",
              "}\n",
              "\n",
              "// Max number of bytes which will be uploaded at a time.\n",
              "const MAX_PAYLOAD_SIZE = 100 * 1024;\n",
              "\n",
              "function _uploadFiles(inputId, outputId) {\n",
              "  const steps = uploadFilesStep(inputId, outputId);\n",
              "  const outputElement = document.getElementById(outputId);\n",
              "  // Cache steps on the outputElement to make it available for the next call\n",
              "  // to uploadFilesContinue from Python.\n",
              "  outputElement.steps = steps;\n",
              "\n",
              "  return _uploadFilesContinue(outputId);\n",
              "}\n",
              "\n",
              "// This is roughly an async generator (not supported in the browser yet),\n",
              "// where there are multiple asynchronous steps and the Python side is going\n",
              "// to poll for completion of each step.\n",
              "// This uses a Promise to block the python side on completion of each step,\n",
              "// then passes the result of the previous step as the input to the next step.\n",
              "function _uploadFilesContinue(outputId) {\n",
              "  const outputElement = document.getElementById(outputId);\n",
              "  const steps = outputElement.steps;\n",
              "\n",
              "  const next = steps.next(outputElement.lastPromiseValue);\n",
              "  return Promise.resolve(next.value.promise).then((value) => {\n",
              "    // Cache the last promise value to make it available to the next\n",
              "    // step of the generator.\n",
              "    outputElement.lastPromiseValue = value;\n",
              "    return next.value.response;\n",
              "  });\n",
              "}\n",
              "\n",
              "/**\n",
              " * Generator function which is called between each async step of the upload\n",
              " * process.\n",
              " * @param {string} inputId Element ID of the input file picker element.\n",
              " * @param {string} outputId Element ID of the output display.\n",
              " * @return {!Iterable<!Object>} Iterable of next steps.\n",
              " */\n",
              "function* uploadFilesStep(inputId, outputId) {\n",
              "  const inputElement = document.getElementById(inputId);\n",
              "  inputElement.disabled = false;\n",
              "\n",
              "  const outputElement = document.getElementById(outputId);\n",
              "  outputElement.innerHTML = '';\n",
              "\n",
              "  const pickedPromise = new Promise((resolve) => {\n",
              "    inputElement.addEventListener('change', (e) => {\n",
              "      resolve(e.target.files);\n",
              "    });\n",
              "  });\n",
              "\n",
              "  const cancel = document.createElement('button');\n",
              "  inputElement.parentElement.appendChild(cancel);\n",
              "  cancel.textContent = 'Cancel upload';\n",
              "  const cancelPromise = new Promise((resolve) => {\n",
              "    cancel.onclick = () => {\n",
              "      resolve(null);\n",
              "    };\n",
              "  });\n",
              "\n",
              "  // Wait for the user to pick the files.\n",
              "  const files = yield {\n",
              "    promise: Promise.race([pickedPromise, cancelPromise]),\n",
              "    response: {\n",
              "      action: 'starting',\n",
              "    }\n",
              "  };\n",
              "\n",
              "  cancel.remove();\n",
              "\n",
              "  // Disable the input element since further picks are not allowed.\n",
              "  inputElement.disabled = true;\n",
              "\n",
              "  if (!files) {\n",
              "    return {\n",
              "      response: {\n",
              "        action: 'complete',\n",
              "      }\n",
              "    };\n",
              "  }\n",
              "\n",
              "  for (const file of files) {\n",
              "    const li = document.createElement('li');\n",
              "    li.append(span(file.name, {fontWeight: 'bold'}));\n",
              "    li.append(span(\n",
              "        `(${file.type || 'n/a'}) - ${file.size} bytes, ` +\n",
              "        `last modified: ${\n",
              "            file.lastModifiedDate ? file.lastModifiedDate.toLocaleDateString() :\n",
              "                                    'n/a'} - `));\n",
              "    const percent = span('0% done');\n",
              "    li.appendChild(percent);\n",
              "\n",
              "    outputElement.appendChild(li);\n",
              "\n",
              "    const fileDataPromise = new Promise((resolve) => {\n",
              "      const reader = new FileReader();\n",
              "      reader.onload = (e) => {\n",
              "        resolve(e.target.result);\n",
              "      };\n",
              "      reader.readAsArrayBuffer(file);\n",
              "    });\n",
              "    // Wait for the data to be ready.\n",
              "    let fileData = yield {\n",
              "      promise: fileDataPromise,\n",
              "      response: {\n",
              "        action: 'continue',\n",
              "      }\n",
              "    };\n",
              "\n",
              "    // Use a chunked sending to avoid message size limits. See b/62115660.\n",
              "    let position = 0;\n",
              "    do {\n",
              "      const length = Math.min(fileData.byteLength - position, MAX_PAYLOAD_SIZE);\n",
              "      const chunk = new Uint8Array(fileData, position, length);\n",
              "      position += length;\n",
              "\n",
              "      const base64 = btoa(String.fromCharCode.apply(null, chunk));\n",
              "      yield {\n",
              "        response: {\n",
              "          action: 'append',\n",
              "          file: file.name,\n",
              "          data: base64,\n",
              "        },\n",
              "      };\n",
              "\n",
              "      let percentDone = fileData.byteLength === 0 ?\n",
              "          100 :\n",
              "          Math.round((position / fileData.byteLength) * 100);\n",
              "      percent.textContent = `${percentDone}% done`;\n",
              "\n",
              "    } while (position < fileData.byteLength);\n",
              "  }\n",
              "\n",
              "  // All done.\n",
              "  yield {\n",
              "    response: {\n",
              "      action: 'complete',\n",
              "    }\n",
              "  };\n",
              "}\n",
              "\n",
              "scope.google = scope.google || {};\n",
              "scope.google.colab = scope.google.colab || {};\n",
              "scope.google.colab._files = {\n",
              "  _uploadFiles,\n",
              "  _uploadFilesContinue,\n",
              "};\n",
              "})(self);\n",
              "</script> "
            ]
          },
          "metadata": {}
        },
        {
          "output_type": "stream",
          "name": "stdout",
          "text": [
            "Saving 행렬식_기하학적표현.png to 행렬식_기하학적표현.png\n"
          ]
        }
      ]
    },
    {
      "cell_type": "code",
      "source": [
        "%pwd"
      ],
      "metadata": {
        "colab": {
          "base_uri": "https://localhost:8080/",
          "height": 35
        },
        "id": "l6kTsPtno3zO",
        "outputId": "b7ed0618-0062-45e0-bfb1-66104927ab60"
      },
      "execution_count": null,
      "outputs": [
        {
          "output_type": "execute_result",
          "data": {
            "text/plain": [
              "'/content'"
            ],
            "application/vnd.google.colaboratory.intrinsic+json": {
              "type": "string"
            }
          },
          "metadata": {},
          "execution_count": 70
        }
      ]
    },
    {
      "cell_type": "code",
      "source": [
        "!ls"
      ],
      "metadata": {
        "colab": {
          "base_uri": "https://localhost:8080/"
        },
        "id": "mKVnE48Mo6iq",
        "outputId": "1be2885f-bab8-4103-cf92-b03b4934a755"
      },
      "execution_count": null,
      "outputs": [
        {
          "output_type": "stream",
          "name": "stdout",
          "text": [
            "drive  행렬식_기하학적표현.png\tsample_data\n"
          ]
        }
      ]
    },
    {
      "cell_type": "code",
      "source": [
        "# Directly access the filename\n",
        "filename = list(uploaded_file.keys())[0]\n",
        "\n",
        "# Display the uploaded image\n",
        "# print(f\"Uploaded file '{filename}':\")\n",
        "display(Image(filename))"
      ],
      "metadata": {
        "colab": {
          "base_uri": "https://localhost:8080/",
          "height": 643
        },
        "id": "twN4s-apo8vr",
        "outputId": "06a3b33a-8f7a-4347-c3e0-1e649845ebba"
      },
      "execution_count": null,
      "outputs": [
        {
          "output_type": "display_data",
          "data": {
            "image/png": "[encoded data removed]",
            "text/plain": [
              "<IPython.core.display.Image object>"
            ]
          },
          "metadata": {}
        }
      ]
    },
    {
      "cell_type": "markdown",
      "source": [
        "!즉 선형변환이 이루어지면 vector의 determinant를 사용하여 즉 너비/부피가 달라지는 것을 보게된다."
      ],
      "metadata": {
        "id": "4zK2uGWxwZWE"
      }
    },
    {
      "cell_type": "code",
      "source": [
        "A = np.array([[2,1],[1,2]])\n",
        "\n",
        "# Calculating the determinant of the matrix\n",
        "determinant = np.linalg.det(A)\n",
        "determinant"
      ],
      "metadata": {
        "colab": {
          "base_uri": "https://localhost:8080/"
        },
        "id": "NJJbfQxnvGme",
        "outputId": "1438d301-d457-4bc8-f963-5a5c37844fa3"
      },
      "execution_count": null,
      "outputs": [
        {
          "output_type": "execute_result",
          "data": {
            "text/plain": [
              "2.9999999999999996"
            ]
          },
          "metadata": {},
          "execution_count": 73
        }
      ]
    },
    {
      "cell_type": "code",
      "source": [
        "# 3D 예제\n",
        "# 행렬식: 절대값은 부피\n",
        "# 행렬식이 0이라는 것은 도형의 부피가 0이며 행렬을 구성하는 벡터가 서로 동일선상에 있다는 것을 의미\n",
        "import numpy as np\n",
        "\n",
        "# Definining the matrix A\n",
        "A = np.array([[1,2,3],\n",
        "              [4,5,6],\n",
        "              [7,8,9]])\n",
        "\n",
        "# Calculating the determinant of the matrix\n",
        "determinant = np.linalg.det(A)\n",
        "determinant"
      ],
      "metadata": {
        "colab": {
          "base_uri": "https://localhost:8080/"
        },
        "id": "QWZKGToLwyuJ",
        "outputId": "c438fad6-6d06-452b-92fb-23490c935af7"
      },
      "execution_count": null,
      "outputs": [
        {
          "output_type": "execute_result",
          "data": {
            "text/plain": [
              "0.0"
            ]
          },
          "metadata": {},
          "execution_count": 74
        }
      ]
    },
    {
      "cell_type": "code",
      "source": [
        "# Defining the matrices\n",
        "A = np.array([[4,7],[2,6]])\n",
        "B = np.array([[1,3,5],[2,4,7],[1,1,0]])\n",
        "C = np.array([[1,0,2,-1],[3,0,0,5],[2,1,4,-3],[1,0,5,0]])\n",
        "\n",
        "# Calculating the determinants\n",
        "determinant_A = np.linalg.det(A)\n",
        "determinant_B = np.linalg.det(B)\n",
        "determinant_C = np.linalg.det(C)\n",
        "\n",
        "determinant_A, determinant_B, determinant_C"
      ],
      "metadata": {
        "colab": {
          "base_uri": "https://localhost:8080/"
        },
        "id": "QssD_doLx0DH",
        "outputId": "3459313f-9ad5-4b1f-9329-83c53095f863"
      },
      "execution_count": null,
      "outputs": [
        {
          "output_type": "execute_result",
          "data": {
            "text/plain": [
              "(10.000000000000002, 4.0, 30.000000000000004)"
            ]
          },
          "metadata": {},
          "execution_count": 75
        }
      ]
    }
  ]
}
